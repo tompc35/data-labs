{
  "nbformat": 4,
  "nbformat_minor": 0,
  "metadata": {
    "kernelspec": {
      "display_name": "Python [default]",
      "language": "python",
      "name": "python3"
    },
    "language_info": {
      "codemirror_mode": {
        "name": "ipython",
        "version": 3
      },
      "file_extension": ".py",
      "mimetype": "text/x-python",
      "name": "python",
      "nbconvert_exporter": "python",
      "pygments_lexer": "ipython3",
      "version": "3.5.5"
    },
    "colab": {
      "name": "OOI-ADCP_analysis.ipynb",
      "provenance": [],
      "include_colab_link": true
    }
  },
  "cells": [
    {
      "cell_type": "markdown",
      "metadata": {
        "id": "view-in-github",
        "colab_type": "text"
      },
      "source": [
        "<a href=\"https://colab.research.google.com/github/tompc35/data-labs/blob/master/OOI_ADCP_analysis.ipynb\" target=\"_parent\"><img src=\"https://colab.research.google.com/assets/colab-badge.svg\" alt=\"Open In Colab\"/></a>"
      ]
    },
    {
      "cell_type": "markdown",
      "metadata": {
        "id": "9_764Kr49zEr"
      },
      "source": [
        "## OOI Endurance Array - ADCP time series analysis\n",
        "\n",
        "This notebook expands on time series analysis techniques using an Acoustic Doppler Current Profiler (ADCP) current meter data set. The analysis techniques include:\n",
        "\n",
        "* Masking contaminated data near the surface\n",
        "* Depth averaging profiles\n",
        "* Correlation functions\n",
        "* Spectral analysis\n",
        "\n",
        "Basic knowledge of the concepts behind correlation functions, effective degrees of freedom and spectral analysis is assumed.\n",
        "\n",
        "![Endurance Array](https://ooinet.oceanobservatories.org/img/home/coastal_endurance/endurance_1.jpg)\n",
        "\n",
        "This example focuses on ADCP data from the inshore mooring on the Oregon line. The ADCP is mounted at the bottom and looks upward throughout the water column, measuring velocity at a series of depths.\n",
        "\n",
        "![Oregon Endurance Line](https://ooinet.oceanobservatories.org/img/home/coastal_endurance/endurance_2.png)\n",
        "\n",
        "\n",
        "The photo below shows an ADCP deployed at the OOI Axial Seamount site. The four red cylinders are the upward-facing transducers, which send and receive acoustic signals. Image source: https://oceanobservatories.org/instrument-class/adcp/\n",
        "\n",
        "![ADCP photo](https://oceanobservatories.org/wp-content/uploads/2016/10/adcp.r1735_sdi1_2014-08-040_45_40_14317_spacialrelationshipoflv01atolj01a_med.jpg)"
      ]
    },
    {
      "cell_type": "markdown",
      "metadata": {
        "id": "Gy8HU3BQ9zEw"
      },
      "source": [
        "The [OOI Data Portal](https://ooinet.oceanobservatories.org/) can be used to access data from any OOI instrument. The data typically come in NetCDF format. To create a custom data catalog, you need to sign up for a free account.\n",
        "\n",
        "A data catalog for the bottom-mounted ADCP at the Oregon inshore mooring has already been created:\n",
        "\n",
        "https://opendap.oceanobservatories.org/thredds/catalog/ooi/tconnolly@mlml.calstate.edu/20200421T020908490Z-CE01ISSM-MFD37-03-CTDBPC000-recovered_inst-ctdbp_cdef_instrument_recovered/catalog.html"
      ]
    },
    {
      "cell_type": "markdown",
      "metadata": {
        "id": "WHPaC3UQ9zEx"
      },
      "source": [
        "### Import libraries and load data\n",
        "\n",
        "In addition to standard libraries, specialized physical oceanography functions (used for depth averaging and filtering) are installed from https://github.com/physoce/physoce-py"
      ]
    },
    {
      "cell_type": "code",
      "source": [
        "!pip install netcdf4==1.5.0"
      ],
      "metadata": {
        "id": "_FHwddlwmV0y",
        "outputId": "0b6b4919-f989-462d-f3fe-7a8a6f12d3e6",
        "colab": {
          "base_uri": "https://localhost:8080/"
        }
      },
      "execution_count": 1,
      "outputs": [
        {
          "output_type": "stream",
          "name": "stdout",
          "text": [
            "Requirement already satisfied: netcdf4==1.5.0 in /usr/local/lib/python3.11/dist-packages (1.5.0)\n",
            "Requirement already satisfied: numpy>=1.7 in /usr/local/lib/python3.11/dist-packages (from netcdf4==1.5.0) (2.0.2)\n",
            "Requirement already satisfied: cftime in /usr/local/lib/python3.11/dist-packages (from netcdf4==1.5.0) (1.6.4.post1)\n"
          ]
        }
      ]
    },
    {
      "cell_type": "code",
      "metadata": {
        "id": "lit9lzxB9zEx"
      },
      "source": [
        "import numpy as np\n",
        "import matplotlib.pyplot as plt\n",
        "import xarray as xr\n",
        "from matplotlib import mlab\n",
        "import scipy.signal as signal"
      ],
      "execution_count": 2,
      "outputs": []
    },
    {
      "cell_type": "code",
      "metadata": {
        "id": "O6jRhJmZ9zEz"
      },
      "source": [
        "thredds_dataset = 'http://thredds.dataexplorer.oceanobservatories.org/thredds/dodsC/ooigoldcopy/public/CE01ISSM-MFD35-04-ADCPTM000-recovered_inst-adcp_velocity_earth/deployment0009_CE01ISSM-MFD35-04-ADCPTM000-recovered_inst-adcp_velocity_earth_20180403T043000-20180912T224545.920000.nc'"
      ],
      "execution_count": 3,
      "outputs": []
    },
    {
      "cell_type": "markdown",
      "metadata": {
        "id": "QdG21_RN9zEz"
      },
      "source": [
        "The ADCP data for April-September 2018 is included in this repository. The data set is in NetCDF format, and can be easily opened with the [xarray](http://xarray.pydata.org) package."
      ]
    },
    {
      "cell_type": "code",
      "metadata": {
        "id": "ea05vRzC9zE0"
      },
      "source": [
        "# insert code here\n",
        "ds = xr.open_dataset(thredds_dataset)"
      ],
      "execution_count": 4,
      "outputs": []
    },
    {
      "cell_type": "code",
      "metadata": {
        "colab": {
          "base_uri": "https://localhost:8080/",
          "height": 300
        },
        "id": "BV7zvqsr9zE0",
        "outputId": "c7963e0f-bc70-4cfa-c8df-ec5d105e4123"
      },
      "source": [
        "# insert code here\n",
        "ds"
      ],
      "execution_count": 18,
      "outputs": [
        {
          "output_type": "execute_result",
          "data": {
            "text/plain": [
              "<xarray.Dataset> Size: 36MB\n",
              "Dimensions:                                    (obs: 7811, bin: 30)\n",
              "Coordinates:\n",
              "  * obs                                        (obs) int32 31kB 0 1 ... 7810\n",
              "    depth                                      (obs) float64 62kB ...\n",
              "  * bin                                        (bin) int32 120B 0 1 2 ... 28 29\n",
              "    time                                       (obs) datetime64[ns] 62kB 2018...\n",
              "Data variables: (12/54)\n",
              "    num_cells                                  (obs) float32 31kB ...\n",
              "    ensemble_number                            (obs) float32 31kB ...\n",
              "    transducer_depth                           (obs) float32 31kB ...\n",
              "    pitch                                      (obs) float32 31kB ...\n",
              "    cell_length                                (obs) float32 31kB ...\n",
              "    driver_timestamp                           (obs) datetime64[ns] 62kB ...\n",
              "    ...                                         ...\n",
              "    echo_intensity_beam3                       (obs, bin) float32 937kB ...\n",
              "    echo_intensity_beam1                       (obs, bin) float32 937kB ...\n",
              "    u                                          (obs, bin) float32 937kB 0.04 ...\n",
              "    v                                          (obs, bin) float32 937kB -0.02...\n",
              "    bin_height                                 (bin) float64 240B 2.09 ... 31.09\n",
              "    sea_surface                                (obs) float64 62kB -1.558 ... ...\n",
              "Attributes: (12/73)\n",
              "    node:                               MFD35\n",
              "    comment:                            \n",
              "    publisher_email:                    \n",
              "    sourceUrl:                          http://oceanobservatories.org/\n",
              "    collection_method:                  recovered_inst\n",
              "    stream:                             adcp_velocity_earth\n",
              "    ...                                 ...\n",
              "    geospatial_vertical_positive:       down\n",
              "    lat:                                44.65685\n",
              "    lon:                                -124.09553\n",
              "    DODS.strlen:                        18\n",
              "    DODS.dimName:                       string18\n",
              "    DODS_EXTRA.Unlimited_Dimension:     obs"
            ],
            "text/html": [
              "<div><svg style=\"position: absolute; width: 0; height: 0; overflow: hidden\">\n",
              "<defs>\n",
              "<symbol id=\"icon-database\" viewBox=\"0 0 32 32\">\n",
              "<path d=\"M16 0c-8.837 0-16 2.239-16 5v4c0 2.761 7.163 5 16 5s16-2.239 16-5v-4c0-2.761-7.163-5-16-5z\"></path>\n",
              "<path d=\"M16 17c-8.837 0-16-2.239-16-5v6c0 2.761 7.163 5 16 5s16-2.239 16-5v-6c0 2.761-7.163 5-16 5z\"></path>\n",
              "<path d=\"M16 26c-8.837 0-16-2.239-16-5v6c0 2.761 7.163 5 16 5s16-2.239 16-5v-6c0 2.761-7.163 5-16 5z\"></path>\n",
              "</symbol>\n",
              "<symbol id=\"icon-file-text2\" viewBox=\"0 0 32 32\">\n",
              "<path d=\"M28.681 7.159c-0.694-0.947-1.662-2.053-2.724-3.116s-2.169-2.030-3.116-2.724c-1.612-1.182-2.393-1.319-2.841-1.319h-15.5c-1.378 0-2.5 1.121-2.5 2.5v27c0 1.378 1.122 2.5 2.5 2.5h23c1.378 0 2.5-1.122 2.5-2.5v-19.5c0-0.448-0.137-1.23-1.319-2.841zM24.543 5.457c0.959 0.959 1.712 1.825 2.268 2.543h-4.811v-4.811c0.718 0.556 1.584 1.309 2.543 2.268zM28 29.5c0 0.271-0.229 0.5-0.5 0.5h-23c-0.271 0-0.5-0.229-0.5-0.5v-27c0-0.271 0.229-0.5 0.5-0.5 0 0 15.499-0 15.5 0v7c0 0.552 0.448 1 1 1h7v19.5z\"></path>\n",
              "<path d=\"M23 26h-14c-0.552 0-1-0.448-1-1s0.448-1 1-1h14c0.552 0 1 0.448 1 1s-0.448 1-1 1z\"></path>\n",
              "<path d=\"M23 22h-14c-0.552 0-1-0.448-1-1s0.448-1 1-1h14c0.552 0 1 0.448 1 1s-0.448 1-1 1z\"></path>\n",
              "<path d=\"M23 18h-14c-0.552 0-1-0.448-1-1s0.448-1 1-1h14c0.552 0 1 0.448 1 1s-0.448 1-1 1z\"></path>\n",
              "</symbol>\n",
              "</defs>\n",
              "</svg>\n",
              "<style>/* CSS stylesheet for displaying xarray objects in jupyterlab.\n",
              " *\n",
              " */\n",
              "\n",
              ":root {\n",
              "  --xr-font-color0: var(--jp-content-font-color0, rgba(0, 0, 0, 1));\n",
              "  --xr-font-color2: var(--jp-content-font-color2, rgba(0, 0, 0, 0.54));\n",
              "  --xr-font-color3: var(--jp-content-font-color3, rgba(0, 0, 0, 0.38));\n",
              "  --xr-border-color: var(--jp-border-color2, #e0e0e0);\n",
              "  --xr-disabled-color: var(--jp-layout-color3, #bdbdbd);\n",
              "  --xr-background-color: var(--jp-layout-color0, white);\n",
              "  --xr-background-color-row-even: var(--jp-layout-color1, white);\n",
              "  --xr-background-color-row-odd: var(--jp-layout-color2, #eeeeee);\n",
              "}\n",
              "\n",
              "html[theme=\"dark\"],\n",
              "html[data-theme=\"dark\"],\n",
              "body[data-theme=\"dark\"],\n",
              "body.vscode-dark {\n",
              "  --xr-font-color0: rgba(255, 255, 255, 1);\n",
              "  --xr-font-color2: rgba(255, 255, 255, 0.54);\n",
              "  --xr-font-color3: rgba(255, 255, 255, 0.38);\n",
              "  --xr-border-color: #1f1f1f;\n",
              "  --xr-disabled-color: #515151;\n",
              "  --xr-background-color: #111111;\n",
              "  --xr-background-color-row-even: #111111;\n",
              "  --xr-background-color-row-odd: #313131;\n",
              "}\n",
              "\n",
              ".xr-wrap {\n",
              "  display: block !important;\n",
              "  min-width: 300px;\n",
              "  max-width: 700px;\n",
              "}\n",
              "\n",
              ".xr-text-repr-fallback {\n",
              "  /* fallback to plain text repr when CSS is not injected (untrusted notebook) */\n",
              "  display: none;\n",
              "}\n",
              "\n",
              ".xr-header {\n",
              "  padding-top: 6px;\n",
              "  padding-bottom: 6px;\n",
              "  margin-bottom: 4px;\n",
              "  border-bottom: solid 1px var(--xr-border-color);\n",
              "}\n",
              "\n",
              ".xr-header > div,\n",
              ".xr-header > ul {\n",
              "  display: inline;\n",
              "  margin-top: 0;\n",
              "  margin-bottom: 0;\n",
              "}\n",
              "\n",
              ".xr-obj-type,\n",
              ".xr-array-name {\n",
              "  margin-left: 2px;\n",
              "  margin-right: 10px;\n",
              "}\n",
              "\n",
              ".xr-obj-type {\n",
              "  color: var(--xr-font-color2);\n",
              "}\n",
              "\n",
              ".xr-sections {\n",
              "  padding-left: 0 !important;\n",
              "  display: grid;\n",
              "  grid-template-columns: 150px auto auto 1fr 0 20px 0 20px;\n",
              "}\n",
              "\n",
              ".xr-section-item {\n",
              "  display: contents;\n",
              "}\n",
              "\n",
              ".xr-section-item input {\n",
              "  display: inline-block;\n",
              "  opacity: 0;\n",
              "  height: 0;\n",
              "}\n",
              "\n",
              ".xr-section-item input + label {\n",
              "  color: var(--xr-disabled-color);\n",
              "}\n",
              "\n",
              ".xr-section-item input:enabled + label {\n",
              "  cursor: pointer;\n",
              "  color: var(--xr-font-color2);\n",
              "}\n",
              "\n",
              ".xr-section-item input:focus + label {\n",
              "  border: 2px solid var(--xr-font-color0);\n",
              "}\n",
              "\n",
              ".xr-section-item input:enabled + label:hover {\n",
              "  color: var(--xr-font-color0);\n",
              "}\n",
              "\n",
              ".xr-section-summary {\n",
              "  grid-column: 1;\n",
              "  color: var(--xr-font-color2);\n",
              "  font-weight: 500;\n",
              "}\n",
              "\n",
              ".xr-section-summary > span {\n",
              "  display: inline-block;\n",
              "  padding-left: 0.5em;\n",
              "}\n",
              "\n",
              ".xr-section-summary-in:disabled + label {\n",
              "  color: var(--xr-font-color2);\n",
              "}\n",
              "\n",
              ".xr-section-summary-in + label:before {\n",
              "  display: inline-block;\n",
              "  content: \"►\";\n",
              "  font-size: 11px;\n",
              "  width: 15px;\n",
              "  text-align: center;\n",
              "}\n",
              "\n",
              ".xr-section-summary-in:disabled + label:before {\n",
              "  color: var(--xr-disabled-color);\n",
              "}\n",
              "\n",
              ".xr-section-summary-in:checked + label:before {\n",
              "  content: \"▼\";\n",
              "}\n",
              "\n",
              ".xr-section-summary-in:checked + label > span {\n",
              "  display: none;\n",
              "}\n",
              "\n",
              ".xr-section-summary,\n",
              ".xr-section-inline-details {\n",
              "  padding-top: 4px;\n",
              "  padding-bottom: 4px;\n",
              "}\n",
              "\n",
              ".xr-section-inline-details {\n",
              "  grid-column: 2 / -1;\n",
              "}\n",
              "\n",
              ".xr-section-details {\n",
              "  display: none;\n",
              "  grid-column: 1 / -1;\n",
              "  margin-bottom: 5px;\n",
              "}\n",
              "\n",
              ".xr-section-summary-in:checked ~ .xr-section-details {\n",
              "  display: contents;\n",
              "}\n",
              "\n",
              ".xr-array-wrap {\n",
              "  grid-column: 1 / -1;\n",
              "  display: grid;\n",
              "  grid-template-columns: 20px auto;\n",
              "}\n",
              "\n",
              ".xr-array-wrap > label {\n",
              "  grid-column: 1;\n",
              "  vertical-align: top;\n",
              "}\n",
              "\n",
              ".xr-preview {\n",
              "  color: var(--xr-font-color3);\n",
              "}\n",
              "\n",
              ".xr-array-preview,\n",
              ".xr-array-data {\n",
              "  padding: 0 5px !important;\n",
              "  grid-column: 2;\n",
              "}\n",
              "\n",
              ".xr-array-data,\n",
              ".xr-array-in:checked ~ .xr-array-preview {\n",
              "  display: none;\n",
              "}\n",
              "\n",
              ".xr-array-in:checked ~ .xr-array-data,\n",
              ".xr-array-preview {\n",
              "  display: inline-block;\n",
              "}\n",
              "\n",
              ".xr-dim-list {\n",
              "  display: inline-block !important;\n",
              "  list-style: none;\n",
              "  padding: 0 !important;\n",
              "  margin: 0;\n",
              "}\n",
              "\n",
              ".xr-dim-list li {\n",
              "  display: inline-block;\n",
              "  padding: 0;\n",
              "  margin: 0;\n",
              "}\n",
              "\n",
              ".xr-dim-list:before {\n",
              "  content: \"(\";\n",
              "}\n",
              "\n",
              ".xr-dim-list:after {\n",
              "  content: \")\";\n",
              "}\n",
              "\n",
              ".xr-dim-list li:not(:last-child):after {\n",
              "  content: \",\";\n",
              "  padding-right: 5px;\n",
              "}\n",
              "\n",
              ".xr-has-index {\n",
              "  font-weight: bold;\n",
              "}\n",
              "\n",
              ".xr-var-list,\n",
              ".xr-var-item {\n",
              "  display: contents;\n",
              "}\n",
              "\n",
              ".xr-var-item > div,\n",
              ".xr-var-item label,\n",
              ".xr-var-item > .xr-var-name span {\n",
              "  background-color: var(--xr-background-color-row-even);\n",
              "  margin-bottom: 0;\n",
              "}\n",
              "\n",
              ".xr-var-item > .xr-var-name:hover span {\n",
              "  padding-right: 5px;\n",
              "}\n",
              "\n",
              ".xr-var-list > li:nth-child(odd) > div,\n",
              ".xr-var-list > li:nth-child(odd) > label,\n",
              ".xr-var-list > li:nth-child(odd) > .xr-var-name span {\n",
              "  background-color: var(--xr-background-color-row-odd);\n",
              "}\n",
              "\n",
              ".xr-var-name {\n",
              "  grid-column: 1;\n",
              "}\n",
              "\n",
              ".xr-var-dims {\n",
              "  grid-column: 2;\n",
              "}\n",
              "\n",
              ".xr-var-dtype {\n",
              "  grid-column: 3;\n",
              "  text-align: right;\n",
              "  color: var(--xr-font-color2);\n",
              "}\n",
              "\n",
              ".xr-var-preview {\n",
              "  grid-column: 4;\n",
              "}\n",
              "\n",
              ".xr-index-preview {\n",
              "  grid-column: 2 / 5;\n",
              "  color: var(--xr-font-color2);\n",
              "}\n",
              "\n",
              ".xr-var-name,\n",
              ".xr-var-dims,\n",
              ".xr-var-dtype,\n",
              ".xr-preview,\n",
              ".xr-attrs dt {\n",
              "  white-space: nowrap;\n",
              "  overflow: hidden;\n",
              "  text-overflow: ellipsis;\n",
              "  padding-right: 10px;\n",
              "}\n",
              "\n",
              ".xr-var-name:hover,\n",
              ".xr-var-dims:hover,\n",
              ".xr-var-dtype:hover,\n",
              ".xr-attrs dt:hover {\n",
              "  overflow: visible;\n",
              "  width: auto;\n",
              "  z-index: 1;\n",
              "}\n",
              "\n",
              ".xr-var-attrs,\n",
              ".xr-var-data,\n",
              ".xr-index-data {\n",
              "  display: none;\n",
              "  background-color: var(--xr-background-color) !important;\n",
              "  padding-bottom: 5px !important;\n",
              "}\n",
              "\n",
              ".xr-var-attrs-in:checked ~ .xr-var-attrs,\n",
              ".xr-var-data-in:checked ~ .xr-var-data,\n",
              ".xr-index-data-in:checked ~ .xr-index-data {\n",
              "  display: block;\n",
              "}\n",
              "\n",
              ".xr-var-data > table {\n",
              "  float: right;\n",
              "}\n",
              "\n",
              ".xr-var-name span,\n",
              ".xr-var-data,\n",
              ".xr-index-name div,\n",
              ".xr-index-data,\n",
              ".xr-attrs {\n",
              "  padding-left: 25px !important;\n",
              "}\n",
              "\n",
              ".xr-attrs,\n",
              ".xr-var-attrs,\n",
              ".xr-var-data,\n",
              ".xr-index-data {\n",
              "  grid-column: 1 / -1;\n",
              "}\n",
              "\n",
              "dl.xr-attrs {\n",
              "  padding: 0;\n",
              "  margin: 0;\n",
              "  display: grid;\n",
              "  grid-template-columns: 125px auto;\n",
              "}\n",
              "\n",
              ".xr-attrs dt,\n",
              ".xr-attrs dd {\n",
              "  padding: 0;\n",
              "  margin: 0;\n",
              "  float: left;\n",
              "  padding-right: 10px;\n",
              "  width: auto;\n",
              "}\n",
              "\n",
              ".xr-attrs dt {\n",
              "  font-weight: normal;\n",
              "  grid-column: 1;\n",
              "}\n",
              "\n",
              ".xr-attrs dt:hover span {\n",
              "  display: inline-block;\n",
              "  background: var(--xr-background-color);\n",
              "  padding-right: 10px;\n",
              "}\n",
              "\n",
              ".xr-attrs dd {\n",
              "  grid-column: 2;\n",
              "  white-space: pre-wrap;\n",
              "  word-break: break-all;\n",
              "}\n",
              "\n",
              ".xr-icon-database,\n",
              ".xr-icon-file-text2,\n",
              ".xr-no-icon {\n",
              "  display: inline-block;\n",
              "  vertical-align: middle;\n",
              "  width: 1em;\n",
              "  height: 1.5em !important;\n",
              "  stroke-width: 0;\n",
              "  stroke: currentColor;\n",
              "  fill: currentColor;\n",
              "}\n",
              "</style><pre class='xr-text-repr-fallback'>&lt;xarray.Dataset&gt; Size: 36MB\n",
              "Dimensions:                                    (obs: 7811, bin: 30)\n",
              "Coordinates:\n",
              "  * obs                                        (obs) int32 31kB 0 1 ... 7810\n",
              "    depth                                      (obs) float64 62kB ...\n",
              "  * bin                                        (bin) int32 120B 0 1 2 ... 28 29\n",
              "    time                                       (obs) datetime64[ns] 62kB 2018...\n",
              "Data variables: (12/54)\n",
              "    num_cells                                  (obs) float32 31kB ...\n",
              "    ensemble_number                            (obs) float32 31kB ...\n",
              "    transducer_depth                           (obs) float32 31kB ...\n",
              "    pitch                                      (obs) float32 31kB ...\n",
              "    cell_length                                (obs) float32 31kB ...\n",
              "    driver_timestamp                           (obs) datetime64[ns] 62kB ...\n",
              "    ...                                         ...\n",
              "    echo_intensity_beam3                       (obs, bin) float32 937kB ...\n",
              "    echo_intensity_beam1                       (obs, bin) float32 937kB ...\n",
              "    u                                          (obs, bin) float32 937kB 0.04 ...\n",
              "    v                                          (obs, bin) float32 937kB -0.02...\n",
              "    bin_height                                 (bin) float64 240B 2.09 ... 31.09\n",
              "    sea_surface                                (obs) float64 62kB -1.558 ... ...\n",
              "Attributes: (12/73)\n",
              "    node:                               MFD35\n",
              "    comment:                            \n",
              "    publisher_email:                    \n",
              "    sourceUrl:                          http://oceanobservatories.org/\n",
              "    collection_method:                  recovered_inst\n",
              "    stream:                             adcp_velocity_earth\n",
              "    ...                                 ...\n",
              "    geospatial_vertical_positive:       down\n",
              "    lat:                                44.65685\n",
              "    lon:                                -124.09553\n",
              "    DODS.strlen:                        18\n",
              "    DODS.dimName:                       string18\n",
              "    DODS_EXTRA.Unlimited_Dimension:     obs</pre><div class='xr-wrap' style='display:none'><div class='xr-header'><div class='xr-obj-type'>xarray.Dataset</div></div><ul class='xr-sections'><li class='xr-section-item'><input id='section-5e5dbc1d-075c-4efe-80ea-7c3ae1ddeac7' class='xr-section-summary-in' type='checkbox' disabled ><label for='section-5e5dbc1d-075c-4efe-80ea-7c3ae1ddeac7' class='xr-section-summary'  title='Expand/collapse section'>Dimensions:</label><div class='xr-section-inline-details'><ul class='xr-dim-list'><li><span class='xr-has-index'>obs</span>: 7811</li><li><span class='xr-has-index'>bin</span>: 30</li></ul></div><div class='xr-section-details'></div></li><li class='xr-section-item'><input id='section-6b0dd124-7152-467a-af94-eccd13c4ef61' class='xr-section-summary-in' type='checkbox'  checked><label for='section-6b0dd124-7152-467a-af94-eccd13c4ef61' class='xr-section-summary' >Coordinates: <span>(4)</span></label><div class='xr-section-inline-details'></div><div class='xr-section-details'><ul class='xr-var-list'><li class='xr-var-item'><div class='xr-var-name'><span class='xr-has-index'>obs</span></div><div class='xr-var-dims'>(obs)</div><div class='xr-var-dtype'>int32</div><div class='xr-var-preview xr-preview'>0 1 2 3 4 ... 7807 7808 7809 7810</div><input id='attrs-297c3620-09ff-404b-adc0-11c594e309d6' class='xr-var-attrs-in' type='checkbox' ><label for='attrs-297c3620-09ff-404b-adc0-11c594e309d6' title='Show/Hide attributes'><svg class='icon xr-icon-file-text2'><use xlink:href='#icon-file-text2'></use></svg></label><input id='data-f1c3975c-218e-4885-8f5f-0db92ffd023d' class='xr-var-data-in' type='checkbox'><label for='data-f1c3975c-218e-4885-8f5f-0db92ffd023d' title='Show/Hide data repr'><svg class='icon xr-icon-database'><use xlink:href='#icon-database'></use></svg></label><div class='xr-var-attrs'><dl class='xr-attrs'><dt><span>_ChunkSizes :</span></dt><dd>1024</dd></dl></div><div class='xr-var-data'><pre>array([   0,    1,    2, ..., 7808, 7809, 7810], dtype=int32)</pre></div></li><li class='xr-var-item'><div class='xr-var-name'><span>depth</span></div><div class='xr-var-dims'>(obs)</div><div class='xr-var-dtype'>float64</div><div class='xr-var-preview xr-preview'>...</div><input id='attrs-2ce59266-0b4b-43c3-ad44-86fb2cd47ed0' class='xr-var-attrs-in' type='checkbox' ><label for='attrs-2ce59266-0b4b-43c3-ad44-86fb2cd47ed0' title='Show/Hide attributes'><svg class='icon xr-icon-file-text2'><use xlink:href='#icon-file-text2'></use></svg></label><input id='data-a72a8a61-d212-4aa8-a0d4-36d4a1708c14' class='xr-var-data-in' type='checkbox'><label for='data-a72a8a61-d212-4aa8-a0d4-36d4a1708c14' title='Show/Hide data repr'><svg class='icon xr-icon-database'><use xlink:href='#icon-database'></use></svg></label><div class='xr-var-attrs'><dl class='xr-attrs'><dt><span>comment :</span></dt><dd>Depth (m) calculated from pressure (daPa) and latitude.</dd><dt><span>precision :</span></dt><dd>3</dd><dt><span>long_name :</span></dt><dd>Depth calculated from pressure</dd><dt><span>units :</span></dt><dd>m</dd><dt><span>ancillary_variables :</span></dt><dd>pressure</dd><dt><span>axis :</span></dt><dd>Z</dd><dt><span>_ChunkSizes :</span></dt><dd>7811</dd></dl></div><div class='xr-var-data'><pre>[7811 values with dtype=float64]</pre></div></li><li class='xr-var-item'><div class='xr-var-name'><span class='xr-has-index'>bin</span></div><div class='xr-var-dims'>(bin)</div><div class='xr-var-dtype'>int32</div><div class='xr-var-preview xr-preview'>0 1 2 3 4 5 6 ... 24 25 26 27 28 29</div><input id='attrs-bc47604b-e32a-4842-a6a9-6ea0a28ecdc6' class='xr-var-attrs-in' type='checkbox' disabled><label for='attrs-bc47604b-e32a-4842-a6a9-6ea0a28ecdc6' title='Show/Hide attributes'><svg class='icon xr-icon-file-text2'><use xlink:href='#icon-file-text2'></use></svg></label><input id='data-2b61fd69-44c1-40d3-bc18-9e2b4fd26dbb' class='xr-var-data-in' type='checkbox'><label for='data-2b61fd69-44c1-40d3-bc18-9e2b4fd26dbb' title='Show/Hide data repr'><svg class='icon xr-icon-database'><use xlink:href='#icon-database'></use></svg></label><div class='xr-var-attrs'><dl class='xr-attrs'></dl></div><div class='xr-var-data'><pre>array([ 0,  1,  2,  3,  4,  5,  6,  7,  8,  9, 10, 11, 12, 13, 14, 15, 16, 17,\n",
              "       18, 19, 20, 21, 22, 23, 24, 25, 26, 27, 28, 29], dtype=int32)</pre></div></li><li class='xr-var-item'><div class='xr-var-name'><span>time</span></div><div class='xr-var-dims'>(obs)</div><div class='xr-var-dtype'>datetime64[ns]</div><div class='xr-var-preview xr-preview'>2018-04-03T04:30:00 ... 2018-09-...</div><input id='attrs-2a3d7260-bd9f-4c8f-aa4f-3ad30b0c4f1d' class='xr-var-attrs-in' type='checkbox' ><label for='attrs-2a3d7260-bd9f-4c8f-aa4f-3ad30b0c4f1d' title='Show/Hide attributes'><svg class='icon xr-icon-file-text2'><use xlink:href='#icon-file-text2'></use></svg></label><input id='data-38ec9984-ebd8-4367-8aa1-e2524d837a35' class='xr-var-data-in' type='checkbox'><label for='data-38ec9984-ebd8-4367-8aa1-e2524d837a35' title='Show/Hide data repr'><svg class='icon xr-icon-database'><use xlink:href='#icon-database'></use></svg></label><div class='xr-var-attrs'><dl class='xr-attrs'><dt><span>long_name :</span></dt><dd>time</dd><dt><span>standard_name :</span></dt><dd>time</dd><dt><span>axis :</span></dt><dd>T</dd><dt><span>_ChunkSizes :</span></dt><dd>7811</dd></dl></div><div class='xr-var-data'><pre>array([&#x27;2018-04-03T04:30:00.000000000&#x27;, &#x27;2018-04-03T05:00:00.000000000&#x27;,\n",
              "       &#x27;2018-04-03T05:30:00.000000000&#x27;, ..., &#x27;2018-09-12T21:45:45.920000000&#x27;,\n",
              "       &#x27;2018-09-12T22:15:45.920000000&#x27;, &#x27;2018-09-12T22:45:45.920000000&#x27;],\n",
              "      dtype=&#x27;datetime64[ns]&#x27;)</pre></div></li></ul></div></li><li class='xr-section-item'><input id='section-5fe53fcb-6d8e-4526-847e-f272e4f7ec6e' class='xr-section-summary-in' type='checkbox'  ><label for='section-5fe53fcb-6d8e-4526-847e-f272e4f7ec6e' class='xr-section-summary' >Data variables: <span>(54)</span></label><div class='xr-section-inline-details'></div><div class='xr-section-details'><ul class='xr-var-list'><li class='xr-var-item'><div class='xr-var-name'><span>num_cells</span></div><div class='xr-var-dims'>(obs)</div><div class='xr-var-dtype'>float32</div><div class='xr-var-preview xr-preview'>...</div><input id='attrs-40c53644-adca-4d75-8121-0e8906344d51' class='xr-var-attrs-in' type='checkbox' ><label for='attrs-40c53644-adca-4d75-8121-0e8906344d51' title='Show/Hide attributes'><svg class='icon xr-icon-file-text2'><use xlink:href='#icon-file-text2'></use></svg></label><input id='data-01986fc3-5c85-45b4-81ff-d9ee1432ce0e' class='xr-var-data-in' type='checkbox'><label for='data-01986fc3-5c85-45b4-81ff-d9ee1432ce0e' title='Show/Hide data repr'><svg class='icon xr-icon-database'><use xlink:href='#icon-database'></use></svg></label><div class='xr-var-attrs'><dl class='xr-attrs'><dt><span>comment :</span></dt><dd>Contains the number of cells over which the ADCP collects data</dd><dt><span>precision :</span></dt><dd>0</dd><dt><span>long_name :</span></dt><dd>Number Cells</dd><dt><span>units :</span></dt><dd>1</dd><dt><span>_ChunkSizes :</span></dt><dd>7811</dd></dl></div><div class='xr-var-data'><pre>[7811 values with dtype=float32]</pre></div></li><li class='xr-var-item'><div class='xr-var-name'><span>ensemble_number</span></div><div class='xr-var-dims'>(obs)</div><div class='xr-var-dtype'>float32</div><div class='xr-var-preview xr-preview'>...</div><input id='attrs-9090481d-782e-4103-a537-7fd92de55621' class='xr-var-attrs-in' type='checkbox' ><label for='attrs-9090481d-782e-4103-a537-7fd92de55621' title='Show/Hide attributes'><svg class='icon xr-icon-file-text2'><use xlink:href='#icon-file-text2'></use></svg></label><input id='data-1de9102d-e19d-4ffd-844d-1fd512468009' class='xr-var-data-in' type='checkbox'><label for='data-1de9102d-e19d-4ffd-844d-1fd512468009' title='Show/Hide data repr'><svg class='icon xr-icon-database'><use xlink:href='#icon-database'></use></svg></label><div class='xr-var-attrs'><dl class='xr-attrs'><dt><span>comment :</span></dt><dd>Sequential number of the ensemble to which the data applies</dd><dt><span>precision :</span></dt><dd>0</dd><dt><span>long_name :</span></dt><dd>Ensemble Number</dd><dt><span>units :</span></dt><dd>1</dd><dt><span>_ChunkSizes :</span></dt><dd>7811</dd></dl></div><div class='xr-var-data'><pre>[7811 values with dtype=float32]</pre></div></li><li class='xr-var-item'><div class='xr-var-name'><span>transducer_depth</span></div><div class='xr-var-dims'>(obs)</div><div class='xr-var-dtype'>float32</div><div class='xr-var-preview xr-preview'>...</div><input id='attrs-d01a7a9d-5452-47ed-920f-f76a5abd50bb' class='xr-var-attrs-in' type='checkbox' ><label for='attrs-d01a7a9d-5452-47ed-920f-f76a5abd50bb' title='Show/Hide attributes'><svg class='icon xr-icon-file-text2'><use xlink:href='#icon-file-text2'></use></svg></label><input id='data-7333da5c-840d-4ae5-8eeb-5281bd71c880' class='xr-var-data-in' type='checkbox'><label for='data-7333da5c-840d-4ae5-8eeb-5281bd71c880' title='Show/Hide data repr'><svg class='icon xr-icon-database'><use xlink:href='#icon-database'></use></svg></label><div class='xr-var-attrs'><dl class='xr-attrs'><dt><span>comment :</span></dt><dd>Contains either the manual or measured depth of transducer below the water surface.</dd><dt><span>precision :</span></dt><dd>0</dd><dt><span>long_name :</span></dt><dd>Transducer Depth</dd><dt><span>units :</span></dt><dd>dm</dd><dt><span>_ChunkSizes :</span></dt><dd>7811</dd></dl></div><div class='xr-var-data'><pre>[7811 values with dtype=float32]</pre></div></li><li class='xr-var-item'><div class='xr-var-name'><span>pitch</span></div><div class='xr-var-dims'>(obs)</div><div class='xr-var-dtype'>float32</div><div class='xr-var-preview xr-preview'>...</div><input id='attrs-474e0b15-2df0-4b1d-b1d7-6c64113498d5' class='xr-var-attrs-in' type='checkbox' ><label for='attrs-474e0b15-2df0-4b1d-b1d7-6c64113498d5' title='Show/Hide attributes'><svg class='icon xr-icon-file-text2'><use xlink:href='#icon-file-text2'></use></svg></label><input id='data-16507025-1c01-4734-80d7-5ebc2717364a' class='xr-var-data-in' type='checkbox'><label for='data-16507025-1c01-4734-80d7-5ebc2717364a' title='Show/Hide data repr'><svg class='icon xr-icon-database'><use xlink:href='#icon-database'></use></svg></label><div class='xr-var-attrs'><dl class='xr-attrs'><dt><span>long_name :</span></dt><dd>Pitch</dd><dt><span>units :</span></dt><dd>degrees</dd><dt><span>precision :</span></dt><dd>0</dd><dt><span>comment :</span></dt><dd>Contains either the manual or measured pitch of the ADCP.</dd><dt><span>_ChunkSizes :</span></dt><dd>7811</dd></dl></div><div class='xr-var-data'><pre>[7811 values with dtype=float32]</pre></div></li><li class='xr-var-item'><div class='xr-var-name'><span>cell_length</span></div><div class='xr-var-dims'>(obs)</div><div class='xr-var-dtype'>float32</div><div class='xr-var-preview xr-preview'>...</div><input id='attrs-5a1f2a94-eaa3-4a0b-9e46-ea2100e2c17b' class='xr-var-attrs-in' type='checkbox' ><label for='attrs-5a1f2a94-eaa3-4a0b-9e46-ea2100e2c17b' title='Show/Hide attributes'><svg class='icon xr-icon-file-text2'><use xlink:href='#icon-file-text2'></use></svg></label><input id='data-0a6af769-0648-44f0-aa75-1140e432ba65' class='xr-var-data-in' type='checkbox'><label for='data-0a6af769-0648-44f0-aa75-1140e432ba65' title='Show/Hide data repr'><svg class='icon xr-icon-database'><use xlink:href='#icon-database'></use></svg></label><div class='xr-var-attrs'><dl class='xr-attrs'><dt><span>comment :</span></dt><dd>Contains the depth of one cell length</dd><dt><span>precision :</span></dt><dd>0</dd><dt><span>long_name :</span></dt><dd>Cell Length</dd><dt><span>units :</span></dt><dd>cm</dd><dt><span>_ChunkSizes :</span></dt><dd>7811</dd></dl></div><div class='xr-var-data'><pre>[7811 values with dtype=float32]</pre></div></li><li class='xr-var-item'><div class='xr-var-name'><span>driver_timestamp</span></div><div class='xr-var-dims'>(obs)</div><div class='xr-var-dtype'>datetime64[ns]</div><div class='xr-var-preview xr-preview'>...</div><input id='attrs-d6ef3633-a2e9-41fd-8dd8-4a8df6a840a6' class='xr-var-attrs-in' type='checkbox' ><label for='attrs-d6ef3633-a2e9-41fd-8dd8-4a8df6a840a6' title='Show/Hide attributes'><svg class='icon xr-icon-file-text2'><use xlink:href='#icon-file-text2'></use></svg></label><input id='data-edbde07e-065a-41ed-9205-8bb6b2e831f7' class='xr-var-data-in' type='checkbox'><label for='data-edbde07e-065a-41ed-9205-8bb6b2e831f7' title='Show/Hide data repr'><svg class='icon xr-icon-database'><use xlink:href='#icon-database'></use></svg></label><div class='xr-var-attrs'><dl class='xr-attrs'><dt><span>long_name :</span></dt><dd>Driver Timestamp, UTC</dd><dt><span>comment :</span></dt><dd>Driver timestamp, UTC</dd><dt><span>_ChunkSizes :</span></dt><dd>7811</dd></dl></div><div class='xr-var-data'><pre>[7811 values with dtype=datetime64[ns]]</pre></div></li><li class='xr-var-item'><div class='xr-var-name'><span>id</span></div><div class='xr-var-dims'>(obs)</div><div class='xr-var-dtype'>|S64</div><div class='xr-var-preview xr-preview'>...</div><input id='attrs-bcdc70b1-b4bf-4474-9f5a-d1b5ea8785a0' class='xr-var-attrs-in' type='checkbox' ><label for='attrs-bcdc70b1-b4bf-4474-9f5a-d1b5ea8785a0' title='Show/Hide attributes'><svg class='icon xr-icon-file-text2'><use xlink:href='#icon-file-text2'></use></svg></label><input id='data-8ae3a0a8-75a1-4c39-847d-44f47365bf46' class='xr-var-data-in' type='checkbox'><label for='data-8ae3a0a8-75a1-4c39-847d-44f47365bf46' title='Show/Hide data repr'><svg class='icon xr-icon-database'><use xlink:href='#icon-database'></use></svg></label><div class='xr-var-attrs'><dl class='xr-attrs'><dt><span>name :</span></dt><dd>id</dd><dt><span>_ChunkSizes :</span></dt><dd>[7811   36]</dd></dl></div><div class='xr-var-data'><pre>[7811 values with dtype=|S64]</pre></div></li><li class='xr-var-item'><div class='xr-var-name'><span>temperature</span></div><div class='xr-var-dims'>(obs)</div><div class='xr-var-dtype'>float32</div><div class='xr-var-preview xr-preview'>...</div><input id='attrs-c1a92c8a-4082-4cbd-b6b3-9b9f975c562e' class='xr-var-attrs-in' type='checkbox' ><label for='attrs-c1a92c8a-4082-4cbd-b6b3-9b9f975c562e' title='Show/Hide attributes'><svg class='icon xr-icon-file-text2'><use xlink:href='#icon-file-text2'></use></svg></label><input id='data-5e18bd29-7bc5-4719-bb0a-6154973c8182' class='xr-var-data-in' type='checkbox'><label for='data-5e18bd29-7bc5-4719-bb0a-6154973c8182' title='Show/Hide data repr'><svg class='icon xr-icon-database'><use xlink:href='#icon-database'></use></svg></label><div class='xr-var-attrs'><dl class='xr-attrs'><dt><span>precision :</span></dt><dd>0</dd><dt><span>long_name :</span></dt><dd>Transducer Temperature</dd><dt><span>comment :</span></dt><dd>Contains either the manual or measured temperature at the transducer face.</dd><dt><span>units :</span></dt><dd>cdeg_C</dd><dt><span>_ChunkSizes :</span></dt><dd>7811</dd></dl></div><div class='xr-var-data'><pre>[7811 values with dtype=float32]</pre></div></li><li class='xr-var-item'><div class='xr-var-name'><span>provenance</span></div><div class='xr-var-dims'>(obs)</div><div class='xr-var-dtype'>|S64</div><div class='xr-var-preview xr-preview'>...</div><input id='attrs-0ef08c8b-6c8c-4a71-b4b0-34963df195bd' class='xr-var-attrs-in' type='checkbox' ><label for='attrs-0ef08c8b-6c8c-4a71-b4b0-34963df195bd' title='Show/Hide attributes'><svg class='icon xr-icon-file-text2'><use xlink:href='#icon-file-text2'></use></svg></label><input id='data-b469ced2-bf3e-4603-894f-55e7ade14d9f' class='xr-var-data-in' type='checkbox'><label for='data-b469ced2-bf3e-4603-894f-55e7ade14d9f' title='Show/Hide data repr'><svg class='icon xr-icon-database'><use xlink:href='#icon-database'></use></svg></label><div class='xr-var-attrs'><dl class='xr-attrs'><dt><span>name :</span></dt><dd>provenance</dd><dt><span>_ChunkSizes :</span></dt><dd>[7811   36]</dd></dl></div><div class='xr-var-data'><pre>[7811 values with dtype=|S64]</pre></div></li><li class='xr-var-item'><div class='xr-var-name'><span>heading</span></div><div class='xr-var-dims'>(obs)</div><div class='xr-var-dtype'>float32</div><div class='xr-var-preview xr-preview'>...</div><input id='attrs-d401a25c-9e6b-493d-86cb-605d3710ebc5' class='xr-var-attrs-in' type='checkbox' ><label for='attrs-d401a25c-9e6b-493d-86cb-605d3710ebc5' title='Show/Hide attributes'><svg class='icon xr-icon-file-text2'><use xlink:href='#icon-file-text2'></use></svg></label><input id='data-17036209-44ad-4ece-a977-f1c1d77c976d' class='xr-var-data-in' type='checkbox'><label for='data-17036209-44ad-4ece-a977-f1c1d77c976d' title='Show/Hide data repr'><svg class='icon xr-icon-database'><use xlink:href='#icon-database'></use></svg></label><div class='xr-var-attrs'><dl class='xr-attrs'><dt><span>long_name :</span></dt><dd>Heading</dd><dt><span>comment :</span></dt><dd>Contains either the manual or measured heading of the ADCP.</dd><dt><span>precision :</span></dt><dd>0</dd><dt><span>units :</span></dt><dd>degrees</dd><dt><span>_ChunkSizes :</span></dt><dd>7811</dd></dl></div><div class='xr-var-data'><pre>[7811 values with dtype=float32]</pre></div></li><li class='xr-var-item'><div class='xr-var-name'><span>internal_timestamp</span></div><div class='xr-var-dims'>(obs)</div><div class='xr-var-dtype'>datetime64[ns]</div><div class='xr-var-preview xr-preview'>...</div><input id='attrs-57991744-3533-4d27-9463-fc9fcedf7799' class='xr-var-attrs-in' type='checkbox' ><label for='attrs-57991744-3533-4d27-9463-fc9fcedf7799' title='Show/Hide attributes'><svg class='icon xr-icon-file-text2'><use xlink:href='#icon-file-text2'></use></svg></label><input id='data-b805f60c-cbeb-4453-8156-e4275aebdaea' class='xr-var-data-in' type='checkbox'><label for='data-b805f60c-cbeb-4453-8156-e4275aebdaea' title='Show/Hide data repr'><svg class='icon xr-icon-database'><use xlink:href='#icon-database'></use></svg></label><div class='xr-var-attrs'><dl class='xr-attrs'><dt><span>long_name :</span></dt><dd>Internal Timestamp, UTC</dd><dt><span>comment :</span></dt><dd>Internal timestamp, UTC</dd><dt><span>_ChunkSizes :</span></dt><dd>7811</dd></dl></div><div class='xr-var-data'><pre>[7811 values with dtype=datetime64[ns]]</pre></div></li><li class='xr-var-item'><div class='xr-var-name'><span>ctdbp_cdef_dcl_instrument_recovered-depth</span></div><div class='xr-var-dims'>(obs)</div><div class='xr-var-dtype'>float64</div><div class='xr-var-preview xr-preview'>...</div><input id='attrs-1d271fc9-3b18-4c12-b8c6-85186083db57' class='xr-var-attrs-in' type='checkbox' ><label for='attrs-1d271fc9-3b18-4c12-b8c6-85186083db57' title='Show/Hide attributes'><svg class='icon xr-icon-file-text2'><use xlink:href='#icon-file-text2'></use></svg></label><input id='data-0142d0c1-755e-41e6-89cd-de4098d79274' class='xr-var-data-in' type='checkbox'><label for='data-0142d0c1-755e-41e6-89cd-de4098d79274' title='Show/Hide data repr'><svg class='icon xr-icon-database'><use xlink:href='#icon-database'></use></svg></label><div class='xr-var-attrs'><dl class='xr-attrs'><dt><span>comment :</span></dt><dd>Depth (m) calculated from pressure (dbar) and latitude.</dd><dt><span>long_name :</span></dt><dd>Depth calculated from pressure</dd><dt><span>units :</span></dt><dd>m</dd><dt><span>precision :</span></dt><dd>3</dd><dt><span>instrument :</span></dt><dd>CE01ISSM-MFD37-03-CTDBPC000</dd><dt><span>stream :</span></dt><dd>ctdbp_cdef_dcl_instrument_recovered</dd><dt><span>_ChunkSizes :</span></dt><dd>7811</dd></dl></div><div class='xr-var-data'><pre>[7811 values with dtype=float64]</pre></div></li><li class='xr-var-item'><div class='xr-var-name'><span>sysconfig_vertical_orientation</span></div><div class='xr-var-dims'>(obs)</div><div class='xr-var-dtype'>float32</div><div class='xr-var-preview xr-preview'>...</div><input id='attrs-372440ee-d34e-4b41-b317-ca6b69e6f7ca' class='xr-var-attrs-in' type='checkbox' ><label for='attrs-372440ee-d34e-4b41-b317-ca6b69e6f7ca' title='Show/Hide attributes'><svg class='icon xr-icon-file-text2'><use xlink:href='#icon-file-text2'></use></svg></label><input id='data-65b7014e-ad61-4ce0-82bc-757b1be39bad' class='xr-var-data-in' type='checkbox'><label for='data-65b7014e-ad61-4ce0-82bc-757b1be39bad' title='Show/Hide data repr'><svg class='icon xr-icon-database'><use xlink:href='#icon-database'></use></svg></label><div class='xr-var-attrs'><dl class='xr-attrs'><dt><span>long_name :</span></dt><dd>Sysconfig Vertical Orientation</dd><dt><span>units :</span></dt><dd>1</dd><dt><span>precision :</span></dt><dd>0</dd><dt><span>comment :</span></dt><dd>Whether vertical orientation is upward or downward</dd><dt><span>_ChunkSizes :</span></dt><dd>7811</dd></dl></div><div class='xr-var-data'><pre>[7811 values with dtype=float32]</pre></div></li><li class='xr-var-item'><div class='xr-var-name'><span>roll</span></div><div class='xr-var-dims'>(obs)</div><div class='xr-var-dtype'>float32</div><div class='xr-var-preview xr-preview'>...</div><input id='attrs-3960ab2c-c114-48fd-8e93-abdcbf70c4ef' class='xr-var-attrs-in' type='checkbox' ><label for='attrs-3960ab2c-c114-48fd-8e93-abdcbf70c4ef' title='Show/Hide attributes'><svg class='icon xr-icon-file-text2'><use xlink:href='#icon-file-text2'></use></svg></label><input id='data-d98d5c78-43e5-49ff-9266-bf672226ecf4' class='xr-var-data-in' type='checkbox'><label for='data-d98d5c78-43e5-49ff-9266-bf672226ecf4' title='Show/Hide data repr'><svg class='icon xr-icon-database'><use xlink:href='#icon-database'></use></svg></label><div class='xr-var-attrs'><dl class='xr-attrs'><dt><span>comment :</span></dt><dd>Contains either the manual or measured roll of the ADCP.</dd><dt><span>precision :</span></dt><dd>0</dd><dt><span>units :</span></dt><dd>degrees</dd><dt><span>long_name :</span></dt><dd>Roll</dd><dt><span>_ChunkSizes :</span></dt><dd>7811</dd></dl></div><div class='xr-var-data'><pre>[7811 values with dtype=float32]</pre></div></li><li class='xr-var-item'><div class='xr-var-name'><span>non_zero_pressure</span></div><div class='xr-var-dims'>(obs)</div><div class='xr-var-dtype'>float64</div><div class='xr-var-preview xr-preview'>...</div><input id='attrs-e7e85be9-272c-44f3-901f-b8e1219ebb39' class='xr-var-attrs-in' type='checkbox' ><label for='attrs-e7e85be9-272c-44f3-901f-b8e1219ebb39' title='Show/Hide attributes'><svg class='icon xr-icon-file-text2'><use xlink:href='#icon-file-text2'></use></svg></label><input id='data-3dbb593f-e36a-40eb-813e-688e9f31334a' class='xr-var-data-in' type='checkbox'><label for='data-3dbb593f-e36a-40eb-813e-688e9f31334a' title='Show/Hide data repr'><svg class='icon xr-icon-database'><use xlink:href='#icon-database'></use></svg></label><div class='xr-var-attrs'><dl class='xr-attrs'><dt><span>long_name :</span></dt><dd>Non-zero Pressure</dd><dt><span>units :</span></dt><dd>dbar</dd><dt><span>ancillary_variables :</span></dt><dd>pressure</dd><dt><span>comment :</span></dt><dd>A non-zero pressure value.</dd><dt><span>precision :</span></dt><dd>3</dd><dt><span>_ChunkSizes :</span></dt><dd>7811</dd></dl></div><div class='xr-var-data'><pre>[7811 values with dtype=float64]</pre></div></li><li class='xr-var-item'><div class='xr-var-name'><span>ingestion_timestamp</span></div><div class='xr-var-dims'>(obs)</div><div class='xr-var-dtype'>datetime64[ns]</div><div class='xr-var-preview xr-preview'>...</div><input id='attrs-bf6c0892-28bb-439b-8b66-8b4439aa884b' class='xr-var-attrs-in' type='checkbox' ><label for='attrs-bf6c0892-28bb-439b-8b66-8b4439aa884b' title='Show/Hide attributes'><svg class='icon xr-icon-file-text2'><use xlink:href='#icon-file-text2'></use></svg></label><input id='data-da0a796b-0d64-4e89-9f07-9187a87f8e82' class='xr-var-data-in' type='checkbox'><label for='data-da0a796b-0d64-4e89-9f07-9187a87f8e82' title='Show/Hide data repr'><svg class='icon xr-icon-database'><use xlink:href='#icon-database'></use></svg></label><div class='xr-var-attrs'><dl class='xr-attrs'><dt><span>comment :</span></dt><dd>The NTP Timestamp for when the granule was ingested</dd><dt><span>long_name :</span></dt><dd>Ingestion Timestamp, UTC</dd><dt><span>_ChunkSizes :</span></dt><dd>7811</dd></dl></div><div class='xr-var-data'><pre>[7811 values with dtype=datetime64[ns]]</pre></div></li><li class='xr-var-item'><div class='xr-var-name'><span>port_timestamp</span></div><div class='xr-var-dims'>(obs)</div><div class='xr-var-dtype'>datetime64[ns]</div><div class='xr-var-preview xr-preview'>...</div><input id='attrs-6bd3d312-c037-43ff-bff0-4e60b1f08a7b' class='xr-var-attrs-in' type='checkbox' ><label for='attrs-6bd3d312-c037-43ff-bff0-4e60b1f08a7b' title='Show/Hide attributes'><svg class='icon xr-icon-file-text2'><use xlink:href='#icon-file-text2'></use></svg></label><input id='data-bd1b9741-ebe7-4562-8ada-446e26d6c682' class='xr-var-data-in' type='checkbox'><label for='data-bd1b9741-ebe7-4562-8ada-446e26d6c682' title='Show/Hide data repr'><svg class='icon xr-icon-database'><use xlink:href='#icon-database'></use></svg></label><div class='xr-var-attrs'><dl class='xr-attrs'><dt><span>comment :</span></dt><dd>Port timestamp, UTC</dd><dt><span>long_name :</span></dt><dd>Port Timestamp, UTC</dd><dt><span>_ChunkSizes :</span></dt><dd>7811</dd></dl></div><div class='xr-var-data'><pre>[7811 values with dtype=datetime64[ns]]</pre></div></li><li class='xr-var-item'><div class='xr-var-name'><span>pressure</span></div><div class='xr-var-dims'>(obs)</div><div class='xr-var-dtype'>float64</div><div class='xr-var-preview xr-preview'>...</div><input id='attrs-3aa568af-aebd-4597-8c57-2f34560f81cf' class='xr-var-attrs-in' type='checkbox' ><label for='attrs-3aa568af-aebd-4597-8c57-2f34560f81cf' title='Show/Hide attributes'><svg class='icon xr-icon-file-text2'><use xlink:href='#icon-file-text2'></use></svg></label><input id='data-b3590acd-25f8-412f-9c73-ebe6362230d5' class='xr-var-data-in' type='checkbox'><label for='data-b3590acd-25f8-412f-9c73-ebe6362230d5' title='Show/Hide data repr'><svg class='icon xr-icon-database'><use xlink:href='#icon-database'></use></svg></label><div class='xr-var-attrs'><dl class='xr-attrs'><dt><span>comment :</span></dt><dd>ADCP pressure sensor value measured in decaPascals</dd><dt><span>precision :</span></dt><dd>0</dd><dt><span>long_name :</span></dt><dd>Pressure</dd><dt><span>units :</span></dt><dd>daPa</dd><dt><span>_ChunkSizes :</span></dt><dd>7811</dd></dl></div><div class='xr-var-data'><pre>[7811 values with dtype=float64]</pre></div></li><li class='xr-var-item'><div class='xr-var-name'><span>non_zero_depth</span></div><div class='xr-var-dims'>(obs)</div><div class='xr-var-dtype'>float64</div><div class='xr-var-preview xr-preview'>...</div><input id='attrs-a70e768b-58ad-452e-bbe2-57648b6238b8' class='xr-var-attrs-in' type='checkbox' ><label for='attrs-a70e768b-58ad-452e-bbe2-57648b6238b8' title='Show/Hide attributes'><svg class='icon xr-icon-file-text2'><use xlink:href='#icon-file-text2'></use></svg></label><input id='data-16337fd7-0208-4aec-a391-0a8ae857a1b0' class='xr-var-data-in' type='checkbox'><label for='data-16337fd7-0208-4aec-a391-0a8ae857a1b0' title='Show/Hide data repr'><svg class='icon xr-icon-database'><use xlink:href='#icon-database'></use></svg></label><div class='xr-var-attrs'><dl class='xr-attrs'><dt><span>comment :</span></dt><dd>A non-zero depth value.</dd><dt><span>precision :</span></dt><dd>3</dd><dt><span>long_name :</span></dt><dd>Non-zero Depth</dd><dt><span>units :</span></dt><dd>m</dd><dt><span>ancillary_variables :</span></dt><dd>depth_from_pressure</dd><dt><span>_ChunkSizes :</span></dt><dd>7811</dd></dl></div><div class='xr-var-data'><pre>[7811 values with dtype=float64]</pre></div></li><li class='xr-var-item'><div class='xr-var-name'><span>deployment</span></div><div class='xr-var-dims'>(obs)</div><div class='xr-var-dtype'>int32</div><div class='xr-var-preview xr-preview'>...</div><input id='attrs-98247582-1bae-47d7-8906-d5e62387fecb' class='xr-var-attrs-in' type='checkbox' ><label for='attrs-98247582-1bae-47d7-8906-d5e62387fecb' title='Show/Hide attributes'><svg class='icon xr-icon-file-text2'><use xlink:href='#icon-file-text2'></use></svg></label><input id='data-a9da0606-0b17-4645-aaa8-fdb8d72e3c68' class='xr-var-data-in' type='checkbox'><label for='data-a9da0606-0b17-4645-aaa8-fdb8d72e3c68' title='Show/Hide data repr'><svg class='icon xr-icon-database'><use xlink:href='#icon-database'></use></svg></label><div class='xr-var-attrs'><dl class='xr-attrs'><dt><span>name :</span></dt><dd>deployment</dd><dt><span>_ChunkSizes :</span></dt><dd>7811</dd></dl></div><div class='xr-var-data'><pre>[7811 values with dtype=int32]</pre></div></li><li class='xr-var-item'><div class='xr-var-name'><span>bin_1_distance</span></div><div class='xr-var-dims'>(obs)</div><div class='xr-var-dtype'>float32</div><div class='xr-var-preview xr-preview'>...</div><input id='attrs-30eb40ad-2744-4936-8f39-4265a1abe19f' class='xr-var-attrs-in' type='checkbox' ><label for='attrs-30eb40ad-2744-4936-8f39-4265a1abe19f' title='Show/Hide attributes'><svg class='icon xr-icon-file-text2'><use xlink:href='#icon-file-text2'></use></svg></label><input id='data-935f3452-b2b2-44af-a07e-f6385f536e80' class='xr-var-data-in' type='checkbox'><label for='data-935f3452-b2b2-44af-a07e-f6385f536e80' title='Show/Hide data repr'><svg class='icon xr-icon-database'><use xlink:href='#icon-database'></use></svg></label><div class='xr-var-attrs'><dl class='xr-attrs'><dt><span>comment :</span></dt><dd>Distance to middle of first depth cell (bin 1).</dd><dt><span>precision :</span></dt><dd>0</dd><dt><span>long_name :</span></dt><dd>Bin 1 Distance</dd><dt><span>units :</span></dt><dd>cm</dd><dt><span>_ChunkSizes :</span></dt><dd>7811</dd></dl></div><div class='xr-var-data'><pre>[7811 values with dtype=float32]</pre></div></li><li class='xr-var-item'><div class='xr-var-name'><span>preferred_timestamp</span></div><div class='xr-var-dims'>(obs)</div><div class='xr-var-dtype'>object</div><div class='xr-var-preview xr-preview'>...</div><input id='attrs-c8652138-d40f-43ae-a4a6-ba0d4df642ea' class='xr-var-attrs-in' type='checkbox' ><label for='attrs-c8652138-d40f-43ae-a4a6-ba0d4df642ea' title='Show/Hide attributes'><svg class='icon xr-icon-file-text2'><use xlink:href='#icon-file-text2'></use></svg></label><input id='data-073e9d5f-442b-455a-ac8b-d43925b9d66c' class='xr-var-data-in' type='checkbox'><label for='data-073e9d5f-442b-455a-ac8b-d43925b9d66c' title='Show/Hide data repr'><svg class='icon xr-icon-database'><use xlink:href='#icon-database'></use></svg></label><div class='xr-var-attrs'><dl class='xr-attrs'><dt><span>comment :</span></dt><dd>Timestamp preferred as official record.</dd><dt><span>long_name :</span></dt><dd>Preferred Timestamp</dd><dt><span>_ChunkSizes :</span></dt><dd>[7811   18]</dd></dl></div><div class='xr-var-data'><pre>[7811 values with dtype=object]</pre></div></li><li class='xr-var-item'><div class='xr-var-name'><span>int_ctd_pressure</span></div><div class='xr-var-dims'>(obs)</div><div class='xr-var-dtype'>float64</div><div class='xr-var-preview xr-preview'>...</div><input id='attrs-c18cf348-eecc-44bd-8089-d652568e9323' class='xr-var-attrs-in' type='checkbox' ><label for='attrs-c18cf348-eecc-44bd-8089-d652568e9323' title='Show/Hide attributes'><svg class='icon xr-icon-file-text2'><use xlink:href='#icon-file-text2'></use></svg></label><input id='data-01d91761-30d6-422e-94b3-11085f3352ea' class='xr-var-data-in' type='checkbox'><label for='data-01d91761-30d6-422e-94b3-11085f3352ea' title='Show/Hide data repr'><svg class='icon xr-icon-database'><use xlink:href='#icon-database'></use></svg></label><div class='xr-var-attrs'><dl class='xr-attrs'><dt><span>comment :</span></dt><dd>Seawater Pressure refers to the pressure exerted on a sensor in situ by the weight of the column of seawater above it. It is calculated by subtracting one standard atmosphere from the absolute pressure at the sensor to remove the weight of the atmosphere on top of the water column. The pressure at a sensor in situ provides a metric of the depth of that sensor.</dd><dt><span>data_product_identifier :</span></dt><dd>PRESWAT_L1</dd><dt><span>precision :</span></dt><dd>3</dd><dt><span>long_name :</span></dt><dd>Seawater Pressure</dd><dt><span>standard_name :</span></dt><dd>sea_water_pressure</dd><dt><span>units :</span></dt><dd>dbar</dd><dt><span>_ChunkSizes :</span></dt><dd>7811</dd></dl></div><div class='xr-var-data'><pre>[7811 values with dtype=float64]</pre></div></li><li class='xr-var-item'><div class='xr-var-name'><span>depth_from_pressure</span></div><div class='xr-var-dims'>(obs)</div><div class='xr-var-dtype'>float64</div><div class='xr-var-preview xr-preview'>23.0 23.2 23.46 ... 25.9 25.77</div><input id='attrs-af83a8c8-d7e7-466e-9fc2-c65f433903dc' class='xr-var-attrs-in' type='checkbox' ><label for='attrs-af83a8c8-d7e7-466e-9fc2-c65f433903dc' title='Show/Hide attributes'><svg class='icon xr-icon-file-text2'><use xlink:href='#icon-file-text2'></use></svg></label><input id='data-18e95ed5-2ba8-4d6e-9c6a-89b88f0f99ad' class='xr-var-data-in' type='checkbox'><label for='data-18e95ed5-2ba8-4d6e-9c6a-89b88f0f99ad' title='Show/Hide data repr'><svg class='icon xr-icon-database'><use xlink:href='#icon-database'></use></svg></label><div class='xr-var-attrs'><dl class='xr-attrs'><dt><span>long_name :</span></dt><dd>Depth calculated from pressure</dd><dt><span>ancillary_variables :</span></dt><dd>non_zero_pressure</dd><dt><span>precision :</span></dt><dd>3</dd><dt><span>comment :</span></dt><dd>Depth (m) calculated from pressure (dbar) and latitude.</dd><dt><span>units :</span></dt><dd>m</dd><dt><span>_ChunkSizes :</span></dt><dd>7811</dd></dl></div><div class='xr-var-data'><pre>array([23.000234, 23.204546, 23.456463, ..., 25.921076, 25.90124 , 25.774291])</pre></div></li><li class='xr-var-item'><div class='xr-var-name'><span>salinity</span></div><div class='xr-var-dims'>(obs)</div><div class='xr-var-dtype'>float32</div><div class='xr-var-preview xr-preview'>...</div><input id='attrs-74be2d6e-3543-4378-96b5-0c162e1c0308' class='xr-var-attrs-in' type='checkbox' ><label for='attrs-74be2d6e-3543-4378-96b5-0c162e1c0308' title='Show/Hide attributes'><svg class='icon xr-icon-file-text2'><use xlink:href='#icon-file-text2'></use></svg></label><input id='data-c1a73f22-3f1a-4a1b-8f57-fd471a49661c' class='xr-var-data-in' type='checkbox'><label for='data-c1a73f22-3f1a-4a1b-8f57-fd471a49661c' title='Show/Hide data repr'><svg class='icon xr-icon-database'><use xlink:href='#icon-database'></use></svg></label><div class='xr-var-attrs'><dl class='xr-attrs'><dt><span>long_name :</span></dt><dd>Transducer Salinity</dd><dt><span>comment :</span></dt><dd>Contains either the manual or measured (calculated from external conductivity sensor) salinity at the transducer face.</dd><dt><span>precision :</span></dt><dd>0</dd><dt><span>units :</span></dt><dd>1</dd><dt><span>_ChunkSizes :</span></dt><dd>7811</dd></dl></div><div class='xr-var-data'><pre>[7811 values with dtype=float32]</pre></div></li><li class='xr-var-item'><div class='xr-var-name'><span>corrected_echo_intensity_beam4</span></div><div class='xr-var-dims'>(obs, bin)</div><div class='xr-var-dtype'>float64</div><div class='xr-var-preview xr-preview'>...</div><input id='attrs-d272c59c-a230-4004-b4c4-72553fe6d8e9' class='xr-var-attrs-in' type='checkbox' ><label for='attrs-d272c59c-a230-4004-b4c4-72553fe6d8e9' title='Show/Hide attributes'><svg class='icon xr-icon-file-text2'><use xlink:href='#icon-file-text2'></use></svg></label><input id='data-cb89bf24-95b2-4b52-bbda-d4b51aa7ac3d' class='xr-var-data-in' type='checkbox'><label for='data-cb89bf24-95b2-4b52-bbda-d4b51aa7ac3d' title='Show/Hide data repr'><svg class='icon xr-icon-database'><use xlink:href='#icon-database'></use></svg></label><div class='xr-var-attrs'><dl class='xr-attrs'><dt><span>comment :</span></dt><dd>Echo intensity is the strength of the returned sound wave pulse transmitted by the ADCP. Echo intensity can be used as an indicator of the amount of sediment or organisms in the water column, as well as of the quality of a velocity measurement.</dd><dt><span>long_name :</span></dt><dd>Echo Intensity Beam 4</dd><dt><span>precision :</span></dt><dd>4</dd><dt><span>data_product_identifier :</span></dt><dd>ECHOINT-B4_L1</dd><dt><span>units :</span></dt><dd>dB</dd><dt><span>ancillary_variables :</span></dt><dd>echo_intensity_beam4</dd><dt><span>_ChunkSizes :</span></dt><dd>[7811   30]</dd></dl></div><div class='xr-var-data'><pre>[234330 values with dtype=float64]</pre></div></li><li class='xr-var-item'><div class='xr-var-name'><span>corrected_echo_intensity_beam3</span></div><div class='xr-var-dims'>(obs, bin)</div><div class='xr-var-dtype'>float64</div><div class='xr-var-preview xr-preview'>...</div><input id='attrs-11f3efdb-6f1c-44a0-ac0e-637be677c111' class='xr-var-attrs-in' type='checkbox' ><label for='attrs-11f3efdb-6f1c-44a0-ac0e-637be677c111' title='Show/Hide attributes'><svg class='icon xr-icon-file-text2'><use xlink:href='#icon-file-text2'></use></svg></label><input id='data-826ac840-950c-43a1-9d2c-7de80685d3d9' class='xr-var-data-in' type='checkbox'><label for='data-826ac840-950c-43a1-9d2c-7de80685d3d9' title='Show/Hide data repr'><svg class='icon xr-icon-database'><use xlink:href='#icon-database'></use></svg></label><div class='xr-var-attrs'><dl class='xr-attrs'><dt><span>comment :</span></dt><dd>Echo intensity is the strength of the returned sound wave pulse transmitted by the ADCP. Echo intensity can be used as an indicator of the amount of sediment or organisms in the water column, as well as of the quality of a velocity measurement.</dd><dt><span>long_name :</span></dt><dd>Echo Intensity Beam 3</dd><dt><span>precision :</span></dt><dd>4</dd><dt><span>data_product_identifier :</span></dt><dd>ECHOINT-B3_L1</dd><dt><span>units :</span></dt><dd>dB</dd><dt><span>ancillary_variables :</span></dt><dd>echo_intensity_beam3</dd><dt><span>_ChunkSizes :</span></dt><dd>[7811   30]</dd></dl></div><div class='xr-var-data'><pre>[234330 values with dtype=float64]</pre></div></li><li class='xr-var-item'><div class='xr-var-name'><span>corrected_echo_intensity_beam2</span></div><div class='xr-var-dims'>(obs, bin)</div><div class='xr-var-dtype'>float64</div><div class='xr-var-preview xr-preview'>...</div><input id='attrs-f8d10fc0-7977-4683-99cc-ed7c7bbb115e' class='xr-var-attrs-in' type='checkbox' ><label for='attrs-f8d10fc0-7977-4683-99cc-ed7c7bbb115e' title='Show/Hide attributes'><svg class='icon xr-icon-file-text2'><use xlink:href='#icon-file-text2'></use></svg></label><input id='data-4af4702e-a77c-4247-abd7-76b18c98be4e' class='xr-var-data-in' type='checkbox'><label for='data-4af4702e-a77c-4247-abd7-76b18c98be4e' title='Show/Hide data repr'><svg class='icon xr-icon-database'><use xlink:href='#icon-database'></use></svg></label><div class='xr-var-attrs'><dl class='xr-attrs'><dt><span>comment :</span></dt><dd>Echo intensity is the strength of the returned sound wave pulse transmitted by the ADCP. Echo intensity can be used as an indicator of the amount of sediment or organisms in the water column, as well as of the quality of a velocity measurement.</dd><dt><span>long_name :</span></dt><dd>Echo Intensity Beam 2</dd><dt><span>precision :</span></dt><dd>4</dd><dt><span>data_product_identifier :</span></dt><dd>ECHOINT-B2_L1</dd><dt><span>units :</span></dt><dd>dB</dd><dt><span>ancillary_variables :</span></dt><dd>echo_intensity_beam2</dd><dt><span>_ChunkSizes :</span></dt><dd>[7811   30]</dd></dl></div><div class='xr-var-data'><pre>[234330 values with dtype=float64]</pre></div></li><li class='xr-var-item'><div class='xr-var-name'><span>percent_bad_beams</span></div><div class='xr-var-dims'>(obs, bin)</div><div class='xr-var-dtype'>float32</div><div class='xr-var-preview xr-preview'>...</div><input id='attrs-1e328fd8-822a-45bd-9c30-bc1bd51b1dd4' class='xr-var-attrs-in' type='checkbox' ><label for='attrs-1e328fd8-822a-45bd-9c30-bc1bd51b1dd4' title='Show/Hide attributes'><svg class='icon xr-icon-file-text2'><use xlink:href='#icon-file-text2'></use></svg></label><input id='data-18ee64ba-a11e-4179-a2a9-11003a2efb7a' class='xr-var-data-in' type='checkbox'><label for='data-18ee64ba-a11e-4179-a2a9-11003a2efb7a' title='Show/Hide data repr'><svg class='icon xr-icon-database'><use xlink:href='#icon-database'></use></svg></label><div class='xr-var-attrs'><dl class='xr-attrs'><dt><span>comment :</span></dt><dd>Percentage of velocity data rejected because not enough beams had good data.</dd><dt><span>precision :</span></dt><dd>0</dd><dt><span>long_name :</span></dt><dd>Percent Bad Beams</dd><dt><span>units :</span></dt><dd>percent</dd><dt><span>_ChunkSizes :</span></dt><dd>[7811   30]</dd></dl></div><div class='xr-var-data'><pre>[234330 values with dtype=float32]</pre></div></li><li class='xr-var-item'><div class='xr-var-name'><span>percent_transforms_reject</span></div><div class='xr-var-dims'>(obs, bin)</div><div class='xr-var-dtype'>float32</div><div class='xr-var-preview xr-preview'>...</div><input id='attrs-9ad561de-b725-434b-82d5-fc80d615ba04' class='xr-var-attrs-in' type='checkbox' ><label for='attrs-9ad561de-b725-434b-82d5-fc80d615ba04' title='Show/Hide attributes'><svg class='icon xr-icon-file-text2'><use xlink:href='#icon-file-text2'></use></svg></label><input id='data-0b65c727-33d0-4480-bb30-cbf6b416b731' class='xr-var-data-in' type='checkbox'><label for='data-0b65c727-33d0-4480-bb30-cbf6b416b731' title='Show/Hide data repr'><svg class='icon xr-icon-database'><use xlink:href='#icon-database'></use></svg></label><div class='xr-var-attrs'><dl class='xr-attrs'><dt><span>comment :</span></dt><dd>Percentage of transformations rejected (error velocity that was higher than the WE-command setting)</dd><dt><span>precision :</span></dt><dd>0</dd><dt><span>long_name :</span></dt><dd>Percent Transforms Reject</dd><dt><span>units :</span></dt><dd>percent</dd><dt><span>_ChunkSizes :</span></dt><dd>[7811   30]</dd></dl></div><div class='xr-var-data'><pre>[234330 values with dtype=float32]</pre></div></li><li class='xr-var-item'><div class='xr-var-name'><span>error_seawater_velocity</span></div><div class='xr-var-dims'>(obs, bin)</div><div class='xr-var-dtype'>float64</div><div class='xr-var-preview xr-preview'>...</div><input id='attrs-ab3c4733-c1e1-4cc6-b32f-a5c9260d5a04' class='xr-var-attrs-in' type='checkbox' ><label for='attrs-ab3c4733-c1e1-4cc6-b32f-a5c9260d5a04' title='Show/Hide attributes'><svg class='icon xr-icon-file-text2'><use xlink:href='#icon-file-text2'></use></svg></label><input id='data-a76b7fd2-ddff-48e7-ae87-8b705f05b80d' class='xr-var-data-in' type='checkbox'><label for='data-a76b7fd2-ddff-48e7-ae87-8b705f05b80d' title='Show/Hide data repr'><svg class='icon xr-icon-database'><use xlink:href='#icon-database'></use></svg></label><div class='xr-var-attrs'><dl class='xr-attrs'><dt><span>comment :</span></dt><dd>Error sea water velocity component.</dd><dt><span>long_name :</span></dt><dd>Error Velocity</dd><dt><span>precision :</span></dt><dd>4</dd><dt><span>data_product_identifier :</span></dt><dd>VELPROF-EVL_L1</dd><dt><span>units :</span></dt><dd>m s-1</dd><dt><span>ancillary_variables :</span></dt><dd>error_velocity</dd><dt><span>_ChunkSizes :</span></dt><dd>[7811   30]</dd></dl></div><div class='xr-var-data'><pre>[234330 values with dtype=float64]</pre></div></li><li class='xr-var-item'><div class='xr-var-name'><span>corrected_echo_intensity_beam1</span></div><div class='xr-var-dims'>(obs, bin)</div><div class='xr-var-dtype'>float64</div><div class='xr-var-preview xr-preview'>...</div><input id='attrs-f1ca1566-19ea-4d6e-a454-8da18e9c41ae' class='xr-var-attrs-in' type='checkbox' ><label for='attrs-f1ca1566-19ea-4d6e-a454-8da18e9c41ae' title='Show/Hide attributes'><svg class='icon xr-icon-file-text2'><use xlink:href='#icon-file-text2'></use></svg></label><input id='data-2e3ac4be-a6b6-4e0b-a151-9091a7a1ee1c' class='xr-var-data-in' type='checkbox'><label for='data-2e3ac4be-a6b6-4e0b-a151-9091a7a1ee1c' title='Show/Hide data repr'><svg class='icon xr-icon-database'><use xlink:href='#icon-database'></use></svg></label><div class='xr-var-attrs'><dl class='xr-attrs'><dt><span>comment :</span></dt><dd>Echo intensity is the strength of the returned sound wave pulse transmitted by the ADCP. Echo intensity can be used as an indicator of the amount of sediment or organisms in the water column, as well as of the quality of a velocity measurement.</dd><dt><span>long_name :</span></dt><dd>Echo Intensity Beam 1</dd><dt><span>precision :</span></dt><dd>4</dd><dt><span>data_product_identifier :</span></dt><dd>ECHOINT-B1_L1</dd><dt><span>units :</span></dt><dd>dB</dd><dt><span>ancillary_variables :</span></dt><dd>echo_intensity_beam1</dd><dt><span>_ChunkSizes :</span></dt><dd>[7811   30]</dd></dl></div><div class='xr-var-data'><pre>[234330 values with dtype=float64]</pre></div></li><li class='xr-var-item'><div class='xr-var-name'><span>percent_good_4beam</span></div><div class='xr-var-dims'>(obs, bin)</div><div class='xr-var-dtype'>float32</div><div class='xr-var-preview xr-preview'>...</div><input id='attrs-b6191a44-f75a-47f5-9925-4300856acb49' class='xr-var-attrs-in' type='checkbox' ><label for='attrs-b6191a44-f75a-47f5-9925-4300856acb49' title='Show/Hide attributes'><svg class='icon xr-icon-file-text2'><use xlink:href='#icon-file-text2'></use></svg></label><input id='data-10d98a0d-60ee-477d-be45-291bd3a1a66c' class='xr-var-data-in' type='checkbox'><label for='data-10d98a0d-60ee-477d-be45-291bd3a1a66c' title='Show/Hide data repr'><svg class='icon xr-icon-database'><use xlink:href='#icon-database'></use></svg></label><div class='xr-var-attrs'><dl class='xr-attrs'><dt><span>comment :</span></dt><dd>Percentage of velocity data collected during ensemble that were calculated with all 4 beams</dd><dt><span>precision :</span></dt><dd>0</dd><dt><span>long_name :</span></dt><dd>Percent Good 4Beam</dd><dt><span>units :</span></dt><dd>percent</dd><dt><span>_ChunkSizes :</span></dt><dd>[7811   30]</dd></dl></div><div class='xr-var-data'><pre>[234330 values with dtype=float32]</pre></div></li><li class='xr-var-item'><div class='xr-var-name'><span>water_velocity_north</span></div><div class='xr-var-dims'>(obs, bin)</div><div class='xr-var-dtype'>float32</div><div class='xr-var-preview xr-preview'>-29.0 -20.0 -23.0 ... 341.0 nan nan</div><input id='attrs-348dc9e9-4708-4b8f-b2e0-bac0a392c0f2' class='xr-var-attrs-in' type='checkbox' ><label for='attrs-348dc9e9-4708-4b8f-b2e0-bac0a392c0f2' title='Show/Hide attributes'><svg class='icon xr-icon-file-text2'><use xlink:href='#icon-file-text2'></use></svg></label><input id='data-8350fdff-0b95-4bcb-82fe-b85744bb1dc8' class='xr-var-data-in' type='checkbox'><label for='data-8350fdff-0b95-4bcb-82fe-b85744bb1dc8' title='Show/Hide data repr'><svg class='icon xr-icon-database'><use xlink:href='#icon-database'></use></svg></label><div class='xr-var-attrs'><dl class='xr-attrs'><dt><span>comment :</span></dt><dd>A Velocity Profile includes water velocity (speed &amp; direction) throughout the depth range of an ADCP sensor. This instance is the northward seawater velocity component.</dd><dt><span>long_name :</span></dt><dd>Northward Seawater Velocity</dd><dt><span>precision :</span></dt><dd>0</dd><dt><span>data_product_identifier :</span></dt><dd>VELPROF-VLN_L0</dd><dt><span>standard_name :</span></dt><dd>northward_sea_water_velocity</dd><dt><span>units :</span></dt><dd>mm s-1</dd><dt><span>_ChunkSizes :</span></dt><dd>[7811   30]</dd></dl></div><div class='xr-var-data'><pre>array([[ -29.,  -20.,  -23., ..., -131., -146., -154.],\n",
              "       [ -34.,  -20.,  -31., ..., -360., -330., -315.],\n",
              "       [ -11.,  -21.,  -34., ..., -383., -387., -400.],\n",
              "       ...,\n",
              "       [  24.,   19.,   28., ..., -575.,   nan,   nan],\n",
              "       [  35.,   23.,   21., ...,  371.,   nan,   nan],\n",
              "       [  20.,   14.,   33., ...,  341.,   nan,   nan]], dtype=float32)</pre></div></li><li class='xr-var-item'><div class='xr-var-name'><span>percent_good_3beam</span></div><div class='xr-var-dims'>(obs, bin)</div><div class='xr-var-dtype'>float32</div><div class='xr-var-preview xr-preview'>...</div><input id='attrs-cf4b3354-f617-4717-af6d-9d2b7148382d' class='xr-var-attrs-in' type='checkbox' ><label for='attrs-cf4b3354-f617-4717-af6d-9d2b7148382d' title='Show/Hide attributes'><svg class='icon xr-icon-file-text2'><use xlink:href='#icon-file-text2'></use></svg></label><input id='data-7e4b897a-9d17-42fc-af75-801457ffafad' class='xr-var-data-in' type='checkbox'><label for='data-7e4b897a-9d17-42fc-af75-801457ffafad' title='Show/Hide data repr'><svg class='icon xr-icon-database'><use xlink:href='#icon-database'></use></svg></label><div class='xr-var-attrs'><dl class='xr-attrs'><dt><span>comment :</span></dt><dd>Percentage of good 3-beam solutions (successful velocity calculations using 3-beams). VELPROF-PCG</dd><dt><span>precision :</span></dt><dd>0</dd><dt><span>long_name :</span></dt><dd>Percent Good 3Beam</dd><dt><span>units :</span></dt><dd>percent</dd><dt><span>_ChunkSizes :</span></dt><dd>[7811   30]</dd></dl></div><div class='xr-var-data'><pre>[234330 values with dtype=float32]</pre></div></li><li class='xr-var-item'><div class='xr-var-name'><span>eastward_seawater_velocity</span></div><div class='xr-var-dims'>(obs, bin)</div><div class='xr-var-dtype'>float64</div><div class='xr-var-preview xr-preview'>...</div><input id='attrs-92e90ecd-19fb-455e-b2c1-27b49c74d805' class='xr-var-attrs-in' type='checkbox' ><label for='attrs-92e90ecd-19fb-455e-b2c1-27b49c74d805' title='Show/Hide attributes'><svg class='icon xr-icon-file-text2'><use xlink:href='#icon-file-text2'></use></svg></label><input id='data-c682bdff-6802-446a-b520-fac07e924c91' class='xr-var-data-in' type='checkbox'><label for='data-c682bdff-6802-446a-b520-fac07e924c91' title='Show/Hide data repr'><svg class='icon xr-icon-database'><use xlink:href='#icon-database'></use></svg></label><div class='xr-var-attrs'><dl class='xr-attrs'><dt><span>comment :</span></dt><dd>Eastward sea water velocity component in Earth coordinates with the magnetic variation accounted for.</dd><dt><span>long_name :</span></dt><dd>Eastward Sea Water Velocity</dd><dt><span>precision :</span></dt><dd>4</dd><dt><span>data_product_identifier :</span></dt><dd>VELPROF-VLE_L1</dd><dt><span>standard_name :</span></dt><dd>eastward_sea_water_velocity</dd><dt><span>units :</span></dt><dd>m s-1</dd><dt><span>ancillary_variables :</span></dt><dd>water_velocity_east water_velocity_north time</dd><dt><span>_ChunkSizes :</span></dt><dd>[7811   30]</dd></dl></div><div class='xr-var-data'><pre>[234330 values with dtype=float64]</pre></div></li><li class='xr-var-item'><div class='xr-var-name'><span>water_velocity_up</span></div><div class='xr-var-dims'>(obs, bin)</div><div class='xr-var-dtype'>float32</div><div class='xr-var-preview xr-preview'>...</div><input id='attrs-577cc2d5-12cf-4183-8af2-e11b6b45eaf9' class='xr-var-attrs-in' type='checkbox' ><label for='attrs-577cc2d5-12cf-4183-8af2-e11b6b45eaf9' title='Show/Hide attributes'><svg class='icon xr-icon-file-text2'><use xlink:href='#icon-file-text2'></use></svg></label><input id='data-3b2992b9-1482-4e10-9f0e-9055a75d5019' class='xr-var-data-in' type='checkbox'><label for='data-3b2992b9-1482-4e10-9f0e-9055a75d5019' title='Show/Hide data repr'><svg class='icon xr-icon-database'><use xlink:href='#icon-database'></use></svg></label><div class='xr-var-attrs'><dl class='xr-attrs'><dt><span>comment :</span></dt><dd>A Velocity Profile includes water velocity (speed &amp; direction) throughout the depth range of an ADCP sensor. This instance is the upward seawater velocity component.</dd><dt><span>long_name :</span></dt><dd>Upward Seawater Velocity</dd><dt><span>precision :</span></dt><dd>0</dd><dt><span>data_product_identifier :</span></dt><dd>VELPROF-VLU_L0</dd><dt><span>standard_name :</span></dt><dd>upward_sea_water_velocity</dd><dt><span>units :</span></dt><dd>mm s-1</dd><dt><span>_ChunkSizes :</span></dt><dd>[7811   30]</dd></dl></div><div class='xr-var-data'><pre>[234330 values with dtype=float32]</pre></div></li><li class='xr-var-item'><div class='xr-var-name'><span>water_velocity_east</span></div><div class='xr-var-dims'>(obs, bin)</div><div class='xr-var-dtype'>float32</div><div class='xr-var-preview xr-preview'>40.0 55.0 55.0 ... -206.0 nan nan</div><input id='attrs-9d4d2f81-788e-44fb-bdbc-7be88a608192' class='xr-var-attrs-in' type='checkbox' ><label for='attrs-9d4d2f81-788e-44fb-bdbc-7be88a608192' title='Show/Hide attributes'><svg class='icon xr-icon-file-text2'><use xlink:href='#icon-file-text2'></use></svg></label><input id='data-398c67ea-fe95-4f90-8ab0-32559762b8f0' class='xr-var-data-in' type='checkbox'><label for='data-398c67ea-fe95-4f90-8ab0-32559762b8f0' title='Show/Hide data repr'><svg class='icon xr-icon-database'><use xlink:href='#icon-database'></use></svg></label><div class='xr-var-attrs'><dl class='xr-attrs'><dt><span>comment :</span></dt><dd>A Velocity Profile includes water velocity (speed &amp; direction) throughout the depth range of an ADCP sensor. This instance is the eastward seawater velocity component.</dd><dt><span>long_name :</span></dt><dd>Eastward Seawater Velocity</dd><dt><span>precision :</span></dt><dd>0</dd><dt><span>data_product_identifier :</span></dt><dd>VELPROF-VLE_L0</dd><dt><span>standard_name :</span></dt><dd>eastward_sea_water_velocity</dd><dt><span>units :</span></dt><dd>mm s-1</dd><dt><span>_ChunkSizes :</span></dt><dd>[7811   30]</dd></dl></div><div class='xr-var-data'><pre>array([[   40.,    55.,    55., ...,    90.,    65.,    78.],\n",
              "       [   35.,    39.,    32., ...,  -127.,  -167.,  -169.],\n",
              "       [   54.,    46.,    41., ...,   204.,   177.,   170.],\n",
              "       ...,\n",
              "       [  -15.,   -63.,   -63., ..., -1010.,    nan,    nan],\n",
              "       [   -9.,   -46.,   -79., ...,  -220.,    nan,    nan],\n",
              "       [  -36.,   -74.,   -71., ...,  -206.,    nan,    nan]], dtype=float32)</pre></div></li><li class='xr-var-item'><div class='xr-var-name'><span>bin_depths</span></div><div class='xr-var-dims'>(obs, bin)</div><div class='xr-var-dtype'>float64</div><div class='xr-var-preview xr-preview'>20.91 19.91 18.91 ... -4.326 -5.326</div><input id='attrs-69fdd650-8324-4f57-bfe1-d2322b8cccb6' class='xr-var-attrs-in' type='checkbox' ><label for='attrs-69fdd650-8324-4f57-bfe1-d2322b8cccb6' title='Show/Hide attributes'><svg class='icon xr-icon-file-text2'><use xlink:href='#icon-file-text2'></use></svg></label><input id='data-65efa824-903d-4514-b7d4-3479a5cea9e7' class='xr-var-data-in' type='checkbox'><label for='data-65efa824-903d-4514-b7d4-3479a5cea9e7' title='Show/Hide data repr'><svg class='icon xr-icon-database'><use xlink:href='#icon-database'></use></svg></label><div class='xr-var-attrs'><dl class='xr-attrs'><dt><span>comment :</span></dt><dd>Bin Depths</dd><dt><span>long_name :</span></dt><dd>Bin Depths</dd><dt><span>precision :</span></dt><dd>0</dd><dt><span>data_product_identifier :</span></dt><dd>?</dd><dt><span>units :</span></dt><dd>m</dd><dt><span>ancillary_variables :</span></dt><dd>non_zero_depth cell_length bin_1_distance num_cells sysconfig_vertical_orientation</dd><dt><span>_ChunkSizes :</span></dt><dd>[7811   30]</dd></dl></div><div class='xr-var-data'><pre>array([[20.910234, 19.910234, 18.910234, ..., -6.089766, -7.089766, -8.089766],\n",
              "       [21.114546, 20.114546, 19.114546, ..., -5.885454, -6.885454, -7.885454],\n",
              "       [21.366463, 20.366463, 19.366463, ..., -5.633537, -6.633537, -7.633537],\n",
              "       ...,\n",
              "       [23.821076, 22.821076, 21.821076, ..., -3.178924, -4.178924, -5.178924],\n",
              "       [23.80124 , 22.80124 , 21.80124 , ..., -3.19876 , -4.19876 , -5.19876 ],\n",
              "       [23.674291, 22.674291, 21.674291, ..., -3.325709, -4.325709, -5.325709]])</pre></div></li><li class='xr-var-item'><div class='xr-var-name'><span>upward_seawater_velocity</span></div><div class='xr-var-dims'>(obs, bin)</div><div class='xr-var-dtype'>float64</div><div class='xr-var-preview xr-preview'>...</div><input id='attrs-37ac2007-e08e-49d0-b65b-bfcaea419789' class='xr-var-attrs-in' type='checkbox' ><label for='attrs-37ac2007-e08e-49d0-b65b-bfcaea419789' title='Show/Hide attributes'><svg class='icon xr-icon-file-text2'><use xlink:href='#icon-file-text2'></use></svg></label><input id='data-78a733ed-66aa-4c56-8756-1e038a3ec771' class='xr-var-data-in' type='checkbox'><label for='data-78a733ed-66aa-4c56-8756-1e038a3ec771' title='Show/Hide data repr'><svg class='icon xr-icon-database'><use xlink:href='#icon-database'></use></svg></label><div class='xr-var-attrs'><dl class='xr-attrs'><dt><span>comment :</span></dt><dd>Upward sea water velocity component in Earth coordinates.</dd><dt><span>long_name :</span></dt><dd>Upward Sea Water Velocity</dd><dt><span>precision :</span></dt><dd>4</dd><dt><span>data_product_identifier :</span></dt><dd>VELPROF-VLU_L1</dd><dt><span>standard_name :</span></dt><dd>upward_sea_water_velocity</dd><dt><span>units :</span></dt><dd>m s-1</dd><dt><span>ancillary_variables :</span></dt><dd>water_velocity_up</dd><dt><span>_ChunkSizes :</span></dt><dd>[7811   30]</dd></dl></div><div class='xr-var-data'><pre>[234330 values with dtype=float64]</pre></div></li><li class='xr-var-item'><div class='xr-var-name'><span>northward_seawater_velocity</span></div><div class='xr-var-dims'>(obs, bin)</div><div class='xr-var-dtype'>float64</div><div class='xr-var-preview xr-preview'>...</div><input id='attrs-475abb39-5690-490d-b55b-a964eed05657' class='xr-var-attrs-in' type='checkbox' ><label for='attrs-475abb39-5690-490d-b55b-a964eed05657' title='Show/Hide attributes'><svg class='icon xr-icon-file-text2'><use xlink:href='#icon-file-text2'></use></svg></label><input id='data-84cc56d1-decd-4a24-800e-aca27327b3a6' class='xr-var-data-in' type='checkbox'><label for='data-84cc56d1-decd-4a24-800e-aca27327b3a6' title='Show/Hide data repr'><svg class='icon xr-icon-database'><use xlink:href='#icon-database'></use></svg></label><div class='xr-var-attrs'><dl class='xr-attrs'><dt><span>comment :</span></dt><dd>Northward sea water velocity component in Earth coordinates with the magnetic variation accounted for.</dd><dt><span>long_name :</span></dt><dd>Northward Sea Water Velocity</dd><dt><span>precision :</span></dt><dd>4</dd><dt><span>data_product_identifier :</span></dt><dd>VELPROF-VLN_L1</dd><dt><span>standard_name :</span></dt><dd>northward_sea_water_velocity</dd><dt><span>units :</span></dt><dd>m s-1</dd><dt><span>ancillary_variables :</span></dt><dd>water_velocity_east water_velocity_north time</dd><dt><span>_ChunkSizes :</span></dt><dd>[7811   30]</dd></dl></div><div class='xr-var-data'><pre>[234330 values with dtype=float64]</pre></div></li><li class='xr-var-item'><div class='xr-var-name'><span>error_velocity</span></div><div class='xr-var-dims'>(obs, bin)</div><div class='xr-var-dtype'>float32</div><div class='xr-var-preview xr-preview'>...</div><input id='attrs-491a6b69-e731-415f-83b3-5053e9474349' class='xr-var-attrs-in' type='checkbox' ><label for='attrs-491a6b69-e731-415f-83b3-5053e9474349' title='Show/Hide attributes'><svg class='icon xr-icon-file-text2'><use xlink:href='#icon-file-text2'></use></svg></label><input id='data-fd524cf0-b8dd-4c71-8fad-e315c211fd56' class='xr-var-data-in' type='checkbox'><label for='data-fd524cf0-b8dd-4c71-8fad-e315c211fd56' title='Show/Hide data repr'><svg class='icon xr-icon-database'><use xlink:href='#icon-database'></use></svg></label><div class='xr-var-attrs'><dl class='xr-attrs'><dt><span>comment :</span></dt><dd>A Velocity Profile includes water velocity (speed &amp; direction) throughout the depth range of an ADCP sensor. This instance is the error seawater velocity component.</dd><dt><span>long_name :</span></dt><dd>Error Seawater Velocity</dd><dt><span>precision :</span></dt><dd>0</dd><dt><span>data_product_identifier :</span></dt><dd>VELPROF-EVL_L0</dd><dt><span>units :</span></dt><dd>mm s-1</dd><dt><span>_ChunkSizes :</span></dt><dd>[7811   30]</dd></dl></div><div class='xr-var-data'><pre>[234330 values with dtype=float32]</pre></div></li><li class='xr-var-item'><div class='xr-var-name'><span>echo_intensity_beam2</span></div><div class='xr-var-dims'>(obs, bin)</div><div class='xr-var-dtype'>float32</div><div class='xr-var-preview xr-preview'>...</div><input id='attrs-831cee90-7dfb-4137-8ce9-c56aed268415' class='xr-var-attrs-in' type='checkbox' ><label for='attrs-831cee90-7dfb-4137-8ce9-c56aed268415' title='Show/Hide attributes'><svg class='icon xr-icon-file-text2'><use xlink:href='#icon-file-text2'></use></svg></label><input id='data-aa9e7427-6506-4c4d-88e8-c09fc6ba771e' class='xr-var-data-in' type='checkbox'><label for='data-aa9e7427-6506-4c4d-88e8-c09fc6ba771e' title='Show/Hide data repr'><svg class='icon xr-icon-database'><use xlink:href='#icon-database'></use></svg></label><div class='xr-var-attrs'><dl class='xr-attrs'><dt><span>comment :</span></dt><dd>Echo Intensity Measurement is the accoustic return signal that is output directly from the ADCP. This is used to calculate the echo intensity data product.</dd><dt><span>long_name :</span></dt><dd>Echo Intensity Beam 2 Measurement</dd><dt><span>precision :</span></dt><dd>0</dd><dt><span>data_product_identifier :</span></dt><dd>ECHOINT-B2_L0</dd><dt><span>units :</span></dt><dd>counts</dd><dt><span>_ChunkSizes :</span></dt><dd>[7811   30]</dd></dl></div><div class='xr-var-data'><pre>[234330 values with dtype=float32]</pre></div></li><li class='xr-var-item'><div class='xr-var-name'><span>correlation_magnitude_beam4</span></div><div class='xr-var-dims'>(obs, bin)</div><div class='xr-var-dtype'>float32</div><div class='xr-var-preview xr-preview'>...</div><input id='attrs-d4b3cf9b-710d-46c0-939c-1ad223aa06aa' class='xr-var-attrs-in' type='checkbox' ><label for='attrs-d4b3cf9b-710d-46c0-939c-1ad223aa06aa' title='Show/Hide attributes'><svg class='icon xr-icon-file-text2'><use xlink:href='#icon-file-text2'></use></svg></label><input id='data-9003e98c-e411-4be0-8735-3e845b571355' class='xr-var-data-in' type='checkbox'><label for='data-9003e98c-e411-4be0-8735-3e845b571355' title='Show/Hide data repr'><svg class='icon xr-icon-database'><use xlink:href='#icon-database'></use></svg></label><div class='xr-var-attrs'><dl class='xr-attrs'><dt><span>precision :</span></dt><dd>0</dd><dt><span>long_name :</span></dt><dd>Correlation Magnitude Beam4</dd><dt><span>comment :</span></dt><dd>Magnitude of the normalized echo auto-correlation at the lag used for estimating the Doppler phase change. 0 represents bad correlation and 255 represents perfect correlation.</dd><dt><span>units :</span></dt><dd>1</dd><dt><span>_ChunkSizes :</span></dt><dd>[7811   30]</dd></dl></div><div class='xr-var-data'><pre>[234330 values with dtype=float32]</pre></div></li><li class='xr-var-item'><div class='xr-var-name'><span>correlation_magnitude_beam2</span></div><div class='xr-var-dims'>(obs, bin)</div><div class='xr-var-dtype'>float32</div><div class='xr-var-preview xr-preview'>...</div><input id='attrs-ca2ad450-c676-4716-bce6-f83b4ccd0ec9' class='xr-var-attrs-in' type='checkbox' ><label for='attrs-ca2ad450-c676-4716-bce6-f83b4ccd0ec9' title='Show/Hide attributes'><svg class='icon xr-icon-file-text2'><use xlink:href='#icon-file-text2'></use></svg></label><input id='data-8fa7734e-9960-4f98-a1ea-708df5dc9317' class='xr-var-data-in' type='checkbox'><label for='data-8fa7734e-9960-4f98-a1ea-708df5dc9317' title='Show/Hide data repr'><svg class='icon xr-icon-database'><use xlink:href='#icon-database'></use></svg></label><div class='xr-var-attrs'><dl class='xr-attrs'><dt><span>comment :</span></dt><dd>Magnitude of the normalized echo auto-correlation at the lag used for estimating the Doppler phase change. 0 represents bad correlation and 255 represents perfect correlation.</dd><dt><span>long_name :</span></dt><dd>Correlation Magnitude Beam2</dd><dt><span>units :</span></dt><dd>1</dd><dt><span>precision :</span></dt><dd>0</dd><dt><span>_ChunkSizes :</span></dt><dd>[7811   30]</dd></dl></div><div class='xr-var-data'><pre>[234330 values with dtype=float32]</pre></div></li><li class='xr-var-item'><div class='xr-var-name'><span>correlation_magnitude_beam3</span></div><div class='xr-var-dims'>(obs, bin)</div><div class='xr-var-dtype'>float32</div><div class='xr-var-preview xr-preview'>...</div><input id='attrs-be02b8c4-41f8-4560-8cef-d4a01819939f' class='xr-var-attrs-in' type='checkbox' ><label for='attrs-be02b8c4-41f8-4560-8cef-d4a01819939f' title='Show/Hide attributes'><svg class='icon xr-icon-file-text2'><use xlink:href='#icon-file-text2'></use></svg></label><input id='data-b60ca585-42ee-4f76-831d-4ba7d9ee6621' class='xr-var-data-in' type='checkbox'><label for='data-b60ca585-42ee-4f76-831d-4ba7d9ee6621' title='Show/Hide data repr'><svg class='icon xr-icon-database'><use xlink:href='#icon-database'></use></svg></label><div class='xr-var-attrs'><dl class='xr-attrs'><dt><span>comment :</span></dt><dd>Magnitude of the normalized echo auto-correlation at the lag used for estimating the Doppler phase change. 0 represents bad correlation and 255 represents perfect correlation.</dd><dt><span>precision :</span></dt><dd>0</dd><dt><span>long_name :</span></dt><dd>Correlation Magnitude Beam3</dd><dt><span>units :</span></dt><dd>1</dd><dt><span>_ChunkSizes :</span></dt><dd>[7811   30]</dd></dl></div><div class='xr-var-data'><pre>[234330 values with dtype=float32]</pre></div></li><li class='xr-var-item'><div class='xr-var-name'><span>correlation_magnitude_beam1</span></div><div class='xr-var-dims'>(obs, bin)</div><div class='xr-var-dtype'>float32</div><div class='xr-var-preview xr-preview'>...</div><input id='attrs-c62d3208-453d-49ee-bb8c-e45887aac681' class='xr-var-attrs-in' type='checkbox' ><label for='attrs-c62d3208-453d-49ee-bb8c-e45887aac681' title='Show/Hide attributes'><svg class='icon xr-icon-file-text2'><use xlink:href='#icon-file-text2'></use></svg></label><input id='data-c9fdf007-4bf1-4a46-8850-e201181b6b61' class='xr-var-data-in' type='checkbox'><label for='data-c9fdf007-4bf1-4a46-8850-e201181b6b61' title='Show/Hide data repr'><svg class='icon xr-icon-database'><use xlink:href='#icon-database'></use></svg></label><div class='xr-var-attrs'><dl class='xr-attrs'><dt><span>units :</span></dt><dd>1</dd><dt><span>comment :</span></dt><dd>Magnitude of the normalized echo auto-correlation at the lag used for estimating the Doppler phase change. 0 represents bad correlation and 255 represents perfect correlation.</dd><dt><span>precision :</span></dt><dd>0</dd><dt><span>long_name :</span></dt><dd>Correlation Magnitude Beam1</dd><dt><span>_ChunkSizes :</span></dt><dd>[7811   30]</dd></dl></div><div class='xr-var-data'><pre>[234330 values with dtype=float32]</pre></div></li><li class='xr-var-item'><div class='xr-var-name'><span>echo_intensity_beam4</span></div><div class='xr-var-dims'>(obs, bin)</div><div class='xr-var-dtype'>float32</div><div class='xr-var-preview xr-preview'>...</div><input id='attrs-f1311be4-fc6f-4624-8ed9-90be89074012' class='xr-var-attrs-in' type='checkbox' ><label for='attrs-f1311be4-fc6f-4624-8ed9-90be89074012' title='Show/Hide attributes'><svg class='icon xr-icon-file-text2'><use xlink:href='#icon-file-text2'></use></svg></label><input id='data-d5a71fc3-7c1f-4f87-974f-f8ced5951a2a' class='xr-var-data-in' type='checkbox'><label for='data-d5a71fc3-7c1f-4f87-974f-f8ced5951a2a' title='Show/Hide data repr'><svg class='icon xr-icon-database'><use xlink:href='#icon-database'></use></svg></label><div class='xr-var-attrs'><dl class='xr-attrs'><dt><span>comment :</span></dt><dd>Echo Intensity Measurement is the accoustic return signal that is output directly from the ADCP. This is used to calculate the echo intensity data product.</dd><dt><span>long_name :</span></dt><dd>Echo Intensity Beam 4 Measurement</dd><dt><span>precision :</span></dt><dd>0</dd><dt><span>data_product_identifier :</span></dt><dd>ECHOINT-B4_L0</dd><dt><span>units :</span></dt><dd>counts</dd><dt><span>_ChunkSizes :</span></dt><dd>[7811   30]</dd></dl></div><div class='xr-var-data'><pre>[234330 values with dtype=float32]</pre></div></li><li class='xr-var-item'><div class='xr-var-name'><span>echo_intensity_beam3</span></div><div class='xr-var-dims'>(obs, bin)</div><div class='xr-var-dtype'>float32</div><div class='xr-var-preview xr-preview'>...</div><input id='attrs-167142ad-8677-4b85-87e6-f8fe3fc8fff1' class='xr-var-attrs-in' type='checkbox' ><label for='attrs-167142ad-8677-4b85-87e6-f8fe3fc8fff1' title='Show/Hide attributes'><svg class='icon xr-icon-file-text2'><use xlink:href='#icon-file-text2'></use></svg></label><input id='data-b076d280-851a-4c1f-8900-36e7e15db63c' class='xr-var-data-in' type='checkbox'><label for='data-b076d280-851a-4c1f-8900-36e7e15db63c' title='Show/Hide data repr'><svg class='icon xr-icon-database'><use xlink:href='#icon-database'></use></svg></label><div class='xr-var-attrs'><dl class='xr-attrs'><dt><span>comment :</span></dt><dd>Echo Intensity Measurement is the accoustic return signal that is output directly from the ADCP. This is used to calculate the echo intensity data product.</dd><dt><span>long_name :</span></dt><dd>Echo Intensity Beam 3 Measurement</dd><dt><span>precision :</span></dt><dd>0</dd><dt><span>data_product_identifier :</span></dt><dd>ECHOINT-B3_L0</dd><dt><span>units :</span></dt><dd>counts</dd><dt><span>_ChunkSizes :</span></dt><dd>[7811   30]</dd></dl></div><div class='xr-var-data'><pre>[234330 values with dtype=float32]</pre></div></li><li class='xr-var-item'><div class='xr-var-name'><span>echo_intensity_beam1</span></div><div class='xr-var-dims'>(obs, bin)</div><div class='xr-var-dtype'>float32</div><div class='xr-var-preview xr-preview'>...</div><input id='attrs-5f318814-fb66-4680-8300-a699748fb5fb' class='xr-var-attrs-in' type='checkbox' ><label for='attrs-5f318814-fb66-4680-8300-a699748fb5fb' title='Show/Hide attributes'><svg class='icon xr-icon-file-text2'><use xlink:href='#icon-file-text2'></use></svg></label><input id='data-c525555d-54cc-441f-977f-ede71f9afbba' class='xr-var-data-in' type='checkbox'><label for='data-c525555d-54cc-441f-977f-ede71f9afbba' title='Show/Hide data repr'><svg class='icon xr-icon-database'><use xlink:href='#icon-database'></use></svg></label><div class='xr-var-attrs'><dl class='xr-attrs'><dt><span>comment :</span></dt><dd>Echo Intensity Measurement is the accoustic return signal that is output directly from the ADCP. This is used to calculate the echo intensity data product.</dd><dt><span>long_name :</span></dt><dd>Echo Intensity Beam 1 Measurement</dd><dt><span>precision :</span></dt><dd>0</dd><dt><span>data_product_identifier :</span></dt><dd>ECHOINT-B1_L0</dd><dt><span>units :</span></dt><dd>counts</dd><dt><span>_ChunkSizes :</span></dt><dd>[7811   30]</dd></dl></div><div class='xr-var-data'><pre>[234330 values with dtype=float32]</pre></div></li><li class='xr-var-item'><div class='xr-var-name'><span>u</span></div><div class='xr-var-dims'>(obs, bin)</div><div class='xr-var-dtype'>float32</div><div class='xr-var-preview xr-preview'>0.04 0.055 0.055 ... -0.206 nan nan</div><input id='attrs-1b423dbe-7f77-4b12-94f6-fc4a05f2851a' class='xr-var-attrs-in' type='checkbox' ><label for='attrs-1b423dbe-7f77-4b12-94f6-fc4a05f2851a' title='Show/Hide attributes'><svg class='icon xr-icon-file-text2'><use xlink:href='#icon-file-text2'></use></svg></label><input id='data-a2f92063-2af2-434b-a12e-8fe54bfc5dae' class='xr-var-data-in' type='checkbox'><label for='data-a2f92063-2af2-434b-a12e-8fe54bfc5dae' title='Show/Hide data repr'><svg class='icon xr-icon-database'><use xlink:href='#icon-database'></use></svg></label><div class='xr-var-attrs'><dl class='xr-attrs'><dt><span>units :</span></dt><dd>m/s</dd></dl></div><div class='xr-var-data'><pre>array([[ 0.04 ,  0.055,  0.055, ...,  0.09 ,  0.065,  0.078],\n",
              "       [ 0.035,  0.039,  0.032, ..., -0.127, -0.167, -0.169],\n",
              "       [ 0.054,  0.046,  0.041, ...,  0.204,  0.177,  0.17 ],\n",
              "       ...,\n",
              "       [-0.015, -0.063, -0.063, ..., -1.01 ,    nan,    nan],\n",
              "       [-0.009, -0.046, -0.079, ..., -0.22 ,    nan,    nan],\n",
              "       [-0.036, -0.074, -0.071, ..., -0.206,    nan,    nan]],\n",
              "      dtype=float32)</pre></div></li><li class='xr-var-item'><div class='xr-var-name'><span>v</span></div><div class='xr-var-dims'>(obs, bin)</div><div class='xr-var-dtype'>float32</div><div class='xr-var-preview xr-preview'>-0.029 -0.02 -0.023 ... nan nan</div><input id='attrs-0e4f0ee3-3b46-4d83-abae-237daefb98a4' class='xr-var-attrs-in' type='checkbox' ><label for='attrs-0e4f0ee3-3b46-4d83-abae-237daefb98a4' title='Show/Hide attributes'><svg class='icon xr-icon-file-text2'><use xlink:href='#icon-file-text2'></use></svg></label><input id='data-697b7a2d-4f9d-4dc7-9eb3-87494010c50b' class='xr-var-data-in' type='checkbox'><label for='data-697b7a2d-4f9d-4dc7-9eb3-87494010c50b' title='Show/Hide data repr'><svg class='icon xr-icon-database'><use xlink:href='#icon-database'></use></svg></label><div class='xr-var-attrs'><dl class='xr-attrs'><dt><span>units :</span></dt><dd>m/s</dd></dl></div><div class='xr-var-data'><pre>array([[-0.029, -0.02 , -0.023, ..., -0.131, -0.146, -0.154],\n",
              "       [-0.034, -0.02 , -0.031, ..., -0.36 , -0.33 , -0.315],\n",
              "       [-0.011, -0.021, -0.034, ..., -0.383, -0.387, -0.4  ],\n",
              "       ...,\n",
              "       [ 0.024,  0.019,  0.028, ..., -0.575,    nan,    nan],\n",
              "       [ 0.035,  0.023,  0.021, ...,  0.371,    nan,    nan],\n",
              "       [ 0.02 ,  0.014,  0.033, ...,  0.341,    nan,    nan]],\n",
              "      dtype=float32)</pre></div></li><li class='xr-var-item'><div class='xr-var-name'><span>bin_height</span></div><div class='xr-var-dims'>(bin)</div><div class='xr-var-dtype'>float64</div><div class='xr-var-preview xr-preview'>2.09 3.09 4.09 ... 30.09 31.09</div><input id='attrs-b1be47a3-bc87-4a92-b82e-49bec2568381' class='xr-var-attrs-in' type='checkbox' ><label for='attrs-b1be47a3-bc87-4a92-b82e-49bec2568381' title='Show/Hide attributes'><svg class='icon xr-icon-file-text2'><use xlink:href='#icon-file-text2'></use></svg></label><input id='data-80f14519-394f-4574-a733-a00769236204' class='xr-var-data-in' type='checkbox'><label for='data-80f14519-394f-4574-a733-a00769236204' title='Show/Hide data repr'><svg class='icon xr-icon-database'><use xlink:href='#icon-database'></use></svg></label><div class='xr-var-attrs'><dl class='xr-attrs'><dt><span>units :</span></dt><dd>m</dd></dl></div><div class='xr-var-data'><pre>array([ 2.09,  3.09,  4.09,  5.09,  6.09,  7.09,  8.09,  9.09, 10.09,\n",
              "       11.09, 12.09, 13.09, 14.09, 15.09, 16.09, 17.09, 18.09, 19.09,\n",
              "       20.09, 21.09, 22.09, 23.09, 24.09, 25.09, 26.09, 27.09, 28.09,\n",
              "       29.09, 30.09, 31.09])</pre></div></li><li class='xr-var-item'><div class='xr-var-name'><span>sea_surface</span></div><div class='xr-var-dims'>(obs)</div><div class='xr-var-dtype'>float64</div><div class='xr-var-preview xr-preview'>-1.558 -1.354 ... 1.343 1.216</div><input id='attrs-c3ed8585-ad7a-4414-8140-14f3b2c8de68' class='xr-var-attrs-in' type='checkbox' ><label for='attrs-c3ed8585-ad7a-4414-8140-14f3b2c8de68' title='Show/Hide attributes'><svg class='icon xr-icon-file-text2'><use xlink:href='#icon-file-text2'></use></svg></label><input id='data-f6def051-5b25-4eec-832a-a8fb1a4ae4d5' class='xr-var-data-in' type='checkbox'><label for='data-f6def051-5b25-4eec-832a-a8fb1a4ae4d5' title='Show/Hide data repr'><svg class='icon xr-icon-database'><use xlink:href='#icon-database'></use></svg></label><div class='xr-var-attrs'><dl class='xr-attrs'><dt><span>units :</span></dt><dd>m</dd></dl></div><div class='xr-var-data'><pre>array([-1.5584337 , -1.3541222 , -1.10220443, ...,  1.36240778,\n",
              "        1.34257199,  1.21562286])</pre></div></li></ul></div></li><li class='xr-section-item'><input id='section-35b54a50-1633-43ae-9dc9-5c5227607cac' class='xr-section-summary-in' type='checkbox'  ><label for='section-35b54a50-1633-43ae-9dc9-5c5227607cac' class='xr-section-summary' >Indexes: <span>(2)</span></label><div class='xr-section-inline-details'></div><div class='xr-section-details'><ul class='xr-var-list'><li class='xr-var-item'><div class='xr-index-name'><div>obs</div></div><div class='xr-index-preview'>PandasIndex</div><input type='checkbox' disabled/><label></label><input id='index-631642a4-e907-4179-a4ba-e2c9b45551b6' class='xr-index-data-in' type='checkbox'/><label for='index-631642a4-e907-4179-a4ba-e2c9b45551b6' title='Show/Hide index repr'><svg class='icon xr-icon-database'><use xlink:href='#icon-database'></use></svg></label><div class='xr-index-data'><pre>PandasIndex(Index([   0,    1,    2,    3,    4,    5,    6,    7,    8,    9,\n",
              "       ...\n",
              "       7801, 7802, 7803, 7804, 7805, 7806, 7807, 7808, 7809, 7810],\n",
              "      dtype=&#x27;int32&#x27;, name=&#x27;obs&#x27;, length=7811))</pre></div></li><li class='xr-var-item'><div class='xr-index-name'><div>bin</div></div><div class='xr-index-preview'>PandasIndex</div><input type='checkbox' disabled/><label></label><input id='index-3e6b9872-11e7-489b-9631-eaab66e5c89e' class='xr-index-data-in' type='checkbox'/><label for='index-3e6b9872-11e7-489b-9631-eaab66e5c89e' title='Show/Hide index repr'><svg class='icon xr-icon-database'><use xlink:href='#icon-database'></use></svg></label><div class='xr-index-data'><pre>PandasIndex(Index([ 0,  1,  2,  3,  4,  5,  6,  7,  8,  9, 10, 11, 12, 13, 14, 15, 16, 17,\n",
              "       18, 19, 20, 21, 22, 23, 24, 25, 26, 27, 28, 29],\n",
              "      dtype=&#x27;int32&#x27;, name=&#x27;bin&#x27;))</pre></div></li></ul></div></li><li class='xr-section-item'><input id='section-8071abd1-2368-49a3-a8a0-3d750995e360' class='xr-section-summary-in' type='checkbox'  ><label for='section-8071abd1-2368-49a3-a8a0-3d750995e360' class='xr-section-summary' >Attributes: <span>(73)</span></label><div class='xr-section-inline-details'></div><div class='xr-section-details'><dl class='xr-attrs'><dt><span>node :</span></dt><dd>MFD35</dd><dt><span>comment :</span></dt><dd></dd><dt><span>publisher_email :</span></dt><dd></dd><dt><span>sourceUrl :</span></dt><dd>http://oceanobservatories.org/</dd><dt><span>collection_method :</span></dt><dd>recovered_inst</dd><dt><span>stream :</span></dt><dd>adcp_velocity_earth</dd><dt><span>featureType :</span></dt><dd>point</dd><dt><span>creator_email :</span></dt><dd></dd><dt><span>publisher_name :</span></dt><dd>Ocean Observatories Initiative</dd><dt><span>date_modified :</span></dt><dd>2022-09-12T21:56:09.365081</dd><dt><span>keywords :</span></dt><dd></dd><dt><span>cdm_data_type :</span></dt><dd>Point</dd><dt><span>references :</span></dt><dd>More information can be found at http://oceanobservatories.org/</dd><dt><span>Metadata_Conventions :</span></dt><dd>Unidata Dataset Discovery v1.0</dd><dt><span>date_created :</span></dt><dd>2022-09-12T21:56:09.365079</dd><dt><span>id :</span></dt><dd>CE01ISSM-MFD35-04-ADCPTM000-recovered_inst-adcp_velocity_earth</dd><dt><span>requestUUID :</span></dt><dd>cf281271-272e-41b5-a7eb-bdce5892ea6d</dd><dt><span>contributor_role :</span></dt><dd></dd><dt><span>summary :</span></dt><dd>Dataset Generated by Stream Engine from Ocean Observatories Initiative</dd><dt><span>keywords_vocabulary :</span></dt><dd></dd><dt><span>institution :</span></dt><dd>Ocean Observatories Initiative</dd><dt><span>naming_authority :</span></dt><dd>org.oceanobservatories</dd><dt><span>feature_Type :</span></dt><dd>point</dd><dt><span>infoUrl :</span></dt><dd>http://oceanobservatories.org/</dd><dt><span>license :</span></dt><dd></dd><dt><span>contributor_name :</span></dt><dd></dd><dt><span>uuid :</span></dt><dd>cf281271-272e-41b5-a7eb-bdce5892ea6d</dd><dt><span>creator_name :</span></dt><dd>Ocean Observatories Initiative</dd><dt><span>title :</span></dt><dd>Data produced by Stream Engine version 1.20.1 for CE01ISSM-MFD35-04-ADCPTM000-recovered_inst-adcp_velocity_earth</dd><dt><span>sensor :</span></dt><dd>04-ADCPTM000</dd><dt><span>standard_name_vocabulary :</span></dt><dd>NetCDF Climate and Forecast (CF) Metadata Convention Standard Name Table 29</dd><dt><span>acknowledgement :</span></dt><dd></dd><dt><span>Conventions :</span></dt><dd>CF-1.6</dd><dt><span>project :</span></dt><dd>Ocean Observatories Initiative</dd><dt><span>source :</span></dt><dd>CE01ISSM-MFD35-04-ADCPTM000-recovered_inst-adcp_velocity_earth</dd><dt><span>publisher_url :</span></dt><dd>http://oceanobservatories.org/</dd><dt><span>creator_url :</span></dt><dd>http://oceanobservatories.org/</dd><dt><span>nodc_template_version :</span></dt><dd>NODC_NetCDF_TimeSeries_Orthogonal_Template_v1.1</dd><dt><span>subsite :</span></dt><dd>CE01ISSM</dd><dt><span>processing_level :</span></dt><dd>L2</dd><dt><span>history :</span></dt><dd>2022-09-12T21:56:09.365039 generated from Stream Engine</dd><dt><span>Manufacturer :</span></dt><dd>Teledyne RDI</dd><dt><span>ModelNumber :</span></dt><dd>WHS600-500</dd><dt><span>SerialNumber :</span></dt><dd>21522</dd><dt><span>Description :</span></dt><dd>ADCP Velocity Profiler (short range): ADCPT Series M</dd><dt><span>FirmwareVersion :</span></dt><dd>Not specified.</dd><dt><span>SoftwareVersion :</span></dt><dd>Not specified.</dd><dt><span>AssetUniqueID :</span></dt><dd>CGINS-ADCPTM-21522</dd><dt><span>Notes :</span></dt><dd>Not specified.</dd><dt><span>Owner :</span></dt><dd>Not specified.</dd><dt><span>RemoteResources :</span></dt><dd>[]</dd><dt><span>ShelfLifeExpirationDate :</span></dt><dd>Not specified.</dd><dt><span>Mobile :</span></dt><dd>False</dd><dt><span>AssetManagementRecordLastModified :</span></dt><dd>2022-09-02T13:10:23.151000</dd><dt><span>time_coverage_start :</span></dt><dd>2018-04-03T04:30:00</dd><dt><span>time_coverage_end :</span></dt><dd>2018-09-12T22:45:45.920000</dd><dt><span>time_coverage_resolution :</span></dt><dd>P1800.35S</dd><dt><span>geospatial_lat_min :</span></dt><dd>44.65685</dd><dt><span>geospatial_lat_max :</span></dt><dd>44.65685</dd><dt><span>geospatial_lat_units :</span></dt><dd>degrees_north</dd><dt><span>geospatial_lat_resolution :</span></dt><dd>0.1</dd><dt><span>geospatial_lon_min :</span></dt><dd>-124.09553</dd><dt><span>geospatial_lon_max :</span></dt><dd>-124.09553</dd><dt><span>geospatial_lon_units :</span></dt><dd>degrees_east</dd><dt><span>geospatial_lon_resolution :</span></dt><dd>0.1</dd><dt><span>geospatial_vertical_units :</span></dt><dd>meters</dd><dt><span>geospatial_vertical_resolution :</span></dt><dd>0.1</dd><dt><span>geospatial_vertical_positive :</span></dt><dd>down</dd><dt><span>lat :</span></dt><dd>44.65685</dd><dt><span>lon :</span></dt><dd>-124.09553</dd><dt><span>DODS.strlen :</span></dt><dd>18</dd><dt><span>DODS.dimName :</span></dt><dd>string18</dd><dt><span>DODS_EXTRA.Unlimited_Dimension :</span></dt><dd>obs</dd></dl></div></li></ul></div></div>"
            ]
          },
          "metadata": {},
          "execution_count": 18
        }
      ]
    },
    {
      "cell_type": "code",
      "metadata": {
        "colab": {
          "base_uri": "https://localhost:8080/",
          "height": 313
        },
        "id": "7996trnw9zE3",
        "outputId": "25e3ce6d-509f-4106-9fc3-99ecfa95d59e"
      },
      "source": [
        "ds['time']"
      ],
      "execution_count": 6,
      "outputs": [
        {
          "output_type": "execute_result",
          "data": {
            "text/plain": [
              "<xarray.DataArray 'time' (obs: 7811)> Size: 62kB\n",
              "[7811 values with dtype=datetime64[ns]]\n",
              "Coordinates:\n",
              "  * obs      (obs) int32 31kB 0 1 2 3 4 5 6 ... 7805 7806 7807 7808 7809 7810\n",
              "    depth    (obs) float64 62kB ...\n",
              "    time     (obs) datetime64[ns] 62kB ...\n",
              "Attributes:\n",
              "    long_name:      time\n",
              "    standard_name:  time\n",
              "    axis:           T\n",
              "    _ChunkSizes:    7811"
            ],
            "text/html": [
              "<div><svg style=\"position: absolute; width: 0; height: 0; overflow: hidden\">\n",
              "<defs>\n",
              "<symbol id=\"icon-database\" viewBox=\"0 0 32 32\">\n",
              "<path d=\"M16 0c-8.837 0-16 2.239-16 5v4c0 2.761 7.163 5 16 5s16-2.239 16-5v-4c0-2.761-7.163-5-16-5z\"></path>\n",
              "<path d=\"M16 17c-8.837 0-16-2.239-16-5v6c0 2.761 7.163 5 16 5s16-2.239 16-5v-6c0 2.761-7.163 5-16 5z\"></path>\n",
              "<path d=\"M16 26c-8.837 0-16-2.239-16-5v6c0 2.761 7.163 5 16 5s16-2.239 16-5v-6c0 2.761-7.163 5-16 5z\"></path>\n",
              "</symbol>\n",
              "<symbol id=\"icon-file-text2\" viewBox=\"0 0 32 32\">\n",
              "<path d=\"M28.681 7.159c-0.694-0.947-1.662-2.053-2.724-3.116s-2.169-2.030-3.116-2.724c-1.612-1.182-2.393-1.319-2.841-1.319h-15.5c-1.378 0-2.5 1.121-2.5 2.5v27c0 1.378 1.122 2.5 2.5 2.5h23c1.378 0 2.5-1.122 2.5-2.5v-19.5c0-0.448-0.137-1.23-1.319-2.841zM24.543 5.457c0.959 0.959 1.712 1.825 2.268 2.543h-4.811v-4.811c0.718 0.556 1.584 1.309 2.543 2.268zM28 29.5c0 0.271-0.229 0.5-0.5 0.5h-23c-0.271 0-0.5-0.229-0.5-0.5v-27c0-0.271 0.229-0.5 0.5-0.5 0 0 15.499-0 15.5 0v7c0 0.552 0.448 1 1 1h7v19.5z\"></path>\n",
              "<path d=\"M23 26h-14c-0.552 0-1-0.448-1-1s0.448-1 1-1h14c0.552 0 1 0.448 1 1s-0.448 1-1 1z\"></path>\n",
              "<path d=\"M23 22h-14c-0.552 0-1-0.448-1-1s0.448-1 1-1h14c0.552 0 1 0.448 1 1s-0.448 1-1 1z\"></path>\n",
              "<path d=\"M23 18h-14c-0.552 0-1-0.448-1-1s0.448-1 1-1h14c0.552 0 1 0.448 1 1s-0.448 1-1 1z\"></path>\n",
              "</symbol>\n",
              "</defs>\n",
              "</svg>\n",
              "<style>/* CSS stylesheet for displaying xarray objects in jupyterlab.\n",
              " *\n",
              " */\n",
              "\n",
              ":root {\n",
              "  --xr-font-color0: var(--jp-content-font-color0, rgba(0, 0, 0, 1));\n",
              "  --xr-font-color2: var(--jp-content-font-color2, rgba(0, 0, 0, 0.54));\n",
              "  --xr-font-color3: var(--jp-content-font-color3, rgba(0, 0, 0, 0.38));\n",
              "  --xr-border-color: var(--jp-border-color2, #e0e0e0);\n",
              "  --xr-disabled-color: var(--jp-layout-color3, #bdbdbd);\n",
              "  --xr-background-color: var(--jp-layout-color0, white);\n",
              "  --xr-background-color-row-even: var(--jp-layout-color1, white);\n",
              "  --xr-background-color-row-odd: var(--jp-layout-color2, #eeeeee);\n",
              "}\n",
              "\n",
              "html[theme=\"dark\"],\n",
              "html[data-theme=\"dark\"],\n",
              "body[data-theme=\"dark\"],\n",
              "body.vscode-dark {\n",
              "  --xr-font-color0: rgba(255, 255, 255, 1);\n",
              "  --xr-font-color2: rgba(255, 255, 255, 0.54);\n",
              "  --xr-font-color3: rgba(255, 255, 255, 0.38);\n",
              "  --xr-border-color: #1f1f1f;\n",
              "  --xr-disabled-color: #515151;\n",
              "  --xr-background-color: #111111;\n",
              "  --xr-background-color-row-even: #111111;\n",
              "  --xr-background-color-row-odd: #313131;\n",
              "}\n",
              "\n",
              ".xr-wrap {\n",
              "  display: block !important;\n",
              "  min-width: 300px;\n",
              "  max-width: 700px;\n",
              "}\n",
              "\n",
              ".xr-text-repr-fallback {\n",
              "  /* fallback to plain text repr when CSS is not injected (untrusted notebook) */\n",
              "  display: none;\n",
              "}\n",
              "\n",
              ".xr-header {\n",
              "  padding-top: 6px;\n",
              "  padding-bottom: 6px;\n",
              "  margin-bottom: 4px;\n",
              "  border-bottom: solid 1px var(--xr-border-color);\n",
              "}\n",
              "\n",
              ".xr-header > div,\n",
              ".xr-header > ul {\n",
              "  display: inline;\n",
              "  margin-top: 0;\n",
              "  margin-bottom: 0;\n",
              "}\n",
              "\n",
              ".xr-obj-type,\n",
              ".xr-array-name {\n",
              "  margin-left: 2px;\n",
              "  margin-right: 10px;\n",
              "}\n",
              "\n",
              ".xr-obj-type {\n",
              "  color: var(--xr-font-color2);\n",
              "}\n",
              "\n",
              ".xr-sections {\n",
              "  padding-left: 0 !important;\n",
              "  display: grid;\n",
              "  grid-template-columns: 150px auto auto 1fr 0 20px 0 20px;\n",
              "}\n",
              "\n",
              ".xr-section-item {\n",
              "  display: contents;\n",
              "}\n",
              "\n",
              ".xr-section-item input {\n",
              "  display: inline-block;\n",
              "  opacity: 0;\n",
              "  height: 0;\n",
              "}\n",
              "\n",
              ".xr-section-item input + label {\n",
              "  color: var(--xr-disabled-color);\n",
              "}\n",
              "\n",
              ".xr-section-item input:enabled + label {\n",
              "  cursor: pointer;\n",
              "  color: var(--xr-font-color2);\n",
              "}\n",
              "\n",
              ".xr-section-item input:focus + label {\n",
              "  border: 2px solid var(--xr-font-color0);\n",
              "}\n",
              "\n",
              ".xr-section-item input:enabled + label:hover {\n",
              "  color: var(--xr-font-color0);\n",
              "}\n",
              "\n",
              ".xr-section-summary {\n",
              "  grid-column: 1;\n",
              "  color: var(--xr-font-color2);\n",
              "  font-weight: 500;\n",
              "}\n",
              "\n",
              ".xr-section-summary > span {\n",
              "  display: inline-block;\n",
              "  padding-left: 0.5em;\n",
              "}\n",
              "\n",
              ".xr-section-summary-in:disabled + label {\n",
              "  color: var(--xr-font-color2);\n",
              "}\n",
              "\n",
              ".xr-section-summary-in + label:before {\n",
              "  display: inline-block;\n",
              "  content: \"►\";\n",
              "  font-size: 11px;\n",
              "  width: 15px;\n",
              "  text-align: center;\n",
              "}\n",
              "\n",
              ".xr-section-summary-in:disabled + label:before {\n",
              "  color: var(--xr-disabled-color);\n",
              "}\n",
              "\n",
              ".xr-section-summary-in:checked + label:before {\n",
              "  content: \"▼\";\n",
              "}\n",
              "\n",
              ".xr-section-summary-in:checked + label > span {\n",
              "  display: none;\n",
              "}\n",
              "\n",
              ".xr-section-summary,\n",
              ".xr-section-inline-details {\n",
              "  padding-top: 4px;\n",
              "  padding-bottom: 4px;\n",
              "}\n",
              "\n",
              ".xr-section-inline-details {\n",
              "  grid-column: 2 / -1;\n",
              "}\n",
              "\n",
              ".xr-section-details {\n",
              "  display: none;\n",
              "  grid-column: 1 / -1;\n",
              "  margin-bottom: 5px;\n",
              "}\n",
              "\n",
              ".xr-section-summary-in:checked ~ .xr-section-details {\n",
              "  display: contents;\n",
              "}\n",
              "\n",
              ".xr-array-wrap {\n",
              "  grid-column: 1 / -1;\n",
              "  display: grid;\n",
              "  grid-template-columns: 20px auto;\n",
              "}\n",
              "\n",
              ".xr-array-wrap > label {\n",
              "  grid-column: 1;\n",
              "  vertical-align: top;\n",
              "}\n",
              "\n",
              ".xr-preview {\n",
              "  color: var(--xr-font-color3);\n",
              "}\n",
              "\n",
              ".xr-array-preview,\n",
              ".xr-array-data {\n",
              "  padding: 0 5px !important;\n",
              "  grid-column: 2;\n",
              "}\n",
              "\n",
              ".xr-array-data,\n",
              ".xr-array-in:checked ~ .xr-array-preview {\n",
              "  display: none;\n",
              "}\n",
              "\n",
              ".xr-array-in:checked ~ .xr-array-data,\n",
              ".xr-array-preview {\n",
              "  display: inline-block;\n",
              "}\n",
              "\n",
              ".xr-dim-list {\n",
              "  display: inline-block !important;\n",
              "  list-style: none;\n",
              "  padding: 0 !important;\n",
              "  margin: 0;\n",
              "}\n",
              "\n",
              ".xr-dim-list li {\n",
              "  display: inline-block;\n",
              "  padding: 0;\n",
              "  margin: 0;\n",
              "}\n",
              "\n",
              ".xr-dim-list:before {\n",
              "  content: \"(\";\n",
              "}\n",
              "\n",
              ".xr-dim-list:after {\n",
              "  content: \")\";\n",
              "}\n",
              "\n",
              ".xr-dim-list li:not(:last-child):after {\n",
              "  content: \",\";\n",
              "  padding-right: 5px;\n",
              "}\n",
              "\n",
              ".xr-has-index {\n",
              "  font-weight: bold;\n",
              "}\n",
              "\n",
              ".xr-var-list,\n",
              ".xr-var-item {\n",
              "  display: contents;\n",
              "}\n",
              "\n",
              ".xr-var-item > div,\n",
              ".xr-var-item label,\n",
              ".xr-var-item > .xr-var-name span {\n",
              "  background-color: var(--xr-background-color-row-even);\n",
              "  margin-bottom: 0;\n",
              "}\n",
              "\n",
              ".xr-var-item > .xr-var-name:hover span {\n",
              "  padding-right: 5px;\n",
              "}\n",
              "\n",
              ".xr-var-list > li:nth-child(odd) > div,\n",
              ".xr-var-list > li:nth-child(odd) > label,\n",
              ".xr-var-list > li:nth-child(odd) > .xr-var-name span {\n",
              "  background-color: var(--xr-background-color-row-odd);\n",
              "}\n",
              "\n",
              ".xr-var-name {\n",
              "  grid-column: 1;\n",
              "}\n",
              "\n",
              ".xr-var-dims {\n",
              "  grid-column: 2;\n",
              "}\n",
              "\n",
              ".xr-var-dtype {\n",
              "  grid-column: 3;\n",
              "  text-align: right;\n",
              "  color: var(--xr-font-color2);\n",
              "}\n",
              "\n",
              ".xr-var-preview {\n",
              "  grid-column: 4;\n",
              "}\n",
              "\n",
              ".xr-index-preview {\n",
              "  grid-column: 2 / 5;\n",
              "  color: var(--xr-font-color2);\n",
              "}\n",
              "\n",
              ".xr-var-name,\n",
              ".xr-var-dims,\n",
              ".xr-var-dtype,\n",
              ".xr-preview,\n",
              ".xr-attrs dt {\n",
              "  white-space: nowrap;\n",
              "  overflow: hidden;\n",
              "  text-overflow: ellipsis;\n",
              "  padding-right: 10px;\n",
              "}\n",
              "\n",
              ".xr-var-name:hover,\n",
              ".xr-var-dims:hover,\n",
              ".xr-var-dtype:hover,\n",
              ".xr-attrs dt:hover {\n",
              "  overflow: visible;\n",
              "  width: auto;\n",
              "  z-index: 1;\n",
              "}\n",
              "\n",
              ".xr-var-attrs,\n",
              ".xr-var-data,\n",
              ".xr-index-data {\n",
              "  display: none;\n",
              "  background-color: var(--xr-background-color) !important;\n",
              "  padding-bottom: 5px !important;\n",
              "}\n",
              "\n",
              ".xr-var-attrs-in:checked ~ .xr-var-attrs,\n",
              ".xr-var-data-in:checked ~ .xr-var-data,\n",
              ".xr-index-data-in:checked ~ .xr-index-data {\n",
              "  display: block;\n",
              "}\n",
              "\n",
              ".xr-var-data > table {\n",
              "  float: right;\n",
              "}\n",
              "\n",
              ".xr-var-name span,\n",
              ".xr-var-data,\n",
              ".xr-index-name div,\n",
              ".xr-index-data,\n",
              ".xr-attrs {\n",
              "  padding-left: 25px !important;\n",
              "}\n",
              "\n",
              ".xr-attrs,\n",
              ".xr-var-attrs,\n",
              ".xr-var-data,\n",
              ".xr-index-data {\n",
              "  grid-column: 1 / -1;\n",
              "}\n",
              "\n",
              "dl.xr-attrs {\n",
              "  padding: 0;\n",
              "  margin: 0;\n",
              "  display: grid;\n",
              "  grid-template-columns: 125px auto;\n",
              "}\n",
              "\n",
              ".xr-attrs dt,\n",
              ".xr-attrs dd {\n",
              "  padding: 0;\n",
              "  margin: 0;\n",
              "  float: left;\n",
              "  padding-right: 10px;\n",
              "  width: auto;\n",
              "}\n",
              "\n",
              ".xr-attrs dt {\n",
              "  font-weight: normal;\n",
              "  grid-column: 1;\n",
              "}\n",
              "\n",
              ".xr-attrs dt:hover span {\n",
              "  display: inline-block;\n",
              "  background: var(--xr-background-color);\n",
              "  padding-right: 10px;\n",
              "}\n",
              "\n",
              ".xr-attrs dd {\n",
              "  grid-column: 2;\n",
              "  white-space: pre-wrap;\n",
              "  word-break: break-all;\n",
              "}\n",
              "\n",
              ".xr-icon-database,\n",
              ".xr-icon-file-text2,\n",
              ".xr-no-icon {\n",
              "  display: inline-block;\n",
              "  vertical-align: middle;\n",
              "  width: 1em;\n",
              "  height: 1.5em !important;\n",
              "  stroke-width: 0;\n",
              "  stroke: currentColor;\n",
              "  fill: currentColor;\n",
              "}\n",
              "</style><pre class='xr-text-repr-fallback'>&lt;xarray.DataArray &#x27;time&#x27; (obs: 7811)&gt; Size: 62kB\n",
              "[7811 values with dtype=datetime64[ns]]\n",
              "Coordinates:\n",
              "  * obs      (obs) int32 31kB 0 1 2 3 4 5 6 ... 7805 7806 7807 7808 7809 7810\n",
              "    depth    (obs) float64 62kB ...\n",
              "    time     (obs) datetime64[ns] 62kB ...\n",
              "Attributes:\n",
              "    long_name:      time\n",
              "    standard_name:  time\n",
              "    axis:           T\n",
              "    _ChunkSizes:    7811</pre><div class='xr-wrap' style='display:none'><div class='xr-header'><div class='xr-obj-type'>xarray.DataArray</div><div class='xr-array-name'>'time'</div><ul class='xr-dim-list'><li><span class='xr-has-index'>obs</span>: 7811</li></ul></div><ul class='xr-sections'><li class='xr-section-item'><div class='xr-array-wrap'><input id='section-d9f6ee4b-e0ea-4c77-9e2b-200659ed9d64' class='xr-array-in' type='checkbox' checked><label for='section-d9f6ee4b-e0ea-4c77-9e2b-200659ed9d64' title='Show/hide data repr'><svg class='icon xr-icon-database'><use xlink:href='#icon-database'></use></svg></label><div class='xr-array-preview xr-preview'><span>...</span></div><div class='xr-array-data'><pre>[7811 values with dtype=datetime64[ns]]</pre></div></div></li><li class='xr-section-item'><input id='section-8e0a6ff8-d70f-4360-861b-1f1dc7f2236c' class='xr-section-summary-in' type='checkbox'  checked><label for='section-8e0a6ff8-d70f-4360-861b-1f1dc7f2236c' class='xr-section-summary' >Coordinates: <span>(3)</span></label><div class='xr-section-inline-details'></div><div class='xr-section-details'><ul class='xr-var-list'><li class='xr-var-item'><div class='xr-var-name'><span class='xr-has-index'>obs</span></div><div class='xr-var-dims'>(obs)</div><div class='xr-var-dtype'>int32</div><div class='xr-var-preview xr-preview'>0 1 2 3 4 ... 7807 7808 7809 7810</div><input id='attrs-251e7c6f-cbe8-4097-b9a2-d9980ff95f24' class='xr-var-attrs-in' type='checkbox' ><label for='attrs-251e7c6f-cbe8-4097-b9a2-d9980ff95f24' title='Show/Hide attributes'><svg class='icon xr-icon-file-text2'><use xlink:href='#icon-file-text2'></use></svg></label><input id='data-2a56147f-ee6e-4029-8f13-81fe57e86f5e' class='xr-var-data-in' type='checkbox'><label for='data-2a56147f-ee6e-4029-8f13-81fe57e86f5e' title='Show/Hide data repr'><svg class='icon xr-icon-database'><use xlink:href='#icon-database'></use></svg></label><div class='xr-var-attrs'><dl class='xr-attrs'><dt><span>_ChunkSizes :</span></dt><dd>1024</dd></dl></div><div class='xr-var-data'><pre>array([   0,    1,    2, ..., 7808, 7809, 7810], dtype=int32)</pre></div></li><li class='xr-var-item'><div class='xr-var-name'><span>depth</span></div><div class='xr-var-dims'>(obs)</div><div class='xr-var-dtype'>float64</div><div class='xr-var-preview xr-preview'>...</div><input id='attrs-93c758ce-6282-48b9-bbcb-f42297a43141' class='xr-var-attrs-in' type='checkbox' ><label for='attrs-93c758ce-6282-48b9-bbcb-f42297a43141' title='Show/Hide attributes'><svg class='icon xr-icon-file-text2'><use xlink:href='#icon-file-text2'></use></svg></label><input id='data-151f1364-6edc-4c74-bc30-57df73c09aef' class='xr-var-data-in' type='checkbox'><label for='data-151f1364-6edc-4c74-bc30-57df73c09aef' title='Show/Hide data repr'><svg class='icon xr-icon-database'><use xlink:href='#icon-database'></use></svg></label><div class='xr-var-attrs'><dl class='xr-attrs'><dt><span>comment :</span></dt><dd>Depth (m) calculated from pressure (daPa) and latitude.</dd><dt><span>precision :</span></dt><dd>3</dd><dt><span>long_name :</span></dt><dd>Depth calculated from pressure</dd><dt><span>units :</span></dt><dd>m</dd><dt><span>ancillary_variables :</span></dt><dd>pressure</dd><dt><span>axis :</span></dt><dd>Z</dd><dt><span>_ChunkSizes :</span></dt><dd>7811</dd></dl></div><div class='xr-var-data'><pre>[7811 values with dtype=float64]</pre></div></li><li class='xr-var-item'><div class='xr-var-name'><span>time</span></div><div class='xr-var-dims'>(obs)</div><div class='xr-var-dtype'>datetime64[ns]</div><div class='xr-var-preview xr-preview'>...</div><input id='attrs-8ed385e0-3b30-4c55-bbd3-23133ddf7457' class='xr-var-attrs-in' type='checkbox' ><label for='attrs-8ed385e0-3b30-4c55-bbd3-23133ddf7457' title='Show/Hide attributes'><svg class='icon xr-icon-file-text2'><use xlink:href='#icon-file-text2'></use></svg></label><input id='data-755fb1de-1434-4fe7-831b-7fe22fe6ccfe' class='xr-var-data-in' type='checkbox'><label for='data-755fb1de-1434-4fe7-831b-7fe22fe6ccfe' title='Show/Hide data repr'><svg class='icon xr-icon-database'><use xlink:href='#icon-database'></use></svg></label><div class='xr-var-attrs'><dl class='xr-attrs'><dt><span>long_name :</span></dt><dd>time</dd><dt><span>standard_name :</span></dt><dd>time</dd><dt><span>axis :</span></dt><dd>T</dd><dt><span>_ChunkSizes :</span></dt><dd>7811</dd></dl></div><div class='xr-var-data'><pre>[7811 values with dtype=datetime64[ns]]</pre></div></li></ul></div></li><li class='xr-section-item'><input id='section-64b9712f-1e94-4df9-8fa0-9df4ea72bb39' class='xr-section-summary-in' type='checkbox'  ><label for='section-64b9712f-1e94-4df9-8fa0-9df4ea72bb39' class='xr-section-summary' >Indexes: <span>(1)</span></label><div class='xr-section-inline-details'></div><div class='xr-section-details'><ul class='xr-var-list'><li class='xr-var-item'><div class='xr-index-name'><div>obs</div></div><div class='xr-index-preview'>PandasIndex</div><input type='checkbox' disabled/><label></label><input id='index-438d8ae0-80eb-4f5f-9002-61e49af48fbb' class='xr-index-data-in' type='checkbox'/><label for='index-438d8ae0-80eb-4f5f-9002-61e49af48fbb' title='Show/Hide index repr'><svg class='icon xr-icon-database'><use xlink:href='#icon-database'></use></svg></label><div class='xr-index-data'><pre>PandasIndex(Index([   0,    1,    2,    3,    4,    5,    6,    7,    8,    9,\n",
              "       ...\n",
              "       7801, 7802, 7803, 7804, 7805, 7806, 7807, 7808, 7809, 7810],\n",
              "      dtype=&#x27;int32&#x27;, name=&#x27;obs&#x27;, length=7811))</pre></div></li></ul></div></li><li class='xr-section-item'><input id='section-0fa30f75-6fe9-4d44-97d3-74ecc5f73f67' class='xr-section-summary-in' type='checkbox'  checked><label for='section-0fa30f75-6fe9-4d44-97d3-74ecc5f73f67' class='xr-section-summary' >Attributes: <span>(4)</span></label><div class='xr-section-inline-details'></div><div class='xr-section-details'><dl class='xr-attrs'><dt><span>long_name :</span></dt><dd>time</dd><dt><span>standard_name :</span></dt><dd>time</dd><dt><span>axis :</span></dt><dd>T</dd><dt><span>_ChunkSizes :</span></dt><dd>7811</dd></dl></div></li></ul></div></div>"
            ]
          },
          "metadata": {},
          "execution_count": 6
        }
      ]
    },
    {
      "cell_type": "markdown",
      "metadata": {
        "id": "87UqnZsj9zE3"
      },
      "source": [
        "### ADCP post-processing\n",
        "\n",
        "First, for convenience, create variables for eastward velocity ($u$) and northward velocity ($v$) in units of m/s."
      ]
    },
    {
      "cell_type": "code",
      "metadata": {
        "id": "CX6fBd1A9zE4"
      },
      "source": [
        "ds['u'] = ds['water_velocity_east']/1000\n",
        "ds['u'].attrs['units'] = 'm/s'\n",
        "\n",
        "ds['v'] = ds['water_velocity_north']/1000\n",
        "ds['v'].attrs['units'] = 'm/s'"
      ],
      "execution_count": 7,
      "outputs": []
    },
    {
      "cell_type": "markdown",
      "metadata": {
        "id": "dvxpkJ4-9zE4"
      },
      "source": [
        "\n",
        "The dataset provided by OOI includes the following variables:\n",
        "* `depth_from_pressure` is the total water column depth, calculated from the pressure sensor. Dimensions: `(obs)`\n",
        "* `bin_depths` is the depth of each ADCP bin below the sea surface, which moves up and down. The bin depths constantly change in time. Dimensions: `(obs, bin)`\n",
        "\n",
        "The code below creates additional variables for keeping track of depths in the ADCP data:\n",
        "* `bin_height` is the height of each ADCP bin above the bottom. These heights are fixed, since the ADCP is mounted at the bottom. Dimensions: `(bin)`\n",
        "* `bin_depths_avg` is the average depth below the surface for each ADCP bin. These depths are fixed in time since they are defined in relation to a time average. Dimensions: `(bin)`\n",
        "* `sea_surface` is the height of the sea surface, relative to the time average. Dimensions: `(obs)`\n",
        "* `bottom_depth_avg` is the average bottom depth, calculated from the pressure sensor. This is a single value with no dimensions. Dimensions: `()`"
      ]
    },
    {
      "cell_type": "code",
      "metadata": {
        "id": "w4eSRwYz9zE4"
      },
      "source": [
        "ds['bin_height'] =  ds['depth_from_pressure'][0] - ds['bin_depths'][0,:]\n",
        "ds['bin_height'].attrs['units'] = 'm'\n",
        "\n",
        "ds['sea_surface'] = ds['depth_from_pressure']-np.mean(ds['depth_from_pressure'])\n",
        "ds['sea_surface'].attrs['units'] = 'm'"
      ],
      "execution_count": 8,
      "outputs": []
    },
    {
      "cell_type": "markdown",
      "metadata": {
        "id": "K04wIYBO9zE5"
      },
      "source": [
        "### ADCP quality control\n",
        "\n",
        "The acoustic signal of the ADCP can be reflected at the sea surface, leading to contamination. This plot shows the echo intensity for one of the four beams of the ADCP. There is bad data near the sea surface, as well as data above the sea surface which needs to be discarded."
      ]
    },
    {
      "cell_type": "code",
      "metadata": {
        "colab": {
          "base_uri": "https://localhost:8080/",
          "height": 309
        },
        "id": "KESqRo2S9zE6",
        "outputId": "387978e0-00e8-4860-bda5-9046eebe6152"
      },
      "source": [
        "plt.figure(figsize=(8,3))\n",
        "plt.pcolor(ds['time'],ds['bin_height'],\n",
        "           ds['corrected_echo_intensity_beam1'].T)\n",
        "plt.plot(ds['time'],ds['depth_from_pressure'],'k-')"
      ],
      "execution_count": 9,
      "outputs": [
        {
          "output_type": "execute_result",
          "data": {
            "text/plain": [
              "[<matplotlib.lines.Line2D at 0x7ec58e791a10>]"
            ]
          },
          "metadata": {},
          "execution_count": 9
        },
        {
          "output_type": "display_data",
          "data": {
            "text/plain": [
              "<Figure size 800x300 with 1 Axes>"
            ],
            "image/png": "[encoded data removed]"
          },
          "metadata": {}
        }
      ]
    },
    {
      "cell_type": "markdown",
      "metadata": {
        "id": "6HjqyJ_g9zE7"
      },
      "source": [
        "To get a better look, select a date range for plotting a subset of the data."
      ]
    },
    {
      "cell_type": "code",
      "metadata": {
        "id": "s6Y03yCz9zE7"
      },
      "source": [
        "t1 = np.datetime64('2018-07-01 00:00:00')\n",
        "t2 = np.datetime64('2018-07-15 00:00:00')"
      ],
      "execution_count": 10,
      "outputs": []
    },
    {
      "cell_type": "code",
      "metadata": {
        "colab": {
          "base_uri": "https://localhost:8080/",
          "height": 309
        },
        "id": "3P0pVcXT9zE7",
        "outputId": "051007db-01df-43d7-b321-fe1c4213f1c5"
      },
      "source": [
        "plt.figure(figsize=(8,3))\n",
        "plt.pcolor(ds['time'],ds['bin_height'],\n",
        "           ds['corrected_echo_intensity_beam1'].T)\n",
        "plt.plot(ds['time'],ds['depth_from_pressure'],'k-')\n",
        "plt.xlim([t1,t2])"
      ],
      "execution_count": 11,
      "outputs": [
        {
          "output_type": "execute_result",
          "data": {
            "text/plain": [
              "(np.float64(17713.0), np.float64(17727.0))"
            ]
          },
          "metadata": {},
          "execution_count": 11
        },
        {
          "output_type": "display_data",
          "data": {
            "text/plain": [
              "<Figure size 800x300 with 1 Axes>"
            ],
            "image/png": "[encoded data removed]"
          },
          "metadata": {}
        }
      ]
    },
    {
      "cell_type": "markdown",
      "metadata": {
        "id": "pGxbt-1E9zE7"
      },
      "source": [
        "Looking at the velocity, the noise near the surface is apparent."
      ]
    },
    {
      "cell_type": "code",
      "metadata": {
        "colab": {
          "base_uri": "https://localhost:8080/",
          "height": 291
        },
        "id": "aDU55x6C9zE8",
        "outputId": "0de4edc2-49b1-41f5-c988-bd911a3c2c32"
      },
      "source": [
        "plt.figure(figsize=(8,3))\n",
        "plt.pcolor(ds['time'],ds['bin_height'],ds['u'].T,cmap='seismic')\n",
        "plt.plot(ds['time'],ds['depth_from_pressure'],'k-') # convert from dPa to dbar\n",
        "plt.xlim([t1,t2])\n",
        "plt.clim([-0.4,0.4])"
      ],
      "execution_count": 12,
      "outputs": [
        {
          "output_type": "display_data",
          "data": {
            "text/plain": [
              "<Figure size 800x300 with 1 Axes>"
            ],
            "image/png": "[encoded data removed]"
          },
          "metadata": {}
        }
      ]
    },
    {
      "cell_type": "markdown",
      "metadata": {
        "id": "u5WLeGHL9zE8"
      },
      "source": [
        "We can remove the noise by selecting only good data at least 4m below the sea surface."
      ]
    },
    {
      "cell_type": "code",
      "metadata": {
        "id": "ks2MdyDJ9zE9"
      },
      "source": [
        "good = (ds['bin_depths'] > 4)"
      ],
      "execution_count": 13,
      "outputs": []
    },
    {
      "cell_type": "code",
      "metadata": {
        "colab": {
          "base_uri": "https://localhost:8080/",
          "height": 400
        },
        "id": "k3-r8V8L9zE9",
        "outputId": "a0fb64c0-262c-4b25-ffbc-57b8a0815ae1"
      },
      "source": [
        "ds['u'].where(good)"
      ],
      "execution_count": 14,
      "outputs": [
        {
          "output_type": "execute_result",
          "data": {
            "text/plain": [
              "<xarray.DataArray 'u' (obs: 7811, bin: 30)> Size: 937kB\n",
              "array([[ 0.04 ,  0.055,  0.055, ...,    nan,    nan,    nan],\n",
              "       [ 0.035,  0.039,  0.032, ...,    nan,    nan,    nan],\n",
              "       [ 0.054,  0.046,  0.041, ...,    nan,    nan,    nan],\n",
              "       ...,\n",
              "       [-0.015, -0.063, -0.063, ...,    nan,    nan,    nan],\n",
              "       [-0.009, -0.046, -0.079, ...,    nan,    nan,    nan],\n",
              "       [-0.036, -0.074, -0.071, ...,    nan,    nan,    nan]],\n",
              "      dtype=float32)\n",
              "Coordinates:\n",
              "  * obs      (obs) int32 31kB 0 1 2 3 4 5 6 ... 7805 7806 7807 7808 7809 7810\n",
              "    depth    (obs) float64 62kB 2.3 2.321 2.346 2.372 ... 2.59 2.592 2.59 2.578\n",
              "  * bin      (bin) int32 120B 0 1 2 3 4 5 6 7 8 9 ... 21 22 23 24 25 26 27 28 29\n",
              "    time     (obs) datetime64[ns] 62kB 2018-04-03T04:30:00 ... 2018-09-12T22:...\n",
              "Attributes:\n",
              "    units:    m/s"
            ],
            "text/html": [
              "<div><svg style=\"position: absolute; width: 0; height: 0; overflow: hidden\">\n",
              "<defs>\n",
              "<symbol id=\"icon-database\" viewBox=\"0 0 32 32\">\n",
              "<path d=\"M16 0c-8.837 0-16 2.239-16 5v4c0 2.761 7.163 5 16 5s16-2.239 16-5v-4c0-2.761-7.163-5-16-5z\"></path>\n",
              "<path d=\"M16 17c-8.837 0-16-2.239-16-5v6c0 2.761 7.163 5 16 5s16-2.239 16-5v-6c0 2.761-7.163 5-16 5z\"></path>\n",
              "<path d=\"M16 26c-8.837 0-16-2.239-16-5v6c0 2.761 7.163 5 16 5s16-2.239 16-5v-6c0 2.761-7.163 5-16 5z\"></path>\n",
              "</symbol>\n",
              "<symbol id=\"icon-file-text2\" viewBox=\"0 0 32 32\">\n",
              "<path d=\"M28.681 7.159c-0.694-0.947-1.662-2.053-2.724-3.116s-2.169-2.030-3.116-2.724c-1.612-1.182-2.393-1.319-2.841-1.319h-15.5c-1.378 0-2.5 1.121-2.5 2.5v27c0 1.378 1.122 2.5 2.5 2.5h23c1.378 0 2.5-1.122 2.5-2.5v-19.5c0-0.448-0.137-1.23-1.319-2.841zM24.543 5.457c0.959 0.959 1.712 1.825 2.268 2.543h-4.811v-4.811c0.718 0.556 1.584 1.309 2.543 2.268zM28 29.5c0 0.271-0.229 0.5-0.5 0.5h-23c-0.271 0-0.5-0.229-0.5-0.5v-27c0-0.271 0.229-0.5 0.5-0.5 0 0 15.499-0 15.5 0v7c0 0.552 0.448 1 1 1h7v19.5z\"></path>\n",
              "<path d=\"M23 26h-14c-0.552 0-1-0.448-1-1s0.448-1 1-1h14c0.552 0 1 0.448 1 1s-0.448 1-1 1z\"></path>\n",
              "<path d=\"M23 22h-14c-0.552 0-1-0.448-1-1s0.448-1 1-1h14c0.552 0 1 0.448 1 1s-0.448 1-1 1z\"></path>\n",
              "<path d=\"M23 18h-14c-0.552 0-1-0.448-1-1s0.448-1 1-1h14c0.552 0 1 0.448 1 1s-0.448 1-1 1z\"></path>\n",
              "</symbol>\n",
              "</defs>\n",
              "</svg>\n",
              "<style>/* CSS stylesheet for displaying xarray objects in jupyterlab.\n",
              " *\n",
              " */\n",
              "\n",
              ":root {\n",
              "  --xr-font-color0: var(--jp-content-font-color0, rgba(0, 0, 0, 1));\n",
              "  --xr-font-color2: var(--jp-content-font-color2, rgba(0, 0, 0, 0.54));\n",
              "  --xr-font-color3: var(--jp-content-font-color3, rgba(0, 0, 0, 0.38));\n",
              "  --xr-border-color: var(--jp-border-color2, #e0e0e0);\n",
              "  --xr-disabled-color: var(--jp-layout-color3, #bdbdbd);\n",
              "  --xr-background-color: var(--jp-layout-color0, white);\n",
              "  --xr-background-color-row-even: var(--jp-layout-color1, white);\n",
              "  --xr-background-color-row-odd: var(--jp-layout-color2, #eeeeee);\n",
              "}\n",
              "\n",
              "html[theme=\"dark\"],\n",
              "html[data-theme=\"dark\"],\n",
              "body[data-theme=\"dark\"],\n",
              "body.vscode-dark {\n",
              "  --xr-font-color0: rgba(255, 255, 255, 1);\n",
              "  --xr-font-color2: rgba(255, 255, 255, 0.54);\n",
              "  --xr-font-color3: rgba(255, 255, 255, 0.38);\n",
              "  --xr-border-color: #1f1f1f;\n",
              "  --xr-disabled-color: #515151;\n",
              "  --xr-background-color: #111111;\n",
              "  --xr-background-color-row-even: #111111;\n",
              "  --xr-background-color-row-odd: #313131;\n",
              "}\n",
              "\n",
              ".xr-wrap {\n",
              "  display: block !important;\n",
              "  min-width: 300px;\n",
              "  max-width: 700px;\n",
              "}\n",
              "\n",
              ".xr-text-repr-fallback {\n",
              "  /* fallback to plain text repr when CSS is not injected (untrusted notebook) */\n",
              "  display: none;\n",
              "}\n",
              "\n",
              ".xr-header {\n",
              "  padding-top: 6px;\n",
              "  padding-bottom: 6px;\n",
              "  margin-bottom: 4px;\n",
              "  border-bottom: solid 1px var(--xr-border-color);\n",
              "}\n",
              "\n",
              ".xr-header > div,\n",
              ".xr-header > ul {\n",
              "  display: inline;\n",
              "  margin-top: 0;\n",
              "  margin-bottom: 0;\n",
              "}\n",
              "\n",
              ".xr-obj-type,\n",
              ".xr-array-name {\n",
              "  margin-left: 2px;\n",
              "  margin-right: 10px;\n",
              "}\n",
              "\n",
              ".xr-obj-type {\n",
              "  color: var(--xr-font-color2);\n",
              "}\n",
              "\n",
              ".xr-sections {\n",
              "  padding-left: 0 !important;\n",
              "  display: grid;\n",
              "  grid-template-columns: 150px auto auto 1fr 0 20px 0 20px;\n",
              "}\n",
              "\n",
              ".xr-section-item {\n",
              "  display: contents;\n",
              "}\n",
              "\n",
              ".xr-section-item input {\n",
              "  display: inline-block;\n",
              "  opacity: 0;\n",
              "  height: 0;\n",
              "}\n",
              "\n",
              ".xr-section-item input + label {\n",
              "  color: var(--xr-disabled-color);\n",
              "}\n",
              "\n",
              ".xr-section-item input:enabled + label {\n",
              "  cursor: pointer;\n",
              "  color: var(--xr-font-color2);\n",
              "}\n",
              "\n",
              ".xr-section-item input:focus + label {\n",
              "  border: 2px solid var(--xr-font-color0);\n",
              "}\n",
              "\n",
              ".xr-section-item input:enabled + label:hover {\n",
              "  color: var(--xr-font-color0);\n",
              "}\n",
              "\n",
              ".xr-section-summary {\n",
              "  grid-column: 1;\n",
              "  color: var(--xr-font-color2);\n",
              "  font-weight: 500;\n",
              "}\n",
              "\n",
              ".xr-section-summary > span {\n",
              "  display: inline-block;\n",
              "  padding-left: 0.5em;\n",
              "}\n",
              "\n",
              ".xr-section-summary-in:disabled + label {\n",
              "  color: var(--xr-font-color2);\n",
              "}\n",
              "\n",
              ".xr-section-summary-in + label:before {\n",
              "  display: inline-block;\n",
              "  content: \"►\";\n",
              "  font-size: 11px;\n",
              "  width: 15px;\n",
              "  text-align: center;\n",
              "}\n",
              "\n",
              ".xr-section-summary-in:disabled + label:before {\n",
              "  color: var(--xr-disabled-color);\n",
              "}\n",
              "\n",
              ".xr-section-summary-in:checked + label:before {\n",
              "  content: \"▼\";\n",
              "}\n",
              "\n",
              ".xr-section-summary-in:checked + label > span {\n",
              "  display: none;\n",
              "}\n",
              "\n",
              ".xr-section-summary,\n",
              ".xr-section-inline-details {\n",
              "  padding-top: 4px;\n",
              "  padding-bottom: 4px;\n",
              "}\n",
              "\n",
              ".xr-section-inline-details {\n",
              "  grid-column: 2 / -1;\n",
              "}\n",
              "\n",
              ".xr-section-details {\n",
              "  display: none;\n",
              "  grid-column: 1 / -1;\n",
              "  margin-bottom: 5px;\n",
              "}\n",
              "\n",
              ".xr-section-summary-in:checked ~ .xr-section-details {\n",
              "  display: contents;\n",
              "}\n",
              "\n",
              ".xr-array-wrap {\n",
              "  grid-column: 1 / -1;\n",
              "  display: grid;\n",
              "  grid-template-columns: 20px auto;\n",
              "}\n",
              "\n",
              ".xr-array-wrap > label {\n",
              "  grid-column: 1;\n",
              "  vertical-align: top;\n",
              "}\n",
              "\n",
              ".xr-preview {\n",
              "  color: var(--xr-font-color3);\n",
              "}\n",
              "\n",
              ".xr-array-preview,\n",
              ".xr-array-data {\n",
              "  padding: 0 5px !important;\n",
              "  grid-column: 2;\n",
              "}\n",
              "\n",
              ".xr-array-data,\n",
              ".xr-array-in:checked ~ .xr-array-preview {\n",
              "  display: none;\n",
              "}\n",
              "\n",
              ".xr-array-in:checked ~ .xr-array-data,\n",
              ".xr-array-preview {\n",
              "  display: inline-block;\n",
              "}\n",
              "\n",
              ".xr-dim-list {\n",
              "  display: inline-block !important;\n",
              "  list-style: none;\n",
              "  padding: 0 !important;\n",
              "  margin: 0;\n",
              "}\n",
              "\n",
              ".xr-dim-list li {\n",
              "  display: inline-block;\n",
              "  padding: 0;\n",
              "  margin: 0;\n",
              "}\n",
              "\n",
              ".xr-dim-list:before {\n",
              "  content: \"(\";\n",
              "}\n",
              "\n",
              ".xr-dim-list:after {\n",
              "  content: \")\";\n",
              "}\n",
              "\n",
              ".xr-dim-list li:not(:last-child):after {\n",
              "  content: \",\";\n",
              "  padding-right: 5px;\n",
              "}\n",
              "\n",
              ".xr-has-index {\n",
              "  font-weight: bold;\n",
              "}\n",
              "\n",
              ".xr-var-list,\n",
              ".xr-var-item {\n",
              "  display: contents;\n",
              "}\n",
              "\n",
              ".xr-var-item > div,\n",
              ".xr-var-item label,\n",
              ".xr-var-item > .xr-var-name span {\n",
              "  background-color: var(--xr-background-color-row-even);\n",
              "  margin-bottom: 0;\n",
              "}\n",
              "\n",
              ".xr-var-item > .xr-var-name:hover span {\n",
              "  padding-right: 5px;\n",
              "}\n",
              "\n",
              ".xr-var-list > li:nth-child(odd) > div,\n",
              ".xr-var-list > li:nth-child(odd) > label,\n",
              ".xr-var-list > li:nth-child(odd) > .xr-var-name span {\n",
              "  background-color: var(--xr-background-color-row-odd);\n",
              "}\n",
              "\n",
              ".xr-var-name {\n",
              "  grid-column: 1;\n",
              "}\n",
              "\n",
              ".xr-var-dims {\n",
              "  grid-column: 2;\n",
              "}\n",
              "\n",
              ".xr-var-dtype {\n",
              "  grid-column: 3;\n",
              "  text-align: right;\n",
              "  color: var(--xr-font-color2);\n",
              "}\n",
              "\n",
              ".xr-var-preview {\n",
              "  grid-column: 4;\n",
              "}\n",
              "\n",
              ".xr-index-preview {\n",
              "  grid-column: 2 / 5;\n",
              "  color: var(--xr-font-color2);\n",
              "}\n",
              "\n",
              ".xr-var-name,\n",
              ".xr-var-dims,\n",
              ".xr-var-dtype,\n",
              ".xr-preview,\n",
              ".xr-attrs dt {\n",
              "  white-space: nowrap;\n",
              "  overflow: hidden;\n",
              "  text-overflow: ellipsis;\n",
              "  padding-right: 10px;\n",
              "}\n",
              "\n",
              ".xr-var-name:hover,\n",
              ".xr-var-dims:hover,\n",
              ".xr-var-dtype:hover,\n",
              ".xr-attrs dt:hover {\n",
              "  overflow: visible;\n",
              "  width: auto;\n",
              "  z-index: 1;\n",
              "}\n",
              "\n",
              ".xr-var-attrs,\n",
              ".xr-var-data,\n",
              ".xr-index-data {\n",
              "  display: none;\n",
              "  background-color: var(--xr-background-color) !important;\n",
              "  padding-bottom: 5px !important;\n",
              "}\n",
              "\n",
              ".xr-var-attrs-in:checked ~ .xr-var-attrs,\n",
              ".xr-var-data-in:checked ~ .xr-var-data,\n",
              ".xr-index-data-in:checked ~ .xr-index-data {\n",
              "  display: block;\n",
              "}\n",
              "\n",
              ".xr-var-data > table {\n",
              "  float: right;\n",
              "}\n",
              "\n",
              ".xr-var-name span,\n",
              ".xr-var-data,\n",
              ".xr-index-name div,\n",
              ".xr-index-data,\n",
              ".xr-attrs {\n",
              "  padding-left: 25px !important;\n",
              "}\n",
              "\n",
              ".xr-attrs,\n",
              ".xr-var-attrs,\n",
              ".xr-var-data,\n",
              ".xr-index-data {\n",
              "  grid-column: 1 / -1;\n",
              "}\n",
              "\n",
              "dl.xr-attrs {\n",
              "  padding: 0;\n",
              "  margin: 0;\n",
              "  display: grid;\n",
              "  grid-template-columns: 125px auto;\n",
              "}\n",
              "\n",
              ".xr-attrs dt,\n",
              ".xr-attrs dd {\n",
              "  padding: 0;\n",
              "  margin: 0;\n",
              "  float: left;\n",
              "  padding-right: 10px;\n",
              "  width: auto;\n",
              "}\n",
              "\n",
              ".xr-attrs dt {\n",
              "  font-weight: normal;\n",
              "  grid-column: 1;\n",
              "}\n",
              "\n",
              ".xr-attrs dt:hover span {\n",
              "  display: inline-block;\n",
              "  background: var(--xr-background-color);\n",
              "  padding-right: 10px;\n",
              "}\n",
              "\n",
              ".xr-attrs dd {\n",
              "  grid-column: 2;\n",
              "  white-space: pre-wrap;\n",
              "  word-break: break-all;\n",
              "}\n",
              "\n",
              ".xr-icon-database,\n",
              ".xr-icon-file-text2,\n",
              ".xr-no-icon {\n",
              "  display: inline-block;\n",
              "  vertical-align: middle;\n",
              "  width: 1em;\n",
              "  height: 1.5em !important;\n",
              "  stroke-width: 0;\n",
              "  stroke: currentColor;\n",
              "  fill: currentColor;\n",
              "}\n",
              "</style><pre class='xr-text-repr-fallback'>&lt;xarray.DataArray &#x27;u&#x27; (obs: 7811, bin: 30)&gt; Size: 937kB\n",
              "array([[ 0.04 ,  0.055,  0.055, ...,    nan,    nan,    nan],\n",
              "       [ 0.035,  0.039,  0.032, ...,    nan,    nan,    nan],\n",
              "       [ 0.054,  0.046,  0.041, ...,    nan,    nan,    nan],\n",
              "       ...,\n",
              "       [-0.015, -0.063, -0.063, ...,    nan,    nan,    nan],\n",
              "       [-0.009, -0.046, -0.079, ...,    nan,    nan,    nan],\n",
              "       [-0.036, -0.074, -0.071, ...,    nan,    nan,    nan]],\n",
              "      dtype=float32)\n",
              "Coordinates:\n",
              "  * obs      (obs) int32 31kB 0 1 2 3 4 5 6 ... 7805 7806 7807 7808 7809 7810\n",
              "    depth    (obs) float64 62kB 2.3 2.321 2.346 2.372 ... 2.59 2.592 2.59 2.578\n",
              "  * bin      (bin) int32 120B 0 1 2 3 4 5 6 7 8 9 ... 21 22 23 24 25 26 27 28 29\n",
              "    time     (obs) datetime64[ns] 62kB 2018-04-03T04:30:00 ... 2018-09-12T22:...\n",
              "Attributes:\n",
              "    units:    m/s</pre><div class='xr-wrap' style='display:none'><div class='xr-header'><div class='xr-obj-type'>xarray.DataArray</div><div class='xr-array-name'>'u'</div><ul class='xr-dim-list'><li><span class='xr-has-index'>obs</span>: 7811</li><li><span class='xr-has-index'>bin</span>: 30</li></ul></div><ul class='xr-sections'><li class='xr-section-item'><div class='xr-array-wrap'><input id='section-ff8c7067-7d83-420e-90a5-2b931a974811' class='xr-array-in' type='checkbox' checked><label for='section-ff8c7067-7d83-420e-90a5-2b931a974811' title='Show/hide data repr'><svg class='icon xr-icon-database'><use xlink:href='#icon-database'></use></svg></label><div class='xr-array-preview xr-preview'><span>0.04 0.055 0.055 0.028 0.035 0.069 0.093 ... nan nan nan nan nan nan</span></div><div class='xr-array-data'><pre>array([[ 0.04 ,  0.055,  0.055, ...,    nan,    nan,    nan],\n",
              "       [ 0.035,  0.039,  0.032, ...,    nan,    nan,    nan],\n",
              "       [ 0.054,  0.046,  0.041, ...,    nan,    nan,    nan],\n",
              "       ...,\n",
              "       [-0.015, -0.063, -0.063, ...,    nan,    nan,    nan],\n",
              "       [-0.009, -0.046, -0.079, ...,    nan,    nan,    nan],\n",
              "       [-0.036, -0.074, -0.071, ...,    nan,    nan,    nan]],\n",
              "      dtype=float32)</pre></div></div></li><li class='xr-section-item'><input id='section-f474d482-060f-42e9-8407-b831a291a6f0' class='xr-section-summary-in' type='checkbox'  checked><label for='section-f474d482-060f-42e9-8407-b831a291a6f0' class='xr-section-summary' >Coordinates: <span>(4)</span></label><div class='xr-section-inline-details'></div><div class='xr-section-details'><ul class='xr-var-list'><li class='xr-var-item'><div class='xr-var-name'><span class='xr-has-index'>obs</span></div><div class='xr-var-dims'>(obs)</div><div class='xr-var-dtype'>int32</div><div class='xr-var-preview xr-preview'>0 1 2 3 4 ... 7807 7808 7809 7810</div><input id='attrs-0e64d066-3199-416e-a5eb-a5f1044717bc' class='xr-var-attrs-in' type='checkbox' ><label for='attrs-0e64d066-3199-416e-a5eb-a5f1044717bc' title='Show/Hide attributes'><svg class='icon xr-icon-file-text2'><use xlink:href='#icon-file-text2'></use></svg></label><input id='data-661b5da1-cd55-4c94-b79c-c72e7c5df9a7' class='xr-var-data-in' type='checkbox'><label for='data-661b5da1-cd55-4c94-b79c-c72e7c5df9a7' title='Show/Hide data repr'><svg class='icon xr-icon-database'><use xlink:href='#icon-database'></use></svg></label><div class='xr-var-attrs'><dl class='xr-attrs'><dt><span>_ChunkSizes :</span></dt><dd>1024</dd></dl></div><div class='xr-var-data'><pre>array([   0,    1,    2, ..., 7808, 7809, 7810], dtype=int32)</pre></div></li><li class='xr-var-item'><div class='xr-var-name'><span>depth</span></div><div class='xr-var-dims'>(obs)</div><div class='xr-var-dtype'>float64</div><div class='xr-var-preview xr-preview'>2.3 2.321 2.346 ... 2.59 2.578</div><input id='attrs-22060086-54bd-4e2b-8fb5-20b9d0e3a7e6' class='xr-var-attrs-in' type='checkbox' ><label for='attrs-22060086-54bd-4e2b-8fb5-20b9d0e3a7e6' title='Show/Hide attributes'><svg class='icon xr-icon-file-text2'><use xlink:href='#icon-file-text2'></use></svg></label><input id='data-d5eb431b-e4a7-4bab-a5d3-f65bc54e5c51' class='xr-var-data-in' type='checkbox'><label for='data-d5eb431b-e4a7-4bab-a5d3-f65bc54e5c51' title='Show/Hide data repr'><svg class='icon xr-icon-database'><use xlink:href='#icon-database'></use></svg></label><div class='xr-var-attrs'><dl class='xr-attrs'><dt><span>comment :</span></dt><dd>Depth (m) calculated from pressure (daPa) and latitude.</dd><dt><span>precision :</span></dt><dd>3</dd><dt><span>long_name :</span></dt><dd>Depth calculated from pressure</dd><dt><span>units :</span></dt><dd>m</dd><dt><span>ancillary_variables :</span></dt><dd>pressure</dd><dt><span>axis :</span></dt><dd>Z</dd><dt><span>_ChunkSizes :</span></dt><dd>7811</dd></dl></div><div class='xr-var-data'><pre>array([2.30013996, 2.32057319, 2.34576756, ..., 2.59225559, 2.59027178,\n",
              "       2.57757542])</pre></div></li><li class='xr-var-item'><div class='xr-var-name'><span class='xr-has-index'>bin</span></div><div class='xr-var-dims'>(bin)</div><div class='xr-var-dtype'>int32</div><div class='xr-var-preview xr-preview'>0 1 2 3 4 5 6 ... 24 25 26 27 28 29</div><input id='attrs-796db4ae-49cf-4a38-9059-1c4795c36bb7' class='xr-var-attrs-in' type='checkbox' disabled><label for='attrs-796db4ae-49cf-4a38-9059-1c4795c36bb7' title='Show/Hide attributes'><svg class='icon xr-icon-file-text2'><use xlink:href='#icon-file-text2'></use></svg></label><input id='data-34952655-c208-45ba-8053-5d93e0627a50' class='xr-var-data-in' type='checkbox'><label for='data-34952655-c208-45ba-8053-5d93e0627a50' title='Show/Hide data repr'><svg class='icon xr-icon-database'><use xlink:href='#icon-database'></use></svg></label><div class='xr-var-attrs'><dl class='xr-attrs'></dl></div><div class='xr-var-data'><pre>array([ 0,  1,  2,  3,  4,  5,  6,  7,  8,  9, 10, 11, 12, 13, 14, 15, 16, 17,\n",
              "       18, 19, 20, 21, 22, 23, 24, 25, 26, 27, 28, 29], dtype=int32)</pre></div></li><li class='xr-var-item'><div class='xr-var-name'><span>time</span></div><div class='xr-var-dims'>(obs)</div><div class='xr-var-dtype'>datetime64[ns]</div><div class='xr-var-preview xr-preview'>2018-04-03T04:30:00 ... 2018-09-...</div><input id='attrs-fdd22329-3a47-402a-80d1-1fd12878e025' class='xr-var-attrs-in' type='checkbox' ><label for='attrs-fdd22329-3a47-402a-80d1-1fd12878e025' title='Show/Hide attributes'><svg class='icon xr-icon-file-text2'><use xlink:href='#icon-file-text2'></use></svg></label><input id='data-772919b8-9ddb-4741-a75d-65eb6d5948bf' class='xr-var-data-in' type='checkbox'><label for='data-772919b8-9ddb-4741-a75d-65eb6d5948bf' title='Show/Hide data repr'><svg class='icon xr-icon-database'><use xlink:href='#icon-database'></use></svg></label><div class='xr-var-attrs'><dl class='xr-attrs'><dt><span>long_name :</span></dt><dd>time</dd><dt><span>standard_name :</span></dt><dd>time</dd><dt><span>axis :</span></dt><dd>T</dd><dt><span>_ChunkSizes :</span></dt><dd>7811</dd></dl></div><div class='xr-var-data'><pre>array([&#x27;2018-04-03T04:30:00.000000000&#x27;, &#x27;2018-04-03T05:00:00.000000000&#x27;,\n",
              "       &#x27;2018-04-03T05:30:00.000000000&#x27;, ...,\n",
              "       &#x27;2018-09-12T21:45:45.920000000&#x27;, &#x27;2018-09-12T22:15:45.920000000&#x27;,\n",
              "       &#x27;2018-09-12T22:45:45.920000000&#x27;], dtype=&#x27;datetime64[ns]&#x27;)</pre></div></li></ul></div></li><li class='xr-section-item'><input id='section-05bbbd34-76a9-4b09-bb62-a347e66b8f73' class='xr-section-summary-in' type='checkbox'  ><label for='section-05bbbd34-76a9-4b09-bb62-a347e66b8f73' class='xr-section-summary' >Indexes: <span>(2)</span></label><div class='xr-section-inline-details'></div><div class='xr-section-details'><ul class='xr-var-list'><li class='xr-var-item'><div class='xr-index-name'><div>obs</div></div><div class='xr-index-preview'>PandasIndex</div><input type='checkbox' disabled/><label></label><input id='index-2e8915a9-f145-4a6a-b0e4-c02b66440f09' class='xr-index-data-in' type='checkbox'/><label for='index-2e8915a9-f145-4a6a-b0e4-c02b66440f09' title='Show/Hide index repr'><svg class='icon xr-icon-database'><use xlink:href='#icon-database'></use></svg></label><div class='xr-index-data'><pre>PandasIndex(Index([   0,    1,    2,    3,    4,    5,    6,    7,    8,    9,\n",
              "       ...\n",
              "       7801, 7802, 7803, 7804, 7805, 7806, 7807, 7808, 7809, 7810],\n",
              "      dtype=&#x27;int32&#x27;, name=&#x27;obs&#x27;, length=7811))</pre></div></li><li class='xr-var-item'><div class='xr-index-name'><div>bin</div></div><div class='xr-index-preview'>PandasIndex</div><input type='checkbox' disabled/><label></label><input id='index-47a0d36c-9814-4a79-b8ca-e573a6240f33' class='xr-index-data-in' type='checkbox'/><label for='index-47a0d36c-9814-4a79-b8ca-e573a6240f33' title='Show/Hide index repr'><svg class='icon xr-icon-database'><use xlink:href='#icon-database'></use></svg></label><div class='xr-index-data'><pre>PandasIndex(Index([ 0,  1,  2,  3,  4,  5,  6,  7,  8,  9, 10, 11, 12, 13, 14, 15, 16, 17,\n",
              "       18, 19, 20, 21, 22, 23, 24, 25, 26, 27, 28, 29],\n",
              "      dtype=&#x27;int32&#x27;, name=&#x27;bin&#x27;))</pre></div></li></ul></div></li><li class='xr-section-item'><input id='section-13abefcf-1d4a-4d3a-ba2d-fd4b576736e8' class='xr-section-summary-in' type='checkbox'  checked><label for='section-13abefcf-1d4a-4d3a-ba2d-fd4b576736e8' class='xr-section-summary' >Attributes: <span>(1)</span></label><div class='xr-section-inline-details'></div><div class='xr-section-details'><dl class='xr-attrs'><dt><span>units :</span></dt><dd>m/s</dd></dl></div></li></ul></div></div>"
            ]
          },
          "metadata": {},
          "execution_count": 14
        }
      ]
    },
    {
      "cell_type": "code",
      "metadata": {
        "colab": {
          "base_uri": "https://localhost:8080/",
          "height": 315
        },
        "id": "Tl9RGlVb9zE9",
        "outputId": "e666cb85-66b5-49b2-888b-42ad4f0b4d23"
      },
      "source": [
        "plt.figure(figsize=(8,3))\n",
        "plt.pcolor(ds['time'],ds['bin_height'],ds['u'].where(good).T,cmap='seismic')\n",
        "plt.plot(ds['time'],ds['depth_from_pressure'],'k-') # convert from dPa to dbar\n",
        "plt.xlim([t1,t2])\n",
        "plt.clim([-0.4,0.4])\n",
        "plt.colorbar()"
      ],
      "execution_count": 15,
      "outputs": [
        {
          "output_type": "execute_result",
          "data": {
            "text/plain": [
              "<matplotlib.colorbar.Colorbar at 0x7ec5d856a4d0>"
            ]
          },
          "metadata": {},
          "execution_count": 15
        },
        {
          "output_type": "display_data",
          "data": {
            "text/plain": [
              "<Figure size 800x300 with 2 Axes>"
            ],
            "image/png": "[encoded data removed]"
          },
          "metadata": {}
        }
      ]
    },
    {
      "cell_type": "markdown",
      "metadata": {
        "id": "xjVFtTj39zE-"
      },
      "source": [
        "### Exercise\n",
        "\n",
        "Plot the northward velocity ($v$) variable as a function of time and height above the bottom. Which velocity component tends to be stronger, the $u$ or $v$ component?"
      ]
    },
    {
      "cell_type": "code",
      "metadata": {
        "id": "MldNQxas9zE-"
      },
      "source": [
        "# insert code here"
      ],
      "execution_count": 16,
      "outputs": []
    },
    {
      "cell_type": "markdown",
      "metadata": {
        "id": "hQgRTX7l9zE-"
      },
      "source": [
        "### Compute depth-averaged velocity\n",
        "\n",
        "The averaged of the velocity over all depths of the water column is called the depth-averaged velocity. A function for computing the depth averaged velocity is included in the `tseries.py` module."
      ]
    },
    {
      "cell_type": "code",
      "metadata": {
        "colab": {
          "base_uri": "https://localhost:8080/",
          "height": 520
        },
        "id": "tRx0Ch46EE3i",
        "outputId": "b7936d3c-9dd2-4118-ead1-ed01f4880bff"
      },
      "source": [
        "ds['bin_depths_avg']"
      ],
      "execution_count": 17,
      "outputs": [
        {
          "output_type": "error",
          "ename": "KeyError",
          "evalue": "\"No variable named 'bin_depths_avg'. Did you mean one of ('bin_depths',)?\"",
          "traceback": [
            "\u001b[0;31m---------------------------------------------------------------------------\u001b[0m",
            "\u001b[0;31mKeyError\u001b[0m                                  Traceback (most recent call last)",
            "\u001b[0;32m/usr/local/lib/python3.11/dist-packages/xarray/core/dataset.py\u001b[0m in \u001b[0;36m_construct_dataarray\u001b[0;34m(self, name)\u001b[0m\n\u001b[1;32m   1152\u001b[0m         \u001b[0;32mtry\u001b[0m\u001b[0;34m:\u001b[0m\u001b[0;34m\u001b[0m\u001b[0;34m\u001b[0m\u001b[0m\n\u001b[0;32m-> 1153\u001b[0;31m             \u001b[0mvariable\u001b[0m \u001b[0;34m=\u001b[0m \u001b[0mself\u001b[0m\u001b[0;34m.\u001b[0m\u001b[0m_variables\u001b[0m\u001b[0;34m[\u001b[0m\u001b[0mname\u001b[0m\u001b[0;34m]\u001b[0m\u001b[0;34m\u001b[0m\u001b[0;34m\u001b[0m\u001b[0m\n\u001b[0m\u001b[1;32m   1154\u001b[0m         \u001b[0;32mexcept\u001b[0m \u001b[0mKeyError\u001b[0m\u001b[0;34m:\u001b[0m\u001b[0;34m\u001b[0m\u001b[0;34m\u001b[0m\u001b[0m\n",
            "\u001b[0;31mKeyError\u001b[0m: 'bin_depths_avg'",
            "\nDuring handling of the above exception, another exception occurred:\n",
            "\u001b[0;31mKeyError\u001b[0m                                  Traceback (most recent call last)",
            "\u001b[0;32m/usr/local/lib/python3.11/dist-packages/xarray/core/dataset.py\u001b[0m in \u001b[0;36m__getitem__\u001b[0;34m(self, key)\u001b[0m\n\u001b[1;32m   1251\u001b[0m             \u001b[0;32mtry\u001b[0m\u001b[0;34m:\u001b[0m\u001b[0;34m\u001b[0m\u001b[0;34m\u001b[0m\u001b[0m\n\u001b[0;32m-> 1252\u001b[0;31m                 \u001b[0;32mreturn\u001b[0m \u001b[0mself\u001b[0m\u001b[0;34m.\u001b[0m\u001b[0m_construct_dataarray\u001b[0m\u001b[0;34m(\u001b[0m\u001b[0mkey\u001b[0m\u001b[0;34m)\u001b[0m\u001b[0;34m\u001b[0m\u001b[0;34m\u001b[0m\u001b[0m\n\u001b[0m\u001b[1;32m   1253\u001b[0m             \u001b[0;32mexcept\u001b[0m \u001b[0mKeyError\u001b[0m \u001b[0;32mas\u001b[0m \u001b[0me\u001b[0m\u001b[0;34m:\u001b[0m\u001b[0;34m\u001b[0m\u001b[0;34m\u001b[0m\u001b[0m\n",
            "\u001b[0;32m/usr/local/lib/python3.11/dist-packages/xarray/core/dataset.py\u001b[0m in \u001b[0;36m_construct_dataarray\u001b[0;34m(self, name)\u001b[0m\n\u001b[1;32m   1154\u001b[0m         \u001b[0;32mexcept\u001b[0m \u001b[0mKeyError\u001b[0m\u001b[0;34m:\u001b[0m\u001b[0;34m\u001b[0m\u001b[0;34m\u001b[0m\u001b[0m\n\u001b[0;32m-> 1155\u001b[0;31m             \u001b[0m_\u001b[0m\u001b[0;34m,\u001b[0m \u001b[0mname\u001b[0m\u001b[0;34m,\u001b[0m \u001b[0mvariable\u001b[0m \u001b[0;34m=\u001b[0m \u001b[0m_get_virtual_variable\u001b[0m\u001b[0;34m(\u001b[0m\u001b[0mself\u001b[0m\u001b[0;34m.\u001b[0m\u001b[0m_variables\u001b[0m\u001b[0;34m,\u001b[0m \u001b[0mname\u001b[0m\u001b[0;34m,\u001b[0m \u001b[0mself\u001b[0m\u001b[0;34m.\u001b[0m\u001b[0msizes\u001b[0m\u001b[0;34m)\u001b[0m\u001b[0;34m\u001b[0m\u001b[0;34m\u001b[0m\u001b[0m\n\u001b[0m\u001b[1;32m   1156\u001b[0m \u001b[0;34m\u001b[0m\u001b[0m\n",
            "\u001b[0;32m/usr/local/lib/python3.11/dist-packages/xarray/core/dataset_utils.py\u001b[0m in \u001b[0;36m_get_virtual_variable\u001b[0;34m(variables, key, dim_sizes)\u001b[0m\n\u001b[1;32m     78\u001b[0m     \u001b[0;32mif\u001b[0m \u001b[0mlen\u001b[0m\u001b[0;34m(\u001b[0m\u001b[0msplit_key\u001b[0m\u001b[0;34m)\u001b[0m \u001b[0;34m!=\u001b[0m \u001b[0;36m2\u001b[0m\u001b[0;34m:\u001b[0m\u001b[0;34m\u001b[0m\u001b[0;34m\u001b[0m\u001b[0m\n\u001b[0;32m---> 79\u001b[0;31m         \u001b[0;32mraise\u001b[0m \u001b[0mKeyError\u001b[0m\u001b[0;34m(\u001b[0m\u001b[0mkey\u001b[0m\u001b[0;34m)\u001b[0m\u001b[0;34m\u001b[0m\u001b[0;34m\u001b[0m\u001b[0m\n\u001b[0m\u001b[1;32m     80\u001b[0m \u001b[0;34m\u001b[0m\u001b[0m\n",
            "\u001b[0;31mKeyError\u001b[0m: 'bin_depths_avg'",
            "\nThe above exception was the direct cause of the following exception:\n",
            "\u001b[0;31mKeyError\u001b[0m                                  Traceback (most recent call last)",
            "\u001b[0;32m<ipython-input-17-0b80d5b9dd01>\u001b[0m in \u001b[0;36m<cell line: 0>\u001b[0;34m()\u001b[0m\n\u001b[0;32m----> 1\u001b[0;31m \u001b[0mds\u001b[0m\u001b[0;34m[\u001b[0m\u001b[0;34m'bin_depths_avg'\u001b[0m\u001b[0;34m]\u001b[0m\u001b[0;34m\u001b[0m\u001b[0;34m\u001b[0m\u001b[0m\n\u001b[0m",
            "\u001b[0;32m/usr/local/lib/python3.11/dist-packages/xarray/core/dataset.py\u001b[0m in \u001b[0;36m__getitem__\u001b[0;34m(self, key)\u001b[0m\n\u001b[1;32m   1263\u001b[0m                 \u001b[0;32mif\u001b[0m \u001b[0misinstance\u001b[0m\u001b[0;34m(\u001b[0m\u001b[0mkey\u001b[0m\u001b[0;34m,\u001b[0m \u001b[0mtuple\u001b[0m\u001b[0;34m)\u001b[0m\u001b[0;34m:\u001b[0m\u001b[0;34m\u001b[0m\u001b[0;34m\u001b[0m\u001b[0m\n\u001b[1;32m   1264\u001b[0m                     \u001b[0mmessage\u001b[0m \u001b[0;34m+=\u001b[0m \u001b[0;34mf\"\\nHint: use a list to select multiple variables, for example `ds[{list(key)}]`\"\u001b[0m\u001b[0;34m\u001b[0m\u001b[0;34m\u001b[0m\u001b[0m\n\u001b[0;32m-> 1265\u001b[0;31m                 \u001b[0;32mraise\u001b[0m \u001b[0mKeyError\u001b[0m\u001b[0;34m(\u001b[0m\u001b[0mmessage\u001b[0m\u001b[0;34m)\u001b[0m \u001b[0;32mfrom\u001b[0m \u001b[0me\u001b[0m\u001b[0;34m\u001b[0m\u001b[0;34m\u001b[0m\u001b[0m\n\u001b[0m\u001b[1;32m   1266\u001b[0m \u001b[0;34m\u001b[0m\u001b[0m\n\u001b[1;32m   1267\u001b[0m         \u001b[0;32mif\u001b[0m \u001b[0mutils\u001b[0m\u001b[0;34m.\u001b[0m\u001b[0miterable_of_hashable\u001b[0m\u001b[0;34m(\u001b[0m\u001b[0mkey\u001b[0m\u001b[0;34m)\u001b[0m\u001b[0;34m:\u001b[0m\u001b[0;34m\u001b[0m\u001b[0;34m\u001b[0m\u001b[0m\n",
            "\u001b[0;31mKeyError\u001b[0m: \"No variable named 'bin_depths_avg'. Did you mean one of ('bin_depths',)?\""
          ]
        }
      ]
    },
    {
      "cell_type": "code",
      "metadata": {
        "id": "rZCyHq_89zE-"
      },
      "source": [
        "ds['uda'] = ds['u'].mean(dim='bin')\n",
        "ds['uda'].attrs['units'] = 'm/s'\n",
        "ds['vda'] = ds['v'].mean(dim='bin')\n",
        "ds['vda'].attrs['units'] = 'm/s'"
      ],
      "execution_count": null,
      "outputs": []
    },
    {
      "cell_type": "code",
      "metadata": {
        "id": "2WtnI19u9zE_"
      },
      "source": [
        "plt.figure()\n",
        "plt.plot(ds['time'],ds['uda'])\n",
        "plt.plot(ds['time'],ds['vda'])\n",
        "plt.xlabel('[m/s]')\n",
        "plt.legend(['u','v'])\n",
        "plt.title('depth-averaged velocity components')\n",
        "plt.ylabel('[m/s]')"
      ],
      "execution_count": null,
      "outputs": []
    },
    {
      "cell_type": "code",
      "metadata": {
        "id": "i0cQXPS59zE_"
      },
      "source": [
        "plt.figure()\n",
        "h1 = plt.plot(ds['time'],ds['v'].where(good),color='gray');\n",
        "h2 = plt.plot(ds['time'],ds['vda'],color='k');\n",
        "plt.xlim([t1,t2]);\n",
        "plt.legend([h1,h2],['individual depths','depth average']);\n",
        "plt.ylabel('[m/s]');"
      ],
      "execution_count": null,
      "outputs": []
    },
    {
      "cell_type": "markdown",
      "metadata": {
        "id": "H_lZkekg9zE_"
      },
      "source": [
        "### Exercise\n",
        "\n",
        "Make a scatter plot between the depth-averaged $\\bar{u}$ and $\\bar{v}$ velocity components. Which component tends to have a greater magnitude, and why?"
      ]
    },
    {
      "cell_type": "code",
      "metadata": {
        "id": "V7Q-0myO9zFA"
      },
      "source": [],
      "execution_count": null,
      "outputs": []
    },
    {
      "cell_type": "markdown",
      "metadata": {
        "id": "ur-HrzCO9zFB"
      },
      "source": [
        "### Correlation functions"
      ]
    },
    {
      "cell_type": "markdown",
      "metadata": {
        "id": "FtBu6oDr9zFB"
      },
      "source": [
        "**Goal:** Based on the decorrelation time scale, how many *effective* degrees of freedom ($N^*$) does this time series have?\n",
        "\n",
        "#### Preliminary exercises\n",
        "\n",
        "How many samples ($N$) are in the depth-averaged $\\bar{v}$ time series?\n",
        "\n",
        "What is the time interval $\\Delta t$ betwen samples?"
      ]
    },
    {
      "cell_type": "markdown",
      "metadata": {
        "id": "mPOU2R-79zFB"
      },
      "source": [
        "*insert answer here*"
      ]
    },
    {
      "cell_type": "markdown",
      "metadata": {
        "id": "KbIGk0rr9zFC"
      },
      "source": [
        "#### Manually computing autocorrelation"
      ]
    },
    {
      "cell_type": "markdown",
      "metadata": {
        "id": "TUdshwCQ9zFC"
      },
      "source": [
        "Correlation at zero lag ($\\tau$ = 0)."
      ]
    },
    {
      "cell_type": "code",
      "metadata": {
        "id": "yJbOfl9R9zFC"
      },
      "source": [
        "# insert code here\n",
        "rmat = np.corrcoef(ds['vda'],ds['vda'])\n",
        "rmat"
      ],
      "execution_count": null,
      "outputs": []
    },
    {
      "cell_type": "code",
      "metadata": {
        "id": "iKU2J8xt9zFC"
      },
      "source": [
        "# insert code here\n",
        "r_0 = rmat[1,0]\n",
        "r_0"
      ],
      "execution_count": null,
      "outputs": []
    },
    {
      "cell_type": "markdown",
      "metadata": {
        "id": "UKBefb299zFC"
      },
      "source": [
        "Correlation at lag ($\\tau$ = $\\Delta t$)."
      ]
    },
    {
      "cell_type": "code",
      "metadata": {
        "id": "WqCbHYiN9zFD"
      },
      "source": [
        "# insert code here\n",
        "r_1 = np.corrcoef(ds['vda'][1:],ds['vda'][:-1])[1,0]\n",
        "print('r(tau=0.5 hrs)',np.round(r_1,4))"
      ],
      "execution_count": null,
      "outputs": []
    },
    {
      "cell_type": "markdown",
      "metadata": {
        "id": "xgidAuqF9zFD"
      },
      "source": [
        "Correlation at lag ($\\tau$ = 2$\\Delta t$)."
      ]
    },
    {
      "cell_type": "code",
      "metadata": {
        "id": "76eivz2V9zFD"
      },
      "source": [
        "# insert code here\n",
        "r_2 = np.corrcoef(ds['vda'][2:],ds['vda'][:-2])[1,0]\n",
        "print('r(tau=1 hr)',np.round(r_2,4))"
      ],
      "execution_count": null,
      "outputs": []
    },
    {
      "cell_type": "code",
      "metadata": {
        "id": "ISFDZsnx9zFE"
      },
      "source": [
        "plt.figure()\n",
        "plt.plot(ds['time'][2:],ds['vda'][2:],'r-')\n",
        "plt.plot(ds['time'][2:],ds['vda'][:-2],'b-')\n",
        "plt.xlim([ds['time'][0],ds['time'][100]])\n",
        "plt.xticks(rotation=30)"
      ],
      "execution_count": null,
      "outputs": []
    },
    {
      "cell_type": "markdown",
      "metadata": {
        "id": "yGArbSeD9zFE"
      },
      "source": [
        "#### Exercise\n",
        "\n",
        "Compute the autocorrelation (r) for a lag of $\\tau$ = 3 hours"
      ]
    },
    {
      "cell_type": "code",
      "metadata": {
        "id": "lSy_E-E29zFE"
      },
      "source": [
        "# insert code here"
      ],
      "execution_count": null,
      "outputs": []
    },
    {
      "cell_type": "markdown",
      "metadata": {
        "id": "aIdyyYkz9zFE"
      },
      "source": [
        "### Autocorrelation function\n",
        "\n",
        "Computing cross-correlation and autocorrelation functions is common enough that there is a matplotlib function to plot them. This function also allows you to automatically detrend the data beforehand."
      ]
    },
    {
      "cell_type": "code",
      "metadata": {
        "id": "aFGaCXbe9zFF"
      },
      "source": [
        "plt.figure()\n",
        "lags,r,_,_ = plt.xcorr(ds['vda'],ds['vda'],detrend=mlab.detrend,maxlags=1000);\n",
        "plt.xlabel('lag')\n",
        "plt.ylabel('r')\n",
        "plt.title('autocorrelation function, depth-averaged v')"
      ],
      "execution_count": null,
      "outputs": []
    },
    {
      "cell_type": "code",
      "metadata": {
        "id": "Qp0vBAQy9zFF"
      },
      "source": [],
      "execution_count": null,
      "outputs": []
    },
    {
      "cell_type": "markdown",
      "metadata": {
        "id": "l6XoGZ_P9zFG"
      },
      "source": [
        "#### Exercises\n",
        "\n",
        "* From the autocorrelation plot above, estimate the decorrelation time scale (the time lag $\\tau$ at which $r$ decreases to 0, in hours).\n",
        "* Based on the decorrelation time scale, how many *effective* degrees of freedom ($N^*$) does this time series have?"
      ]
    },
    {
      "cell_type": "markdown",
      "metadata": {
        "id": "K0rHOdBd9zFG"
      },
      "source": []
    },
    {
      "cell_type": "markdown",
      "metadata": {
        "id": "5Vi7Yc8E9zFG"
      },
      "source": [
        "### Spectral analysis intro"
      ]
    },
    {
      "cell_type": "markdown",
      "metadata": {
        "id": "UkBvX5bE9zFG"
      },
      "source": [
        "These exercises use the time series for depth-averaged velocity $\\bar{v}$ and bottom pressure."
      ]
    },
    {
      "cell_type": "code",
      "metadata": {
        "id": "QpQ8eWI39zFH"
      },
      "source": [
        "plt.figure()\n",
        "plt.plot(ds['time'],ds['vda'])\n",
        "plt.ylabel('[m/s]')\n",
        "plt.title('depth-averaged velocity $v$')"
      ],
      "execution_count": null,
      "outputs": []
    },
    {
      "cell_type": "code",
      "metadata": {
        "id": "CUrAWqaH9zFH"
      },
      "source": [
        "plt.figure()\n",
        "plt.plot(ds['time'],ds['int_ctd_pressure'])\n",
        "plt.ylabel('[dbar]')\n",
        "plt.title('CTD pressure')"
      ],
      "execution_count": null,
      "outputs": []
    },
    {
      "cell_type": "markdown",
      "metadata": {
        "id": "uSlOGLzV9zFH"
      },
      "source": [
        "### Exercises\n",
        "\n",
        "* How many samples $N$ are in the time series?\n",
        "* What is the sample interval $\\Delta t$, in hours? In days?\n",
        "* What is the fundamental frequency of the time series (in cycles per day)?\n",
        "* What is the sampling frequency of the time series (in cycles per day)?"
      ]
    },
    {
      "cell_type": "code",
      "metadata": {
        "id": "-bsV3WL49zFH"
      },
      "source": [
        "from scipy.signal import periodogram\n",
        "\n",
        "f,S = periodogram(ds['vda'],fs=48.)"
      ],
      "execution_count": null,
      "outputs": []
    },
    {
      "cell_type": "code",
      "metadata": {
        "id": "iAUXAVd59zFI"
      },
      "source": [
        "plt.figure()\n",
        "plt.loglog(f[1:],S[1:],'k-')\n",
        "plt.xlabel('frequency [cpd]')\n",
        "plt.ylabel('PSD [m$^2$ s$^{-2}$ cpd$^{-1}$]')\n",
        "plt.title(' periodogram, depth-averaged v')"
      ],
      "execution_count": null,
      "outputs": []
    },
    {
      "cell_type": "markdown",
      "metadata": {
        "id": "_9EbLnsJ9zFJ"
      },
      "source": [
        "### Exercises\n",
        "\n",
        "* Plot the periodogram (spectrum) for pressure\n",
        "* Label the plot with the appropriate units\n",
        "* Discuss the similarities and differences between the spectra of velocity and pressure."
      ]
    },
    {
      "cell_type": "markdown",
      "metadata": {
        "id": "UDu65em09zFJ"
      },
      "source": [
        "#### Pressure spectrum"
      ]
    },
    {
      "cell_type": "code",
      "metadata": {
        "id": "HdxvtvkU9zFJ"
      },
      "source": [
        "# insert code here"
      ],
      "execution_count": null,
      "outputs": []
    },
    {
      "cell_type": "markdown",
      "metadata": {
        "id": "r5J5Tswi9zFJ"
      },
      "source": [
        "### Better spectral estimates\n",
        "\n",
        "Although we have succussfully plotted the periodogram of the data, there are two major issues with the raw periodogram as we calculated above straight from the FFT results.\n",
        "\n",
        "1) It is noisy (random error)\n",
        "\n",
        "2) It is biased (systematic error)\n",
        "\n",
        "Although this method is very useful for describing practical Fourier analysis conceptually, there are issues with it in practice. These problems led John W. Tukey (co-inventor of the Fast Fourier Transform) to remark on the perils of using this method quantitatively:\n",
        "\n",
        "    \"More lives have been lost looking at the raw periodogram than by any other action involving time series.\"\n",
        "\n",
        "The raw periodogram can be improved upon with a few modifications:\n",
        "\n",
        "* Sensible data windows\n",
        "* Averaging\n",
        "* Pre-whitening\n",
        "* Confidence intervals"
      ]
    },
    {
      "cell_type": "code",
      "metadata": {
        "id": "eje1PdkH9zFK"
      },
      "source": [
        "N = len(ds['vda']) # how many samples in time series?\n",
        "fs = 48 # sampling frequency? units? [cpd]\n",
        "fN = 0.5*fs # Nyquist frequency?"
      ],
      "execution_count": null,
      "outputs": []
    },
    {
      "cell_type": "code",
      "metadata": {
        "id": "52c89qd39zFK"
      },
      "source": [
        "from scipy.signal import welch"
      ],
      "execution_count": null,
      "outputs": []
    },
    {
      "cell_type": "code",
      "metadata": {
        "id": "_QOeVsUl9zFK"
      },
      "source": [
        "# raw periodogram (noisy, biased)\n",
        "f,S = welch(ds['vda'],fs=48,nperseg=N,window='boxcar', detrend='constant')\n",
        "\n",
        "plt.figure()\n",
        "plt.loglog(f[1:],S[1:])\n",
        "plt.xlabel('frequency [cpd]') # units? cycles per day\n",
        "plt.ylabel('PSD [m$^2$ s$^{-2}$ cpd$^{-1}$]') # units? variance per unit frequency\n",
        "\n",
        "# Welch's method with overlapping segments and Hanning window\n",
        "winlen = N/8\n",
        "f2,S2 = welch(ds['vda'],fs=48.,nperseg=winlen,window='hann',detrend='linear')\n",
        "\n",
        "plt.loglog(f2[1:],S2[1:])\n",
        "\n",
        "# confidence intervals\n",
        "from scipy.stats import chi2\n",
        "\n",
        "dof = N/winlen*2 # dof depends on window length, relative to length of time series\n",
        "edof = (8/3)*dof # bonus points for using a sensible window (Hanning)\n",
        "\n",
        "lower = edof/chi2.ppf(0.975,edof)\n",
        "upper = edof/chi2.ppf(0.025,edof)\n",
        "\n",
        "fplot = 5 # horizontal position of CI on plot\n",
        "Splot = 0.01 # vertical position of CI on plot\n",
        "\n",
        "plt.plot([fplot,fplot],Splot*np.array([lower,upper]),'k-')\n",
        "plt.text(fplot,Splot,' 95%')"
      ],
      "execution_count": null,
      "outputs": []
    },
    {
      "cell_type": "code",
      "metadata": {
        "id": "VsK8jDgz9zFM"
      },
      "source": [],
      "execution_count": null,
      "outputs": []
    }
  ]
}