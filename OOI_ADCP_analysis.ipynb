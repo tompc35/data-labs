{
  "nbformat": 4,
  "nbformat_minor": 0,
  "metadata": {
    "kernelspec": {
      "display_name": "Python [default]",
      "language": "python",
      "name": "python3"
    },
    "language_info": {
      "codemirror_mode": {
        "name": "ipython",
        "version": 3
      },
      "file_extension": ".py",
      "mimetype": "text/x-python",
      "name": "python",
      "nbconvert_exporter": "python",
      "pygments_lexer": "ipython3",
      "version": "3.5.5"
    },
    "colab": {
      "name": "OOI-ADCP_analysis.ipynb",
      "provenance": [],
      "include_colab_link": true
    }
  },
  "cells": [
    {
      "cell_type": "markdown",
      "metadata": {
        "id": "view-in-github",
        "colab_type": "text"
      },
      "source": [
        "<a href=\"https://colab.research.google.com/github/tompc35/data-labs/blob/master/OOI_ADCP_analysis.ipynb\" target=\"_parent\"><img src=\"https://colab.research.google.com/assets/colab-badge.svg\" alt=\"Open In Colab\"/></a>"
      ]
    },
    {
      "cell_type": "markdown",
      "metadata": {
        "id": "9_764Kr49zEr"
      },
      "source": [
        "## OOI Endurance Array - ADCP time series analysis\n",
        "\n",
        "This notebook expands on time series analysis techniques using an Acoustic Doppler Current Profiler (ADCP) current meter data set. The analysis techniques include:\n",
        "\n",
        "* Masking contaminated data near the surface\n",
        "* Depth averaging profiles\n",
        "* Correlation functions\n",
        "* Spectral analysis\n",
        "\n",
        "Basic knowledge of the concepts behind correlation functions, effective degrees of freedom and spectral analysis is assumed.\n",
        "\n",
        "![Endurance Array](https://ooinet.oceanobservatories.org/img/home/coastal_endurance/endurance_1.jpg) \n",
        "\n",
        "This example focuses on ADCP data from the inshore mooring on the Oregon line. The ADCP is mounted at the bottom and looks upward throughout the water column, measuring velocity at a series of depths.\n",
        "\n",
        "![Oregon Endurance Line](https://ooinet.oceanobservatories.org/img/home/coastal_endurance/endurance_2.png)\n",
        "\n",
        "\n",
        "The photo below shows an ADCP deployed at the OOI Axial Seamount site. The four red cylinders are the upward-facing transducers, which send and receive acoustic signals. Image source: https://oceanobservatories.org/instrument-class/adcp/\n",
        "\n",
        "![ADCP photo](https://oceanobservatories.org/wp-content/uploads/2016/10/adcp.r1735_sdi1_2014-08-040_45_40_14317_spacialrelationshipoflv01atolj01a_med.jpg)"
      ]
    },
    {
      "cell_type": "markdown",
      "metadata": {
        "id": "Gy8HU3BQ9zEw"
      },
      "source": [
        "The [OOI Data Portal](https://ooinet.oceanobservatories.org/) can be used to access data from any OOI instrument. The data typically come in NetCDF format. To create a custom data catalog, you need to sign up for a free account.\n",
        "\n",
        "A data catalog for the bottom-mounted ADCP at the Oregon inshore mooring has already been created:\n",
        "\n",
        "https://opendap.oceanobservatories.org/thredds/catalog/ooi/tconnolly@mlml.calstate.edu/20200421T020908490Z-CE01ISSM-MFD37-03-CTDBPC000-recovered_inst-ctdbp_cdef_instrument_recovered/catalog.html"
      ]
    },
    {
      "cell_type": "markdown",
      "metadata": {
        "id": "WHPaC3UQ9zEx"
      },
      "source": [
        "### Import libraries and load data\n",
        "\n",
        "In addition to standard libraries, specialized physical oceanography functions (used for depth averaging and filtering) are installed from https://github.com/physoce/physoce-py"
      ]
    },
    {
      "cell_type": "code",
      "metadata": {
        "colab": {
          "base_uri": "https://localhost:8080/"
        },
        "id": "vKwKwIsK-1X2",
        "outputId": "465f68dd-a8f8-40f0-ed62-c3f29dc31333"
      },
      "source": [
        "try:\n",
        "  import google.colab\n",
        "  IN_COLAB = True\n",
        "except:\n",
        "  IN_COLAB = False\n",
        "\n",
        "if IN_COLAB:\n",
        "    !pip install netcdf4==1.5.0\n",
        "    !pip install git+https://github.com/physoce/physoce-py"
      ],
      "execution_count": 1,
      "outputs": [
        {
          "output_type": "stream",
          "text": [
            "Collecting netcdf4==1.5.0\n",
            "\u001b[?25l  Downloading https://files.pythonhosted.org/packages/63/e6/8488332fdeb8da55d4b803ef8a695a01164799056fb0763e31d4f0ee8c87/netCDF4-1.5.0-cp36-cp36m-manylinux1_x86_64.whl (3.9MB)\n",
            "\u001b[K     |████████████████████████████████| 3.9MB 8.0MB/s \n",
            "\u001b[?25hRequirement already satisfied: numpy>=1.7 in /usr/local/lib/python3.6/dist-packages (from netcdf4==1.5.0) (1.19.4)\n",
            "Collecting cftime\n",
            "\u001b[?25l  Downloading https://files.pythonhosted.org/packages/66/60/bad8525d2c046eb2964911bc412a85ba240b31c7b43f0c19377233992c6c/cftime-1.3.0-cp36-cp36m-manylinux1_x86_64.whl (295kB)\n",
            "\u001b[K     |████████████████████████████████| 296kB 45.0MB/s \n",
            "\u001b[?25hInstalling collected packages: cftime, netcdf4\n",
            "Successfully installed cftime-1.3.0 netcdf4-1.5.0\n",
            "Collecting git+https://github.com/physoce/physoce-py\n",
            "  Cloning https://github.com/physoce/physoce-py to /tmp/pip-req-build-4q9zn2q6\n",
            "  Running command git clone -q https://github.com/physoce/physoce-py /tmp/pip-req-build-4q9zn2q6\n",
            "Building wheels for collected packages: physoce\n",
            "  Building wheel for physoce (setup.py) ... \u001b[?25l\u001b[?25hdone\n",
            "  Created wheel for physoce: filename=physoce-0.0.2-cp36-none-any.whl size=20340 sha256=22c604d0ddaad547aa683076c35d0e74f898dc11272f490536a1c2e4afdfa970\n",
            "  Stored in directory: /tmp/pip-ephem-wheel-cache-dxq6ywpn/wheels/10/1e/d7/e1133a1352b33ced6eee8f25b9e2c35b3d325d28b4ba2e4c5d\n",
            "Successfully built physoce\n",
            "Installing collected packages: physoce\n",
            "Successfully installed physoce-0.0.2\n"
          ],
          "name": "stdout"
        }
      ]
    },
    {
      "cell_type": "code",
      "metadata": {
        "id": "lit9lzxB9zEx"
      },
      "source": [
        "import numpy as np\n",
        "import matplotlib.pyplot as plt\n",
        "import xarray as xr\n",
        "from matplotlib import mlab\n",
        "import scipy.signal as signal\n",
        "from physoce import tseries as ts"
      ],
      "execution_count": 2,
      "outputs": []
    },
    {
      "cell_type": "code",
      "metadata": {
        "id": "O6jRhJmZ9zEz"
      },
      "source": [
        "thredds_dataset = 'https://opendap.oceanobservatories.org/thredds/dodsC/ooi/tconnolly@mlml.calstate.edu/20200320T020213155Z-CE01ISSM-MFD35-04-ADCPTM000-recovered_inst-adcp_velocity_earth/deployment0009_CE01ISSM-MFD35-04-ADCPTM000-recovered_inst-adcp_velocity_earth_20180403T043000-20180912T224545.920000.nc'"
      ],
      "execution_count": 3,
      "outputs": []
    },
    {
      "cell_type": "markdown",
      "metadata": {
        "id": "QdG21_RN9zEz"
      },
      "source": [
        "The ADCP data for April-September 2018 is included in this repository. The data set is in NetCDF format, and can be easily opened with the [xarray](http://xarray.pydata.org) package."
      ]
    },
    {
      "cell_type": "code",
      "metadata": {
        "id": "ea05vRzC9zE0"
      },
      "source": [
        "# insert code here\n",
        "ds = xr.open_dataset(thredds_dataset)"
      ],
      "execution_count": 4,
      "outputs": []
    },
    {
      "cell_type": "code",
      "metadata": {
        "colab": {
          "base_uri": "https://localhost:8080/",
          "height": 182
        },
        "id": "BV7zvqsr9zE0",
        "outputId": "5195a0ab-9a2a-4ad6-9391-84a7fa67ff8e"
      },
      "source": [
        "# insert code here\n",
        "ds"
      ],
      "execution_count": 5,
      "outputs": [
        {
          "output_type": "execute_result",
          "data": {
            "text/html": [
              "<div><svg style=\"position: absolute; width: 0; height: 0; overflow: hidden\">\n",
              "<defs>\n",
              "<symbol id=\"icon-database\" viewBox=\"0 0 32 32\">\n",
              "<title>Show/Hide data repr</title>\n",
              "<path d=\"M16 0c-8.837 0-16 2.239-16 5v4c0 2.761 7.163 5 16 5s16-2.239 16-5v-4c0-2.761-7.163-5-16-5z\"></path>\n",
              "<path d=\"M16 17c-8.837 0-16-2.239-16-5v6c0 2.761 7.163 5 16 5s16-2.239 16-5v-6c0 2.761-7.163 5-16 5z\"></path>\n",
              "<path d=\"M16 26c-8.837 0-16-2.239-16-5v6c0 2.761 7.163 5 16 5s16-2.239 16-5v-6c0 2.761-7.163 5-16 5z\"></path>\n",
              "</symbol>\n",
              "<symbol id=\"icon-file-text2\" viewBox=\"0 0 32 32\">\n",
              "<title>Show/Hide attributes</title>\n",
              "<path d=\"M28.681 7.159c-0.694-0.947-1.662-2.053-2.724-3.116s-2.169-2.030-3.116-2.724c-1.612-1.182-2.393-1.319-2.841-1.319h-15.5c-1.378 0-2.5 1.121-2.5 2.5v27c0 1.378 1.122 2.5 2.5 2.5h23c1.378 0 2.5-1.122 2.5-2.5v-19.5c0-0.448-0.137-1.23-1.319-2.841zM24.543 5.457c0.959 0.959 1.712 1.825 2.268 2.543h-4.811v-4.811c0.718 0.556 1.584 1.309 2.543 2.268zM28 29.5c0 0.271-0.229 0.5-0.5 0.5h-23c-0.271 0-0.5-0.229-0.5-0.5v-27c0-0.271 0.229-0.5 0.5-0.5 0 0 15.499-0 15.5 0v7c0 0.552 0.448 1 1 1h7v19.5z\"></path>\n",
              "<path d=\"M23 26h-14c-0.552 0-1-0.448-1-1s0.448-1 1-1h14c0.552 0 1 0.448 1 1s-0.448 1-1 1z\"></path>\n",
              "<path d=\"M23 22h-14c-0.552 0-1-0.448-1-1s0.448-1 1-1h14c0.552 0 1 0.448 1 1s-0.448 1-1 1z\"></path>\n",
              "<path d=\"M23 18h-14c-0.552 0-1-0.448-1-1s0.448-1 1-1h14c0.552 0 1 0.448 1 1s-0.448 1-1 1z\"></path>\n",
              "</symbol>\n",
              "</defs>\n",
              "</svg>\n",
              "<style>/* CSS stylesheet for displaying xarray objects in jupyterlab.\n",
              " *\n",
              " */\n",
              "\n",
              ":root {\n",
              "  --xr-font-color0: var(--jp-content-font-color0, rgba(0, 0, 0, 1));\n",
              "  --xr-font-color2: var(--jp-content-font-color2, rgba(0, 0, 0, 0.54));\n",
              "  --xr-font-color3: var(--jp-content-font-color3, rgba(0, 0, 0, 0.38));\n",
              "  --xr-border-color: var(--jp-border-color2, #e0e0e0);\n",
              "  --xr-disabled-color: var(--jp-layout-color3, #bdbdbd);\n",
              "  --xr-background-color: var(--jp-layout-color0, white);\n",
              "  --xr-background-color-row-even: var(--jp-layout-color1, white);\n",
              "  --xr-background-color-row-odd: var(--jp-layout-color2, #eeeeee);\n",
              "}\n",
              "\n",
              ".xr-wrap {\n",
              "  min-width: 300px;\n",
              "  max-width: 700px;\n",
              "}\n",
              "\n",
              ".xr-header {\n",
              "  padding-top: 6px;\n",
              "  padding-bottom: 6px;\n",
              "  margin-bottom: 4px;\n",
              "  border-bottom: solid 1px var(--xr-border-color);\n",
              "}\n",
              "\n",
              ".xr-header > div,\n",
              ".xr-header > ul {\n",
              "  display: inline;\n",
              "  margin-top: 0;\n",
              "  margin-bottom: 0;\n",
              "}\n",
              "\n",
              ".xr-obj-type,\n",
              ".xr-array-name {\n",
              "  margin-left: 2px;\n",
              "  margin-right: 10px;\n",
              "}\n",
              "\n",
              ".xr-obj-type {\n",
              "  color: var(--xr-font-color2);\n",
              "}\n",
              "\n",
              ".xr-sections {\n",
              "  padding-left: 0 !important;\n",
              "  display: grid;\n",
              "  grid-template-columns: 150px auto auto 1fr 20px 20px;\n",
              "}\n",
              "\n",
              ".xr-section-item {\n",
              "  display: contents;\n",
              "}\n",
              "\n",
              ".xr-section-item input {\n",
              "  display: none;\n",
              "}\n",
              "\n",
              ".xr-section-item input + label {\n",
              "  color: var(--xr-disabled-color);\n",
              "}\n",
              "\n",
              ".xr-section-item input:enabled + label {\n",
              "  cursor: pointer;\n",
              "  color: var(--xr-font-color2);\n",
              "}\n",
              "\n",
              ".xr-section-item input:enabled + label:hover {\n",
              "  color: var(--xr-font-color0);\n",
              "}\n",
              "\n",
              ".xr-section-summary {\n",
              "  grid-column: 1;\n",
              "  color: var(--xr-font-color2);\n",
              "  font-weight: 500;\n",
              "}\n",
              "\n",
              ".xr-section-summary > span {\n",
              "  display: inline-block;\n",
              "  padding-left: 0.5em;\n",
              "}\n",
              "\n",
              ".xr-section-summary-in:disabled + label {\n",
              "  color: var(--xr-font-color2);\n",
              "}\n",
              "\n",
              ".xr-section-summary-in + label:before {\n",
              "  display: inline-block;\n",
              "  content: '►';\n",
              "  font-size: 11px;\n",
              "  width: 15px;\n",
              "  text-align: center;\n",
              "}\n",
              "\n",
              ".xr-section-summary-in:disabled + label:before {\n",
              "  color: var(--xr-disabled-color);\n",
              "}\n",
              "\n",
              ".xr-section-summary-in:checked + label:before {\n",
              "  content: '▼';\n",
              "}\n",
              "\n",
              ".xr-section-summary-in:checked + label > span {\n",
              "  display: none;\n",
              "}\n",
              "\n",
              ".xr-section-summary,\n",
              ".xr-section-inline-details {\n",
              "  padding-top: 4px;\n",
              "  padding-bottom: 4px;\n",
              "}\n",
              "\n",
              ".xr-section-inline-details {\n",
              "  grid-column: 2 / -1;\n",
              "}\n",
              "\n",
              ".xr-section-details {\n",
              "  display: none;\n",
              "  grid-column: 1 / -1;\n",
              "  margin-bottom: 5px;\n",
              "}\n",
              "\n",
              ".xr-section-summary-in:checked ~ .xr-section-details {\n",
              "  display: contents;\n",
              "}\n",
              "\n",
              ".xr-array-wrap {\n",
              "  grid-column: 1 / -1;\n",
              "  display: grid;\n",
              "  grid-template-columns: 20px auto;\n",
              "}\n",
              "\n",
              ".xr-array-wrap > label {\n",
              "  grid-column: 1;\n",
              "  vertical-align: top;\n",
              "}\n",
              "\n",
              ".xr-preview {\n",
              "  color: var(--xr-font-color3);\n",
              "}\n",
              "\n",
              ".xr-array-preview,\n",
              ".xr-array-data {\n",
              "  padding: 0 5px !important;\n",
              "  grid-column: 2;\n",
              "}\n",
              "\n",
              ".xr-array-data,\n",
              ".xr-array-in:checked ~ .xr-array-preview {\n",
              "  display: none;\n",
              "}\n",
              "\n",
              ".xr-array-in:checked ~ .xr-array-data,\n",
              ".xr-array-preview {\n",
              "  display: inline-block;\n",
              "}\n",
              "\n",
              ".xr-dim-list {\n",
              "  display: inline-block !important;\n",
              "  list-style: none;\n",
              "  padding: 0 !important;\n",
              "  margin: 0;\n",
              "}\n",
              "\n",
              ".xr-dim-list li {\n",
              "  display: inline-block;\n",
              "  padding: 0;\n",
              "  margin: 0;\n",
              "}\n",
              "\n",
              ".xr-dim-list:before {\n",
              "  content: '(';\n",
              "}\n",
              "\n",
              ".xr-dim-list:after {\n",
              "  content: ')';\n",
              "}\n",
              "\n",
              ".xr-dim-list li:not(:last-child):after {\n",
              "  content: ',';\n",
              "  padding-right: 5px;\n",
              "}\n",
              "\n",
              ".xr-has-index {\n",
              "  font-weight: bold;\n",
              "}\n",
              "\n",
              ".xr-var-list,\n",
              ".xr-var-item {\n",
              "  display: contents;\n",
              "}\n",
              "\n",
              ".xr-var-item > div,\n",
              ".xr-var-item label,\n",
              ".xr-var-item > .xr-var-name span {\n",
              "  background-color: var(--xr-background-color-row-even);\n",
              "  margin-bottom: 0;\n",
              "}\n",
              "\n",
              ".xr-var-item > .xr-var-name:hover span {\n",
              "  padding-right: 5px;\n",
              "}\n",
              "\n",
              ".xr-var-list > li:nth-child(odd) > div,\n",
              ".xr-var-list > li:nth-child(odd) > label,\n",
              ".xr-var-list > li:nth-child(odd) > .xr-var-name span {\n",
              "  background-color: var(--xr-background-color-row-odd);\n",
              "}\n",
              "\n",
              ".xr-var-name {\n",
              "  grid-column: 1;\n",
              "}\n",
              "\n",
              ".xr-var-dims {\n",
              "  grid-column: 2;\n",
              "}\n",
              "\n",
              ".xr-var-dtype {\n",
              "  grid-column: 3;\n",
              "  text-align: right;\n",
              "  color: var(--xr-font-color2);\n",
              "}\n",
              "\n",
              ".xr-var-preview {\n",
              "  grid-column: 4;\n",
              "}\n",
              "\n",
              ".xr-var-name,\n",
              ".xr-var-dims,\n",
              ".xr-var-dtype,\n",
              ".xr-preview,\n",
              ".xr-attrs dt {\n",
              "  white-space: nowrap;\n",
              "  overflow: hidden;\n",
              "  text-overflow: ellipsis;\n",
              "  padding-right: 10px;\n",
              "}\n",
              "\n",
              ".xr-var-name:hover,\n",
              ".xr-var-dims:hover,\n",
              ".xr-var-dtype:hover,\n",
              ".xr-attrs dt:hover {\n",
              "  overflow: visible;\n",
              "  width: auto;\n",
              "  z-index: 1;\n",
              "}\n",
              "\n",
              ".xr-var-attrs,\n",
              ".xr-var-data {\n",
              "  display: none;\n",
              "  background-color: var(--xr-background-color) !important;\n",
              "  padding-bottom: 5px !important;\n",
              "}\n",
              "\n",
              ".xr-var-attrs-in:checked ~ .xr-var-attrs,\n",
              ".xr-var-data-in:checked ~ .xr-var-data {\n",
              "  display: block;\n",
              "}\n",
              "\n",
              ".xr-var-data > table {\n",
              "  float: right;\n",
              "}\n",
              "\n",
              ".xr-var-name span,\n",
              ".xr-var-data,\n",
              ".xr-attrs {\n",
              "  padding-left: 25px !important;\n",
              "}\n",
              "\n",
              ".xr-attrs,\n",
              ".xr-var-attrs,\n",
              ".xr-var-data {\n",
              "  grid-column: 1 / -1;\n",
              "}\n",
              "\n",
              "dl.xr-attrs {\n",
              "  padding: 0;\n",
              "  margin: 0;\n",
              "  display: grid;\n",
              "  grid-template-columns: 125px auto;\n",
              "}\n",
              "\n",
              ".xr-attrs dt, dd {\n",
              "  padding: 0;\n",
              "  margin: 0;\n",
              "  float: left;\n",
              "  padding-right: 10px;\n",
              "  width: auto;\n",
              "}\n",
              "\n",
              ".xr-attrs dt {\n",
              "  font-weight: normal;\n",
              "  grid-column: 1;\n",
              "}\n",
              "\n",
              ".xr-attrs dt:hover span {\n",
              "  display: inline-block;\n",
              "  background: var(--xr-background-color);\n",
              "  padding-right: 10px;\n",
              "}\n",
              "\n",
              ".xr-attrs dd {\n",
              "  grid-column: 2;\n",
              "  white-space: pre-wrap;\n",
              "  word-break: break-all;\n",
              "}\n",
              "\n",
              ".xr-icon-database,\n",
              ".xr-icon-file-text2 {\n",
              "  display: inline-block;\n",
              "  vertical-align: middle;\n",
              "  width: 1em;\n",
              "  height: 1.5em !important;\n",
              "  stroke-width: 0;\n",
              "  stroke: currentColor;\n",
              "  fill: currentColor;\n",
              "}\n",
              "</style><div class='xr-wrap'><div class='xr-header'><div class='xr-obj-type'>xarray.Dataset</div></div><ul class='xr-sections'><li class='xr-section-item'><input id='section-caad316c-11c8-4940-a62a-01c11db1d9c5' class='xr-section-summary-in' type='checkbox' disabled ><label for='section-caad316c-11c8-4940-a62a-01c11db1d9c5' class='xr-section-summary'  title='Expand/collapse section'>Dimensions:</label><div class='xr-section-inline-details'><ul class='xr-dim-list'><li><span>bin</span>: 30</li><li><span class='xr-has-index'>obs</span>: 7811</li></ul></div><div class='xr-section-details'></div></li><li class='xr-section-item'><input id='section-4d2de8d9-9b8e-4cb7-bd52-e34b9080cb27' class='xr-section-summary-in' type='checkbox'  checked><label for='section-4d2de8d9-9b8e-4cb7-bd52-e34b9080cb27' class='xr-section-summary' >Coordinates: <span>(1)</span></label><div class='xr-section-inline-details'></div><div class='xr-section-details'><ul class='xr-var-list'><li class='xr-var-item'><div class='xr-var-name'><span class='xr-has-index'>obs</span></div><div class='xr-var-dims'>(obs)</div><div class='xr-var-dtype'>int32</div><div class='xr-var-preview xr-preview'>0 1 2 3 4 ... 7807 7808 7809 7810</div><input id='attrs-e8b2f0be-ef6b-4564-9d6b-d1d493492296' class='xr-var-attrs-in' type='checkbox' ><label for='attrs-e8b2f0be-ef6b-4564-9d6b-d1d493492296' title='Show/Hide attributes'><svg class='icon xr-icon-file-text2'><use xlink:href='#icon-file-text2'></use></svg></label><input id='data-d039fdb3-4f19-49c0-81c4-6ff6fd656d07' class='xr-var-data-in' type='checkbox'><label for='data-d039fdb3-4f19-49c0-81c4-6ff6fd656d07' title='Show/Hide data repr'><svg class='icon xr-icon-database'><use xlink:href='#icon-database'></use></svg></label><div class='xr-var-attrs'><dl class='xr-attrs'><dt><span>_ChunkSizes :</span></dt><dd>1024</dd></dl></div><pre class='xr-var-data'>array([   0,    1,    2, ..., 7808, 7809, 7810], dtype=int32)</pre></li></ul></div></li><li class='xr-section-item'><input id='section-d85a94c1-b2d6-481c-bf16-ccb33d36cdad' class='xr-section-summary-in' type='checkbox'  ><label for='section-d85a94c1-b2d6-481c-bf16-ccb33d36cdad' class='xr-section-summary' >Data variables: <span>(49)</span></label><div class='xr-section-inline-details'></div><div class='xr-section-details'><ul class='xr-var-list'><li class='xr-var-item'><div class='xr-var-name'><span>time</span></div><div class='xr-var-dims'>(obs)</div><div class='xr-var-dtype'>datetime64[ns]</div><div class='xr-var-preview xr-preview'>...</div><input id='attrs-7d8e7944-f11a-4da6-af1e-02c753da0c17' class='xr-var-attrs-in' type='checkbox' ><label for='attrs-7d8e7944-f11a-4da6-af1e-02c753da0c17' title='Show/Hide attributes'><svg class='icon xr-icon-file-text2'><use xlink:href='#icon-file-text2'></use></svg></label><input id='data-5b2cad89-8b6c-451a-ab9b-61d78e125d51' class='xr-var-data-in' type='checkbox'><label for='data-5b2cad89-8b6c-451a-ab9b-61d78e125d51' title='Show/Hide data repr'><svg class='icon xr-icon-database'><use xlink:href='#icon-database'></use></svg></label><div class='xr-var-attrs'><dl class='xr-attrs'><dt><span>long_name :</span></dt><dd>time</dd><dt><span>standard_name :</span></dt><dd>time</dd><dt><span>axis :</span></dt><dd>T</dd><dt><span>_ChunkSizes :</span></dt><dd>7811</dd></dl></div><pre class='xr-var-data'>array([&#x27;2018-04-03T04:30:00.000000000&#x27;, &#x27;2018-04-03T05:00:00.000000000&#x27;,\n",
              "       &#x27;2018-04-03T05:30:00.000000000&#x27;, ..., &#x27;2018-09-12T21:45:45.920000000&#x27;,\n",
              "       &#x27;2018-09-12T22:15:45.920000000&#x27;, &#x27;2018-09-12T22:45:45.920000000&#x27;],\n",
              "      dtype=&#x27;datetime64[ns]&#x27;)</pre></li><li class='xr-var-item'><div class='xr-var-name'><span>deployment</span></div><div class='xr-var-dims'>(obs)</div><div class='xr-var-dtype'>int32</div><div class='xr-var-preview xr-preview'>...</div><input id='attrs-4d0d0cba-dd21-4541-b0ba-822badf0ca54' class='xr-var-attrs-in' type='checkbox' ><label for='attrs-4d0d0cba-dd21-4541-b0ba-822badf0ca54' title='Show/Hide attributes'><svg class='icon xr-icon-file-text2'><use xlink:href='#icon-file-text2'></use></svg></label><input id='data-46b0d16f-08ed-4c6d-a5e2-9912bf7d52e7' class='xr-var-data-in' type='checkbox'><label for='data-46b0d16f-08ed-4c6d-a5e2-9912bf7d52e7' title='Show/Hide data repr'><svg class='icon xr-icon-database'><use xlink:href='#icon-database'></use></svg></label><div class='xr-var-attrs'><dl class='xr-attrs'><dt><span>name :</span></dt><dd>deployment</dd><dt><span>_ChunkSizes :</span></dt><dd>7811</dd></dl></div><pre class='xr-var-data'>array([9, 9, 9, ..., 9, 9, 9], dtype=int32)</pre></li><li class='xr-var-item'><div class='xr-var-name'><span>id</span></div><div class='xr-var-dims'>(obs)</div><div class='xr-var-dtype'>|S64</div><div class='xr-var-preview xr-preview'>...</div><input id='attrs-96c98247-6db2-4a7e-92f4-20eca550fb55' class='xr-var-attrs-in' type='checkbox' ><label for='attrs-96c98247-6db2-4a7e-92f4-20eca550fb55' title='Show/Hide attributes'><svg class='icon xr-icon-file-text2'><use xlink:href='#icon-file-text2'></use></svg></label><input id='data-2f37c628-9e5c-43b1-aba0-787122440b39' class='xr-var-data-in' type='checkbox'><label for='data-2f37c628-9e5c-43b1-aba0-787122440b39' title='Show/Hide data repr'><svg class='icon xr-icon-database'><use xlink:href='#icon-database'></use></svg></label><div class='xr-var-attrs'><dl class='xr-attrs'><dt><span>name :</span></dt><dd>id</dd><dt><span>_ChunkSizes :</span></dt><dd>[7811   36]</dd></dl></div><pre class='xr-var-data'>array([b&#x27;6ae87199-46ee-4cf6-a945-96a76fe232e7&#x27;,\n",
              "       b&#x27;e08e7624-0ce8-4a72-bd58-26a280ecc2ba&#x27;,\n",
              "       b&#x27;04db5baa-8369-4ae5-adf6-7c704c393321&#x27;, ...,\n",
              "       b&#x27;5f4e0f79-af8e-4147-9341-285504d86d7e&#x27;,\n",
              "       b&#x27;d0289cf6-0894-4b44-bd50-a9d02f1486c6&#x27;,\n",
              "       b&#x27;dc4dc201-b57c-43d7-95d6-0b36a7bb0046&#x27;], dtype=&#x27;|S64&#x27;)</pre></li><li class='xr-var-item'><div class='xr-var-name'><span>bin_1_distance</span></div><div class='xr-var-dims'>(obs)</div><div class='xr-var-dtype'>float32</div><div class='xr-var-preview xr-preview'>...</div><input id='attrs-69e466dd-6f81-4209-95c4-f02c7f6da2dc' class='xr-var-attrs-in' type='checkbox' ><label for='attrs-69e466dd-6f81-4209-95c4-f02c7f6da2dc' title='Show/Hide attributes'><svg class='icon xr-icon-file-text2'><use xlink:href='#icon-file-text2'></use></svg></label><input id='data-2bea0d6f-72b8-4b0c-8200-ae483cbb25fe' class='xr-var-data-in' type='checkbox'><label for='data-2bea0d6f-72b8-4b0c-8200-ae483cbb25fe' title='Show/Hide data repr'><svg class='icon xr-icon-database'><use xlink:href='#icon-database'></use></svg></label><div class='xr-var-attrs'><dl class='xr-attrs'><dt><span>coordinates :</span></dt><dd>time lat lon pressure</dd><dt><span>long_name :</span></dt><dd>Bin 1 Distance</dd><dt><span>comment :</span></dt><dd>Distance to middle of first depth cell (bin 1).</dd><dt><span>precision :</span></dt><dd>0</dd><dt><span>units :</span></dt><dd>cm</dd><dt><span>_ChunkSizes :</span></dt><dd>7811</dd></dl></div><pre class='xr-var-data'>array([209., 209., 209., ..., 210., 210., 210.], dtype=float32)</pre></li><li class='xr-var-item'><div class='xr-var-name'><span>cell_length</span></div><div class='xr-var-dims'>(obs)</div><div class='xr-var-dtype'>float32</div><div class='xr-var-preview xr-preview'>...</div><input id='attrs-ba1b1ac0-411b-4fcc-a21c-d8312e34b4ec' class='xr-var-attrs-in' type='checkbox' ><label for='attrs-ba1b1ac0-411b-4fcc-a21c-d8312e34b4ec' title='Show/Hide attributes'><svg class='icon xr-icon-file-text2'><use xlink:href='#icon-file-text2'></use></svg></label><input id='data-95ecd18f-e0e2-4923-8830-9a4463949a37' class='xr-var-data-in' type='checkbox'><label for='data-95ecd18f-e0e2-4923-8830-9a4463949a37' title='Show/Hide data repr'><svg class='icon xr-icon-database'><use xlink:href='#icon-database'></use></svg></label><div class='xr-var-attrs'><dl class='xr-attrs'><dt><span>comment :</span></dt><dd>Contains the depth of one cell length</dd><dt><span>precision :</span></dt><dd>0</dd><dt><span>coordinates :</span></dt><dd>time lat lon pressure</dd><dt><span>long_name :</span></dt><dd>Cell Length</dd><dt><span>units :</span></dt><dd>cm</dd><dt><span>_ChunkSizes :</span></dt><dd>7811</dd></dl></div><pre class='xr-var-data'>array([100., 100., 100., ..., 100., 100., 100.], dtype=float32)</pre></li><li class='xr-var-item'><div class='xr-var-name'><span>correlation_magnitude_beam1</span></div><div class='xr-var-dims'>(obs, bin)</div><div class='xr-var-dtype'>float32</div><div class='xr-var-preview xr-preview'>...</div><input id='attrs-9597858b-fcb3-41e3-9e3b-eaec7f9932d6' class='xr-var-attrs-in' type='checkbox' ><label for='attrs-9597858b-fcb3-41e3-9e3b-eaec7f9932d6' title='Show/Hide attributes'><svg class='icon xr-icon-file-text2'><use xlink:href='#icon-file-text2'></use></svg></label><input id='data-9d8e2ac6-5f66-41ca-bcb3-8dcf487eed40' class='xr-var-data-in' type='checkbox'><label for='data-9d8e2ac6-5f66-41ca-bcb3-8dcf487eed40' title='Show/Hide data repr'><svg class='icon xr-icon-database'><use xlink:href='#icon-database'></use></svg></label><div class='xr-var-attrs'><dl class='xr-attrs'><dt><span>comment :</span></dt><dd>Magnitude of the normalized echo auto-correlation at the lag used for estimating the Doppler phase change. 0 represents bad correlation and 255 represents perfect correlation.</dd><dt><span>precision :</span></dt><dd>0</dd><dt><span>long_name :</span></dt><dd>Correlation Magnitude Beam1</dd><dt><span>units :</span></dt><dd>1</dd><dt><span>coordinates :</span></dt><dd>time lat lon pressure</dd><dt><span>_ChunkSizes :</span></dt><dd>[7811   30]</dd></dl></div><pre class='xr-var-data'>[234330 values with dtype=float32]</pre></li><li class='xr-var-item'><div class='xr-var-name'><span>correlation_magnitude_beam2</span></div><div class='xr-var-dims'>(obs, bin)</div><div class='xr-var-dtype'>float32</div><div class='xr-var-preview xr-preview'>...</div><input id='attrs-4683d47b-e787-494b-aedb-81c332c41673' class='xr-var-attrs-in' type='checkbox' ><label for='attrs-4683d47b-e787-494b-aedb-81c332c41673' title='Show/Hide attributes'><svg class='icon xr-icon-file-text2'><use xlink:href='#icon-file-text2'></use></svg></label><input id='data-b83181b3-6845-4257-b0d3-75898ada60f7' class='xr-var-data-in' type='checkbox'><label for='data-b83181b3-6845-4257-b0d3-75898ada60f7' title='Show/Hide data repr'><svg class='icon xr-icon-database'><use xlink:href='#icon-database'></use></svg></label><div class='xr-var-attrs'><dl class='xr-attrs'><dt><span>comment :</span></dt><dd>Magnitude of the normalized echo auto-correlation at the lag used for estimating the Doppler phase change. 0 represents bad correlation and 255 represents perfect correlation.</dd><dt><span>precision :</span></dt><dd>0</dd><dt><span>coordinates :</span></dt><dd>time lat lon pressure</dd><dt><span>long_name :</span></dt><dd>Correlation Magnitude Beam2</dd><dt><span>units :</span></dt><dd>1</dd><dt><span>_ChunkSizes :</span></dt><dd>[7811   30]</dd></dl></div><pre class='xr-var-data'>[234330 values with dtype=float32]</pre></li><li class='xr-var-item'><div class='xr-var-name'><span>correlation_magnitude_beam3</span></div><div class='xr-var-dims'>(obs, bin)</div><div class='xr-var-dtype'>float32</div><div class='xr-var-preview xr-preview'>...</div><input id='attrs-e739e8f1-f6b7-42a1-803a-21e94c470c6b' class='xr-var-attrs-in' type='checkbox' ><label for='attrs-e739e8f1-f6b7-42a1-803a-21e94c470c6b' title='Show/Hide attributes'><svg class='icon xr-icon-file-text2'><use xlink:href='#icon-file-text2'></use></svg></label><input id='data-c299cab0-28bf-4b11-9ad5-3962e30ade0e' class='xr-var-data-in' type='checkbox'><label for='data-c299cab0-28bf-4b11-9ad5-3962e30ade0e' title='Show/Hide data repr'><svg class='icon xr-icon-database'><use xlink:href='#icon-database'></use></svg></label><div class='xr-var-attrs'><dl class='xr-attrs'><dt><span>comment :</span></dt><dd>Magnitude of the normalized echo auto-correlation at the lag used for estimating the Doppler phase change. 0 represents bad correlation and 255 represents perfect correlation.</dd><dt><span>precision :</span></dt><dd>0</dd><dt><span>coordinates :</span></dt><dd>time lat lon pressure</dd><dt><span>long_name :</span></dt><dd>Correlation Magnitude Beam3</dd><dt><span>units :</span></dt><dd>1</dd><dt><span>_ChunkSizes :</span></dt><dd>[7811   30]</dd></dl></div><pre class='xr-var-data'>[234330 values with dtype=float32]</pre></li><li class='xr-var-item'><div class='xr-var-name'><span>correlation_magnitude_beam4</span></div><div class='xr-var-dims'>(obs, bin)</div><div class='xr-var-dtype'>float32</div><div class='xr-var-preview xr-preview'>...</div><input id='attrs-d5cd9cf3-4d45-4cc8-8903-331bbe27080d' class='xr-var-attrs-in' type='checkbox' ><label for='attrs-d5cd9cf3-4d45-4cc8-8903-331bbe27080d' title='Show/Hide attributes'><svg class='icon xr-icon-file-text2'><use xlink:href='#icon-file-text2'></use></svg></label><input id='data-84f1880b-6288-4822-bfcd-3d88b56c98dc' class='xr-var-data-in' type='checkbox'><label for='data-84f1880b-6288-4822-bfcd-3d88b56c98dc' title='Show/Hide data repr'><svg class='icon xr-icon-database'><use xlink:href='#icon-database'></use></svg></label><div class='xr-var-attrs'><dl class='xr-attrs'><dt><span>comment :</span></dt><dd>Magnitude of the normalized echo auto-correlation at the lag used for estimating the Doppler phase change. 0 represents bad correlation and 255 represents perfect correlation.</dd><dt><span>precision :</span></dt><dd>0</dd><dt><span>coordinates :</span></dt><dd>time lat lon pressure</dd><dt><span>long_name :</span></dt><dd>Correlation Magnitude Beam4</dd><dt><span>units :</span></dt><dd>1</dd><dt><span>_ChunkSizes :</span></dt><dd>[7811   30]</dd></dl></div><pre class='xr-var-data'>[234330 values with dtype=float32]</pre></li><li class='xr-var-item'><div class='xr-var-name'><span>driver_timestamp</span></div><div class='xr-var-dims'>(obs)</div><div class='xr-var-dtype'>datetime64[ns]</div><div class='xr-var-preview xr-preview'>...</div><input id='attrs-6fe26d0c-26ad-4cd2-8eae-6362f29f1ba6' class='xr-var-attrs-in' type='checkbox' ><label for='attrs-6fe26d0c-26ad-4cd2-8eae-6362f29f1ba6' title='Show/Hide attributes'><svg class='icon xr-icon-file-text2'><use xlink:href='#icon-file-text2'></use></svg></label><input id='data-78264a28-43cc-4625-b524-146b7c380d36' class='xr-var-data-in' type='checkbox'><label for='data-78264a28-43cc-4625-b524-146b7c380d36' title='Show/Hide data repr'><svg class='icon xr-icon-database'><use xlink:href='#icon-database'></use></svg></label><div class='xr-var-attrs'><dl class='xr-attrs'><dt><span>comment :</span></dt><dd>Driver timestamp, UTC</dd><dt><span>coordinates :</span></dt><dd>time lat lon pressure</dd><dt><span>long_name :</span></dt><dd>Driver Timestamp, UTC</dd><dt><span>_ChunkSizes :</span></dt><dd>7811</dd></dl></div><pre class='xr-var-data'>array([&#x27;2018-11-30T23:53:32.875265024&#x27;, &#x27;2018-11-30T23:53:32.877340160&#x27;,\n",
              "       &#x27;2018-11-30T23:53:32.879341056&#x27;, ..., &#x27;2018-11-30T23:53:41.430661120&#x27;,\n",
              "       &#x27;2018-11-30T23:53:41.434050048&#x27;, &#x27;2018-11-30T23:53:41.437852160&#x27;],\n",
              "      dtype=&#x27;datetime64[ns]&#x27;)</pre></li><li class='xr-var-item'><div class='xr-var-name'><span>echo_intensity_beam1</span></div><div class='xr-var-dims'>(obs, bin)</div><div class='xr-var-dtype'>float32</div><div class='xr-var-preview xr-preview'>...</div><input id='attrs-cd2295c1-e3c2-41be-bf62-a381a778f321' class='xr-var-attrs-in' type='checkbox' ><label for='attrs-cd2295c1-e3c2-41be-bf62-a381a778f321' title='Show/Hide attributes'><svg class='icon xr-icon-file-text2'><use xlink:href='#icon-file-text2'></use></svg></label><input id='data-b2fb88b9-749e-4c57-9c11-82afa72ef55d' class='xr-var-data-in' type='checkbox'><label for='data-b2fb88b9-749e-4c57-9c11-82afa72ef55d' title='Show/Hide data repr'><svg class='icon xr-icon-database'><use xlink:href='#icon-database'></use></svg></label><div class='xr-var-attrs'><dl class='xr-attrs'><dt><span>long_name :</span></dt><dd>Echo Intensity Beam 1 Measurement</dd><dt><span>precision :</span></dt><dd>0</dd><dt><span>coordinates :</span></dt><dd>time lat lon pressure</dd><dt><span>data_product_identifier :</span></dt><dd>ECHOINT-B1_L0</dd><dt><span>comment :</span></dt><dd>Echo Intensity Measurement is the accoustic return signal that is output directly from the ADCP. This is used to calculate the echo intensity data product.</dd><dt><span>units :</span></dt><dd>counts</dd><dt><span>_ChunkSizes :</span></dt><dd>[7811   30]</dd></dl></div><pre class='xr-var-data'>[234330 values with dtype=float32]</pre></li><li class='xr-var-item'><div class='xr-var-name'><span>echo_intensity_beam2</span></div><div class='xr-var-dims'>(obs, bin)</div><div class='xr-var-dtype'>float32</div><div class='xr-var-preview xr-preview'>...</div><input id='attrs-71719c8f-c673-4ad2-a960-859338f3b69b' class='xr-var-attrs-in' type='checkbox' ><label for='attrs-71719c8f-c673-4ad2-a960-859338f3b69b' title='Show/Hide attributes'><svg class='icon xr-icon-file-text2'><use xlink:href='#icon-file-text2'></use></svg></label><input id='data-70f5deb3-3129-471d-ba8d-b9057b13f65c' class='xr-var-data-in' type='checkbox'><label for='data-70f5deb3-3129-471d-ba8d-b9057b13f65c' title='Show/Hide data repr'><svg class='icon xr-icon-database'><use xlink:href='#icon-database'></use></svg></label><div class='xr-var-attrs'><dl class='xr-attrs'><dt><span>comment :</span></dt><dd>Echo Intensity Measurement is the accoustic return signal that is output directly from the ADCP. This is used to calculate the echo intensity data product.</dd><dt><span>long_name :</span></dt><dd>Echo Intensity Beam 2 Measurement</dd><dt><span>precision :</span></dt><dd>0</dd><dt><span>data_product_identifier :</span></dt><dd>ECHOINT-B2_L0</dd><dt><span>units :</span></dt><dd>counts</dd><dt><span>coordinates :</span></dt><dd>time lat lon pressure</dd><dt><span>_ChunkSizes :</span></dt><dd>[7811   30]</dd></dl></div><pre class='xr-var-data'>[234330 values with dtype=float32]</pre></li><li class='xr-var-item'><div class='xr-var-name'><span>echo_intensity_beam3</span></div><div class='xr-var-dims'>(obs, bin)</div><div class='xr-var-dtype'>float32</div><div class='xr-var-preview xr-preview'>...</div><input id='attrs-b294bbc7-6220-43e1-b836-d0ffc5a05c94' class='xr-var-attrs-in' type='checkbox' ><label for='attrs-b294bbc7-6220-43e1-b836-d0ffc5a05c94' title='Show/Hide attributes'><svg class='icon xr-icon-file-text2'><use xlink:href='#icon-file-text2'></use></svg></label><input id='data-a609456a-5d30-430f-a29d-a9e3ce26bdcf' class='xr-var-data-in' type='checkbox'><label for='data-a609456a-5d30-430f-a29d-a9e3ce26bdcf' title='Show/Hide data repr'><svg class='icon xr-icon-database'><use xlink:href='#icon-database'></use></svg></label><div class='xr-var-attrs'><dl class='xr-attrs'><dt><span>comment :</span></dt><dd>Echo Intensity Measurement is the accoustic return signal that is output directly from the ADCP. This is used to calculate the echo intensity data product.</dd><dt><span>precision :</span></dt><dd>0</dd><dt><span>coordinates :</span></dt><dd>time lat lon pressure</dd><dt><span>data_product_identifier :</span></dt><dd>ECHOINT-B3_L0</dd><dt><span>units :</span></dt><dd>counts</dd><dt><span>long_name :</span></dt><dd>Echo Intensity Beam 3 Measurement</dd><dt><span>_ChunkSizes :</span></dt><dd>[7811   30]</dd></dl></div><pre class='xr-var-data'>[234330 values with dtype=float32]</pre></li><li class='xr-var-item'><div class='xr-var-name'><span>echo_intensity_beam4</span></div><div class='xr-var-dims'>(obs, bin)</div><div class='xr-var-dtype'>float32</div><div class='xr-var-preview xr-preview'>...</div><input id='attrs-491a79b3-8ef5-4888-9abf-bbc314e9effb' class='xr-var-attrs-in' type='checkbox' ><label for='attrs-491a79b3-8ef5-4888-9abf-bbc314e9effb' title='Show/Hide attributes'><svg class='icon xr-icon-file-text2'><use xlink:href='#icon-file-text2'></use></svg></label><input id='data-591c5fda-ebc6-44a5-915e-566fad3ec358' class='xr-var-data-in' type='checkbox'><label for='data-591c5fda-ebc6-44a5-915e-566fad3ec358' title='Show/Hide data repr'><svg class='icon xr-icon-database'><use xlink:href='#icon-database'></use></svg></label><div class='xr-var-attrs'><dl class='xr-attrs'><dt><span>comment :</span></dt><dd>Echo Intensity Measurement is the accoustic return signal that is output directly from the ADCP. This is used to calculate the echo intensity data product.</dd><dt><span>long_name :</span></dt><dd>Echo Intensity Beam 4 Measurement</dd><dt><span>precision :</span></dt><dd>0</dd><dt><span>coordinates :</span></dt><dd>time lat lon pressure</dd><dt><span>data_product_identifier :</span></dt><dd>ECHOINT-B4_L0</dd><dt><span>units :</span></dt><dd>counts</dd><dt><span>_ChunkSizes :</span></dt><dd>[7811   30]</dd></dl></div><pre class='xr-var-data'>[234330 values with dtype=float32]</pre></li><li class='xr-var-item'><div class='xr-var-name'><span>ensemble_number</span></div><div class='xr-var-dims'>(obs)</div><div class='xr-var-dtype'>float32</div><div class='xr-var-preview xr-preview'>...</div><input id='attrs-eb8a5248-8b30-48ea-9d90-5c7944bbe2ef' class='xr-var-attrs-in' type='checkbox' ><label for='attrs-eb8a5248-8b30-48ea-9d90-5c7944bbe2ef' title='Show/Hide attributes'><svg class='icon xr-icon-file-text2'><use xlink:href='#icon-file-text2'></use></svg></label><input id='data-f7eb1bf9-fc34-4ee3-92ba-8387598f58c9' class='xr-var-data-in' type='checkbox'><label for='data-f7eb1bf9-fc34-4ee3-92ba-8387598f58c9' title='Show/Hide data repr'><svg class='icon xr-icon-database'><use xlink:href='#icon-database'></use></svg></label><div class='xr-var-attrs'><dl class='xr-attrs'><dt><span>coordinates :</span></dt><dd>time lat lon pressure</dd><dt><span>units :</span></dt><dd>1</dd><dt><span>precision :</span></dt><dd>0</dd><dt><span>comment :</span></dt><dd>Sequential number of the ensemble to which the data applies</dd><dt><span>long_name :</span></dt><dd>Ensemble Number</dd><dt><span>_ChunkSizes :</span></dt><dd>7811</dd></dl></div><pre class='xr-var-data'>array([1.000e+00, 2.000e+00, 3.000e+00, ..., 2.585e+03, 2.586e+03, 2.587e+03],\n",
              "      dtype=float32)</pre></li><li class='xr-var-item'><div class='xr-var-name'><span>error_velocity</span></div><div class='xr-var-dims'>(obs, bin)</div><div class='xr-var-dtype'>float32</div><div class='xr-var-preview xr-preview'>...</div><input id='attrs-7207b5f9-d2da-4973-a44d-a05b70efd381' class='xr-var-attrs-in' type='checkbox' ><label for='attrs-7207b5f9-d2da-4973-a44d-a05b70efd381' title='Show/Hide attributes'><svg class='icon xr-icon-file-text2'><use xlink:href='#icon-file-text2'></use></svg></label><input id='data-42890d07-948d-4f3d-851b-10ba42cf702e' class='xr-var-data-in' type='checkbox'><label for='data-42890d07-948d-4f3d-851b-10ba42cf702e' title='Show/Hide data repr'><svg class='icon xr-icon-database'><use xlink:href='#icon-database'></use></svg></label><div class='xr-var-attrs'><dl class='xr-attrs'><dt><span>data_product_identifier :</span></dt><dd>VELPROF-EVL_L0</dd><dt><span>comment :</span></dt><dd>A Velocity Profile includes water velocity (speed &amp; direction) throughout the depth range of an ADCP sensor. This instance is the error seawater velocity component.</dd><dt><span>precision :</span></dt><dd>0</dd><dt><span>coordinates :</span></dt><dd>time lat lon pressure</dd><dt><span>units :</span></dt><dd>mm s-1</dd><dt><span>long_name :</span></dt><dd>Error Seawater Velocity</dd><dt><span>_ChunkSizes :</span></dt><dd>[7811   30]</dd></dl></div><pre class='xr-var-data'>[234330 values with dtype=float32]</pre></li><li class='xr-var-item'><div class='xr-var-name'><span>heading</span></div><div class='xr-var-dims'>(obs)</div><div class='xr-var-dtype'>float32</div><div class='xr-var-preview xr-preview'>...</div><input id='attrs-4922c7c2-448e-4d68-bdb2-adca03e3654d' class='xr-var-attrs-in' type='checkbox' ><label for='attrs-4922c7c2-448e-4d68-bdb2-adca03e3654d' title='Show/Hide attributes'><svg class='icon xr-icon-file-text2'><use xlink:href='#icon-file-text2'></use></svg></label><input id='data-1ea57438-4950-4e29-a97a-bef173fcaa9d' class='xr-var-data-in' type='checkbox'><label for='data-1ea57438-4950-4e29-a97a-bef173fcaa9d' title='Show/Hide data repr'><svg class='icon xr-icon-database'><use xlink:href='#icon-database'></use></svg></label><div class='xr-var-attrs'><dl class='xr-attrs'><dt><span>comment :</span></dt><dd>Contains either the manual or measured heading of the ADCP.</dd><dt><span>precision :</span></dt><dd>0</dd><dt><span>coordinates :</span></dt><dd>time lat lon pressure</dd><dt><span>long_name :</span></dt><dd>Heading</dd><dt><span>units :</span></dt><dd>deci-degrees</dd><dt><span>_ChunkSizes :</span></dt><dd>7811</dd></dl></div><pre class='xr-var-data'>array([3416., 3439., 3463., ..., 5582., 5583., 5559.], dtype=float32)</pre></li><li class='xr-var-item'><div class='xr-var-name'><span>ingestion_timestamp</span></div><div class='xr-var-dims'>(obs)</div><div class='xr-var-dtype'>datetime64[ns]</div><div class='xr-var-preview xr-preview'>...</div><input id='attrs-c75a2193-d6e4-45dc-874a-ec8a05e7293f' class='xr-var-attrs-in' type='checkbox' ><label for='attrs-c75a2193-d6e4-45dc-874a-ec8a05e7293f' title='Show/Hide attributes'><svg class='icon xr-icon-file-text2'><use xlink:href='#icon-file-text2'></use></svg></label><input id='data-c655ee02-5e39-47f1-ba15-b975186bb7f2' class='xr-var-data-in' type='checkbox'><label for='data-c655ee02-5e39-47f1-ba15-b975186bb7f2' title='Show/Hide data repr'><svg class='icon xr-icon-database'><use xlink:href='#icon-database'></use></svg></label><div class='xr-var-attrs'><dl class='xr-attrs'><dt><span>coordinates :</span></dt><dd>time lat lon pressure</dd><dt><span>long_name :</span></dt><dd>Ingestion Timestamp, UTC</dd><dt><span>comment :</span></dt><dd>The NTP Timestamp for when the granule was ingested</dd><dt><span>_ChunkSizes :</span></dt><dd>7811</dd></dl></div><pre class='xr-var-data'>array([&#x27;2018-11-30T23:55:34.648000000&#x27;, &#x27;2018-11-30T23:55:34.648999936&#x27;,\n",
              "       &#x27;2018-11-30T23:55:34.648999936&#x27;, ..., &#x27;2018-11-30T23:55:19.661000192&#x27;,\n",
              "       &#x27;2018-11-30T23:55:19.661999616&#x27;, &#x27;2018-11-30T23:55:19.663000064&#x27;],\n",
              "      dtype=&#x27;datetime64[ns]&#x27;)</pre></li><li class='xr-var-item'><div class='xr-var-name'><span>internal_timestamp</span></div><div class='xr-var-dims'>(obs)</div><div class='xr-var-dtype'>datetime64[ns]</div><div class='xr-var-preview xr-preview'>...</div><input id='attrs-1e60c314-4166-4ff7-8199-ce8a65ef5151' class='xr-var-attrs-in' type='checkbox' ><label for='attrs-1e60c314-4166-4ff7-8199-ce8a65ef5151' title='Show/Hide attributes'><svg class='icon xr-icon-file-text2'><use xlink:href='#icon-file-text2'></use></svg></label><input id='data-ae128f96-ce6d-48c3-88c7-4cdf701d84e7' class='xr-var-data-in' type='checkbox'><label for='data-ae128f96-ce6d-48c3-88c7-4cdf701d84e7' title='Show/Hide data repr'><svg class='icon xr-icon-database'><use xlink:href='#icon-database'></use></svg></label><div class='xr-var-attrs'><dl class='xr-attrs'><dt><span>coordinates :</span></dt><dd>time lat lon pressure</dd><dt><span>long_name :</span></dt><dd>Internal Timestamp, UTC</dd><dt><span>comment :</span></dt><dd>Internal timestamp, UTC</dd><dt><span>_ChunkSizes :</span></dt><dd>7811</dd></dl></div><pre class='xr-var-data'>array([&#x27;2018-04-03T04:30:00.000000000&#x27;, &#x27;2018-04-03T05:00:00.000000000&#x27;,\n",
              "       &#x27;2018-04-03T05:30:00.000000000&#x27;, ..., &#x27;2018-09-12T21:45:45.920000000&#x27;,\n",
              "       &#x27;2018-09-12T22:15:45.920000000&#x27;, &#x27;2018-09-12T22:45:45.920000000&#x27;],\n",
              "      dtype=&#x27;datetime64[ns]&#x27;)</pre></li><li class='xr-var-item'><div class='xr-var-name'><span>num_cells</span></div><div class='xr-var-dims'>(obs)</div><div class='xr-var-dtype'>float32</div><div class='xr-var-preview xr-preview'>...</div><input id='attrs-44e02d01-f209-4c39-afac-e524118d1b7f' class='xr-var-attrs-in' type='checkbox' ><label for='attrs-44e02d01-f209-4c39-afac-e524118d1b7f' title='Show/Hide attributes'><svg class='icon xr-icon-file-text2'><use xlink:href='#icon-file-text2'></use></svg></label><input id='data-e6224ed3-6ece-48f1-bf58-5e1e7a14a28a' class='xr-var-data-in' type='checkbox'><label for='data-e6224ed3-6ece-48f1-bf58-5e1e7a14a28a' title='Show/Hide data repr'><svg class='icon xr-icon-database'><use xlink:href='#icon-database'></use></svg></label><div class='xr-var-attrs'><dl class='xr-attrs'><dt><span>coordinates :</span></dt><dd>time lat lon pressure</dd><dt><span>long_name :</span></dt><dd>Number Cells</dd><dt><span>comment :</span></dt><dd>Contains the number of cells over which the ADCP collects data</dd><dt><span>precision :</span></dt><dd>0</dd><dt><span>units :</span></dt><dd>1</dd><dt><span>_ChunkSizes :</span></dt><dd>7811</dd></dl></div><pre class='xr-var-data'>array([30., 30., 30., ..., 30., 30., 30.], dtype=float32)</pre></li><li class='xr-var-item'><div class='xr-var-name'><span>percent_bad_beams</span></div><div class='xr-var-dims'>(obs, bin)</div><div class='xr-var-dtype'>float32</div><div class='xr-var-preview xr-preview'>...</div><input id='attrs-b5e91652-c8b3-4c12-9a07-b9e774e49f29' class='xr-var-attrs-in' type='checkbox' ><label for='attrs-b5e91652-c8b3-4c12-9a07-b9e774e49f29' title='Show/Hide attributes'><svg class='icon xr-icon-file-text2'><use xlink:href='#icon-file-text2'></use></svg></label><input id='data-ba670797-a541-47e0-9d05-9dace9974b9f' class='xr-var-data-in' type='checkbox'><label for='data-ba670797-a541-47e0-9d05-9dace9974b9f' title='Show/Hide data repr'><svg class='icon xr-icon-database'><use xlink:href='#icon-database'></use></svg></label><div class='xr-var-attrs'><dl class='xr-attrs'><dt><span>long_name :</span></dt><dd>Percent Bad Beams</dd><dt><span>coordinates :</span></dt><dd>time lat lon pressure</dd><dt><span>units :</span></dt><dd>percent</dd><dt><span>comment :</span></dt><dd>Percentage of velocity data rejected because not enough beams had good data.</dd><dt><span>precision :</span></dt><dd>0</dd><dt><span>_ChunkSizes :</span></dt><dd>[7811   30]</dd></dl></div><pre class='xr-var-data'>[234330 values with dtype=float32]</pre></li><li class='xr-var-item'><div class='xr-var-name'><span>percent_good_3beam</span></div><div class='xr-var-dims'>(obs, bin)</div><div class='xr-var-dtype'>float32</div><div class='xr-var-preview xr-preview'>...</div><input id='attrs-05c726ff-9195-42b2-9fe4-a0353f500668' class='xr-var-attrs-in' type='checkbox' ><label for='attrs-05c726ff-9195-42b2-9fe4-a0353f500668' title='Show/Hide attributes'><svg class='icon xr-icon-file-text2'><use xlink:href='#icon-file-text2'></use></svg></label><input id='data-f9d40b7e-181e-4a76-93a5-653676503ea3' class='xr-var-data-in' type='checkbox'><label for='data-f9d40b7e-181e-4a76-93a5-653676503ea3' title='Show/Hide data repr'><svg class='icon xr-icon-database'><use xlink:href='#icon-database'></use></svg></label><div class='xr-var-attrs'><dl class='xr-attrs'><dt><span>precision :</span></dt><dd>0</dd><dt><span>coordinates :</span></dt><dd>time lat lon pressure</dd><dt><span>long_name :</span></dt><dd>Percent Good 3Beam</dd><dt><span>units :</span></dt><dd>percent</dd><dt><span>comment :</span></dt><dd>Percentage of good 3-beam solutions (successful velocity calculations using 3-beams). VELPROF-PCG</dd><dt><span>_ChunkSizes :</span></dt><dd>[7811   30]</dd></dl></div><pre class='xr-var-data'>[234330 values with dtype=float32]</pre></li><li class='xr-var-item'><div class='xr-var-name'><span>percent_good_4beam</span></div><div class='xr-var-dims'>(obs, bin)</div><div class='xr-var-dtype'>float32</div><div class='xr-var-preview xr-preview'>...</div><input id='attrs-6f8841dc-5ef5-46f7-8c8a-01a07e5b492b' class='xr-var-attrs-in' type='checkbox' ><label for='attrs-6f8841dc-5ef5-46f7-8c8a-01a07e5b492b' title='Show/Hide attributes'><svg class='icon xr-icon-file-text2'><use xlink:href='#icon-file-text2'></use></svg></label><input id='data-72929ddf-2d40-462a-a3f4-b9c5ad8fd2fc' class='xr-var-data-in' type='checkbox'><label for='data-72929ddf-2d40-462a-a3f4-b9c5ad8fd2fc' title='Show/Hide data repr'><svg class='icon xr-icon-database'><use xlink:href='#icon-database'></use></svg></label><div class='xr-var-attrs'><dl class='xr-attrs'><dt><span>precision :</span></dt><dd>0</dd><dt><span>coordinates :</span></dt><dd>time lat lon pressure</dd><dt><span>long_name :</span></dt><dd>Percent Good 4Beam</dd><dt><span>units :</span></dt><dd>percent</dd><dt><span>comment :</span></dt><dd>Percentage of velocity data collected during ensemble that were calculated with all 4 beams</dd><dt><span>_ChunkSizes :</span></dt><dd>[7811   30]</dd></dl></div><pre class='xr-var-data'>[234330 values with dtype=float32]</pre></li><li class='xr-var-item'><div class='xr-var-name'><span>percent_transforms_reject</span></div><div class='xr-var-dims'>(obs, bin)</div><div class='xr-var-dtype'>float32</div><div class='xr-var-preview xr-preview'>...</div><input id='attrs-d6a419f0-71c1-48c5-a015-20ec73358462' class='xr-var-attrs-in' type='checkbox' ><label for='attrs-d6a419f0-71c1-48c5-a015-20ec73358462' title='Show/Hide attributes'><svg class='icon xr-icon-file-text2'><use xlink:href='#icon-file-text2'></use></svg></label><input id='data-c283b617-2133-4555-a41e-1cb8bc680c29' class='xr-var-data-in' type='checkbox'><label for='data-c283b617-2133-4555-a41e-1cb8bc680c29' title='Show/Hide data repr'><svg class='icon xr-icon-database'><use xlink:href='#icon-database'></use></svg></label><div class='xr-var-attrs'><dl class='xr-attrs'><dt><span>precision :</span></dt><dd>0</dd><dt><span>coordinates :</span></dt><dd>time lat lon pressure</dd><dt><span>long_name :</span></dt><dd>Percent Transforms Reject</dd><dt><span>comment :</span></dt><dd>Percentage of transformations rejected (error velocity that was higher than the WE-command setting)</dd><dt><span>units :</span></dt><dd>percent</dd><dt><span>_ChunkSizes :</span></dt><dd>[7811   30]</dd></dl></div><pre class='xr-var-data'>[234330 values with dtype=float32]</pre></li><li class='xr-var-item'><div class='xr-var-name'><span>pitch</span></div><div class='xr-var-dims'>(obs)</div><div class='xr-var-dtype'>float32</div><div class='xr-var-preview xr-preview'>...</div><input id='attrs-e894d569-a419-4019-b12d-1a2c81705f0d' class='xr-var-attrs-in' type='checkbox' ><label for='attrs-e894d569-a419-4019-b12d-1a2c81705f0d' title='Show/Hide attributes'><svg class='icon xr-icon-file-text2'><use xlink:href='#icon-file-text2'></use></svg></label><input id='data-84351a44-d305-45f7-be46-9dc42e414329' class='xr-var-data-in' type='checkbox'><label for='data-84351a44-d305-45f7-be46-9dc42e414329' title='Show/Hide data repr'><svg class='icon xr-icon-database'><use xlink:href='#icon-database'></use></svg></label><div class='xr-var-attrs'><dl class='xr-attrs'><dt><span>comment :</span></dt><dd>Contains either the manual or measured pitch of the ADCP.</dd><dt><span>coordinates :</span></dt><dd>time lat lon pressure</dd><dt><span>long_name :</span></dt><dd>Pitch</dd><dt><span>units :</span></dt><dd>deci-degrees</dd><dt><span>precision :</span></dt><dd>0</dd><dt><span>_ChunkSizes :</span></dt><dd>7811</dd></dl></div><pre class='xr-var-data'>array([   4.,    6.,    3., ..., -894., -895., -896.], dtype=float32)</pre></li><li class='xr-var-item'><div class='xr-var-name'><span>port_timestamp</span></div><div class='xr-var-dims'>(obs)</div><div class='xr-var-dtype'>datetime64[ns]</div><div class='xr-var-preview xr-preview'>...</div><input id='attrs-226e96b8-ffb5-4250-8d46-e0ce5d874030' class='xr-var-attrs-in' type='checkbox' ><label for='attrs-226e96b8-ffb5-4250-8d46-e0ce5d874030' title='Show/Hide attributes'><svg class='icon xr-icon-file-text2'><use xlink:href='#icon-file-text2'></use></svg></label><input id='data-a3e18b53-22c7-4073-9442-a55aca5acf3c' class='xr-var-data-in' type='checkbox'><label for='data-a3e18b53-22c7-4073-9442-a55aca5acf3c' title='Show/Hide data repr'><svg class='icon xr-icon-database'><use xlink:href='#icon-database'></use></svg></label><div class='xr-var-attrs'><dl class='xr-attrs'><dt><span>comment :</span></dt><dd>Port timestamp, UTC</dd><dt><span>coordinates :</span></dt><dd>time lat lon pressure</dd><dt><span>long_name :</span></dt><dd>Port Timestamp, UTC</dd><dt><span>_ChunkSizes :</span></dt><dd>7811</dd></dl></div><pre class='xr-var-data'>array([&#x27;1900-01-01T00:00:00.000000000&#x27;, &#x27;1900-01-01T00:00:00.000000000&#x27;,\n",
              "       &#x27;1900-01-01T00:00:00.000000000&#x27;, ..., &#x27;1900-01-01T00:00:00.000000000&#x27;,\n",
              "       &#x27;1900-01-01T00:00:00.000000000&#x27;, &#x27;1900-01-01T00:00:00.000000000&#x27;],\n",
              "      dtype=&#x27;datetime64[ns]&#x27;)</pre></li><li class='xr-var-item'><div class='xr-var-name'><span>preferred_timestamp</span></div><div class='xr-var-dims'>(obs)</div><div class='xr-var-dtype'>object</div><div class='xr-var-preview xr-preview'>...</div><input id='attrs-92e6cbed-5316-4fb2-b523-8e80850716d6' class='xr-var-attrs-in' type='checkbox' ><label for='attrs-92e6cbed-5316-4fb2-b523-8e80850716d6' title='Show/Hide attributes'><svg class='icon xr-icon-file-text2'><use xlink:href='#icon-file-text2'></use></svg></label><input id='data-f605ccb2-fb94-4d57-8643-51471eb9b9b5' class='xr-var-data-in' type='checkbox'><label for='data-f605ccb2-fb94-4d57-8643-51471eb9b9b5' title='Show/Hide data repr'><svg class='icon xr-icon-database'><use xlink:href='#icon-database'></use></svg></label><div class='xr-var-attrs'><dl class='xr-attrs'><dt><span>comment :</span></dt><dd>Timestamp preferred as official record.</dd><dt><span>units :</span></dt><dd>1</dd><dt><span>coordinates :</span></dt><dd>time lat lon pressure</dd><dt><span>long_name :</span></dt><dd>Preferred Timestamp</dd><dt><span>_ChunkSizes :</span></dt><dd>[7811   18]</dd></dl></div><pre class='xr-var-data'>array([b&#x27;internal_timestamp&#x27;, b&#x27;internal_timestamp&#x27;, b&#x27;internal_timestamp&#x27;,\n",
              "       ..., b&#x27;internal_timestamp&#x27;, b&#x27;internal_timestamp&#x27;,\n",
              "       b&#x27;internal_timestamp&#x27;], dtype=object)</pre></li><li class='xr-var-item'><div class='xr-var-name'><span>pressure</span></div><div class='xr-var-dims'>(obs)</div><div class='xr-var-dtype'>float64</div><div class='xr-var-preview xr-preview'>...</div><input id='attrs-baea0393-b648-4442-adb2-a77758b9bc14' class='xr-var-attrs-in' type='checkbox' ><label for='attrs-baea0393-b648-4442-adb2-a77758b9bc14' title='Show/Hide attributes'><svg class='icon xr-icon-file-text2'><use xlink:href='#icon-file-text2'></use></svg></label><input id='data-587f7452-d3ad-4696-9010-9d80a7442fe1' class='xr-var-data-in' type='checkbox'><label for='data-587f7452-d3ad-4696-9010-9d80a7442fe1' title='Show/Hide data repr'><svg class='icon xr-icon-database'><use xlink:href='#icon-database'></use></svg></label><div class='xr-var-attrs'><dl class='xr-attrs'><dt><span>precision :</span></dt><dd>0</dd><dt><span>long_name :</span></dt><dd>Pressure</dd><dt><span>units :</span></dt><dd>daPa</dd><dt><span>axis :</span></dt><dd>Z</dd><dt><span>comment :</span></dt><dd>ADCP pressure sensor value measured in decaPascals</dd><dt><span>_ChunkSizes :</span></dt><dd>7811</dd></dl></div><pre class='xr-var-data'>array([23189., 23395., 23649., ..., 26134., 26114., 25986.])</pre></li><li class='xr-var-item'><div class='xr-var-name'><span>roll</span></div><div class='xr-var-dims'>(obs)</div><div class='xr-var-dtype'>float32</div><div class='xr-var-preview xr-preview'>...</div><input id='attrs-261d4f3a-c84b-43fa-b382-26e8b7eac540' class='xr-var-attrs-in' type='checkbox' ><label for='attrs-261d4f3a-c84b-43fa-b382-26e8b7eac540' title='Show/Hide attributes'><svg class='icon xr-icon-file-text2'><use xlink:href='#icon-file-text2'></use></svg></label><input id='data-e8bc579a-aead-4590-8961-c035ab2c206f' class='xr-var-data-in' type='checkbox'><label for='data-e8bc579a-aead-4590-8961-c035ab2c206f' title='Show/Hide data repr'><svg class='icon xr-icon-database'><use xlink:href='#icon-database'></use></svg></label><div class='xr-var-attrs'><dl class='xr-attrs'><dt><span>comment :</span></dt><dd>Contains either the manual or measured roll of the ADCP.</dd><dt><span>precision :</span></dt><dd>0</dd><dt><span>coordinates :</span></dt><dd>time lat lon pressure</dd><dt><span>long_name :</span></dt><dd>Roll</dd><dt><span>units :</span></dt><dd>deci-degrees</dd><dt><span>_ChunkSizes :</span></dt><dd>7811</dd></dl></div><pre class='xr-var-data'>array([ -98., -114., -119., ...,  602.,  602.,  601.], dtype=float32)</pre></li><li class='xr-var-item'><div class='xr-var-name'><span>salinity</span></div><div class='xr-var-dims'>(obs)</div><div class='xr-var-dtype'>float32</div><div class='xr-var-preview xr-preview'>...</div><input id='attrs-8738e07a-3631-454b-988d-cf6ece423a95' class='xr-var-attrs-in' type='checkbox' ><label for='attrs-8738e07a-3631-454b-988d-cf6ece423a95' title='Show/Hide attributes'><svg class='icon xr-icon-file-text2'><use xlink:href='#icon-file-text2'></use></svg></label><input id='data-68bdbc96-7d75-4086-8102-1e3832504656' class='xr-var-data-in' type='checkbox'><label for='data-68bdbc96-7d75-4086-8102-1e3832504656' title='Show/Hide data repr'><svg class='icon xr-icon-database'><use xlink:href='#icon-database'></use></svg></label><div class='xr-var-attrs'><dl class='xr-attrs'><dt><span>units :</span></dt><dd>1</dd><dt><span>comment :</span></dt><dd>Contains either the manual or measured (calculated from external conductivity sensor) salinity at the transducer face.</dd><dt><span>precision :</span></dt><dd>0</dd><dt><span>coordinates :</span></dt><dd>time lat lon pressure</dd><dt><span>long_name :</span></dt><dd>Transducer Salinity</dd><dt><span>_ChunkSizes :</span></dt><dd>7811</dd></dl></div><pre class='xr-var-data'>array([33., 33., 33., ..., 33., 33., 33.], dtype=float32)</pre></li><li class='xr-var-item'><div class='xr-var-name'><span>sysconfig_vertical_orientation</span></div><div class='xr-var-dims'>(obs)</div><div class='xr-var-dtype'>float32</div><div class='xr-var-preview xr-preview'>...</div><input id='attrs-e95a056e-90c8-4fcf-9424-c2b4cd8cde5a' class='xr-var-attrs-in' type='checkbox' ><label for='attrs-e95a056e-90c8-4fcf-9424-c2b4cd8cde5a' title='Show/Hide attributes'><svg class='icon xr-icon-file-text2'><use xlink:href='#icon-file-text2'></use></svg></label><input id='data-098e2909-d4ce-4eaa-bafc-3039affcd487' class='xr-var-data-in' type='checkbox'><label for='data-098e2909-d4ce-4eaa-bafc-3039affcd487' title='Show/Hide data repr'><svg class='icon xr-icon-database'><use xlink:href='#icon-database'></use></svg></label><div class='xr-var-attrs'><dl class='xr-attrs'><dt><span>comment :</span></dt><dd>Whether vertical orientation is upward or downward</dd><dt><span>coordinates :</span></dt><dd>time lat lon pressure</dd><dt><span>long_name :</span></dt><dd>Sysconfig Vertical Orientation</dd><dt><span>units :</span></dt><dd>1</dd><dt><span>precision :</span></dt><dd>0</dd><dt><span>_ChunkSizes :</span></dt><dd>7811</dd></dl></div><pre class='xr-var-data'>array([1., 1., 1., ..., 1., 1., 1.], dtype=float32)</pre></li><li class='xr-var-item'><div class='xr-var-name'><span>temperature</span></div><div class='xr-var-dims'>(obs)</div><div class='xr-var-dtype'>float32</div><div class='xr-var-preview xr-preview'>...</div><input id='attrs-63c168e3-c518-4910-abd0-5a9189a34a68' class='xr-var-attrs-in' type='checkbox' ><label for='attrs-63c168e3-c518-4910-abd0-5a9189a34a68' title='Show/Hide attributes'><svg class='icon xr-icon-file-text2'><use xlink:href='#icon-file-text2'></use></svg></label><input id='data-bd6a2260-f234-4049-9619-8c2d1f7d7db6' class='xr-var-data-in' type='checkbox'><label for='data-bd6a2260-f234-4049-9619-8c2d1f7d7db6' title='Show/Hide data repr'><svg class='icon xr-icon-database'><use xlink:href='#icon-database'></use></svg></label><div class='xr-var-attrs'><dl class='xr-attrs'><dt><span>comment :</span></dt><dd>Contains either the manual or measured temperature at the transducer face.</dd><dt><span>precision :</span></dt><dd>0</dd><dt><span>coordinates :</span></dt><dd>time lat lon pressure</dd><dt><span>long_name :</span></dt><dd>Transducer Temperature</dd><dt><span>units :</span></dt><dd>cdeg_C</dd><dt><span>_ChunkSizes :</span></dt><dd>7811</dd></dl></div><pre class='xr-var-data'>array([ 972.,  976.,  981., ..., 1112., 1132., 1147.], dtype=float32)</pre></li><li class='xr-var-item'><div class='xr-var-name'><span>transducer_depth</span></div><div class='xr-var-dims'>(obs)</div><div class='xr-var-dtype'>float32</div><div class='xr-var-preview xr-preview'>...</div><input id='attrs-55c00d8a-710d-4031-8ed3-1032c1395c49' class='xr-var-attrs-in' type='checkbox' ><label for='attrs-55c00d8a-710d-4031-8ed3-1032c1395c49' title='Show/Hide attributes'><svg class='icon xr-icon-file-text2'><use xlink:href='#icon-file-text2'></use></svg></label><input id='data-1d7090af-52d8-40bb-b8b1-0de033623bc2' class='xr-var-data-in' type='checkbox'><label for='data-1d7090af-52d8-40bb-b8b1-0de033623bc2' title='Show/Hide data repr'><svg class='icon xr-icon-database'><use xlink:href='#icon-database'></use></svg></label><div class='xr-var-attrs'><dl class='xr-attrs'><dt><span>comment :</span></dt><dd>Contains either the manual or measured depth of transducer below the water surface.</dd><dt><span>precision :</span></dt><dd>0</dd><dt><span>coordinates :</span></dt><dd>time lat lon pressure</dd><dt><span>long_name :</span></dt><dd>Transducer Depth</dd><dt><span>units :</span></dt><dd>dm</dd><dt><span>_ChunkSizes :</span></dt><dd>7811</dd></dl></div><pre class='xr-var-data'>array([230., 232., 235., ..., 260., 259., 258.], dtype=float32)</pre></li><li class='xr-var-item'><div class='xr-var-name'><span>water_velocity_east</span></div><div class='xr-var-dims'>(obs, bin)</div><div class='xr-var-dtype'>float32</div><div class='xr-var-preview xr-preview'>...</div><input id='attrs-2b2a9e39-66c2-42fc-8a5e-5d88b2ef0735' class='xr-var-attrs-in' type='checkbox' ><label for='attrs-2b2a9e39-66c2-42fc-8a5e-5d88b2ef0735' title='Show/Hide attributes'><svg class='icon xr-icon-file-text2'><use xlink:href='#icon-file-text2'></use></svg></label><input id='data-a366df71-0703-40e7-aa21-9bc7da691448' class='xr-var-data-in' type='checkbox'><label for='data-a366df71-0703-40e7-aa21-9bc7da691448' title='Show/Hide data repr'><svg class='icon xr-icon-database'><use xlink:href='#icon-database'></use></svg></label><div class='xr-var-attrs'><dl class='xr-attrs'><dt><span>comment :</span></dt><dd>A Velocity Profile includes water velocity (speed &amp; direction) throughout the depth range of an ADCP sensor. This instance is the eastward seawater velocity component.</dd><dt><span>long_name :</span></dt><dd>Eastward Seawater Velocity</dd><dt><span>precision :</span></dt><dd>0</dd><dt><span>coordinates :</span></dt><dd>time lat lon pressure</dd><dt><span>data_product_identifier :</span></dt><dd>VELPROF-VLE_L0</dd><dt><span>standard_name :</span></dt><dd>eastward_sea_water_velocity</dd><dt><span>units :</span></dt><dd>mm s-1</dd><dt><span>_ChunkSizes :</span></dt><dd>[7811   30]</dd></dl></div><pre class='xr-var-data'>[234330 values with dtype=float32]</pre></li><li class='xr-var-item'><div class='xr-var-name'><span>water_velocity_north</span></div><div class='xr-var-dims'>(obs, bin)</div><div class='xr-var-dtype'>float32</div><div class='xr-var-preview xr-preview'>...</div><input id='attrs-55fa121a-cac7-45c8-8623-a73e1aeddb6f' class='xr-var-attrs-in' type='checkbox' ><label for='attrs-55fa121a-cac7-45c8-8623-a73e1aeddb6f' title='Show/Hide attributes'><svg class='icon xr-icon-file-text2'><use xlink:href='#icon-file-text2'></use></svg></label><input id='data-84e0dbba-b8df-40b5-9967-f9e42e803dc2' class='xr-var-data-in' type='checkbox'><label for='data-84e0dbba-b8df-40b5-9967-f9e42e803dc2' title='Show/Hide data repr'><svg class='icon xr-icon-database'><use xlink:href='#icon-database'></use></svg></label><div class='xr-var-attrs'><dl class='xr-attrs'><dt><span>comment :</span></dt><dd>A Velocity Profile includes water velocity (speed &amp; direction) throughout the depth range of an ADCP sensor. This instance is the northward seawater velocity component.</dd><dt><span>long_name :</span></dt><dd>Northward Seawater Velocity</dd><dt><span>precision :</span></dt><dd>0</dd><dt><span>coordinates :</span></dt><dd>time lat lon pressure</dd><dt><span>data_product_identifier :</span></dt><dd>VELPROF-VLN_L0</dd><dt><span>standard_name :</span></dt><dd>northward_sea_water_velocity</dd><dt><span>units :</span></dt><dd>mm s-1</dd><dt><span>_ChunkSizes :</span></dt><dd>[7811   30]</dd></dl></div><pre class='xr-var-data'>[234330 values with dtype=float32]</pre></li><li class='xr-var-item'><div class='xr-var-name'><span>water_velocity_up</span></div><div class='xr-var-dims'>(obs, bin)</div><div class='xr-var-dtype'>float32</div><div class='xr-var-preview xr-preview'>...</div><input id='attrs-fba7b462-af75-4833-a9f6-651352b2125b' class='xr-var-attrs-in' type='checkbox' ><label for='attrs-fba7b462-af75-4833-a9f6-651352b2125b' title='Show/Hide attributes'><svg class='icon xr-icon-file-text2'><use xlink:href='#icon-file-text2'></use></svg></label><input id='data-bac93575-27aa-48ea-98d6-ee7c531212fd' class='xr-var-data-in' type='checkbox'><label for='data-bac93575-27aa-48ea-98d6-ee7c531212fd' title='Show/Hide data repr'><svg class='icon xr-icon-database'><use xlink:href='#icon-database'></use></svg></label><div class='xr-var-attrs'><dl class='xr-attrs'><dt><span>comment :</span></dt><dd>A Velocity Profile includes water velocity (speed &amp; direction) throughout the depth range of an ADCP sensor. This instance is the upward seawater velocity component.</dd><dt><span>long_name :</span></dt><dd>Upward Seawater Velocity</dd><dt><span>precision :</span></dt><dd>0</dd><dt><span>coordinates :</span></dt><dd>time lat lon pressure</dd><dt><span>data_product_identifier :</span></dt><dd>VELPROF-VLU_L0</dd><dt><span>standard_name :</span></dt><dd>upward_sea_water_velocity</dd><dt><span>units :</span></dt><dd>mm s-1</dd><dt><span>_ChunkSizes :</span></dt><dd>[7811   30]</dd></dl></div><pre class='xr-var-data'>[234330 values with dtype=float32]</pre></li><li class='xr-var-item'><div class='xr-var-name'><span>corrected_echo_intensity_beam1</span></div><div class='xr-var-dims'>(obs, bin)</div><div class='xr-var-dtype'>float64</div><div class='xr-var-preview xr-preview'>...</div><input id='attrs-bef85cff-d853-4938-b276-3ac50a3ed9a2' class='xr-var-attrs-in' type='checkbox' ><label for='attrs-bef85cff-d853-4938-b276-3ac50a3ed9a2' title='Show/Hide attributes'><svg class='icon xr-icon-file-text2'><use xlink:href='#icon-file-text2'></use></svg></label><input id='data-220bfce1-796c-4347-8e83-514546f62615' class='xr-var-data-in' type='checkbox'><label for='data-220bfce1-796c-4347-8e83-514546f62615' title='Show/Hide data repr'><svg class='icon xr-icon-database'><use xlink:href='#icon-database'></use></svg></label><div class='xr-var-attrs'><dl class='xr-attrs'><dt><span>comment :</span></dt><dd>Echo intensity is the strength of the returned sound wave pulse transmitted by the ADCP. Echo intensity can be used as an indicator of the amount of sediment or organisms in the water column, as well as of the quality of a velocity measurement.</dd><dt><span>long_name :</span></dt><dd>Echo Intensity Beam 1</dd><dt><span>precision :</span></dt><dd>4</dd><dt><span>coordinates :</span></dt><dd>time lat lon pressure</dd><dt><span>data_product_identifier :</span></dt><dd>ECHOINT-B1_L1</dd><dt><span>units :</span></dt><dd>dB</dd><dt><span>ancillary_variables :</span></dt><dd>echo_intensity_beam1</dd><dt><span>_ChunkSizes :</span></dt><dd>[7811   30]</dd></dl></div><pre class='xr-var-data'>[234330 values with dtype=float64]</pre></li><li class='xr-var-item'><div class='xr-var-name'><span>corrected_echo_intensity_beam2</span></div><div class='xr-var-dims'>(obs, bin)</div><div class='xr-var-dtype'>float64</div><div class='xr-var-preview xr-preview'>...</div><input id='attrs-6e4e358f-18e0-40ff-a098-bd51230365af' class='xr-var-attrs-in' type='checkbox' ><label for='attrs-6e4e358f-18e0-40ff-a098-bd51230365af' title='Show/Hide attributes'><svg class='icon xr-icon-file-text2'><use xlink:href='#icon-file-text2'></use></svg></label><input id='data-ac9fc08e-59b3-49e9-bbea-270063cc754d' class='xr-var-data-in' type='checkbox'><label for='data-ac9fc08e-59b3-49e9-bbea-270063cc754d' title='Show/Hide data repr'><svg class='icon xr-icon-database'><use xlink:href='#icon-database'></use></svg></label><div class='xr-var-attrs'><dl class='xr-attrs'><dt><span>comment :</span></dt><dd>Echo intensity is the strength of the returned sound wave pulse transmitted by the ADCP. Echo intensity can be used as an indicator of the amount of sediment or organisms in the water column, as well as of the quality of a velocity measurement.</dd><dt><span>long_name :</span></dt><dd>Echo Intensity Beam 2</dd><dt><span>precision :</span></dt><dd>4</dd><dt><span>coordinates :</span></dt><dd>time lat lon pressure</dd><dt><span>data_product_identifier :</span></dt><dd>ECHOINT-B2_L1</dd><dt><span>units :</span></dt><dd>dB</dd><dt><span>ancillary_variables :</span></dt><dd>echo_intensity_beam2</dd><dt><span>_ChunkSizes :</span></dt><dd>[7811   30]</dd></dl></div><pre class='xr-var-data'>[234330 values with dtype=float64]</pre></li><li class='xr-var-item'><div class='xr-var-name'><span>corrected_echo_intensity_beam3</span></div><div class='xr-var-dims'>(obs, bin)</div><div class='xr-var-dtype'>float64</div><div class='xr-var-preview xr-preview'>...</div><input id='attrs-f754e180-82e8-4228-b049-46777be3175b' class='xr-var-attrs-in' type='checkbox' ><label for='attrs-f754e180-82e8-4228-b049-46777be3175b' title='Show/Hide attributes'><svg class='icon xr-icon-file-text2'><use xlink:href='#icon-file-text2'></use></svg></label><input id='data-0eadb548-7dab-4759-b698-0d94c87a32f6' class='xr-var-data-in' type='checkbox'><label for='data-0eadb548-7dab-4759-b698-0d94c87a32f6' title='Show/Hide data repr'><svg class='icon xr-icon-database'><use xlink:href='#icon-database'></use></svg></label><div class='xr-var-attrs'><dl class='xr-attrs'><dt><span>comment :</span></dt><dd>Echo intensity is the strength of the returned sound wave pulse transmitted by the ADCP. Echo intensity can be used as an indicator of the amount of sediment or organisms in the water column, as well as of the quality of a velocity measurement.</dd><dt><span>long_name :</span></dt><dd>Echo Intensity Beam 3</dd><dt><span>precision :</span></dt><dd>4</dd><dt><span>coordinates :</span></dt><dd>time lat lon pressure</dd><dt><span>data_product_identifier :</span></dt><dd>ECHOINT-B3_L1</dd><dt><span>units :</span></dt><dd>dB</dd><dt><span>ancillary_variables :</span></dt><dd>echo_intensity_beam3</dd><dt><span>_ChunkSizes :</span></dt><dd>[7811   30]</dd></dl></div><pre class='xr-var-data'>[234330 values with dtype=float64]</pre></li><li class='xr-var-item'><div class='xr-var-name'><span>corrected_echo_intensity_beam4</span></div><div class='xr-var-dims'>(obs, bin)</div><div class='xr-var-dtype'>float64</div><div class='xr-var-preview xr-preview'>...</div><input id='attrs-a73e8a64-5437-4dca-ba63-e27683f813ae' class='xr-var-attrs-in' type='checkbox' ><label for='attrs-a73e8a64-5437-4dca-ba63-e27683f813ae' title='Show/Hide attributes'><svg class='icon xr-icon-file-text2'><use xlink:href='#icon-file-text2'></use></svg></label><input id='data-5e8d0da1-a68c-41c4-b705-7da7bff5e337' class='xr-var-data-in' type='checkbox'><label for='data-5e8d0da1-a68c-41c4-b705-7da7bff5e337' title='Show/Hide data repr'><svg class='icon xr-icon-database'><use xlink:href='#icon-database'></use></svg></label><div class='xr-var-attrs'><dl class='xr-attrs'><dt><span>comment :</span></dt><dd>Echo intensity is the strength of the returned sound wave pulse transmitted by the ADCP. Echo intensity can be used as an indicator of the amount of sediment or organisms in the water column, as well as of the quality of a velocity measurement.</dd><dt><span>long_name :</span></dt><dd>Echo Intensity Beam 4</dd><dt><span>precision :</span></dt><dd>4</dd><dt><span>coordinates :</span></dt><dd>time lat lon pressure</dd><dt><span>data_product_identifier :</span></dt><dd>ECHOINT-B4_L1</dd><dt><span>units :</span></dt><dd>dB</dd><dt><span>ancillary_variables :</span></dt><dd>echo_intensity_beam4</dd><dt><span>_ChunkSizes :</span></dt><dd>[7811   30]</dd></dl></div><pre class='xr-var-data'>[234330 values with dtype=float64]</pre></li><li class='xr-var-item'><div class='xr-var-name'><span>eastward_seawater_velocity</span></div><div class='xr-var-dims'>(obs, bin)</div><div class='xr-var-dtype'>float64</div><div class='xr-var-preview xr-preview'>...</div><input id='attrs-8fa720ff-dd73-49a2-9a4e-802f566e3676' class='xr-var-attrs-in' type='checkbox' ><label for='attrs-8fa720ff-dd73-49a2-9a4e-802f566e3676' title='Show/Hide attributes'><svg class='icon xr-icon-file-text2'><use xlink:href='#icon-file-text2'></use></svg></label><input id='data-26413695-cde4-4bd1-b153-f392ab91a171' class='xr-var-data-in' type='checkbox'><label for='data-26413695-cde4-4bd1-b153-f392ab91a171' title='Show/Hide data repr'><svg class='icon xr-icon-database'><use xlink:href='#icon-database'></use></svg></label><div class='xr-var-attrs'><dl class='xr-attrs'><dt><span>comment :</span></dt><dd>Eastward sea water velocity component in Earth coordinates with the magnetic variation accounted for.</dd><dt><span>long_name :</span></dt><dd>Eastward Sea Water Velocity</dd><dt><span>precision :</span></dt><dd>4</dd><dt><span>coordinates :</span></dt><dd>time lat lon pressure</dd><dt><span>data_product_identifier :</span></dt><dd>VELPROF-VLE_L1</dd><dt><span>standard_name :</span></dt><dd>eastward_sea_water_velocity</dd><dt><span>units :</span></dt><dd>m s-1</dd><dt><span>ancillary_variables :</span></dt><dd>water_velocity_east,water_velocity_north,time</dd><dt><span>_ChunkSizes :</span></dt><dd>[7811   30]</dd></dl></div><pre class='xr-var-data'>[234330 values with dtype=float64]</pre></li><li class='xr-var-item'><div class='xr-var-name'><span>northward_seawater_velocity</span></div><div class='xr-var-dims'>(obs, bin)</div><div class='xr-var-dtype'>float64</div><div class='xr-var-preview xr-preview'>...</div><input id='attrs-03c676c0-49b6-4c0c-a644-732a46e38830' class='xr-var-attrs-in' type='checkbox' ><label for='attrs-03c676c0-49b6-4c0c-a644-732a46e38830' title='Show/Hide attributes'><svg class='icon xr-icon-file-text2'><use xlink:href='#icon-file-text2'></use></svg></label><input id='data-17f3ac1d-6bb9-4f2e-9109-5e82113b2c85' class='xr-var-data-in' type='checkbox'><label for='data-17f3ac1d-6bb9-4f2e-9109-5e82113b2c85' title='Show/Hide data repr'><svg class='icon xr-icon-database'><use xlink:href='#icon-database'></use></svg></label><div class='xr-var-attrs'><dl class='xr-attrs'><dt><span>comment :</span></dt><dd>Northward sea water velocity component in Earth coordinates with the magnetic variation accounted for.</dd><dt><span>long_name :</span></dt><dd>Northward Sea Water Velocity</dd><dt><span>precision :</span></dt><dd>4</dd><dt><span>coordinates :</span></dt><dd>time lat lon pressure</dd><dt><span>data_product_identifier :</span></dt><dd>VELPROF-VLN_L1</dd><dt><span>standard_name :</span></dt><dd>northward_sea_water_velocity</dd><dt><span>units :</span></dt><dd>m s-1</dd><dt><span>ancillary_variables :</span></dt><dd>water_velocity_east,water_velocity_north,time</dd><dt><span>_ChunkSizes :</span></dt><dd>[7811   30]</dd></dl></div><pre class='xr-var-data'>[234330 values with dtype=float64]</pre></li><li class='xr-var-item'><div class='xr-var-name'><span>upward_seawater_velocity</span></div><div class='xr-var-dims'>(obs, bin)</div><div class='xr-var-dtype'>float64</div><div class='xr-var-preview xr-preview'>...</div><input id='attrs-de8af88a-9d71-47e1-8c29-793ca9824208' class='xr-var-attrs-in' type='checkbox' ><label for='attrs-de8af88a-9d71-47e1-8c29-793ca9824208' title='Show/Hide attributes'><svg class='icon xr-icon-file-text2'><use xlink:href='#icon-file-text2'></use></svg></label><input id='data-e6b789db-82e9-4d91-854c-554bc0f1e59e' class='xr-var-data-in' type='checkbox'><label for='data-e6b789db-82e9-4d91-854c-554bc0f1e59e' title='Show/Hide data repr'><svg class='icon xr-icon-database'><use xlink:href='#icon-database'></use></svg></label><div class='xr-var-attrs'><dl class='xr-attrs'><dt><span>comment :</span></dt><dd>Upward sea water velocity component in Earth coordinates.</dd><dt><span>long_name :</span></dt><dd>Upward Sea Water Velocity</dd><dt><span>precision :</span></dt><dd>4</dd><dt><span>coordinates :</span></dt><dd>time lat lon pressure</dd><dt><span>data_product_identifier :</span></dt><dd>VELPROF-VLU_L1</dd><dt><span>standard_name :</span></dt><dd>upward_sea_water_velocity</dd><dt><span>units :</span></dt><dd>m s-1</dd><dt><span>ancillary_variables :</span></dt><dd>water_velocity_up</dd><dt><span>_ChunkSizes :</span></dt><dd>[7811   30]</dd></dl></div><pre class='xr-var-data'>[234330 values with dtype=float64]</pre></li><li class='xr-var-item'><div class='xr-var-name'><span>error_seawater_velocity</span></div><div class='xr-var-dims'>(obs, bin)</div><div class='xr-var-dtype'>float64</div><div class='xr-var-preview xr-preview'>...</div><input id='attrs-f8e3f432-c31a-4c9c-99d1-d944a5f328de' class='xr-var-attrs-in' type='checkbox' ><label for='attrs-f8e3f432-c31a-4c9c-99d1-d944a5f328de' title='Show/Hide attributes'><svg class='icon xr-icon-file-text2'><use xlink:href='#icon-file-text2'></use></svg></label><input id='data-6f22501d-edef-465d-828d-6eb6f63eb8e9' class='xr-var-data-in' type='checkbox'><label for='data-6f22501d-edef-465d-828d-6eb6f63eb8e9' title='Show/Hide data repr'><svg class='icon xr-icon-database'><use xlink:href='#icon-database'></use></svg></label><div class='xr-var-attrs'><dl class='xr-attrs'><dt><span>comment :</span></dt><dd>Error sea water velocity component.</dd><dt><span>long_name :</span></dt><dd>Error Velocity</dd><dt><span>precision :</span></dt><dd>4</dd><dt><span>coordinates :</span></dt><dd>time lat lon pressure</dd><dt><span>data_product_identifier :</span></dt><dd>VELPROF-EVL_L1</dd><dt><span>units :</span></dt><dd>m s-1</dd><dt><span>ancillary_variables :</span></dt><dd>error_velocity</dd><dt><span>_ChunkSizes :</span></dt><dd>[7811   30]</dd></dl></div><pre class='xr-var-data'>[234330 values with dtype=float64]</pre></li><li class='xr-var-item'><div class='xr-var-name'><span>non_zero_pressure</span></div><div class='xr-var-dims'>(obs)</div><div class='xr-var-dtype'>float64</div><div class='xr-var-preview xr-preview'>...</div><input id='attrs-da42517a-f2e1-4808-9797-43f55a25e5e0' class='xr-var-attrs-in' type='checkbox' ><label for='attrs-da42517a-f2e1-4808-9797-43f55a25e5e0' title='Show/Hide attributes'><svg class='icon xr-icon-file-text2'><use xlink:href='#icon-file-text2'></use></svg></label><input id='data-ed1f7e36-843f-4bca-be79-6ef09cea676b' class='xr-var-data-in' type='checkbox'><label for='data-ed1f7e36-843f-4bca-be79-6ef09cea676b' title='Show/Hide data repr'><svg class='icon xr-icon-database'><use xlink:href='#icon-database'></use></svg></label><div class='xr-var-attrs'><dl class='xr-attrs'><dt><span>long_name :</span></dt><dd>Non-zero Pressure</dd><dt><span>ancillary_variables :</span></dt><dd>pressure,pressure</dd><dt><span>precision :</span></dt><dd>3</dd><dt><span>coordinates :</span></dt><dd>time lat lon pressure</dd><dt><span>comment :</span></dt><dd>A non-zero pressure value.</dd><dt><span>units :</span></dt><dd>dbar</dd><dt><span>_ChunkSizes :</span></dt><dd>7811</dd></dl></div><pre class='xr-var-data'>array([23.189, 23.395, 23.649, ..., 26.134, 26.114, 25.986])</pre></li><li class='xr-var-item'><div class='xr-var-name'><span>depth_from_pressure</span></div><div class='xr-var-dims'>(obs)</div><div class='xr-var-dtype'>float64</div><div class='xr-var-preview xr-preview'>...</div><input id='attrs-46c85ead-9c0c-49e1-8c53-0437b67e57e0' class='xr-var-attrs-in' type='checkbox' ><label for='attrs-46c85ead-9c0c-49e1-8c53-0437b67e57e0' title='Show/Hide attributes'><svg class='icon xr-icon-file-text2'><use xlink:href='#icon-file-text2'></use></svg></label><input id='data-bc201b1e-c14d-495d-ab4c-8eb7448f198c' class='xr-var-data-in' type='checkbox'><label for='data-bc201b1e-c14d-495d-ab4c-8eb7448f198c' title='Show/Hide data repr'><svg class='icon xr-icon-database'><use xlink:href='#icon-database'></use></svg></label><div class='xr-var-attrs'><dl class='xr-attrs'><dt><span>ancillary_variables :</span></dt><dd>non_zero_pressure</dd><dt><span>long_name :</span></dt><dd>Depth calculated from pressure</dd><dt><span>units :</span></dt><dd>m</dd><dt><span>comment :</span></dt><dd>Depth (m) calculated from pressure (dbar) and latitude.</dd><dt><span>precision :</span></dt><dd>3</dd><dt><span>coordinates :</span></dt><dd>time lat lon pressure</dd><dt><span>_ChunkSizes :</span></dt><dd>7811</dd></dl></div><pre class='xr-var-data'>array([23.000234, 23.204546, 23.456463, ..., 25.921076, 25.90124 , 25.774291])</pre></li><li class='xr-var-item'><div class='xr-var-name'><span>non_zero_depth</span></div><div class='xr-var-dims'>(obs)</div><div class='xr-var-dtype'>float64</div><div class='xr-var-preview xr-preview'>...</div><input id='attrs-6b650cc5-b943-4ddd-a965-83e83f1a0521' class='xr-var-attrs-in' type='checkbox' ><label for='attrs-6b650cc5-b943-4ddd-a965-83e83f1a0521' title='Show/Hide attributes'><svg class='icon xr-icon-file-text2'><use xlink:href='#icon-file-text2'></use></svg></label><input id='data-cc7d436f-3506-4073-9dbf-ba0eb0580700' class='xr-var-data-in' type='checkbox'><label for='data-cc7d436f-3506-4073-9dbf-ba0eb0580700' title='Show/Hide data repr'><svg class='icon xr-icon-database'><use xlink:href='#icon-database'></use></svg></label><div class='xr-var-attrs'><dl class='xr-attrs'><dt><span>comment :</span></dt><dd>A non-zero depth value.</dd><dt><span>precision :</span></dt><dd>3</dd><dt><span>coordinates :</span></dt><dd>time lat lon pressure</dd><dt><span>long_name :</span></dt><dd>Non-zero Depth</dd><dt><span>units :</span></dt><dd>m</dd><dt><span>ancillary_variables :</span></dt><dd>depth_from_pressure</dd><dt><span>_ChunkSizes :</span></dt><dd>7811</dd></dl></div><pre class='xr-var-data'>array([23.000234, 23.204546, 23.456463, ..., 25.921076, 25.90124 , 25.774291])</pre></li><li class='xr-var-item'><div class='xr-var-name'><span>bin_depths</span></div><div class='xr-var-dims'>(obs, bin)</div><div class='xr-var-dtype'>float64</div><div class='xr-var-preview xr-preview'>...</div><input id='attrs-580ac002-5650-40b0-a2b6-a276e36d3bcf' class='xr-var-attrs-in' type='checkbox' ><label for='attrs-580ac002-5650-40b0-a2b6-a276e36d3bcf' title='Show/Hide attributes'><svg class='icon xr-icon-file-text2'><use xlink:href='#icon-file-text2'></use></svg></label><input id='data-f72cc5d4-5238-4e0b-8fa9-5c6bd6bb507d' class='xr-var-data-in' type='checkbox'><label for='data-f72cc5d4-5238-4e0b-8fa9-5c6bd6bb507d' title='Show/Hide data repr'><svg class='icon xr-icon-database'><use xlink:href='#icon-database'></use></svg></label><div class='xr-var-attrs'><dl class='xr-attrs'><dt><span>comment :</span></dt><dd>Bin Depths</dd><dt><span>long_name :</span></dt><dd>Bin Depths</dd><dt><span>precision :</span></dt><dd>0</dd><dt><span>coordinates :</span></dt><dd>time lat lon pressure</dd><dt><span>data_product_identifier :</span></dt><dd>?</dd><dt><span>units :</span></dt><dd>m</dd><dt><span>ancillary_variables :</span></dt><dd>non_zero_depth,cell_length,bin_1_distance,num_cells,sysconfig_vertical_orientation</dd><dt><span>_ChunkSizes :</span></dt><dd>[7811   30]</dd></dl></div><pre class='xr-var-data'>[234330 values with dtype=float64]</pre></li><li class='xr-var-item'><div class='xr-var-name'><span>int_ctd_pressure</span></div><div class='xr-var-dims'>(obs)</div><div class='xr-var-dtype'>float64</div><div class='xr-var-preview xr-preview'>...</div><input id='attrs-fb4e6489-3a40-45cc-9314-bee31a0a9676' class='xr-var-attrs-in' type='checkbox' ><label for='attrs-fb4e6489-3a40-45cc-9314-bee31a0a9676' title='Show/Hide attributes'><svg class='icon xr-icon-file-text2'><use xlink:href='#icon-file-text2'></use></svg></label><input id='data-aa6bef8f-72fb-44e3-b62c-2e2c7ef0021c' class='xr-var-data-in' type='checkbox'><label for='data-aa6bef8f-72fb-44e3-b62c-2e2c7ef0021c' title='Show/Hide data repr'><svg class='icon xr-icon-database'><use xlink:href='#icon-database'></use></svg></label><div class='xr-var-attrs'><dl class='xr-attrs'><dt><span>comment :</span></dt><dd>Seawater Pressure refers to the pressure exerted on a sensor in situ by the weight of the column of seawater above it. It is calculated by subtracting one standard atmosphere from the absolute pressure at the sensor to remove the weight of the atmosphere on top of the water column. The pressure at a sensor in situ provides a metric of the depth of that sensor.</dd><dt><span>data_product_identifier :</span></dt><dd>PRESWAT_L1</dd><dt><span>precision :</span></dt><dd>3</dd><dt><span>coordinates :</span></dt><dd>time lat lon pressure</dd><dt><span>long_name :</span></dt><dd>Seawater Pressure</dd><dt><span>standard_name :</span></dt><dd>sea_water_pressure</dd><dt><span>units :</span></dt><dd>dbar</dd><dt><span>_ChunkSizes :</span></dt><dd>7811</dd></dl></div><pre class='xr-var-data'>array([23.317669, 23.340857, 23.700848, ..., 26.095426, 26.207412, 26.057178])</pre></li></ul></div></li><li class='xr-section-item'><input id='section-67e8cee8-6ac4-4048-8058-99dfeb1895fa' class='xr-section-summary-in' type='checkbox'  ><label for='section-67e8cee8-6ac4-4048-8058-99dfeb1895fa' class='xr-section-summary' >Attributes: <span>(61)</span></label><div class='xr-section-inline-details'></div><div class='xr-section-details'><dl class='xr-attrs'><dt><span>_NCProperties :</span></dt><dd>version=1|netcdflibversion=4.6.1|hdf5libversion=1.10.4</dd><dt><span>node :</span></dt><dd>MFD35</dd><dt><span>comment :</span></dt><dd></dd><dt><span>publisher_email :</span></dt><dd></dd><dt><span>sourceUrl :</span></dt><dd>http://oceanobservatories.org/</dd><dt><span>collection_method :</span></dt><dd>recovered_inst</dd><dt><span>stream :</span></dt><dd>adcp_velocity_earth</dd><dt><span>featureType :</span></dt><dd>point</dd><dt><span>creator_email :</span></dt><dd></dd><dt><span>publisher_name :</span></dt><dd>Ocean Observatories Initiative</dd><dt><span>date_modified :</span></dt><dd>2020-03-20T02:11:34.348211</dd><dt><span>keywords :</span></dt><dd></dd><dt><span>cdm_data_type :</span></dt><dd>Point</dd><dt><span>references :</span></dt><dd>More information can be found at http://oceanobservatories.org/</dd><dt><span>Metadata_Conventions :</span></dt><dd>Unidata Dataset Discovery v1.0</dd><dt><span>date_created :</span></dt><dd>2020-03-20T02:11:34.348208</dd><dt><span>id :</span></dt><dd>CE01ISSM-MFD35-04-ADCPTM000-recovered_inst-adcp_velocity_earth</dd><dt><span>requestUUID :</span></dt><dd>6bb06db2-eb68-44ef-a800-141edd496b2d</dd><dt><span>contributor_role :</span></dt><dd></dd><dt><span>summary :</span></dt><dd>Dataset Generated by Stream Engine from Ocean Observatories Initiative</dd><dt><span>keywords_vocabulary :</span></dt><dd></dd><dt><span>institution :</span></dt><dd>Ocean Observatories Initiative</dd><dt><span>naming_authority :</span></dt><dd>org.oceanobservatories</dd><dt><span>feature_Type :</span></dt><dd>point</dd><dt><span>infoUrl :</span></dt><dd>http://oceanobservatories.org/</dd><dt><span>license :</span></dt><dd></dd><dt><span>contributor_name :</span></dt><dd></dd><dt><span>uuid :</span></dt><dd>6bb06db2-eb68-44ef-a800-141edd496b2d</dd><dt><span>creator_name :</span></dt><dd>Ocean Observatories Initiative</dd><dt><span>title :</span></dt><dd>Data produced by Stream Engine version 1.13.0 for CE01ISSM-MFD35-04-ADCPTM000-recovered_inst-adcp_velocity_earth</dd><dt><span>sensor :</span></dt><dd>04-ADCPTM000</dd><dt><span>standard_name_vocabulary :</span></dt><dd>NetCDF Climate and Forecast (CF) Metadata Convention Standard Name Table 29</dd><dt><span>acknowledgement :</span></dt><dd></dd><dt><span>Conventions :</span></dt><dd>CF-1.6</dd><dt><span>project :</span></dt><dd>Ocean Observatories Initiative</dd><dt><span>source :</span></dt><dd>CE01ISSM-MFD35-04-ADCPTM000-recovered_inst-adcp_velocity_earth</dd><dt><span>publisher_url :</span></dt><dd>http://oceanobservatories.org/</dd><dt><span>creator_url :</span></dt><dd>http://oceanobservatories.org/</dd><dt><span>nodc_template_version :</span></dt><dd>NODC_NetCDF_TimeSeries_Orthogonal_Template_v1.1</dd><dt><span>subsite :</span></dt><dd>CE01ISSM</dd><dt><span>processing_level :</span></dt><dd>L2</dd><dt><span>history :</span></dt><dd>2020-03-20T02:11:34.348169 generated from Stream Engine</dd><dt><span>time_coverage_start :</span></dt><dd>2018-04-03T04:30:00</dd><dt><span>time_coverage_end :</span></dt><dd>2018-09-12T22:45:45.920000</dd><dt><span>time_coverage_resolution :</span></dt><dd>P1800.35S</dd><dt><span>geospatial_lat_min :</span></dt><dd>44.65685</dd><dt><span>geospatial_lat_max :</span></dt><dd>44.65685</dd><dt><span>geospatial_lat_units :</span></dt><dd>degrees_north</dd><dt><span>geospatial_lat_resolution :</span></dt><dd>0.1</dd><dt><span>geospatial_lon_min :</span></dt><dd>-124.09553</dd><dt><span>geospatial_lon_max :</span></dt><dd>-124.09553</dd><dt><span>geospatial_lon_units :</span></dt><dd>degrees_east</dd><dt><span>geospatial_lon_resolution :</span></dt><dd>0.1</dd><dt><span>geospatial_vertical_units :</span></dt><dd>meters</dd><dt><span>geospatial_vertical_resolution :</span></dt><dd>0.1</dd><dt><span>geospatial_vertical_positive :</span></dt><dd>down</dd><dt><span>lat :</span></dt><dd>44.65685</dd><dt><span>lon :</span></dt><dd>-124.09553</dd><dt><span>DODS.strlen :</span></dt><dd>18</dd><dt><span>DODS.dimName :</span></dt><dd>string18</dd><dt><span>DODS_EXTRA.Unlimited_Dimension :</span></dt><dd>obs</dd></dl></div></li></ul></div></div>"
            ],
            "text/plain": [
              "<xarray.Dataset>\n",
              "Dimensions:                         (bin: 30, obs: 7811)\n",
              "Coordinates:\n",
              "  * obs                             (obs) int32 0 1 2 3 ... 7807 7808 7809 7810\n",
              "Dimensions without coordinates: bin\n",
              "Data variables:\n",
              "    time                            (obs) datetime64[ns] ...\n",
              "    deployment                      (obs) int32 ...\n",
              "    id                              (obs) |S64 ...\n",
              "    bin_1_distance                  (obs) float32 ...\n",
              "    cell_length                     (obs) float32 ...\n",
              "    correlation_magnitude_beam1     (obs, bin) float32 ...\n",
              "    correlation_magnitude_beam2     (obs, bin) float32 ...\n",
              "    correlation_magnitude_beam3     (obs, bin) float32 ...\n",
              "    correlation_magnitude_beam4     (obs, bin) float32 ...\n",
              "    driver_timestamp                (obs) datetime64[ns] ...\n",
              "    echo_intensity_beam1            (obs, bin) float32 ...\n",
              "    echo_intensity_beam2            (obs, bin) float32 ...\n",
              "    echo_intensity_beam3            (obs, bin) float32 ...\n",
              "    echo_intensity_beam4            (obs, bin) float32 ...\n",
              "    ensemble_number                 (obs) float32 ...\n",
              "    error_velocity                  (obs, bin) float32 ...\n",
              "    heading                         (obs) float32 ...\n",
              "    ingestion_timestamp             (obs) datetime64[ns] ...\n",
              "    internal_timestamp              (obs) datetime64[ns] ...\n",
              "    num_cells                       (obs) float32 ...\n",
              "    percent_bad_beams               (obs, bin) float32 ...\n",
              "    percent_good_3beam              (obs, bin) float32 ...\n",
              "    percent_good_4beam              (obs, bin) float32 ...\n",
              "    percent_transforms_reject       (obs, bin) float32 ...\n",
              "    pitch                           (obs) float32 ...\n",
              "    port_timestamp                  (obs) datetime64[ns] ...\n",
              "    preferred_timestamp             (obs) object ...\n",
              "    pressure                        (obs) float64 ...\n",
              "    roll                            (obs) float32 ...\n",
              "    salinity                        (obs) float32 ...\n",
              "    sysconfig_vertical_orientation  (obs) float32 ...\n",
              "    temperature                     (obs) float32 ...\n",
              "    transducer_depth                (obs) float32 ...\n",
              "    water_velocity_east             (obs, bin) float32 ...\n",
              "    water_velocity_north            (obs, bin) float32 ...\n",
              "    water_velocity_up               (obs, bin) float32 ...\n",
              "    corrected_echo_intensity_beam1  (obs, bin) float64 ...\n",
              "    corrected_echo_intensity_beam2  (obs, bin) float64 ...\n",
              "    corrected_echo_intensity_beam3  (obs, bin) float64 ...\n",
              "    corrected_echo_intensity_beam4  (obs, bin) float64 ...\n",
              "    eastward_seawater_velocity      (obs, bin) float64 ...\n",
              "    northward_seawater_velocity     (obs, bin) float64 ...\n",
              "    upward_seawater_velocity        (obs, bin) float64 ...\n",
              "    error_seawater_velocity         (obs, bin) float64 ...\n",
              "    non_zero_pressure               (obs) float64 ...\n",
              "    depth_from_pressure             (obs) float64 ...\n",
              "    non_zero_depth                  (obs) float64 ...\n",
              "    bin_depths                      (obs, bin) float64 ...\n",
              "    int_ctd_pressure                (obs) float64 ...\n",
              "Attributes:\n",
              "    _NCProperties:                   version=1|netcdflibversion=4.6.1|hdf5lib...\n",
              "    node:                            MFD35\n",
              "    comment:                         \n",
              "    publisher_email:                 \n",
              "    sourceUrl:                       http://oceanobservatories.org/\n",
              "    collection_method:               recovered_inst\n",
              "    stream:                          adcp_velocity_earth\n",
              "    featureType:                     point\n",
              "    creator_email:                   \n",
              "    publisher_name:                  Ocean Observatories Initiative\n",
              "    date_modified:                   2020-03-20T02:11:34.348211\n",
              "    keywords:                        \n",
              "    cdm_data_type:                   Point\n",
              "    references:                      More information can be found at http://...\n",
              "    Metadata_Conventions:            Unidata Dataset Discovery v1.0\n",
              "    date_created:                    2020-03-20T02:11:34.348208\n",
              "    id:                              CE01ISSM-MFD35-04-ADCPTM000-recovered_in...\n",
              "    requestUUID:                     6bb06db2-eb68-44ef-a800-141edd496b2d\n",
              "    contributor_role:                \n",
              "    summary:                         Dataset Generated by Stream Engine from ...\n",
              "    keywords_vocabulary:             \n",
              "    institution:                     Ocean Observatories Initiative\n",
              "    naming_authority:                org.oceanobservatories\n",
              "    feature_Type:                    point\n",
              "    infoUrl:                         http://oceanobservatories.org/\n",
              "    license:                         \n",
              "    contributor_name:                \n",
              "    uuid:                            6bb06db2-eb68-44ef-a800-141edd496b2d\n",
              "    creator_name:                    Ocean Observatories Initiative\n",
              "    title:                           Data produced by Stream Engine version 1...\n",
              "    sensor:                          04-ADCPTM000\n",
              "    standard_name_vocabulary:        NetCDF Climate and Forecast (CF) Metadat...\n",
              "    acknowledgement:                 \n",
              "    Conventions:                     CF-1.6\n",
              "    project:                         Ocean Observatories Initiative\n",
              "    source:                          CE01ISSM-MFD35-04-ADCPTM000-recovered_in...\n",
              "    publisher_url:                   http://oceanobservatories.org/\n",
              "    creator_url:                     http://oceanobservatories.org/\n",
              "    nodc_template_version:           NODC_NetCDF_TimeSeries_Orthogonal_Templa...\n",
              "    subsite:                         CE01ISSM\n",
              "    processing_level:                L2\n",
              "    history:                         2020-03-20T02:11:34.348169 generated fro...\n",
              "    time_coverage_start:             2018-04-03T04:30:00\n",
              "    time_coverage_end:               2018-09-12T22:45:45.920000\n",
              "    time_coverage_resolution:        P1800.35S\n",
              "    geospatial_lat_min:              44.65685\n",
              "    geospatial_lat_max:              44.65685\n",
              "    geospatial_lat_units:            degrees_north\n",
              "    geospatial_lat_resolution:       0.1\n",
              "    geospatial_lon_min:              -124.09553\n",
              "    geospatial_lon_max:              -124.09553\n",
              "    geospatial_lon_units:            degrees_east\n",
              "    geospatial_lon_resolution:       0.1\n",
              "    geospatial_vertical_units:       meters\n",
              "    geospatial_vertical_resolution:  0.1\n",
              "    geospatial_vertical_positive:    down\n",
              "    lat:                             44.65685\n",
              "    lon:                             -124.09553\n",
              "    DODS.strlen:                     18\n",
              "    DODS.dimName:                    string18\n",
              "    DODS_EXTRA.Unlimited_Dimension:  obs"
            ]
          },
          "metadata": {
            "tags": []
          },
          "execution_count": 5
        }
      ]
    },
    {
      "cell_type": "code",
      "metadata": {
        "colab": {
          "base_uri": "https://localhost:8080/",
          "height": 222
        },
        "id": "7996trnw9zE3",
        "outputId": "96c8c965-a4ae-46dc-c588-e3e5113e75c3"
      },
      "source": [
        "ds['time']"
      ],
      "execution_count": 6,
      "outputs": [
        {
          "output_type": "execute_result",
          "data": {
            "text/html": [
              "<div><svg style=\"position: absolute; width: 0; height: 0; overflow: hidden\">\n",
              "<defs>\n",
              "<symbol id=\"icon-database\" viewBox=\"0 0 32 32\">\n",
              "<title>Show/Hide data repr</title>\n",
              "<path d=\"M16 0c-8.837 0-16 2.239-16 5v4c0 2.761 7.163 5 16 5s16-2.239 16-5v-4c0-2.761-7.163-5-16-5z\"></path>\n",
              "<path d=\"M16 17c-8.837 0-16-2.239-16-5v6c0 2.761 7.163 5 16 5s16-2.239 16-5v-6c0 2.761-7.163 5-16 5z\"></path>\n",
              "<path d=\"M16 26c-8.837 0-16-2.239-16-5v6c0 2.761 7.163 5 16 5s16-2.239 16-5v-6c0 2.761-7.163 5-16 5z\"></path>\n",
              "</symbol>\n",
              "<symbol id=\"icon-file-text2\" viewBox=\"0 0 32 32\">\n",
              "<title>Show/Hide attributes</title>\n",
              "<path d=\"M28.681 7.159c-0.694-0.947-1.662-2.053-2.724-3.116s-2.169-2.030-3.116-2.724c-1.612-1.182-2.393-1.319-2.841-1.319h-15.5c-1.378 0-2.5 1.121-2.5 2.5v27c0 1.378 1.122 2.5 2.5 2.5h23c1.378 0 2.5-1.122 2.5-2.5v-19.5c0-0.448-0.137-1.23-1.319-2.841zM24.543 5.457c0.959 0.959 1.712 1.825 2.268 2.543h-4.811v-4.811c0.718 0.556 1.584 1.309 2.543 2.268zM28 29.5c0 0.271-0.229 0.5-0.5 0.5h-23c-0.271 0-0.5-0.229-0.5-0.5v-27c0-0.271 0.229-0.5 0.5-0.5 0 0 15.499-0 15.5 0v7c0 0.552 0.448 1 1 1h7v19.5z\"></path>\n",
              "<path d=\"M23 26h-14c-0.552 0-1-0.448-1-1s0.448-1 1-1h14c0.552 0 1 0.448 1 1s-0.448 1-1 1z\"></path>\n",
              "<path d=\"M23 22h-14c-0.552 0-1-0.448-1-1s0.448-1 1-1h14c0.552 0 1 0.448 1 1s-0.448 1-1 1z\"></path>\n",
              "<path d=\"M23 18h-14c-0.552 0-1-0.448-1-1s0.448-1 1-1h14c0.552 0 1 0.448 1 1s-0.448 1-1 1z\"></path>\n",
              "</symbol>\n",
              "</defs>\n",
              "</svg>\n",
              "<style>/* CSS stylesheet for displaying xarray objects in jupyterlab.\n",
              " *\n",
              " */\n",
              "\n",
              ":root {\n",
              "  --xr-font-color0: var(--jp-content-font-color0, rgba(0, 0, 0, 1));\n",
              "  --xr-font-color2: var(--jp-content-font-color2, rgba(0, 0, 0, 0.54));\n",
              "  --xr-font-color3: var(--jp-content-font-color3, rgba(0, 0, 0, 0.38));\n",
              "  --xr-border-color: var(--jp-border-color2, #e0e0e0);\n",
              "  --xr-disabled-color: var(--jp-layout-color3, #bdbdbd);\n",
              "  --xr-background-color: var(--jp-layout-color0, white);\n",
              "  --xr-background-color-row-even: var(--jp-layout-color1, white);\n",
              "  --xr-background-color-row-odd: var(--jp-layout-color2, #eeeeee);\n",
              "}\n",
              "\n",
              ".xr-wrap {\n",
              "  min-width: 300px;\n",
              "  max-width: 700px;\n",
              "}\n",
              "\n",
              ".xr-header {\n",
              "  padding-top: 6px;\n",
              "  padding-bottom: 6px;\n",
              "  margin-bottom: 4px;\n",
              "  border-bottom: solid 1px var(--xr-border-color);\n",
              "}\n",
              "\n",
              ".xr-header > div,\n",
              ".xr-header > ul {\n",
              "  display: inline;\n",
              "  margin-top: 0;\n",
              "  margin-bottom: 0;\n",
              "}\n",
              "\n",
              ".xr-obj-type,\n",
              ".xr-array-name {\n",
              "  margin-left: 2px;\n",
              "  margin-right: 10px;\n",
              "}\n",
              "\n",
              ".xr-obj-type {\n",
              "  color: var(--xr-font-color2);\n",
              "}\n",
              "\n",
              ".xr-sections {\n",
              "  padding-left: 0 !important;\n",
              "  display: grid;\n",
              "  grid-template-columns: 150px auto auto 1fr 20px 20px;\n",
              "}\n",
              "\n",
              ".xr-section-item {\n",
              "  display: contents;\n",
              "}\n",
              "\n",
              ".xr-section-item input {\n",
              "  display: none;\n",
              "}\n",
              "\n",
              ".xr-section-item input + label {\n",
              "  color: var(--xr-disabled-color);\n",
              "}\n",
              "\n",
              ".xr-section-item input:enabled + label {\n",
              "  cursor: pointer;\n",
              "  color: var(--xr-font-color2);\n",
              "}\n",
              "\n",
              ".xr-section-item input:enabled + label:hover {\n",
              "  color: var(--xr-font-color0);\n",
              "}\n",
              "\n",
              ".xr-section-summary {\n",
              "  grid-column: 1;\n",
              "  color: var(--xr-font-color2);\n",
              "  font-weight: 500;\n",
              "}\n",
              "\n",
              ".xr-section-summary > span {\n",
              "  display: inline-block;\n",
              "  padding-left: 0.5em;\n",
              "}\n",
              "\n",
              ".xr-section-summary-in:disabled + label {\n",
              "  color: var(--xr-font-color2);\n",
              "}\n",
              "\n",
              ".xr-section-summary-in + label:before {\n",
              "  display: inline-block;\n",
              "  content: '►';\n",
              "  font-size: 11px;\n",
              "  width: 15px;\n",
              "  text-align: center;\n",
              "}\n",
              "\n",
              ".xr-section-summary-in:disabled + label:before {\n",
              "  color: var(--xr-disabled-color);\n",
              "}\n",
              "\n",
              ".xr-section-summary-in:checked + label:before {\n",
              "  content: '▼';\n",
              "}\n",
              "\n",
              ".xr-section-summary-in:checked + label > span {\n",
              "  display: none;\n",
              "}\n",
              "\n",
              ".xr-section-summary,\n",
              ".xr-section-inline-details {\n",
              "  padding-top: 4px;\n",
              "  padding-bottom: 4px;\n",
              "}\n",
              "\n",
              ".xr-section-inline-details {\n",
              "  grid-column: 2 / -1;\n",
              "}\n",
              "\n",
              ".xr-section-details {\n",
              "  display: none;\n",
              "  grid-column: 1 / -1;\n",
              "  margin-bottom: 5px;\n",
              "}\n",
              "\n",
              ".xr-section-summary-in:checked ~ .xr-section-details {\n",
              "  display: contents;\n",
              "}\n",
              "\n",
              ".xr-array-wrap {\n",
              "  grid-column: 1 / -1;\n",
              "  display: grid;\n",
              "  grid-template-columns: 20px auto;\n",
              "}\n",
              "\n",
              ".xr-array-wrap > label {\n",
              "  grid-column: 1;\n",
              "  vertical-align: top;\n",
              "}\n",
              "\n",
              ".xr-preview {\n",
              "  color: var(--xr-font-color3);\n",
              "}\n",
              "\n",
              ".xr-array-preview,\n",
              ".xr-array-data {\n",
              "  padding: 0 5px !important;\n",
              "  grid-column: 2;\n",
              "}\n",
              "\n",
              ".xr-array-data,\n",
              ".xr-array-in:checked ~ .xr-array-preview {\n",
              "  display: none;\n",
              "}\n",
              "\n",
              ".xr-array-in:checked ~ .xr-array-data,\n",
              ".xr-array-preview {\n",
              "  display: inline-block;\n",
              "}\n",
              "\n",
              ".xr-dim-list {\n",
              "  display: inline-block !important;\n",
              "  list-style: none;\n",
              "  padding: 0 !important;\n",
              "  margin: 0;\n",
              "}\n",
              "\n",
              ".xr-dim-list li {\n",
              "  display: inline-block;\n",
              "  padding: 0;\n",
              "  margin: 0;\n",
              "}\n",
              "\n",
              ".xr-dim-list:before {\n",
              "  content: '(';\n",
              "}\n",
              "\n",
              ".xr-dim-list:after {\n",
              "  content: ')';\n",
              "}\n",
              "\n",
              ".xr-dim-list li:not(:last-child):after {\n",
              "  content: ',';\n",
              "  padding-right: 5px;\n",
              "}\n",
              "\n",
              ".xr-has-index {\n",
              "  font-weight: bold;\n",
              "}\n",
              "\n",
              ".xr-var-list,\n",
              ".xr-var-item {\n",
              "  display: contents;\n",
              "}\n",
              "\n",
              ".xr-var-item > div,\n",
              ".xr-var-item label,\n",
              ".xr-var-item > .xr-var-name span {\n",
              "  background-color: var(--xr-background-color-row-even);\n",
              "  margin-bottom: 0;\n",
              "}\n",
              "\n",
              ".xr-var-item > .xr-var-name:hover span {\n",
              "  padding-right: 5px;\n",
              "}\n",
              "\n",
              ".xr-var-list > li:nth-child(odd) > div,\n",
              ".xr-var-list > li:nth-child(odd) > label,\n",
              ".xr-var-list > li:nth-child(odd) > .xr-var-name span {\n",
              "  background-color: var(--xr-background-color-row-odd);\n",
              "}\n",
              "\n",
              ".xr-var-name {\n",
              "  grid-column: 1;\n",
              "}\n",
              "\n",
              ".xr-var-dims {\n",
              "  grid-column: 2;\n",
              "}\n",
              "\n",
              ".xr-var-dtype {\n",
              "  grid-column: 3;\n",
              "  text-align: right;\n",
              "  color: var(--xr-font-color2);\n",
              "}\n",
              "\n",
              ".xr-var-preview {\n",
              "  grid-column: 4;\n",
              "}\n",
              "\n",
              ".xr-var-name,\n",
              ".xr-var-dims,\n",
              ".xr-var-dtype,\n",
              ".xr-preview,\n",
              ".xr-attrs dt {\n",
              "  white-space: nowrap;\n",
              "  overflow: hidden;\n",
              "  text-overflow: ellipsis;\n",
              "  padding-right: 10px;\n",
              "}\n",
              "\n",
              ".xr-var-name:hover,\n",
              ".xr-var-dims:hover,\n",
              ".xr-var-dtype:hover,\n",
              ".xr-attrs dt:hover {\n",
              "  overflow: visible;\n",
              "  width: auto;\n",
              "  z-index: 1;\n",
              "}\n",
              "\n",
              ".xr-var-attrs,\n",
              ".xr-var-data {\n",
              "  display: none;\n",
              "  background-color: var(--xr-background-color) !important;\n",
              "  padding-bottom: 5px !important;\n",
              "}\n",
              "\n",
              ".xr-var-attrs-in:checked ~ .xr-var-attrs,\n",
              ".xr-var-data-in:checked ~ .xr-var-data {\n",
              "  display: block;\n",
              "}\n",
              "\n",
              ".xr-var-data > table {\n",
              "  float: right;\n",
              "}\n",
              "\n",
              ".xr-var-name span,\n",
              ".xr-var-data,\n",
              ".xr-attrs {\n",
              "  padding-left: 25px !important;\n",
              "}\n",
              "\n",
              ".xr-attrs,\n",
              ".xr-var-attrs,\n",
              ".xr-var-data {\n",
              "  grid-column: 1 / -1;\n",
              "}\n",
              "\n",
              "dl.xr-attrs {\n",
              "  padding: 0;\n",
              "  margin: 0;\n",
              "  display: grid;\n",
              "  grid-template-columns: 125px auto;\n",
              "}\n",
              "\n",
              ".xr-attrs dt, dd {\n",
              "  padding: 0;\n",
              "  margin: 0;\n",
              "  float: left;\n",
              "  padding-right: 10px;\n",
              "  width: auto;\n",
              "}\n",
              "\n",
              ".xr-attrs dt {\n",
              "  font-weight: normal;\n",
              "  grid-column: 1;\n",
              "}\n",
              "\n",
              ".xr-attrs dt:hover span {\n",
              "  display: inline-block;\n",
              "  background: var(--xr-background-color);\n",
              "  padding-right: 10px;\n",
              "}\n",
              "\n",
              ".xr-attrs dd {\n",
              "  grid-column: 2;\n",
              "  white-space: pre-wrap;\n",
              "  word-break: break-all;\n",
              "}\n",
              "\n",
              ".xr-icon-database,\n",
              ".xr-icon-file-text2 {\n",
              "  display: inline-block;\n",
              "  vertical-align: middle;\n",
              "  width: 1em;\n",
              "  height: 1.5em !important;\n",
              "  stroke-width: 0;\n",
              "  stroke: currentColor;\n",
              "  fill: currentColor;\n",
              "}\n",
              "</style><div class='xr-wrap'><div class='xr-header'><div class='xr-obj-type'>xarray.DataArray</div><div class='xr-array-name'>'time'</div><ul class='xr-dim-list'><li><span class='xr-has-index'>obs</span>: 7811</li></ul></div><ul class='xr-sections'><li class='xr-section-item'><div class='xr-array-wrap'><input id='section-b86034a6-ba11-4f9f-8c6e-1adc626bf8fe' class='xr-array-in' type='checkbox' ><label for='section-b86034a6-ba11-4f9f-8c6e-1adc626bf8fe' title='Show/hide data repr'><svg class='icon xr-icon-database'><use xlink:href='#icon-database'></use></svg></label><div class='xr-array-preview xr-preview'><span>2018-04-03T04:30:00 2018-04-03T05:00:00 ... 2018-09-12T22:45:45.920000</span></div><pre class='xr-array-data'>array([&#x27;2018-04-03T04:30:00.000000000&#x27;, &#x27;2018-04-03T05:00:00.000000000&#x27;,\n",
              "       &#x27;2018-04-03T05:30:00.000000000&#x27;, ..., &#x27;2018-09-12T21:45:45.920000000&#x27;,\n",
              "       &#x27;2018-09-12T22:15:45.920000000&#x27;, &#x27;2018-09-12T22:45:45.920000000&#x27;],\n",
              "      dtype=&#x27;datetime64[ns]&#x27;)</pre></div></li><li class='xr-section-item'><input id='section-22ca7981-86f8-40db-a82b-80d8bea57c96' class='xr-section-summary-in' type='checkbox'  checked><label for='section-22ca7981-86f8-40db-a82b-80d8bea57c96' class='xr-section-summary' >Coordinates: <span>(1)</span></label><div class='xr-section-inline-details'></div><div class='xr-section-details'><ul class='xr-var-list'><li class='xr-var-item'><div class='xr-var-name'><span class='xr-has-index'>obs</span></div><div class='xr-var-dims'>(obs)</div><div class='xr-var-dtype'>int32</div><div class='xr-var-preview xr-preview'>0 1 2 3 4 ... 7807 7808 7809 7810</div><input id='attrs-abd64146-be7b-4600-b201-ef874cc7b9a3' class='xr-var-attrs-in' type='checkbox' ><label for='attrs-abd64146-be7b-4600-b201-ef874cc7b9a3' title='Show/Hide attributes'><svg class='icon xr-icon-file-text2'><use xlink:href='#icon-file-text2'></use></svg></label><input id='data-76f9b78e-ee08-4d66-9c50-ffb8f4191fbc' class='xr-var-data-in' type='checkbox'><label for='data-76f9b78e-ee08-4d66-9c50-ffb8f4191fbc' title='Show/Hide data repr'><svg class='icon xr-icon-database'><use xlink:href='#icon-database'></use></svg></label><div class='xr-var-attrs'><dl class='xr-attrs'><dt><span>_ChunkSizes :</span></dt><dd>1024</dd></dl></div><pre class='xr-var-data'>array([   0,    1,    2, ..., 7808, 7809, 7810], dtype=int32)</pre></li></ul></div></li><li class='xr-section-item'><input id='section-a73365ad-0c98-45fa-9f92-cff53215507b' class='xr-section-summary-in' type='checkbox'  checked><label for='section-a73365ad-0c98-45fa-9f92-cff53215507b' class='xr-section-summary' >Attributes: <span>(4)</span></label><div class='xr-section-inline-details'></div><div class='xr-section-details'><dl class='xr-attrs'><dt><span>long_name :</span></dt><dd>time</dd><dt><span>standard_name :</span></dt><dd>time</dd><dt><span>axis :</span></dt><dd>T</dd><dt><span>_ChunkSizes :</span></dt><dd>7811</dd></dl></div></li></ul></div></div>"
            ],
            "text/plain": [
              "<xarray.DataArray 'time' (obs: 7811)>\n",
              "array(['2018-04-03T04:30:00.000000000', '2018-04-03T05:00:00.000000000',\n",
              "       '2018-04-03T05:30:00.000000000', ..., '2018-09-12T21:45:45.920000000',\n",
              "       '2018-09-12T22:15:45.920000000', '2018-09-12T22:45:45.920000000'],\n",
              "      dtype='datetime64[ns]')\n",
              "Coordinates:\n",
              "  * obs      (obs) int32 0 1 2 3 4 5 6 7 ... 7804 7805 7806 7807 7808 7809 7810\n",
              "Attributes:\n",
              "    long_name:      time\n",
              "    standard_name:  time\n",
              "    axis:           T\n",
              "    _ChunkSizes:    7811"
            ]
          },
          "metadata": {
            "tags": []
          },
          "execution_count": 6
        }
      ]
    },
    {
      "cell_type": "markdown",
      "metadata": {
        "id": "87UqnZsj9zE3"
      },
      "source": [
        "### ADCP post-processing\n",
        "\n",
        "First, for convenience, create variables for eastward velocity ($u$) and northward velocity ($v$) in units of m/s."
      ]
    },
    {
      "cell_type": "code",
      "metadata": {
        "id": "CX6fBd1A9zE4"
      },
      "source": [
        "ds['u'] = ds['water_velocity_east']/1000\n",
        "ds['u'].attrs['units'] = 'm/s'\n",
        "\n",
        "ds['v'] = ds['water_velocity_north']/1000\n",
        "ds['v'].attrs['units'] = 'm/s'"
      ],
      "execution_count": 7,
      "outputs": []
    },
    {
      "cell_type": "markdown",
      "metadata": {
        "id": "dvxpkJ4-9zE4"
      },
      "source": [
        "\n",
        "The dataset provided by OOI includes the following variables:\n",
        "* `depth_from_pressure` is the total water column depth, calculated from the pressure sensor. Dimensions: `(obs)`\n",
        "* `bin_depths` is the depth of each ADCP bin below the sea surface, which moves up and down. The bin depths constantly change in time. Dimensions: `(obs, bin)`\n",
        "\n",
        "The code below creates additional variables for keeping track of depths in the ADCP data:\n",
        "* `bin_height` is the height of each ADCP bin above the bottom. These heights are fixed, since the ADCP is mounted at the bottom. Dimensions: `(bin)`\n",
        "* `bin_depths_avg` is the average depth below the surface for each ADCP bin. These depths are fixed in time since they are defined in relation to a time average. Dimensions: `(bin)`\n",
        "* `sea_surface` is the height of the sea surface, relative to the time average. Dimensions: `(obs)`\n",
        "* `bottom_depth_avg` is the average bottom depth, calculated from the pressure sensor. This is a single value with no dimensions. Dimensions: `()`"
      ]
    },
    {
      "cell_type": "code",
      "metadata": {
        "id": "w4eSRwYz9zE4"
      },
      "source": [
        "ds['bin_height'] =  ds['depth_from_pressure'][0] - ds['bin_depths'][0,:]\n",
        "ds['bin_height'].attrs['units'] = 'm'\n",
        "\n",
        "ds['bin_depths_avg'] = ds['bin_height']-np.mean(ds['depth_from_pressure'])\n",
        "ds['bin_depths_avg'].attrs['units'] = 'm'\n",
        "\n",
        "ds['sea_surface'] = ds['depth_from_pressure']-np.mean(ds['depth_from_pressure'])\n",
        "ds['sea_surface'].attrs['units'] = 'm'\n",
        "\n",
        "ds['bottom_depth_avg'] = np.mean(ds['depth_from_pressure'])\n",
        "ds['bottom_depth_avg'].attrs['units'] = 'm'"
      ],
      "execution_count": 8,
      "outputs": []
    },
    {
      "cell_type": "markdown",
      "metadata": {
        "id": "K04wIYBO9zE5"
      },
      "source": [
        "### ADCP quality control\n",
        "\n",
        "The acoustic signal of the ADCP can be reflected at the sea surface, leading to contamination. This plot shows the echo intensity for one of the four beams of the ADCP. There is bad data near the sea surface, as well as data above the sea surface which needs to be discarded."
      ]
    },
    {
      "cell_type": "code",
      "metadata": {
        "colab": {
          "base_uri": "https://localhost:8080/",
          "height": 228
        },
        "id": "KESqRo2S9zE6",
        "outputId": "aebf60b5-145e-4958-e16d-d7377306922c"
      },
      "source": [
        "plt.figure(figsize=(8,3))\n",
        "plt.pcolor(ds['time'],ds['bin_height'],\n",
        "           ds['corrected_echo_intensity_beam1'].T)\n",
        "plt.plot(ds['time'],ds['depth_from_pressure'],'k-') "
      ],
      "execution_count": 9,
      "outputs": [
        {
          "output_type": "execute_result",
          "data": {
            "text/plain": [
              "[<matplotlib.lines.Line2D at 0x7f728ed4de80>]"
            ]
          },
          "metadata": {
            "tags": []
          },
          "execution_count": 9
        },
        {
          "output_type": "display_data",
          "data": {
            "image/png": "[encoded data removed]",
            "text/plain": [
              "<Figure size 576x216 with 1 Axes>"
            ]
          },
          "metadata": {
            "tags": [],
            "needs_background": "light"
          }
        }
      ]
    },
    {
      "cell_type": "markdown",
      "metadata": {
        "id": "6HjqyJ_g9zE7"
      },
      "source": [
        "To get a better look, select a date range for plotting a subset of the data."
      ]
    },
    {
      "cell_type": "code",
      "metadata": {
        "id": "s6Y03yCz9zE7"
      },
      "source": [
        "t1 = np.datetime64('2018-07-01 00:00:00')\n",
        "t2 = np.datetime64('2018-07-15 00:00:00')"
      ],
      "execution_count": 10,
      "outputs": []
    },
    {
      "cell_type": "code",
      "metadata": {
        "colab": {
          "base_uri": "https://localhost:8080/",
          "height": 228
        },
        "id": "3P0pVcXT9zE7",
        "outputId": "8e9259e7-f892-4ccc-c64f-78cde70b263a"
      },
      "source": [
        "plt.figure(figsize=(8,3))\n",
        "plt.pcolor(ds['time'],ds['bin_height'],\n",
        "           ds['corrected_echo_intensity_beam1'].T)\n",
        "plt.plot(ds['time'],ds['depth_from_pressure'],'k-') \n",
        "plt.xlim([t1,t2])"
      ],
      "execution_count": 11,
      "outputs": [
        {
          "output_type": "execute_result",
          "data": {
            "text/plain": [
              "(736876.0, 736890.0)"
            ]
          },
          "metadata": {
            "tags": []
          },
          "execution_count": 11
        },
        {
          "output_type": "display_data",
          "data": {
            "image/png": "[encoded data removed]",
            "text/plain": [
              "<Figure size 576x216 with 1 Axes>"
            ]
          },
          "metadata": {
            "tags": [],
            "needs_background": "light"
          }
        }
      ]
    },
    {
      "cell_type": "markdown",
      "metadata": {
        "id": "pGxbt-1E9zE7"
      },
      "source": [
        "Looking at the velocity, the noise near the surface is apparent."
      ]
    },
    {
      "cell_type": "code",
      "metadata": {
        "colab": {
          "base_uri": "https://localhost:8080/",
          "height": 211
        },
        "id": "aDU55x6C9zE8",
        "outputId": "4c98075e-d364-41b0-821d-f87b113b740a"
      },
      "source": [
        "plt.figure(figsize=(8,3))\n",
        "plt.pcolor(ds['time'],ds['bin_height'],ds['u'].T,cmap='seismic')\n",
        "plt.plot(ds['time'],ds['depth_from_pressure'],'k-') # convert from dPa to dbar\n",
        "plt.xlim([t1,t2])\n",
        "plt.clim([-0.4,0.4])"
      ],
      "execution_count": 12,
      "outputs": [
        {
          "output_type": "display_data",
          "data": {
            "image/png": "[encoded data removed]",
            "text/plain": [
              "<Figure size 576x216 with 1 Axes>"
            ]
          },
          "metadata": {
            "tags": [],
            "needs_background": "light"
          }
        }
      ]
    },
    {
      "cell_type": "markdown",
      "metadata": {
        "id": "u5WLeGHL9zE8"
      },
      "source": [
        "We can remove the noise by selecting only good data at least 4m below the sea surface. "
      ]
    },
    {
      "cell_type": "code",
      "metadata": {
        "id": "ks2MdyDJ9zE9"
      },
      "source": [
        "good = (ds['bin_depths'] > 4)"
      ],
      "execution_count": 13,
      "outputs": []
    },
    {
      "cell_type": "code",
      "metadata": {
        "colab": {
          "base_uri": "https://localhost:8080/",
          "height": 169
        },
        "id": "k3-r8V8L9zE9",
        "outputId": "b642c4e9-6c44-489e-a790-9572949c1319"
      },
      "source": [
        "ds['u'].where(good)"
      ],
      "execution_count": 14,
      "outputs": [
        {
          "output_type": "execute_result",
          "data": {
            "text/html": [
              "<div><svg style=\"position: absolute; width: 0; height: 0; overflow: hidden\">\n",
              "<defs>\n",
              "<symbol id=\"icon-database\" viewBox=\"0 0 32 32\">\n",
              "<title>Show/Hide data repr</title>\n",
              "<path d=\"M16 0c-8.837 0-16 2.239-16 5v4c0 2.761 7.163 5 16 5s16-2.239 16-5v-4c0-2.761-7.163-5-16-5z\"></path>\n",
              "<path d=\"M16 17c-8.837 0-16-2.239-16-5v6c0 2.761 7.163 5 16 5s16-2.239 16-5v-6c0 2.761-7.163 5-16 5z\"></path>\n",
              "<path d=\"M16 26c-8.837 0-16-2.239-16-5v6c0 2.761 7.163 5 16 5s16-2.239 16-5v-6c0 2.761-7.163 5-16 5z\"></path>\n",
              "</symbol>\n",
              "<symbol id=\"icon-file-text2\" viewBox=\"0 0 32 32\">\n",
              "<title>Show/Hide attributes</title>\n",
              "<path d=\"M28.681 7.159c-0.694-0.947-1.662-2.053-2.724-3.116s-2.169-2.030-3.116-2.724c-1.612-1.182-2.393-1.319-2.841-1.319h-15.5c-1.378 0-2.5 1.121-2.5 2.5v27c0 1.378 1.122 2.5 2.5 2.5h23c1.378 0 2.5-1.122 2.5-2.5v-19.5c0-0.448-0.137-1.23-1.319-2.841zM24.543 5.457c0.959 0.959 1.712 1.825 2.268 2.543h-4.811v-4.811c0.718 0.556 1.584 1.309 2.543 2.268zM28 29.5c0 0.271-0.229 0.5-0.5 0.5h-23c-0.271 0-0.5-0.229-0.5-0.5v-27c0-0.271 0.229-0.5 0.5-0.5 0 0 15.499-0 15.5 0v7c0 0.552 0.448 1 1 1h7v19.5z\"></path>\n",
              "<path d=\"M23 26h-14c-0.552 0-1-0.448-1-1s0.448-1 1-1h14c0.552 0 1 0.448 1 1s-0.448 1-1 1z\"></path>\n",
              "<path d=\"M23 22h-14c-0.552 0-1-0.448-1-1s0.448-1 1-1h14c0.552 0 1 0.448 1 1s-0.448 1-1 1z\"></path>\n",
              "<path d=\"M23 18h-14c-0.552 0-1-0.448-1-1s0.448-1 1-1h14c0.552 0 1 0.448 1 1s-0.448 1-1 1z\"></path>\n",
              "</symbol>\n",
              "</defs>\n",
              "</svg>\n",
              "<style>/* CSS stylesheet for displaying xarray objects in jupyterlab.\n",
              " *\n",
              " */\n",
              "\n",
              ":root {\n",
              "  --xr-font-color0: var(--jp-content-font-color0, rgba(0, 0, 0, 1));\n",
              "  --xr-font-color2: var(--jp-content-font-color2, rgba(0, 0, 0, 0.54));\n",
              "  --xr-font-color3: var(--jp-content-font-color3, rgba(0, 0, 0, 0.38));\n",
              "  --xr-border-color: var(--jp-border-color2, #e0e0e0);\n",
              "  --xr-disabled-color: var(--jp-layout-color3, #bdbdbd);\n",
              "  --xr-background-color: var(--jp-layout-color0, white);\n",
              "  --xr-background-color-row-even: var(--jp-layout-color1, white);\n",
              "  --xr-background-color-row-odd: var(--jp-layout-color2, #eeeeee);\n",
              "}\n",
              "\n",
              ".xr-wrap {\n",
              "  min-width: 300px;\n",
              "  max-width: 700px;\n",
              "}\n",
              "\n",
              ".xr-header {\n",
              "  padding-top: 6px;\n",
              "  padding-bottom: 6px;\n",
              "  margin-bottom: 4px;\n",
              "  border-bottom: solid 1px var(--xr-border-color);\n",
              "}\n",
              "\n",
              ".xr-header > div,\n",
              ".xr-header > ul {\n",
              "  display: inline;\n",
              "  margin-top: 0;\n",
              "  margin-bottom: 0;\n",
              "}\n",
              "\n",
              ".xr-obj-type,\n",
              ".xr-array-name {\n",
              "  margin-left: 2px;\n",
              "  margin-right: 10px;\n",
              "}\n",
              "\n",
              ".xr-obj-type {\n",
              "  color: var(--xr-font-color2);\n",
              "}\n",
              "\n",
              ".xr-sections {\n",
              "  padding-left: 0 !important;\n",
              "  display: grid;\n",
              "  grid-template-columns: 150px auto auto 1fr 20px 20px;\n",
              "}\n",
              "\n",
              ".xr-section-item {\n",
              "  display: contents;\n",
              "}\n",
              "\n",
              ".xr-section-item input {\n",
              "  display: none;\n",
              "}\n",
              "\n",
              ".xr-section-item input + label {\n",
              "  color: var(--xr-disabled-color);\n",
              "}\n",
              "\n",
              ".xr-section-item input:enabled + label {\n",
              "  cursor: pointer;\n",
              "  color: var(--xr-font-color2);\n",
              "}\n",
              "\n",
              ".xr-section-item input:enabled + label:hover {\n",
              "  color: var(--xr-font-color0);\n",
              "}\n",
              "\n",
              ".xr-section-summary {\n",
              "  grid-column: 1;\n",
              "  color: var(--xr-font-color2);\n",
              "  font-weight: 500;\n",
              "}\n",
              "\n",
              ".xr-section-summary > span {\n",
              "  display: inline-block;\n",
              "  padding-left: 0.5em;\n",
              "}\n",
              "\n",
              ".xr-section-summary-in:disabled + label {\n",
              "  color: var(--xr-font-color2);\n",
              "}\n",
              "\n",
              ".xr-section-summary-in + label:before {\n",
              "  display: inline-block;\n",
              "  content: '►';\n",
              "  font-size: 11px;\n",
              "  width: 15px;\n",
              "  text-align: center;\n",
              "}\n",
              "\n",
              ".xr-section-summary-in:disabled + label:before {\n",
              "  color: var(--xr-disabled-color);\n",
              "}\n",
              "\n",
              ".xr-section-summary-in:checked + label:before {\n",
              "  content: '▼';\n",
              "}\n",
              "\n",
              ".xr-section-summary-in:checked + label > span {\n",
              "  display: none;\n",
              "}\n",
              "\n",
              ".xr-section-summary,\n",
              ".xr-section-inline-details {\n",
              "  padding-top: 4px;\n",
              "  padding-bottom: 4px;\n",
              "}\n",
              "\n",
              ".xr-section-inline-details {\n",
              "  grid-column: 2 / -1;\n",
              "}\n",
              "\n",
              ".xr-section-details {\n",
              "  display: none;\n",
              "  grid-column: 1 / -1;\n",
              "  margin-bottom: 5px;\n",
              "}\n",
              "\n",
              ".xr-section-summary-in:checked ~ .xr-section-details {\n",
              "  display: contents;\n",
              "}\n",
              "\n",
              ".xr-array-wrap {\n",
              "  grid-column: 1 / -1;\n",
              "  display: grid;\n",
              "  grid-template-columns: 20px auto;\n",
              "}\n",
              "\n",
              ".xr-array-wrap > label {\n",
              "  grid-column: 1;\n",
              "  vertical-align: top;\n",
              "}\n",
              "\n",
              ".xr-preview {\n",
              "  color: var(--xr-font-color3);\n",
              "}\n",
              "\n",
              ".xr-array-preview,\n",
              ".xr-array-data {\n",
              "  padding: 0 5px !important;\n",
              "  grid-column: 2;\n",
              "}\n",
              "\n",
              ".xr-array-data,\n",
              ".xr-array-in:checked ~ .xr-array-preview {\n",
              "  display: none;\n",
              "}\n",
              "\n",
              ".xr-array-in:checked ~ .xr-array-data,\n",
              ".xr-array-preview {\n",
              "  display: inline-block;\n",
              "}\n",
              "\n",
              ".xr-dim-list {\n",
              "  display: inline-block !important;\n",
              "  list-style: none;\n",
              "  padding: 0 !important;\n",
              "  margin: 0;\n",
              "}\n",
              "\n",
              ".xr-dim-list li {\n",
              "  display: inline-block;\n",
              "  padding: 0;\n",
              "  margin: 0;\n",
              "}\n",
              "\n",
              ".xr-dim-list:before {\n",
              "  content: '(';\n",
              "}\n",
              "\n",
              ".xr-dim-list:after {\n",
              "  content: ')';\n",
              "}\n",
              "\n",
              ".xr-dim-list li:not(:last-child):after {\n",
              "  content: ',';\n",
              "  padding-right: 5px;\n",
              "}\n",
              "\n",
              ".xr-has-index {\n",
              "  font-weight: bold;\n",
              "}\n",
              "\n",
              ".xr-var-list,\n",
              ".xr-var-item {\n",
              "  display: contents;\n",
              "}\n",
              "\n",
              ".xr-var-item > div,\n",
              ".xr-var-item label,\n",
              ".xr-var-item > .xr-var-name span {\n",
              "  background-color: var(--xr-background-color-row-even);\n",
              "  margin-bottom: 0;\n",
              "}\n",
              "\n",
              ".xr-var-item > .xr-var-name:hover span {\n",
              "  padding-right: 5px;\n",
              "}\n",
              "\n",
              ".xr-var-list > li:nth-child(odd) > div,\n",
              ".xr-var-list > li:nth-child(odd) > label,\n",
              ".xr-var-list > li:nth-child(odd) > .xr-var-name span {\n",
              "  background-color: var(--xr-background-color-row-odd);\n",
              "}\n",
              "\n",
              ".xr-var-name {\n",
              "  grid-column: 1;\n",
              "}\n",
              "\n",
              ".xr-var-dims {\n",
              "  grid-column: 2;\n",
              "}\n",
              "\n",
              ".xr-var-dtype {\n",
              "  grid-column: 3;\n",
              "  text-align: right;\n",
              "  color: var(--xr-font-color2);\n",
              "}\n",
              "\n",
              ".xr-var-preview {\n",
              "  grid-column: 4;\n",
              "}\n",
              "\n",
              ".xr-var-name,\n",
              ".xr-var-dims,\n",
              ".xr-var-dtype,\n",
              ".xr-preview,\n",
              ".xr-attrs dt {\n",
              "  white-space: nowrap;\n",
              "  overflow: hidden;\n",
              "  text-overflow: ellipsis;\n",
              "  padding-right: 10px;\n",
              "}\n",
              "\n",
              ".xr-var-name:hover,\n",
              ".xr-var-dims:hover,\n",
              ".xr-var-dtype:hover,\n",
              ".xr-attrs dt:hover {\n",
              "  overflow: visible;\n",
              "  width: auto;\n",
              "  z-index: 1;\n",
              "}\n",
              "\n",
              ".xr-var-attrs,\n",
              ".xr-var-data {\n",
              "  display: none;\n",
              "  background-color: var(--xr-background-color) !important;\n",
              "  padding-bottom: 5px !important;\n",
              "}\n",
              "\n",
              ".xr-var-attrs-in:checked ~ .xr-var-attrs,\n",
              ".xr-var-data-in:checked ~ .xr-var-data {\n",
              "  display: block;\n",
              "}\n",
              "\n",
              ".xr-var-data > table {\n",
              "  float: right;\n",
              "}\n",
              "\n",
              ".xr-var-name span,\n",
              ".xr-var-data,\n",
              ".xr-attrs {\n",
              "  padding-left: 25px !important;\n",
              "}\n",
              "\n",
              ".xr-attrs,\n",
              ".xr-var-attrs,\n",
              ".xr-var-data {\n",
              "  grid-column: 1 / -1;\n",
              "}\n",
              "\n",
              "dl.xr-attrs {\n",
              "  padding: 0;\n",
              "  margin: 0;\n",
              "  display: grid;\n",
              "  grid-template-columns: 125px auto;\n",
              "}\n",
              "\n",
              ".xr-attrs dt, dd {\n",
              "  padding: 0;\n",
              "  margin: 0;\n",
              "  float: left;\n",
              "  padding-right: 10px;\n",
              "  width: auto;\n",
              "}\n",
              "\n",
              ".xr-attrs dt {\n",
              "  font-weight: normal;\n",
              "  grid-column: 1;\n",
              "}\n",
              "\n",
              ".xr-attrs dt:hover span {\n",
              "  display: inline-block;\n",
              "  background: var(--xr-background-color);\n",
              "  padding-right: 10px;\n",
              "}\n",
              "\n",
              ".xr-attrs dd {\n",
              "  grid-column: 2;\n",
              "  white-space: pre-wrap;\n",
              "  word-break: break-all;\n",
              "}\n",
              "\n",
              ".xr-icon-database,\n",
              ".xr-icon-file-text2 {\n",
              "  display: inline-block;\n",
              "  vertical-align: middle;\n",
              "  width: 1em;\n",
              "  height: 1.5em !important;\n",
              "  stroke-width: 0;\n",
              "  stroke: currentColor;\n",
              "  fill: currentColor;\n",
              "}\n",
              "</style><div class='xr-wrap'><div class='xr-header'><div class='xr-obj-type'>xarray.DataArray</div><div class='xr-array-name'>'u'</div><ul class='xr-dim-list'><li><span class='xr-has-index'>obs</span>: 7811</li><li><span>bin</span>: 30</li></ul></div><ul class='xr-sections'><li class='xr-section-item'><div class='xr-array-wrap'><input id='section-67ed9e2a-c0a5-4ef2-82ad-77eced4e8eef' class='xr-array-in' type='checkbox' ><label for='section-67ed9e2a-c0a5-4ef2-82ad-77eced4e8eef' title='Show/hide data repr'><svg class='icon xr-icon-database'><use xlink:href='#icon-database'></use></svg></label><div class='xr-array-preview xr-preview'><span>0.04 0.055 0.055 0.028 0.035 0.069 0.093 ... nan nan nan nan nan nan</span></div><pre class='xr-array-data'>array([[ 0.04 ,  0.055,  0.055, ...,    nan,    nan,    nan],\n",
              "       [ 0.035,  0.039,  0.032, ...,    nan,    nan,    nan],\n",
              "       [ 0.054,  0.046,  0.041, ...,    nan,    nan,    nan],\n",
              "       ...,\n",
              "       [-0.015, -0.063, -0.063, ...,    nan,    nan,    nan],\n",
              "       [-0.009, -0.046, -0.079, ...,    nan,    nan,    nan],\n",
              "       [-0.036, -0.074, -0.071, ...,    nan,    nan,    nan]],\n",
              "      dtype=float32)</pre></div></li><li class='xr-section-item'><input id='section-88b6150e-df4c-447b-80ae-5b8b2597df0d' class='xr-section-summary-in' type='checkbox'  checked><label for='section-88b6150e-df4c-447b-80ae-5b8b2597df0d' class='xr-section-summary' >Coordinates: <span>(1)</span></label><div class='xr-section-inline-details'></div><div class='xr-section-details'><ul class='xr-var-list'><li class='xr-var-item'><div class='xr-var-name'><span class='xr-has-index'>obs</span></div><div class='xr-var-dims'>(obs)</div><div class='xr-var-dtype'>int32</div><div class='xr-var-preview xr-preview'>0 1 2 3 4 ... 7807 7808 7809 7810</div><input id='attrs-2d87f617-f5a6-46b2-a0db-c0028c02635a' class='xr-var-attrs-in' type='checkbox' ><label for='attrs-2d87f617-f5a6-46b2-a0db-c0028c02635a' title='Show/Hide attributes'><svg class='icon xr-icon-file-text2'><use xlink:href='#icon-file-text2'></use></svg></label><input id='data-83ff60e0-33ba-49c8-af94-3fdeee9e3ce9' class='xr-var-data-in' type='checkbox'><label for='data-83ff60e0-33ba-49c8-af94-3fdeee9e3ce9' title='Show/Hide data repr'><svg class='icon xr-icon-database'><use xlink:href='#icon-database'></use></svg></label><div class='xr-var-attrs'><dl class='xr-attrs'><dt><span>_ChunkSizes :</span></dt><dd>1024</dd></dl></div><pre class='xr-var-data'>array([   0,    1,    2, ..., 7808, 7809, 7810], dtype=int32)</pre></li></ul></div></li><li class='xr-section-item'><input id='section-4907430a-3aa0-476a-9314-1a656cfe9590' class='xr-section-summary-in' type='checkbox'  checked><label for='section-4907430a-3aa0-476a-9314-1a656cfe9590' class='xr-section-summary' >Attributes: <span>(1)</span></label><div class='xr-section-inline-details'></div><div class='xr-section-details'><dl class='xr-attrs'><dt><span>units :</span></dt><dd>m/s</dd></dl></div></li></ul></div></div>"
            ],
            "text/plain": [
              "<xarray.DataArray 'u' (obs: 7811, bin: 30)>\n",
              "array([[ 0.04 ,  0.055,  0.055, ...,    nan,    nan,    nan],\n",
              "       [ 0.035,  0.039,  0.032, ...,    nan,    nan,    nan],\n",
              "       [ 0.054,  0.046,  0.041, ...,    nan,    nan,    nan],\n",
              "       ...,\n",
              "       [-0.015, -0.063, -0.063, ...,    nan,    nan,    nan],\n",
              "       [-0.009, -0.046, -0.079, ...,    nan,    nan,    nan],\n",
              "       [-0.036, -0.074, -0.071, ...,    nan,    nan,    nan]],\n",
              "      dtype=float32)\n",
              "Coordinates:\n",
              "  * obs      (obs) int32 0 1 2 3 4 5 6 7 ... 7804 7805 7806 7807 7808 7809 7810\n",
              "Dimensions without coordinates: bin\n",
              "Attributes:\n",
              "    units:    m/s"
            ]
          },
          "metadata": {
            "tags": []
          },
          "execution_count": 14
        }
      ]
    },
    {
      "cell_type": "code",
      "metadata": {
        "colab": {
          "base_uri": "https://localhost:8080/",
          "height": 232
        },
        "id": "Tl9RGlVb9zE9",
        "outputId": "d2a45ec2-6306-41aa-8a74-ad5ee7f672e6"
      },
      "source": [
        "plt.figure(figsize=(8,3))\n",
        "plt.pcolor(ds['time'],ds['bin_height'],ds['u'].where(good).T,cmap='seismic')\n",
        "plt.plot(ds['time'],ds['depth_from_pressure'],'k-') # convert from dPa to dbar\n",
        "plt.xlim([t1,t2])\n",
        "plt.clim([-0.4,0.4])\n",
        "plt.colorbar()"
      ],
      "execution_count": 15,
      "outputs": [
        {
          "output_type": "execute_result",
          "data": {
            "text/plain": [
              "<matplotlib.colorbar.Colorbar at 0x7f7280d9f0f0>"
            ]
          },
          "metadata": {
            "tags": []
          },
          "execution_count": 15
        },
        {
          "output_type": "display_data",
          "data": {
            "image/png": "[encoded data removed]",
            "text/plain": [
              "<Figure size 576x216 with 2 Axes>"
            ]
          },
          "metadata": {
            "tags": [],
            "needs_background": "light"
          }
        }
      ]
    },
    {
      "cell_type": "markdown",
      "metadata": {
        "id": "xjVFtTj39zE-"
      },
      "source": [
        "### Exercise\n",
        "\n",
        "Plot the northward velocity ($v$) variable as a function of time and height above the bottom. Which velocity component tends to be stronger, the $u$ or $v$ component?"
      ]
    },
    {
      "cell_type": "code",
      "metadata": {
        "id": "MldNQxas9zE-"
      },
      "source": [
        "# insert code here"
      ],
      "execution_count": 16,
      "outputs": []
    },
    {
      "cell_type": "markdown",
      "metadata": {
        "id": "hQgRTX7l9zE-"
      },
      "source": [
        "### Compute depth-averaged velocity\n",
        "\n",
        "The averaged of the velocity over all depths of the water column is called the depth-averaged velocity. A function for computing the depth averaged velocity is included in the `tseries.py` module."
      ]
    },
    {
      "cell_type": "code",
      "metadata": {
        "colab": {
          "base_uri": "https://localhost:8080/",
          "height": 148
        },
        "id": "tRx0Ch46EE3i",
        "outputId": "58a9a420-0d3b-402b-ee35-8225016e30ce"
      },
      "source": [
        "ds['bin_depths_avg']"
      ],
      "execution_count": 17,
      "outputs": [
        {
          "output_type": "execute_result",
          "data": {
            "text/html": [
              "<div><svg style=\"position: absolute; width: 0; height: 0; overflow: hidden\">\n",
              "<defs>\n",
              "<symbol id=\"icon-database\" viewBox=\"0 0 32 32\">\n",
              "<title>Show/Hide data repr</title>\n",
              "<path d=\"M16 0c-8.837 0-16 2.239-16 5v4c0 2.761 7.163 5 16 5s16-2.239 16-5v-4c0-2.761-7.163-5-16-5z\"></path>\n",
              "<path d=\"M16 17c-8.837 0-16-2.239-16-5v6c0 2.761 7.163 5 16 5s16-2.239 16-5v-6c0 2.761-7.163 5-16 5z\"></path>\n",
              "<path d=\"M16 26c-8.837 0-16-2.239-16-5v6c0 2.761 7.163 5 16 5s16-2.239 16-5v-6c0 2.761-7.163 5-16 5z\"></path>\n",
              "</symbol>\n",
              "<symbol id=\"icon-file-text2\" viewBox=\"0 0 32 32\">\n",
              "<title>Show/Hide attributes</title>\n",
              "<path d=\"M28.681 7.159c-0.694-0.947-1.662-2.053-2.724-3.116s-2.169-2.030-3.116-2.724c-1.612-1.182-2.393-1.319-2.841-1.319h-15.5c-1.378 0-2.5 1.121-2.5 2.5v27c0 1.378 1.122 2.5 2.5 2.5h23c1.378 0 2.5-1.122 2.5-2.5v-19.5c0-0.448-0.137-1.23-1.319-2.841zM24.543 5.457c0.959 0.959 1.712 1.825 2.268 2.543h-4.811v-4.811c0.718 0.556 1.584 1.309 2.543 2.268zM28 29.5c0 0.271-0.229 0.5-0.5 0.5h-23c-0.271 0-0.5-0.229-0.5-0.5v-27c0-0.271 0.229-0.5 0.5-0.5 0 0 15.499-0 15.5 0v7c0 0.552 0.448 1 1 1h7v19.5z\"></path>\n",
              "<path d=\"M23 26h-14c-0.552 0-1-0.448-1-1s0.448-1 1-1h14c0.552 0 1 0.448 1 1s-0.448 1-1 1z\"></path>\n",
              "<path d=\"M23 22h-14c-0.552 0-1-0.448-1-1s0.448-1 1-1h14c0.552 0 1 0.448 1 1s-0.448 1-1 1z\"></path>\n",
              "<path d=\"M23 18h-14c-0.552 0-1-0.448-1-1s0.448-1 1-1h14c0.552 0 1 0.448 1 1s-0.448 1-1 1z\"></path>\n",
              "</symbol>\n",
              "</defs>\n",
              "</svg>\n",
              "<style>/* CSS stylesheet for displaying xarray objects in jupyterlab.\n",
              " *\n",
              " */\n",
              "\n",
              ":root {\n",
              "  --xr-font-color0: var(--jp-content-font-color0, rgba(0, 0, 0, 1));\n",
              "  --xr-font-color2: var(--jp-content-font-color2, rgba(0, 0, 0, 0.54));\n",
              "  --xr-font-color3: var(--jp-content-font-color3, rgba(0, 0, 0, 0.38));\n",
              "  --xr-border-color: var(--jp-border-color2, #e0e0e0);\n",
              "  --xr-disabled-color: var(--jp-layout-color3, #bdbdbd);\n",
              "  --xr-background-color: var(--jp-layout-color0, white);\n",
              "  --xr-background-color-row-even: var(--jp-layout-color1, white);\n",
              "  --xr-background-color-row-odd: var(--jp-layout-color2, #eeeeee);\n",
              "}\n",
              "\n",
              ".xr-wrap {\n",
              "  min-width: 300px;\n",
              "  max-width: 700px;\n",
              "}\n",
              "\n",
              ".xr-header {\n",
              "  padding-top: 6px;\n",
              "  padding-bottom: 6px;\n",
              "  margin-bottom: 4px;\n",
              "  border-bottom: solid 1px var(--xr-border-color);\n",
              "}\n",
              "\n",
              ".xr-header > div,\n",
              ".xr-header > ul {\n",
              "  display: inline;\n",
              "  margin-top: 0;\n",
              "  margin-bottom: 0;\n",
              "}\n",
              "\n",
              ".xr-obj-type,\n",
              ".xr-array-name {\n",
              "  margin-left: 2px;\n",
              "  margin-right: 10px;\n",
              "}\n",
              "\n",
              ".xr-obj-type {\n",
              "  color: var(--xr-font-color2);\n",
              "}\n",
              "\n",
              ".xr-sections {\n",
              "  padding-left: 0 !important;\n",
              "  display: grid;\n",
              "  grid-template-columns: 150px auto auto 1fr 20px 20px;\n",
              "}\n",
              "\n",
              ".xr-section-item {\n",
              "  display: contents;\n",
              "}\n",
              "\n",
              ".xr-section-item input {\n",
              "  display: none;\n",
              "}\n",
              "\n",
              ".xr-section-item input + label {\n",
              "  color: var(--xr-disabled-color);\n",
              "}\n",
              "\n",
              ".xr-section-item input:enabled + label {\n",
              "  cursor: pointer;\n",
              "  color: var(--xr-font-color2);\n",
              "}\n",
              "\n",
              ".xr-section-item input:enabled + label:hover {\n",
              "  color: var(--xr-font-color0);\n",
              "}\n",
              "\n",
              ".xr-section-summary {\n",
              "  grid-column: 1;\n",
              "  color: var(--xr-font-color2);\n",
              "  font-weight: 500;\n",
              "}\n",
              "\n",
              ".xr-section-summary > span {\n",
              "  display: inline-block;\n",
              "  padding-left: 0.5em;\n",
              "}\n",
              "\n",
              ".xr-section-summary-in:disabled + label {\n",
              "  color: var(--xr-font-color2);\n",
              "}\n",
              "\n",
              ".xr-section-summary-in + label:before {\n",
              "  display: inline-block;\n",
              "  content: '►';\n",
              "  font-size: 11px;\n",
              "  width: 15px;\n",
              "  text-align: center;\n",
              "}\n",
              "\n",
              ".xr-section-summary-in:disabled + label:before {\n",
              "  color: var(--xr-disabled-color);\n",
              "}\n",
              "\n",
              ".xr-section-summary-in:checked + label:before {\n",
              "  content: '▼';\n",
              "}\n",
              "\n",
              ".xr-section-summary-in:checked + label > span {\n",
              "  display: none;\n",
              "}\n",
              "\n",
              ".xr-section-summary,\n",
              ".xr-section-inline-details {\n",
              "  padding-top: 4px;\n",
              "  padding-bottom: 4px;\n",
              "}\n",
              "\n",
              ".xr-section-inline-details {\n",
              "  grid-column: 2 / -1;\n",
              "}\n",
              "\n",
              ".xr-section-details {\n",
              "  display: none;\n",
              "  grid-column: 1 / -1;\n",
              "  margin-bottom: 5px;\n",
              "}\n",
              "\n",
              ".xr-section-summary-in:checked ~ .xr-section-details {\n",
              "  display: contents;\n",
              "}\n",
              "\n",
              ".xr-array-wrap {\n",
              "  grid-column: 1 / -1;\n",
              "  display: grid;\n",
              "  grid-template-columns: 20px auto;\n",
              "}\n",
              "\n",
              ".xr-array-wrap > label {\n",
              "  grid-column: 1;\n",
              "  vertical-align: top;\n",
              "}\n",
              "\n",
              ".xr-preview {\n",
              "  color: var(--xr-font-color3);\n",
              "}\n",
              "\n",
              ".xr-array-preview,\n",
              ".xr-array-data {\n",
              "  padding: 0 5px !important;\n",
              "  grid-column: 2;\n",
              "}\n",
              "\n",
              ".xr-array-data,\n",
              ".xr-array-in:checked ~ .xr-array-preview {\n",
              "  display: none;\n",
              "}\n",
              "\n",
              ".xr-array-in:checked ~ .xr-array-data,\n",
              ".xr-array-preview {\n",
              "  display: inline-block;\n",
              "}\n",
              "\n",
              ".xr-dim-list {\n",
              "  display: inline-block !important;\n",
              "  list-style: none;\n",
              "  padding: 0 !important;\n",
              "  margin: 0;\n",
              "}\n",
              "\n",
              ".xr-dim-list li {\n",
              "  display: inline-block;\n",
              "  padding: 0;\n",
              "  margin: 0;\n",
              "}\n",
              "\n",
              ".xr-dim-list:before {\n",
              "  content: '(';\n",
              "}\n",
              "\n",
              ".xr-dim-list:after {\n",
              "  content: ')';\n",
              "}\n",
              "\n",
              ".xr-dim-list li:not(:last-child):after {\n",
              "  content: ',';\n",
              "  padding-right: 5px;\n",
              "}\n",
              "\n",
              ".xr-has-index {\n",
              "  font-weight: bold;\n",
              "}\n",
              "\n",
              ".xr-var-list,\n",
              ".xr-var-item {\n",
              "  display: contents;\n",
              "}\n",
              "\n",
              ".xr-var-item > div,\n",
              ".xr-var-item label,\n",
              ".xr-var-item > .xr-var-name span {\n",
              "  background-color: var(--xr-background-color-row-even);\n",
              "  margin-bottom: 0;\n",
              "}\n",
              "\n",
              ".xr-var-item > .xr-var-name:hover span {\n",
              "  padding-right: 5px;\n",
              "}\n",
              "\n",
              ".xr-var-list > li:nth-child(odd) > div,\n",
              ".xr-var-list > li:nth-child(odd) > label,\n",
              ".xr-var-list > li:nth-child(odd) > .xr-var-name span {\n",
              "  background-color: var(--xr-background-color-row-odd);\n",
              "}\n",
              "\n",
              ".xr-var-name {\n",
              "  grid-column: 1;\n",
              "}\n",
              "\n",
              ".xr-var-dims {\n",
              "  grid-column: 2;\n",
              "}\n",
              "\n",
              ".xr-var-dtype {\n",
              "  grid-column: 3;\n",
              "  text-align: right;\n",
              "  color: var(--xr-font-color2);\n",
              "}\n",
              "\n",
              ".xr-var-preview {\n",
              "  grid-column: 4;\n",
              "}\n",
              "\n",
              ".xr-var-name,\n",
              ".xr-var-dims,\n",
              ".xr-var-dtype,\n",
              ".xr-preview,\n",
              ".xr-attrs dt {\n",
              "  white-space: nowrap;\n",
              "  overflow: hidden;\n",
              "  text-overflow: ellipsis;\n",
              "  padding-right: 10px;\n",
              "}\n",
              "\n",
              ".xr-var-name:hover,\n",
              ".xr-var-dims:hover,\n",
              ".xr-var-dtype:hover,\n",
              ".xr-attrs dt:hover {\n",
              "  overflow: visible;\n",
              "  width: auto;\n",
              "  z-index: 1;\n",
              "}\n",
              "\n",
              ".xr-var-attrs,\n",
              ".xr-var-data {\n",
              "  display: none;\n",
              "  background-color: var(--xr-background-color) !important;\n",
              "  padding-bottom: 5px !important;\n",
              "}\n",
              "\n",
              ".xr-var-attrs-in:checked ~ .xr-var-attrs,\n",
              ".xr-var-data-in:checked ~ .xr-var-data {\n",
              "  display: block;\n",
              "}\n",
              "\n",
              ".xr-var-data > table {\n",
              "  float: right;\n",
              "}\n",
              "\n",
              ".xr-var-name span,\n",
              ".xr-var-data,\n",
              ".xr-attrs {\n",
              "  padding-left: 25px !important;\n",
              "}\n",
              "\n",
              ".xr-attrs,\n",
              ".xr-var-attrs,\n",
              ".xr-var-data {\n",
              "  grid-column: 1 / -1;\n",
              "}\n",
              "\n",
              "dl.xr-attrs {\n",
              "  padding: 0;\n",
              "  margin: 0;\n",
              "  display: grid;\n",
              "  grid-template-columns: 125px auto;\n",
              "}\n",
              "\n",
              ".xr-attrs dt, dd {\n",
              "  padding: 0;\n",
              "  margin: 0;\n",
              "  float: left;\n",
              "  padding-right: 10px;\n",
              "  width: auto;\n",
              "}\n",
              "\n",
              ".xr-attrs dt {\n",
              "  font-weight: normal;\n",
              "  grid-column: 1;\n",
              "}\n",
              "\n",
              ".xr-attrs dt:hover span {\n",
              "  display: inline-block;\n",
              "  background: var(--xr-background-color);\n",
              "  padding-right: 10px;\n",
              "}\n",
              "\n",
              ".xr-attrs dd {\n",
              "  grid-column: 2;\n",
              "  white-space: pre-wrap;\n",
              "  word-break: break-all;\n",
              "}\n",
              "\n",
              ".xr-icon-database,\n",
              ".xr-icon-file-text2 {\n",
              "  display: inline-block;\n",
              "  vertical-align: middle;\n",
              "  width: 1em;\n",
              "  height: 1.5em !important;\n",
              "  stroke-width: 0;\n",
              "  stroke: currentColor;\n",
              "  fill: currentColor;\n",
              "}\n",
              "</style><div class='xr-wrap'><div class='xr-header'><div class='xr-obj-type'>xarray.DataArray</div><div class='xr-array-name'>'bin_depths_avg'</div><ul class='xr-dim-list'><li><span>bin</span>: 30</li></ul></div><ul class='xr-sections'><li class='xr-section-item'><div class='xr-array-wrap'><input id='section-9df33615-fded-4040-8ca6-2844fb4742e8' class='xr-array-in' type='checkbox' ><label for='section-9df33615-fded-4040-8ca6-2844fb4742e8' title='Show/hide data repr'><svg class='icon xr-icon-database'><use xlink:href='#icon-database'></use></svg></label><div class='xr-array-preview xr-preview'><span>-22.47 -21.47 -20.47 -19.47 -18.47 ... 2.531 3.531 4.531 5.531 6.531</span></div><pre class='xr-array-data'>array([-22.46866791, -21.46866791, -20.46866791, -19.46866791,\n",
              "       -18.46866791, -17.46866791, -16.46866791, -15.46866791,\n",
              "       -14.46866791, -13.46866791, -12.46866791, -11.46866791,\n",
              "       -10.46866791,  -9.46866791,  -8.46866791,  -7.46866791,\n",
              "        -6.46866791,  -5.46866791,  -4.46866791,  -3.46866791,\n",
              "        -2.46866791,  -1.46866791,  -0.46866791,   0.53133209,\n",
              "         1.53133209,   2.53133209,   3.53133209,   4.53133209,\n",
              "         5.53133209,   6.53133209])</pre></div></li><li class='xr-section-item'><input id='section-72c06103-906e-446d-acbe-539acdd0cd00' class='xr-section-summary-in' type='checkbox' disabled ><label for='section-72c06103-906e-446d-acbe-539acdd0cd00' class='xr-section-summary'  title='Expand/collapse section'>Coordinates: <span>(0)</span></label><div class='xr-section-inline-details'></div><div class='xr-section-details'><ul class='xr-var-list'></ul></div></li><li class='xr-section-item'><input id='section-254a9a52-0fe3-49ae-b9cf-0a4ab5c0189b' class='xr-section-summary-in' type='checkbox'  checked><label for='section-254a9a52-0fe3-49ae-b9cf-0a4ab5c0189b' class='xr-section-summary' >Attributes: <span>(1)</span></label><div class='xr-section-inline-details'></div><div class='xr-section-details'><dl class='xr-attrs'><dt><span>units :</span></dt><dd>m</dd></dl></div></li></ul></div></div>"
            ],
            "text/plain": [
              "<xarray.DataArray 'bin_depths_avg' (bin: 30)>\n",
              "array([-22.46866791, -21.46866791, -20.46866791, -19.46866791,\n",
              "       -18.46866791, -17.46866791, -16.46866791, -15.46866791,\n",
              "       -14.46866791, -13.46866791, -12.46866791, -11.46866791,\n",
              "       -10.46866791,  -9.46866791,  -8.46866791,  -7.46866791,\n",
              "        -6.46866791,  -5.46866791,  -4.46866791,  -3.46866791,\n",
              "        -2.46866791,  -1.46866791,  -0.46866791,   0.53133209,\n",
              "         1.53133209,   2.53133209,   3.53133209,   4.53133209,\n",
              "         5.53133209,   6.53133209])\n",
              "Dimensions without coordinates: bin\n",
              "Attributes:\n",
              "    units:    m"
            ]
          },
          "metadata": {
            "tags": []
          },
          "execution_count": 17
        }
      ]
    },
    {
      "cell_type": "code",
      "metadata": {
        "id": "rZCyHq_89zE-"
      },
      "source": [
        "uda = ts.depthavg(ds['u'].where(good),\n",
        "                  ds['bin_depths_avg'],\n",
        "                  ds['bottom_depth_avg'],\n",
        "                  ds['sea_surface'])\n",
        "\n",
        "vda = ts.depthavg(ds['v'].where(good),\n",
        "                  ds['bin_depths_avg'],\n",
        "                  ds['bottom_depth_avg'],\n",
        "                  ds['sea_surface'])\n",
        "\n",
        "ds['uda'] = xr.DataArray(uda,dims='obs')\n",
        "ds['uda'].attrs['units'] = 'm/s'\n",
        "ds['vda'] = xr.DataArray(vda,dims='obs')\n",
        "ds['vda'].attrs['units'] = 'm/s'"
      ],
      "execution_count": 18,
      "outputs": []
    },
    {
      "cell_type": "code",
      "metadata": {
        "colab": {
          "base_uri": "https://localhost:8080/",
          "height": 312
        },
        "id": "2WtnI19u9zE_",
        "outputId": "2036826d-5c4b-4af3-a2b0-f02de5a80780"
      },
      "source": [
        "plt.figure()\n",
        "plt.plot(ds['time'],ds['uda'])\n",
        "plt.plot(ds['time'],ds['vda'])\n",
        "plt.xlabel('[m/s]')\n",
        "plt.legend(['u','v'])\n",
        "plt.title('depth-averaged velocity components')\n",
        "plt.ylabel('[m/s]')"
      ],
      "execution_count": 21,
      "outputs": [
        {
          "output_type": "execute_result",
          "data": {
            "text/plain": [
              "Text(0, 0.5, '[m/s]')"
            ]
          },
          "metadata": {
            "tags": []
          },
          "execution_count": 21
        },
        {
          "output_type": "display_data",
          "data": {
            "image/png": "[encoded data removed]",
            "text/plain": [
              "<Figure size 432x288 with 1 Axes>"
            ]
          },
          "metadata": {
            "tags": [],
            "needs_background": "light"
          }
        }
      ]
    },
    {
      "cell_type": "code",
      "metadata": {
        "colab": {
          "base_uri": "https://localhost:8080/",
          "height": 424
        },
        "id": "i0cQXPS59zE_",
        "outputId": "edfe7a44-1859-4169-b4a0-4944bf75b07f"
      },
      "source": [
        "plt.figure()\n",
        "h1 = plt.plot(ds['time'],ds['v'].where(good),color='gray');\n",
        "h2 = plt.plot(ds['time'],ds['vda'],color='k');\n",
        "plt.xlim([t1,t2]);\n",
        "plt.legend([h1,h2],['individual depths','depth average']);\n",
        "plt.ylabel('[m/s]');"
      ],
      "execution_count": 22,
      "outputs": [
        {
          "output_type": "stream",
          "text": [
            "/usr/local/lib/python3.6/dist-packages/ipykernel_launcher.py:5: UserWarning: Legend does not support [<matplotlib.lines.Line2D object at 0x7f7289fc7c50>, <matplotlib.lines.Line2D object at 0x7f727f270e48>, <matplotlib.lines.Line2D object at 0x7f727f280048>, <matplotlib.lines.Line2D object at 0x7f727f280198>, <matplotlib.lines.Line2D object at 0x7f727f2802e8>, <matplotlib.lines.Line2D object at 0x7f727f280438>, <matplotlib.lines.Line2D object at 0x7f727f280588>, <matplotlib.lines.Line2D object at 0x7f727f2806d8>, <matplotlib.lines.Line2D object at 0x7f727f280828>, <matplotlib.lines.Line2D object at 0x7f727f280978>, <matplotlib.lines.Line2D object at 0x7f727f280ac8>, <matplotlib.lines.Line2D object at 0x7f727f280c18>, <matplotlib.lines.Line2D object at 0x7f727f280d68>, <matplotlib.lines.Line2D object at 0x7f727f280eb8>, <matplotlib.lines.Line2D object at 0x7f727f284048>, <matplotlib.lines.Line2D object at 0x7f727f284198>, <matplotlib.lines.Line2D object at 0x7f727f2842e8>, <matplotlib.lines.Line2D object at 0x7f727f284438>, <matplotlib.lines.Line2D object at 0x7f727f284588>, <matplotlib.lines.Line2D object at 0x7f727f2846d8>, <matplotlib.lines.Line2D object at 0x7f727f284828>, <matplotlib.lines.Line2D object at 0x7f727f284978>, <matplotlib.lines.Line2D object at 0x7f727f284ac8>, <matplotlib.lines.Line2D object at 0x7f727f284c18>, <matplotlib.lines.Line2D object at 0x7f727f284d68>, <matplotlib.lines.Line2D object at 0x7f727f284eb8>, <matplotlib.lines.Line2D object at 0x7f727f288048>, <matplotlib.lines.Line2D object at 0x7f727f288198>, <matplotlib.lines.Line2D object at 0x7f727f2882e8>, <matplotlib.lines.Line2D object at 0x7f727f288438>] instances.\n",
            "A proxy artist may be used instead.\n",
            "See: http://matplotlib.org/users/legend_guide.html#creating-artists-specifically-for-adding-to-the-legend-aka-proxy-artists\n",
            "  \"\"\"\n",
            "/usr/local/lib/python3.6/dist-packages/ipykernel_launcher.py:5: UserWarning: Legend does not support [<matplotlib.lines.Line2D object at 0x7f7289fc5f60>] instances.\n",
            "A proxy artist may be used instead.\n",
            "See: http://matplotlib.org/users/legend_guide.html#creating-artists-specifically-for-adding-to-the-legend-aka-proxy-artists\n",
            "  \"\"\"\n"
          ],
          "name": "stderr"
        },
        {
          "output_type": "display_data",
          "data": {
            "image/png": "[encoded data removed]",
            "text/plain": [
              "<Figure size 432x288 with 1 Axes>"
            ]
          },
          "metadata": {
            "tags": [],
            "needs_background": "light"
          }
        }
      ]
    },
    {
      "cell_type": "markdown",
      "metadata": {
        "id": "H_lZkekg9zE_"
      },
      "source": [
        "### Exercise\n",
        "\n",
        "Make a scatter plot between the depth-averaged $\\bar{u}$ and $\\bar{v}$ velocity components. Which component tends to have a greater magnitude, and why?"
      ]
    },
    {
      "cell_type": "code",
      "metadata": {
        "id": "V7Q-0myO9zFA"
      },
      "source": [
        ""
      ],
      "execution_count": 22,
      "outputs": []
    },
    {
      "cell_type": "markdown",
      "metadata": {
        "id": "ur-HrzCO9zFB"
      },
      "source": [
        "### Correlation functions"
      ]
    },
    {
      "cell_type": "markdown",
      "metadata": {
        "id": "FtBu6oDr9zFB"
      },
      "source": [
        "**Goal:** Based on the decorrelation time scale, how many *effective* degrees of freedom ($N^*$) does this time series have?\n",
        "\n",
        "#### Preliminary exercises\n",
        "\n",
        "How many samples ($N$) are in the depth-averaged $\\bar{v}$ time series?\n",
        "\n",
        "What is the time interval $\\Delta t$ betwen samples?"
      ]
    },
    {
      "cell_type": "markdown",
      "metadata": {
        "id": "mPOU2R-79zFB"
      },
      "source": [
        "*insert answer here*"
      ]
    },
    {
      "cell_type": "markdown",
      "metadata": {
        "id": "KbIGk0rr9zFC"
      },
      "source": [
        "#### Manually computing autocorrelation"
      ]
    },
    {
      "cell_type": "markdown",
      "metadata": {
        "id": "TUdshwCQ9zFC"
      },
      "source": [
        "Correlation at zero lag ($\\tau$ = 0)."
      ]
    },
    {
      "cell_type": "code",
      "metadata": {
        "colab": {
          "base_uri": "https://localhost:8080/"
        },
        "id": "yJbOfl9R9zFC",
        "outputId": "5e52737d-151d-4219-aca8-f084932f9347"
      },
      "source": [
        "# insert code here\n",
        "rmat = np.corrcoef(ds['vda'],ds['vda'])\n",
        "rmat"
      ],
      "execution_count": 23,
      "outputs": [
        {
          "output_type": "execute_result",
          "data": {
            "text/plain": [
              "array([[1., 1.],\n",
              "       [1., 1.]])"
            ]
          },
          "metadata": {
            "tags": []
          },
          "execution_count": 23
        }
      ]
    },
    {
      "cell_type": "code",
      "metadata": {
        "colab": {
          "base_uri": "https://localhost:8080/"
        },
        "id": "iKU2J8xt9zFC",
        "outputId": "91d75d14-4c07-41a7-a5b6-a2ab4c14680c"
      },
      "source": [
        "# insert code here\n",
        "r_0 = rmat[1,0]\n",
        "r_0"
      ],
      "execution_count": 24,
      "outputs": [
        {
          "output_type": "execute_result",
          "data": {
            "text/plain": [
              "0.9999999999999999"
            ]
          },
          "metadata": {
            "tags": []
          },
          "execution_count": 24
        }
      ]
    },
    {
      "cell_type": "markdown",
      "metadata": {
        "id": "UKBefb299zFC"
      },
      "source": [
        "Correlation at lag ($\\tau$ = $\\Delta t$)."
      ]
    },
    {
      "cell_type": "code",
      "metadata": {
        "colab": {
          "base_uri": "https://localhost:8080/"
        },
        "id": "WqCbHYiN9zFD",
        "outputId": "b616fd4a-4c52-4368-fd25-f8aca2997610"
      },
      "source": [
        "# insert code here\n",
        "r_1 = np.corrcoef(ds['vda'][1:],ds['vda'][:-1])[1,0]\n",
        "print('r(tau=0.5 hrs)',np.round(r_1,4))"
      ],
      "execution_count": 25,
      "outputs": [
        {
          "output_type": "stream",
          "text": [
            "r(tau=0.5 hrs) 0.9813\n"
          ],
          "name": "stdout"
        }
      ]
    },
    {
      "cell_type": "markdown",
      "metadata": {
        "id": "xgidAuqF9zFD"
      },
      "source": [
        "Correlation at lag ($\\tau$ = 2$\\Delta t$)."
      ]
    },
    {
      "cell_type": "code",
      "metadata": {
        "colab": {
          "base_uri": "https://localhost:8080/"
        },
        "id": "76eivz2V9zFD",
        "outputId": "dcd1b9e1-4b12-4a38-90a1-b82f6171ecfe"
      },
      "source": [
        "# insert code here\n",
        "r_2 = np.corrcoef(ds['vda'][2:],ds['vda'][:-2])[1,0]\n",
        "print('r(tau=1 hr)',np.round(r_2,4))"
      ],
      "execution_count": 26,
      "outputs": [
        {
          "output_type": "stream",
          "text": [
            "r(tau=1 hr) 0.9639\n"
          ],
          "name": "stdout"
        }
      ]
    },
    {
      "cell_type": "code",
      "metadata": {
        "colab": {
          "base_uri": "https://localhost:8080/",
          "height": 338
        },
        "id": "ISFDZsnx9zFE",
        "outputId": "52ca0710-98ec-4adb-82d0-04c06a405a5f"
      },
      "source": [
        "plt.figure()\n",
        "plt.plot(ds['time'][2:],ds['vda'][2:],'r-')\n",
        "plt.plot(ds['time'][2:],ds['vda'][:-2],'b-')\n",
        "plt.xlim([ds['time'][0],ds['time'][100]])\n",
        "plt.xticks(rotation=30)"
      ],
      "execution_count": 27,
      "outputs": [
        {
          "output_type": "execute_result",
          "data": {
            "text/plain": [
              "(array([736787.25, 736787.5 , 736787.75, 736788.  , 736788.25, 736788.5 ,\n",
              "        736788.75, 736789.  , 736789.25]),\n",
              " <a list of 9 Text major ticklabel objects>)"
            ]
          },
          "metadata": {
            "tags": []
          },
          "execution_count": 27
        },
        {
          "output_type": "display_data",
          "data": {
            "image/png": "[encoded data removed]",
            "text/plain": [
              "<Figure size 432x288 with 1 Axes>"
            ]
          },
          "metadata": {
            "tags": [],
            "needs_background": "light"
          }
        }
      ]
    },
    {
      "cell_type": "markdown",
      "metadata": {
        "id": "yGArbSeD9zFE"
      },
      "source": [
        "#### Exercise\n",
        "\n",
        "Compute the autocorrelation (r) for a lag of $\\tau$ = 3 hours"
      ]
    },
    {
      "cell_type": "code",
      "metadata": {
        "id": "lSy_E-E29zFE"
      },
      "source": [
        "# insert code here"
      ],
      "execution_count": 28,
      "outputs": []
    },
    {
      "cell_type": "markdown",
      "metadata": {
        "id": "aIdyyYkz9zFE"
      },
      "source": [
        "### Autocorrelation function\n",
        "\n",
        "Computing cross-correlation and autocorrelation functions is common enough that there is a matplotlib function to plot them. This function also allows you to automatically detrend the data beforehand."
      ]
    },
    {
      "cell_type": "code",
      "metadata": {
        "colab": {
          "base_uri": "https://localhost:8080/",
          "height": 312
        },
        "id": "aFGaCXbe9zFF",
        "outputId": "3ea358c6-f1df-4fc2-844c-65419ff179cb"
      },
      "source": [
        "plt.figure()\n",
        "lags,r,_,_ = plt.xcorr(ds['vda'],ds['vda'],detrend=mlab.detrend,maxlags=1000);\n",
        "plt.xlabel('lag')\n",
        "plt.ylabel('r')\n",
        "plt.title('autocorrelation function, depth-averaged v')"
      ],
      "execution_count": 29,
      "outputs": [
        {
          "output_type": "execute_result",
          "data": {
            "text/plain": [
              "Text(0.5, 1.0, 'autocorrelation function, depth-averaged v')"
            ]
          },
          "metadata": {
            "tags": []
          },
          "execution_count": 29
        },
        {
          "output_type": "display_data",
          "data": {
            "image/png": "[encoded data removed]",
            "text/plain": [
              "<Figure size 432x288 with 1 Axes>"
            ]
          },
          "metadata": {
            "tags": [],
            "needs_background": "light"
          }
        }
      ]
    },
    {
      "cell_type": "code",
      "metadata": {
        "id": "Qp0vBAQy9zFF"
      },
      "source": [
        ""
      ],
      "execution_count": 29,
      "outputs": []
    },
    {
      "cell_type": "markdown",
      "metadata": {
        "id": "l6XoGZ_P9zFG"
      },
      "source": [
        "#### Exercises\n",
        "\n",
        "* From the autocorrelation plot above, estimate the decorrelation time scale (the time lag $\\tau$ at which $r$ decreases to 0, in hours).\n",
        "* Based on the decorrelation time scale, how many *effective* degrees of freedom ($N^*$) does this time series have?"
      ]
    },
    {
      "cell_type": "markdown",
      "metadata": {
        "id": "K0rHOdBd9zFG"
      },
      "source": [
        ""
      ]
    },
    {
      "cell_type": "markdown",
      "metadata": {
        "id": "5Vi7Yc8E9zFG"
      },
      "source": [
        "### Spectral analysis intro"
      ]
    },
    {
      "cell_type": "markdown",
      "metadata": {
        "id": "UkBvX5bE9zFG"
      },
      "source": [
        "These exercises use the time series for depth-averaged velocity $\\bar{v}$ and bottom pressure."
      ]
    },
    {
      "cell_type": "code",
      "metadata": {
        "colab": {
          "base_uri": "https://localhost:8080/",
          "height": 300
        },
        "id": "QpQ8eWI39zFH",
        "outputId": "a3abf3e5-ad43-424e-a519-277b8efaa76a"
      },
      "source": [
        "plt.figure()\n",
        "plt.plot(ds['time'],ds['vda'])\n",
        "plt.ylabel('[m/s]')\n",
        "plt.title('depth-averaged velocity $v$')"
      ],
      "execution_count": 31,
      "outputs": [
        {
          "output_type": "execute_result",
          "data": {
            "text/plain": [
              "Text(0.5, 1.0, 'depth-averaged velocity $v$')"
            ]
          },
          "metadata": {
            "tags": []
          },
          "execution_count": 31
        },
        {
          "output_type": "display_data",
          "data": {
            "image/png": "[encoded data removed]",
            "text/plain": [
              "<Figure size 432x288 with 1 Axes>"
            ]
          },
          "metadata": {
            "tags": [],
            "needs_background": "light"
          }
        }
      ]
    },
    {
      "cell_type": "code",
      "metadata": {
        "colab": {
          "base_uri": "https://localhost:8080/",
          "height": 298
        },
        "id": "CUrAWqaH9zFH",
        "outputId": "dbe1b7e4-359b-4a5f-f1a8-d536d64cc578"
      },
      "source": [
        "plt.figure()\n",
        "plt.plot(ds['time'],ds['int_ctd_pressure'])\n",
        "plt.ylabel('[dbar]')\n",
        "plt.title('CTD pressure')"
      ],
      "execution_count": 32,
      "outputs": [
        {
          "output_type": "execute_result",
          "data": {
            "text/plain": [
              "Text(0.5, 1.0, 'CTD pressure')"
            ]
          },
          "metadata": {
            "tags": []
          },
          "execution_count": 32
        },
        {
          "output_type": "display_data",
          "data": {
            "image/png": "[encoded data removed]",
            "text/plain": [
              "<Figure size 432x288 with 1 Axes>"
            ]
          },
          "metadata": {
            "tags": [],
            "needs_background": "light"
          }
        }
      ]
    },
    {
      "cell_type": "markdown",
      "metadata": {
        "id": "uSlOGLzV9zFH"
      },
      "source": [
        "### Exercises\n",
        "\n",
        "* How many samples $N$ are in the time series?\n",
        "* What is the sample interval $\\Delta t$, in hours? In days?\n",
        "* What is the fundamental frequency of the time series (in cycles per day)?\n",
        "* What is the sampling frequency of the time series (in cycles per day)?"
      ]
    },
    {
      "cell_type": "code",
      "metadata": {
        "id": "-bsV3WL49zFH"
      },
      "source": [
        "from scipy.signal import periodogram\n",
        "\n",
        "f,S = periodogram(ds['vda'],fs=48.)"
      ],
      "execution_count": 34,
      "outputs": []
    },
    {
      "cell_type": "code",
      "metadata": {
        "colab": {
          "base_uri": "https://localhost:8080/",
          "height": 316
        },
        "id": "iAUXAVd59zFI",
        "outputId": "3e01605b-73c3-4d8c-de5d-c44e0b6d3fb0"
      },
      "source": [
        "plt.figure()\n",
        "plt.loglog(f,S,'k-')\n",
        "plt.xlabel('frequency [cpd]')\n",
        "plt.ylabel('PSD [m$^2$ s$^{-2}$ cpd$^{-1}$]')\n",
        "plt.title(' periodogram, depth-averaged v')"
      ],
      "execution_count": 35,
      "outputs": [
        {
          "output_type": "execute_result",
          "data": {
            "text/plain": [
              "Text(0.5, 1.0, ' periodogram, depth-averaged v')"
            ]
          },
          "metadata": {
            "tags": []
          },
          "execution_count": 35
        },
        {
          "output_type": "display_data",
          "data": {
            "image/png": "[encoded data removed]",
            "text/plain": [
              "<Figure size 432x288 with 1 Axes>"
            ]
          },
          "metadata": {
            "tags": [],
            "needs_background": "light"
          }
        }
      ]
    },
    {
      "cell_type": "markdown",
      "metadata": {
        "id": "_9EbLnsJ9zFJ"
      },
      "source": [
        "### Exercises\n",
        "\n",
        "* Plot the periodogram (spectrum) for pressure\n",
        "* Label the plot with the appropriate units\n",
        "* Discuss the similarities and differences between the spectra of velocity and pressure."
      ]
    },
    {
      "cell_type": "markdown",
      "metadata": {
        "id": "UDu65em09zFJ"
      },
      "source": [
        "#### Pressure spectrum"
      ]
    },
    {
      "cell_type": "code",
      "metadata": {
        "id": "HdxvtvkU9zFJ"
      },
      "source": [
        "# insert code here"
      ],
      "execution_count": 36,
      "outputs": []
    },
    {
      "cell_type": "markdown",
      "metadata": {
        "id": "r5J5Tswi9zFJ"
      },
      "source": [
        "### Better spectral estimates\n",
        "\n",
        "Although we have succussfully plotted the periodogram of the data, there are two major issues with the raw periodogram as we calculated above straight from the FFT results.\n",
        "\n",
        "1) It is noisy (random error)\n",
        "\n",
        "2) It is biased (systematic error)\n",
        "\n",
        "Although this method is very useful for describing practical Fourier analysis conceptually, there are issues with it in practice. These problems led John W. Tukey (co-inventor of the Fast Fourie Transform) to remark on the perils of using this method quantitatively:\n",
        "\n",
        "    \"More lives have been lost looking at the raw periodogram than by any other action involving time series.\"\n",
        "\n",
        "The raw periodogram can be improved upon with a few modifications:\n",
        "\n",
        "* Sensible data windows\n",
        "* Averaging\n",
        "* Pre-whitening\n",
        "* Confidence intervals"
      ]
    },
    {
      "cell_type": "code",
      "metadata": {
        "id": "eje1PdkH9zFK"
      },
      "source": [
        "N = len(ds['vda']) # how many samples in time series?\n",
        "fs = 48 # sampling frequency? units? [cpd]\n",
        "fN = 0.5*fs # Nyquist frequency?"
      ],
      "execution_count": 37,
      "outputs": []
    },
    {
      "cell_type": "code",
      "metadata": {
        "id": "52c89qd39zFK"
      },
      "source": [
        "from scipy.signal import welch"
      ],
      "execution_count": 39,
      "outputs": []
    },
    {
      "cell_type": "code",
      "metadata": {
        "colab": {
          "base_uri": "https://localhost:8080/",
          "height": 300
        },
        "id": "_QOeVsUl9zFK",
        "outputId": "dc56d26f-9d31-453f-f587-d340e8191208"
      },
      "source": [
        "# raw periodogram (noisy, biased)\n",
        "f,S = welch(ds['vda'],fs=48,nperseg=N,window='boxcar')\n",
        "\n",
        "plt.figure()\n",
        "plt.loglog(f,S)\n",
        "plt.xlabel('frequency [cpd]') # units? cycles per day\n",
        "plt.ylabel('PSD [m$^2$ s$^{-2}$ cpd$^{-1}$]') # units? variance per unit frequency\n",
        "\n",
        "# Welch's method with overlapping segments and Hanning window\n",
        "winlen = N/8\n",
        "f2,S2 = welch(ds['vda'],fs=48.,nperseg=winlen,window='hanning',detrend='linear')\n",
        "\n",
        "plt.loglog(f2,S2)\n",
        "\n",
        "# confidence intervals\n",
        "from scipy.stats import chi2\n",
        "\n",
        "dof = N/winlen*2 # dof depends on window length, relative to length of time series\n",
        "edof = (8/3)*dof # bonus points for using a sensible window (Hanning)\n",
        "\n",
        "lower = edof/chi2.ppf(0.975,edof)\n",
        "upper = edof/chi2.ppf(0.025,edof)\n",
        "\n",
        "fplot = 5 # horizontal position of CI on plot\n",
        "Splot = 0.01 # vertical position of CI on plot\n",
        "\n",
        "plt.plot([fplot,fplot],Splot*np.array([lower,upper]),'k-')\n",
        "plt.text(fplot,Splot,' 95%')"
      ],
      "execution_count": 40,
      "outputs": [
        {
          "output_type": "execute_result",
          "data": {
            "text/plain": [
              "Text(5, 0.01, ' 95%')"
            ]
          },
          "metadata": {
            "tags": []
          },
          "execution_count": 40
        },
        {
          "output_type": "display_data",
          "data": {
            "image/png": "[encoded data removed]",
            "text/plain": [
              "<Figure size 432x288 with 1 Axes>"
            ]
          },
          "metadata": {
            "tags": [],
            "needs_background": "light"
          }
        }
      ]
    },
    {
      "cell_type": "code",
      "metadata": {
        "id": "VsK8jDgz9zFM"
      },
      "source": [
        ""
      ],
      "execution_count": null,
      "outputs": []
    }
  ]
}